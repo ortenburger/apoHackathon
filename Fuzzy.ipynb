{
  "nbformat": 4,
  "nbformat_minor": 0,
  "metadata": {
    "colab": {
      "name": "Fuzzy.ipynb",
      "version": "0.3.2",
      "provenance": [],
      "include_colab_link": true
    },
    "kernelspec": {
      "name": "python3",
      "display_name": "Python 3"
    }
  },
  "cells": [
    {
      "cell_type": "markdown",
      "metadata": {
        "id": "view-in-github",
        "colab_type": "text"
      },
      "source": [
        "<a href=\"https://colab.research.google.com/github/ortenburger/apoHackathon/blob/master/Fuzzy.ipynb\" target=\"_parent\"><img src=\"https://colab.research.google.com/assets/colab-badge.svg\" alt=\"Open In Colab\"/></a>"
      ]
    },
    {
      "cell_type": "code",
      "metadata": {
        "id": "rGAgcmxOe__8",
        "colab_type": "code",
        "colab": {
          "base_uri": "https://localhost:8080/",
          "height": 302
        },
        "outputId": "cf1b6f84-8d36-43a2-bd08-36122a8c1e34"
      },
      "source": [
        "!pip install fuzzywuzzy[speedup]\n",
        "import os, json\n",
        "import pandas as pd\n",
        "import numpy as np\n",
        "from google.colab import drive\n",
        "drive.mount('/content/gdrive')\n",
        "os.chdir(\"gdrive/My Drive/Hackathon\")"
      ],
      "execution_count": 35,
      "outputs": [
        {
          "output_type": "stream",
          "text": [
            "Requirement already satisfied: fuzzywuzzy[speedup] in /usr/local/lib/python3.6/dist-packages (0.17.0)\n",
            "Requirement already satisfied: python-levenshtein>=0.12; extra == \"speedup\" in /usr/local/lib/python3.6/dist-packages (from fuzzywuzzy[speedup]) (0.12.0)\n",
            "Requirement already satisfied: setuptools in /usr/local/lib/python3.6/dist-packages (from python-levenshtein>=0.12; extra == \"speedup\"->fuzzywuzzy[speedup]) (41.0.1)\n",
            "Drive already mounted at /content/gdrive; to attempt to forcibly remount, call drive.mount(\"/content/gdrive\", force_remount=True).\n"
          ],
          "name": "stdout"
        },
        {
          "output_type": "error",
          "ename": "FileNotFoundError",
          "evalue": "ignored",
          "traceback": [
            "\u001b[0;31m---------------------------------------------------------------------------\u001b[0m",
            "\u001b[0;31mFileNotFoundError\u001b[0m                         Traceback (most recent call last)",
            "\u001b[0;32m<ipython-input-35-4e30fe0a98ae>\u001b[0m in \u001b[0;36m<module>\u001b[0;34m()\u001b[0m\n\u001b[1;32m      5\u001b[0m \u001b[0;32mfrom\u001b[0m \u001b[0mgoogle\u001b[0m\u001b[0;34m.\u001b[0m\u001b[0mcolab\u001b[0m \u001b[0;32mimport\u001b[0m \u001b[0mdrive\u001b[0m\u001b[0;34m\u001b[0m\u001b[0;34m\u001b[0m\u001b[0m\n\u001b[1;32m      6\u001b[0m \u001b[0mdrive\u001b[0m\u001b[0;34m.\u001b[0m\u001b[0mmount\u001b[0m\u001b[0;34m(\u001b[0m\u001b[0;34m'/content/gdrive'\u001b[0m\u001b[0;34m)\u001b[0m\u001b[0;34m\u001b[0m\u001b[0;34m\u001b[0m\u001b[0m\n\u001b[0;32m----> 7\u001b[0;31m \u001b[0mos\u001b[0m\u001b[0;34m.\u001b[0m\u001b[0mchdir\u001b[0m\u001b[0;34m(\u001b[0m\u001b[0;34m\"gdrive/My Drive/Hackathon\"\u001b[0m\u001b[0;34m)\u001b[0m\u001b[0;34m\u001b[0m\u001b[0;34m\u001b[0m\u001b[0m\n\u001b[0m",
            "\u001b[0;31mFileNotFoundError\u001b[0m: [Errno 2] No such file or directory: 'gdrive/My Drive/Hackathon'"
          ]
        }
      ]
    },
    {
      "cell_type": "code",
      "metadata": {
        "id": "pGPJfGgZfDGT",
        "colab_type": "code",
        "colab": {
          "base_uri": "https://localhost:8080/",
          "height": 35
        },
        "outputId": "99865c04-84ad-44b7-ffc9-38d01b0edb22"
      },
      "source": [
        "from fuzzywuzzy import fuzz\n",
        "fuzz.ratio('Karl-Ferdinand-Broll-Str. (D)', 'Karl-Ferdinand-Broll-Straße')"
      ],
      "execution_count": 9,
      "outputs": [
        {
          "output_type": "execute_result",
          "data": {
            "text/plain": [
              "86"
            ]
          },
          "metadata": {
            "tags": []
          },
          "execution_count": 9
        }
      ]
    },
    {
      "cell_type": "code",
      "metadata": {
        "id": "5PqBP5ZjgdcI",
        "colab_type": "code",
        "colab": {}
      },
      "source": [
        "\n",
        "with open(\"locations.json\") as json_file:  \n",
        "    data = json.load(json_file)"
      ],
      "execution_count": 0,
      "outputs": []
    },
    {
      "cell_type": "code",
      "metadata": {
        "id": "-5tIcY9dp8l1",
        "colab_type": "code",
        "colab": {
          "base_uri": "https://localhost:8080/",
          "height": 54
        },
        "outputId": "bda5de2e-589c-4cf4-b7dd-45dfcd5d63dc"
      },
      "source": [
        "print(data[100])\n",
        "comparedata = []\n",
        "for date in data:\n",
        "  address = date['address'].split(',')\n",
        "  try:\n",
        "    ort = address[ -2].split(' ', 2)[2].strip()\n",
        "  except:\n",
        "    print(address)\n",
        "    ort = None\n",
        "    address = [None,None,None]\n",
        "  comparedata.append({'IK': date['IK'], 'Ort': ort, 'Strasse': address[0].strip()})\n",
        "print(comparedata[100])"
      ],
      "execution_count": 71,
      "outputs": [
        {
          "output_type": "stream",
          "text": [
            "{'IK': '260102058', 'year': '2016', 'standort': '00', 'address': 'Röpersberg 47 , 23909 Ratzeburg , Germany'}\n",
            "{'IK': '260102058', 'Ort': 'Ratzeburg', 'Strasse': 'Röpersberg 47'}\n"
          ],
          "name": "stdout"
        }
      ]
    },
    {
      "cell_type": "code",
      "metadata": {
        "id": "tgAaNjseqUJ4",
        "colab_type": "code",
        "colab": {}
      },
      "source": [
        "df = pd.read_excel('Bilanzdaten_Krankenhäuser.xlsx')\n",
        "df['IK'] = None"
      ],
      "execution_count": 0,
      "outputs": []
    },
    {
      "cell_type": "code",
      "metadata": {
        "id": "Y55c1mWFv4iV",
        "colab_type": "code",
        "colab": {
          "base_uri": "https://localhost:8080/",
          "height": 146
        },
        "outputId": "849972bf-1225-4157-8d33-1f1947a126fc"
      },
      "source": [
        "!ls"
      ],
      "execution_count": 81,
      "outputs": [
        {
          "output_type": "stream",
          "text": [
            " 2013_Qualitätsberichte.zip\t adresses2019.txt\n",
            " 2013_Qualitätsberichte.zip.h5\t Bilanzdaten.h5\n",
            " 2014_Qualitätsberichte.zip\t Bilanzdaten_Krankenhäuser.xlsx\n",
            " 2015_Qualitätsberichte.zip\t locations.json\n",
            " 2016_Qualitätsberichte.zip\t'Qualitätsberichte (1).h5'\n",
            " 2017_Qualitätsberichte.zip\t Qualitätsberichte.h5\n",
            " adresses2019.json\n"
          ],
          "name": "stdout"
        }
      ]
    },
    {
      "cell_type": "code",
      "metadata": {
        "id": "rWbwuQ7wwk7x",
        "colab_type": "code",
        "colab": {
          "base_uri": "https://localhost:8080/",
          "height": 521
        },
        "outputId": "a51588b4-aa71-47a7-b144-2983d7f5b4e7"
      },
      "source": [
        "from fuzzywuzzy import fuzz\n",
        "for index, row in df.iterrows():\n",
        "  #print(row['Ort'], row['GKZ Straße'])\n",
        "  for line in comparedata:\n",
        "    if fuzz.ratio(str(row['Ort']), str(line['Ort'])) > 90:\n",
        "      if fuzz.ratio(str(row['GKZ Straße']), str(line['Strasse'])) > 60:\n",
        "        df.loc[index,'IK'] = line['IK']\n",
        "        break\n",
        "df.head()"
      ],
      "execution_count": 85,
      "outputs": [
        {
          "output_type": "execute_result",
          "data": {
            "text/html": [
              "<div>\n",
              "<style scoped>\n",
              "    .dataframe tbody tr th:only-of-type {\n",
              "        vertical-align: middle;\n",
              "    }\n",
              "\n",
              "    .dataframe tbody tr th {\n",
              "        vertical-align: top;\n",
              "    }\n",
              "\n",
              "    .dataframe thead th {\n",
              "        text-align: right;\n",
              "    }\n",
              "</style>\n",
              "<table border=\"1\" class=\"dataframe\">\n",
              "  <thead>\n",
              "    <tr style=\"text-align: right;\">\n",
              "      <th></th>\n",
              "      <th>Unnamed: 0</th>\n",
              "      <th>Name des Unternehmens</th>\n",
              "      <th>Ort</th>\n",
              "      <th>Letzter Bilanzstichtag</th>\n",
              "      <th>Umsatzerlöse\n",
              "tsd EUR\n",
              "Letztes verf. Jahr</th>\n",
              "      <th>COSMOS Geocode (KGS-Version)</th>\n",
              "      <th>KGS Geocode</th>\n",
              "      <th>KGS Ort / Gemeinde</th>\n",
              "      <th>GKZ PLZ8</th>\n",
              "      <th>GKZ Straße</th>\n",
              "      <th>Jahresüberschuss / Jahresfehlbetrag\n",
              "tsd EUR\n",
              "Letztes verf. Jahr</th>\n",
              "      <th>Jahresüberschuss / Jahresfehlbetrag\n",
              "tsd EUR\n",
              "2017</th>\n",
              "      <th>Jahresüberschuss / Jahresfehlbetrag\n",
              "tsd EUR\n",
              "2016</th>\n",
              "      <th>Jahresüberschuss / Jahresfehlbetrag\n",
              "tsd EUR\n",
              "2015</th>\n",
              "      <th>Cashflow\n",
              "tsd EUR\n",
              "Letztes verf. Jahr</th>\n",
              "      <th>Cashflow\n",
              "tsd EUR\n",
              "2017</th>\n",
              "      <th>Cashflow\n",
              "tsd EUR\n",
              "2016</th>\n",
              "      <th>Cashflow\n",
              "tsd EUR\n",
              "2015</th>\n",
              "      <th>Bilanzsumme\n",
              "tsd EUR\n",
              "Letztes verf. Jahr</th>\n",
              "      <th>Bilanzsumme\n",
              "tsd EUR\n",
              "2017</th>\n",
              "      <th>Bilanzsumme\n",
              "tsd EUR\n",
              "2016</th>\n",
              "      <th>Bilanzsumme\n",
              "tsd EUR\n",
              "2015</th>\n",
              "      <th>Eigenkapital\n",
              "tsd EUR\n",
              "Letztes verf. Jahr</th>\n",
              "      <th>Eigenkapital\n",
              "tsd EUR\n",
              "2017</th>\n",
              "      <th>Eigenkapital\n",
              "tsd EUR\n",
              "2016</th>\n",
              "      <th>Eigenkapital\n",
              "tsd EUR\n",
              "2015</th>\n",
              "      <th>Eigenkapital\n",
              "tsd EUR\n",
              "Letztes verf. Jahr.1</th>\n",
              "      <th>Eigenkapital\n",
              "tsd EUR\n",
              "2019</th>\n",
              "      <th>Eigenkapital\n",
              "tsd EUR\n",
              "2018</th>\n",
              "      <th>Eigenkapital\n",
              "tsd EUR\n",
              "2017.1</th>\n",
              "      <th>Eigenkapital\n",
              "tsd EUR\n",
              "2016.1</th>\n",
              "      <th>Eigenkapital\n",
              "tsd EUR\n",
              "2015.1</th>\n",
              "      <th>Personalaufwand (GKV)\n",
              "tsd EUR\n",
              "Letztes verf. Jahr</th>\n",
              "      <th>Personalaufwand (GKV)\n",
              "tsd EUR\n",
              "2017</th>\n",
              "      <th>Personalaufwand (GKV)\n",
              "tsd EUR\n",
              "2016</th>\n",
              "      <th>Personalaufwand (GKV)\n",
              "tsd EUR\n",
              "2015</th>\n",
              "      <th>Personalaufwand (GKV)\n",
              "tsd EUR\n",
              "2018</th>\n",
              "      <th>Materialaufwand (GKV)\n",
              "tsd EUR\n",
              "Letztes verf. Jahr</th>\n",
              "      <th>Materialaufwand (GKV)\n",
              "tsd EUR\n",
              "2017</th>\n",
              "      <th>Materialaufwand (GKV)\n",
              "tsd EUR\n",
              "2016</th>\n",
              "      <th>Materialaufwand (GKV)\n",
              "tsd EUR\n",
              "2015</th>\n",
              "      <th>Materialaufwand (GKV)\n",
              "tsd EUR\n",
              "2018</th>\n",
              "      <th>IK</th>\n",
              "    </tr>\n",
              "  </thead>\n",
              "  <tbody>\n",
              "    <tr>\n",
              "      <th>0</th>\n",
              "      <td>1.0</td>\n",
              "      <td>Asklepios Kliniken Hamburg GmbH</td>\n",
              "      <td>Hamburg</td>\n",
              "      <td>2017.0</td>\n",
              "      <td>1.13457e+06</td>\n",
              "      <td>2019-1 (02/2019)</td>\n",
              "      <td>NaN</td>\n",
              "      <td>NaN</td>\n",
              "      <td>NaN</td>\n",
              "      <td>Aalkrautweg (D)</td>\n",
              "      <td>75301</td>\n",
              "      <td>75301</td>\n",
              "      <td>77181.4</td>\n",
              "      <td>60564.2</td>\n",
              "      <td>151433</td>\n",
              "      <td>151433</td>\n",
              "      <td>152015</td>\n",
              "      <td>134133</td>\n",
              "      <td>1.74903e+06</td>\n",
              "      <td>1.74903e+06</td>\n",
              "      <td>1.68394e+06</td>\n",
              "      <td>1.59043e+06</td>\n",
              "      <td>757850</td>\n",
              "      <td>757850</td>\n",
              "      <td>682549</td>\n",
              "      <td>605368</td>\n",
              "      <td>757850</td>\n",
              "      <td>n.v.</td>\n",
              "      <td>n.v.</td>\n",
              "      <td>757850</td>\n",
              "      <td>682549</td>\n",
              "      <td>605368</td>\n",
              "      <td>599226</td>\n",
              "      <td>599226</td>\n",
              "      <td>608138</td>\n",
              "      <td>586050</td>\n",
              "      <td>n.v.</td>\n",
              "      <td>324484</td>\n",
              "      <td>324484</td>\n",
              "      <td>330499</td>\n",
              "      <td>304958</td>\n",
              "      <td>n.v.</td>\n",
              "      <td>None</td>\n",
              "    </tr>\n",
              "    <tr>\n",
              "      <th>1</th>\n",
              "      <td>2.0</td>\n",
              "      <td>Gesundheit Nord gGmbH Klinikverbund Bremen</td>\n",
              "      <td>Bremen</td>\n",
              "      <td>2017.0</td>\n",
              "      <td>630699</td>\n",
              "      <td>2019-1 (02/2019)</td>\n",
              "      <td>NaN</td>\n",
              "      <td>NaN</td>\n",
              "      <td>28211-010</td>\n",
              "      <td>Kurfürstenallee 104 - 130 (G)</td>\n",
              "      <td>-21278.7</td>\n",
              "      <td>-21278.7</td>\n",
              "      <td>-11451.6</td>\n",
              "      <td>-16375.9</td>\n",
              "      <td>7045.91</td>\n",
              "      <td>7045.91</td>\n",
              "      <td>15918.4</td>\n",
              "      <td>10468.3</td>\n",
              "      <td>916279</td>\n",
              "      <td>916279</td>\n",
              "      <td>904767</td>\n",
              "      <td>945714</td>\n",
              "      <td>183514</td>\n",
              "      <td>183514</td>\n",
              "      <td>196792</td>\n",
              "      <td>203244</td>\n",
              "      <td>183514</td>\n",
              "      <td>n.v.</td>\n",
              "      <td>n.v.</td>\n",
              "      <td>183514</td>\n",
              "      <td>196792</td>\n",
              "      <td>203244</td>\n",
              "      <td>416741</td>\n",
              "      <td>416741</td>\n",
              "      <td>395558</td>\n",
              "      <td>378344</td>\n",
              "      <td>n.v.</td>\n",
              "      <td>176981</td>\n",
              "      <td>176981</td>\n",
              "      <td>173509</td>\n",
              "      <td>173457</td>\n",
              "      <td>n.v.</td>\n",
              "      <td>None</td>\n",
              "    </tr>\n",
              "    <tr>\n",
              "      <th>2</th>\n",
              "      <td>3.0</td>\n",
              "      <td>Städtisches Klinikum München GmbH</td>\n",
              "      <td>München</td>\n",
              "      <td>2017.0</td>\n",
              "      <td>630091</td>\n",
              "      <td>2019-1 (02/2019)</td>\n",
              "      <td>NaN</td>\n",
              "      <td>NaN</td>\n",
              "      <td>80337-020</td>\n",
              "      <td>Thalkirchner Str. 48 - 92 (G)</td>\n",
              "      <td>23194.7</td>\n",
              "      <td>23194.7</td>\n",
              "      <td>1512.93</td>\n",
              "      <td>-30656.7</td>\n",
              "      <td>56407.3</td>\n",
              "      <td>56407.3</td>\n",
              "      <td>32599.2</td>\n",
              "      <td>1091.8</td>\n",
              "      <td>658674</td>\n",
              "      <td>658674</td>\n",
              "      <td>673855</td>\n",
              "      <td>603954</td>\n",
              "      <td>76406.3</td>\n",
              "      <td>76406.3</td>\n",
              "      <td>59189.6</td>\n",
              "      <td>43089.6</td>\n",
              "      <td>76406.3</td>\n",
              "      <td>n.v.</td>\n",
              "      <td>n.v.</td>\n",
              "      <td>76406.3</td>\n",
              "      <td>59189.6</td>\n",
              "      <td>43089.6</td>\n",
              "      <td>419988</td>\n",
              "      <td>419988</td>\n",
              "      <td>415815</td>\n",
              "      <td>427834</td>\n",
              "      <td>n.v.</td>\n",
              "      <td>174343</td>\n",
              "      <td>174343</td>\n",
              "      <td>168954</td>\n",
              "      <td>172262</td>\n",
              "      <td>n.v.</td>\n",
              "      <td>None</td>\n",
              "    </tr>\n",
              "    <tr>\n",
              "      <th>3</th>\n",
              "      <td>4.0</td>\n",
              "      <td>Marienhaus Kliniken GmbH</td>\n",
              "      <td>Waldbreitbach</td>\n",
              "      <td>2017.0</td>\n",
              "      <td>568267</td>\n",
              "      <td>2019-1 (02/2019)</td>\n",
              "      <td>NaN</td>\n",
              "      <td>NaN</td>\n",
              "      <td>56588-010</td>\n",
              "      <td>Margaretha-Flesch-Str. (D)</td>\n",
              "      <td>-11556.1</td>\n",
              "      <td>-11556.1</td>\n",
              "      <td>8548.24</td>\n",
              "      <td>7656.55</td>\n",
              "      <td>2666.52</td>\n",
              "      <td>2666.52</td>\n",
              "      <td>37922.8</td>\n",
              "      <td>32483.1</td>\n",
              "      <td>337072</td>\n",
              "      <td>337072</td>\n",
              "      <td>464694</td>\n",
              "      <td>499745</td>\n",
              "      <td>134785</td>\n",
              "      <td>134785</td>\n",
              "      <td>149207</td>\n",
              "      <td>174561</td>\n",
              "      <td>134785</td>\n",
              "      <td>n.v.</td>\n",
              "      <td>n.v.</td>\n",
              "      <td>134785</td>\n",
              "      <td>149207</td>\n",
              "      <td>174561</td>\n",
              "      <td>391782</td>\n",
              "      <td>391782</td>\n",
              "      <td>372436</td>\n",
              "      <td>360765</td>\n",
              "      <td>n.v.</td>\n",
              "      <td>119160</td>\n",
              "      <td>119160</td>\n",
              "      <td>122552</td>\n",
              "      <td>122602</td>\n",
              "      <td>n.v.</td>\n",
              "      <td>260711658</td>\n",
              "    </tr>\n",
              "    <tr>\n",
              "      <th>4</th>\n",
              "      <td>5.0</td>\n",
              "      <td>Klinikum Region Hannover GmbH</td>\n",
              "      <td>Hannover</td>\n",
              "      <td>2016.0</td>\n",
              "      <td>519439</td>\n",
              "      <td>2019-1 (02/2019)</td>\n",
              "      <td>NaN</td>\n",
              "      <td>NaN</td>\n",
              "      <td>30459-005</td>\n",
              "      <td>Stadionbrücke 6 - 6 (G)</td>\n",
              "      <td>2627.81</td>\n",
              "      <td>n.v.</td>\n",
              "      <td>2627.81</td>\n",
              "      <td>-9032.79</td>\n",
              "      <td>43002</td>\n",
              "      <td>n.v.</td>\n",
              "      <td>43002</td>\n",
              "      <td>24438.7</td>\n",
              "      <td>626359</td>\n",
              "      <td>n.v.</td>\n",
              "      <td>626359</td>\n",
              "      <td>642588</td>\n",
              "      <td>50912.2</td>\n",
              "      <td>n.v.</td>\n",
              "      <td>50912.2</td>\n",
              "      <td>48570</td>\n",
              "      <td>50912.2</td>\n",
              "      <td>n.v.</td>\n",
              "      <td>n.v.</td>\n",
              "      <td>n.v.</td>\n",
              "      <td>50912.2</td>\n",
              "      <td>48570</td>\n",
              "      <td>328473</td>\n",
              "      <td>n.v.</td>\n",
              "      <td>328473</td>\n",
              "      <td>327533</td>\n",
              "      <td>n.v.</td>\n",
              "      <td>129537</td>\n",
              "      <td>n.v.</td>\n",
              "      <td>129537</td>\n",
              "      <td>117832</td>\n",
              "      <td>n.v.</td>\n",
              "      <td>260321781</td>\n",
              "    </tr>\n",
              "  </tbody>\n",
              "</table>\n",
              "</div>"
            ],
            "text/plain": [
              "   Unnamed: 0  ...         IK\n",
              "0         1.0  ...       None\n",
              "1         2.0  ...       None\n",
              "2         3.0  ...       None\n",
              "3         4.0  ...  260711658\n",
              "4         5.0  ...  260321781\n",
              "\n",
              "[5 rows x 43 columns]"
            ]
          },
          "metadata": {
            "tags": []
          },
          "execution_count": 85
        }
      ]
    },
    {
      "cell_type": "code",
      "metadata": {
        "id": "-T6CyEKA0bov",
        "colab_type": "code",
        "colab": {}
      },
      "source": [
        "\n",
        "#df['Umsatzerlöse\\ntsd EUR\\nLetztes verf. Jahr'] = df['Umsatzerlöse\\ntsd EUR\\nLetztes verf. Jahr'].astype(float)\n",
        "df = df.loc[:,'Umsatzerlöse\\ntsd EUR\\nLetztes verf. Jahr'].apply(pd.to_numeric, errors='coerce')"
      ],
      "execution_count": 0,
      "outputs": []
    },
    {
      "cell_type": "code",
      "metadata": {
        "id": "o7frVPUx3vEl",
        "colab_type": "code",
        "colab": {
          "base_uri": "https://localhost:8080/",
          "height": 951
        },
        "outputId": "90d0b114-b537-4d13-b1c8-1392f71c5aea"
      },
      "source": [
        "store = pd.HDFStore('Bilanzdaten.h5')\n",
        "store.append('Bilanzen', df)\n",
        "store.close()"
      ],
      "execution_count": 93,
      "outputs": [
        {
          "output_type": "error",
          "ename": "TypeError",
          "evalue": "ignored",
          "traceback": [
            "\u001b[0;31m---------------------------------------------------------------------------\u001b[0m",
            "\u001b[0;31mKeyError\u001b[0m                                  Traceback (most recent call last)",
            "\u001b[0;32m/usr/local/lib/python3.6/dist-packages/pandas/io/pytables.py\u001b[0m in \u001b[0;36mcreate_axes\u001b[0;34m(self, axes, obj, validate, nan_rep, data_columns, min_itemsize, **kwargs)\u001b[0m\n\u001b[1;32m   3514\u001b[0m             \u001b[0;32mtry\u001b[0m\u001b[0;34m:\u001b[0m\u001b[0;34m\u001b[0m\u001b[0;34m\u001b[0m\u001b[0m\n\u001b[0;32m-> 3515\u001b[0;31m                 \u001b[0maxes\u001b[0m \u001b[0;34m=\u001b[0m \u001b[0m_AXES_MAP\u001b[0m\u001b[0;34m[\u001b[0m\u001b[0mtype\u001b[0m\u001b[0;34m(\u001b[0m\u001b[0mobj\u001b[0m\u001b[0;34m)\u001b[0m\u001b[0;34m]\u001b[0m\u001b[0;34m\u001b[0m\u001b[0;34m\u001b[0m\u001b[0m\n\u001b[0m\u001b[1;32m   3516\u001b[0m             \u001b[0;32mexcept\u001b[0m \u001b[0mKeyError\u001b[0m\u001b[0;34m:\u001b[0m\u001b[0;34m\u001b[0m\u001b[0;34m\u001b[0m\u001b[0m\n",
            "\u001b[0;31mKeyError\u001b[0m: <class 'pandas.core.series.Series'>",
            "\nDuring handling of the above exception, another exception occurred:\n",
            "\u001b[0;31mTypeError\u001b[0m                                 Traceback (most recent call last)",
            "\u001b[0;32m<ipython-input-93-a91f7ff16272>\u001b[0m in \u001b[0;36m<module>\u001b[0;34m()\u001b[0m\n\u001b[1;32m      1\u001b[0m \u001b[0mstore\u001b[0m \u001b[0;34m=\u001b[0m \u001b[0mpd\u001b[0m\u001b[0;34m.\u001b[0m\u001b[0mHDFStore\u001b[0m\u001b[0;34m(\u001b[0m\u001b[0;34m'Bilanzdaten.h5'\u001b[0m\u001b[0;34m)\u001b[0m\u001b[0;34m\u001b[0m\u001b[0;34m\u001b[0m\u001b[0m\n\u001b[0;32m----> 2\u001b[0;31m \u001b[0mstore\u001b[0m\u001b[0;34m.\u001b[0m\u001b[0mappend\u001b[0m\u001b[0;34m(\u001b[0m\u001b[0;34m'Bilanzen'\u001b[0m\u001b[0;34m,\u001b[0m \u001b[0mdf\u001b[0m\u001b[0;34m)\u001b[0m\u001b[0;34m\u001b[0m\u001b[0;34m\u001b[0m\u001b[0m\n\u001b[0m\u001b[1;32m      3\u001b[0m \u001b[0mstore\u001b[0m\u001b[0;34m.\u001b[0m\u001b[0mclose\u001b[0m\u001b[0;34m(\u001b[0m\u001b[0;34m)\u001b[0m\u001b[0;34m\u001b[0m\u001b[0;34m\u001b[0m\u001b[0m\n",
            "\u001b[0;32m/usr/local/lib/python3.6/dist-packages/pandas/io/pytables.py\u001b[0m in \u001b[0;36mappend\u001b[0;34m(self, key, value, format, append, columns, dropna, **kwargs)\u001b[0m\n\u001b[1;32m    984\u001b[0m         \u001b[0mkwargs\u001b[0m \u001b[0;34m=\u001b[0m \u001b[0mself\u001b[0m\u001b[0;34m.\u001b[0m\u001b[0m_validate_format\u001b[0m\u001b[0;34m(\u001b[0m\u001b[0mformat\u001b[0m\u001b[0;34m,\u001b[0m \u001b[0mkwargs\u001b[0m\u001b[0;34m)\u001b[0m\u001b[0;34m\u001b[0m\u001b[0;34m\u001b[0m\u001b[0m\n\u001b[1;32m    985\u001b[0m         self._write_to_group(key, value, append=append, dropna=dropna,\n\u001b[0;32m--> 986\u001b[0;31m                              **kwargs)\n\u001b[0m\u001b[1;32m    987\u001b[0m \u001b[0;34m\u001b[0m\u001b[0m\n\u001b[1;32m    988\u001b[0m     def append_to_multiple(self, d, value, selector, data_columns=None,\n",
            "\u001b[0;32m/usr/local/lib/python3.6/dist-packages/pandas/io/pytables.py\u001b[0m in \u001b[0;36m_write_to_group\u001b[0;34m(self, key, value, format, index, append, complib, encoding, **kwargs)\u001b[0m\n\u001b[1;32m   1413\u001b[0m \u001b[0;34m\u001b[0m\u001b[0m\n\u001b[1;32m   1414\u001b[0m         \u001b[0;31m# write the object\u001b[0m\u001b[0;34m\u001b[0m\u001b[0;34m\u001b[0m\u001b[0;34m\u001b[0m\u001b[0m\n\u001b[0;32m-> 1415\u001b[0;31m         \u001b[0ms\u001b[0m\u001b[0;34m.\u001b[0m\u001b[0mwrite\u001b[0m\u001b[0;34m(\u001b[0m\u001b[0mobj\u001b[0m\u001b[0;34m=\u001b[0m\u001b[0mvalue\u001b[0m\u001b[0;34m,\u001b[0m \u001b[0mappend\u001b[0m\u001b[0;34m=\u001b[0m\u001b[0mappend\u001b[0m\u001b[0;34m,\u001b[0m \u001b[0mcomplib\u001b[0m\u001b[0;34m=\u001b[0m\u001b[0mcomplib\u001b[0m\u001b[0;34m,\u001b[0m \u001b[0;34m**\u001b[0m\u001b[0mkwargs\u001b[0m\u001b[0;34m)\u001b[0m\u001b[0;34m\u001b[0m\u001b[0;34m\u001b[0m\u001b[0m\n\u001b[0m\u001b[1;32m   1416\u001b[0m \u001b[0;34m\u001b[0m\u001b[0m\n\u001b[1;32m   1417\u001b[0m         \u001b[0;32mif\u001b[0m \u001b[0ms\u001b[0m\u001b[0;34m.\u001b[0m\u001b[0mis_table\u001b[0m \u001b[0;32mand\u001b[0m \u001b[0mindex\u001b[0m\u001b[0;34m:\u001b[0m\u001b[0;34m\u001b[0m\u001b[0;34m\u001b[0m\u001b[0m\n",
            "\u001b[0;32m/usr/local/lib/python3.6/dist-packages/pandas/io/pytables.py\u001b[0m in \u001b[0;36mwrite\u001b[0;34m(self, obj, axes, append, complib, complevel, fletcher32, min_itemsize, chunksize, expectedrows, dropna, **kwargs)\u001b[0m\n\u001b[1;32m   4015\u001b[0m         self.create_axes(axes=axes, obj=obj, validate=append,\n\u001b[1;32m   4016\u001b[0m                          \u001b[0mmin_itemsize\u001b[0m\u001b[0;34m=\u001b[0m\u001b[0mmin_itemsize\u001b[0m\u001b[0;34m,\u001b[0m\u001b[0;34m\u001b[0m\u001b[0;34m\u001b[0m\u001b[0m\n\u001b[0;32m-> 4017\u001b[0;31m                          **kwargs)\n\u001b[0m\u001b[1;32m   4018\u001b[0m \u001b[0;34m\u001b[0m\u001b[0m\n\u001b[1;32m   4019\u001b[0m         \u001b[0;32mfor\u001b[0m \u001b[0ma\u001b[0m \u001b[0;32min\u001b[0m \u001b[0mself\u001b[0m\u001b[0;34m.\u001b[0m\u001b[0maxes\u001b[0m\u001b[0;34m:\u001b[0m\u001b[0;34m\u001b[0m\u001b[0;34m\u001b[0m\u001b[0m\n",
            "\u001b[0;32m/usr/local/lib/python3.6/dist-packages/pandas/io/pytables.py\u001b[0m in \u001b[0;36mcreate_axes\u001b[0;34m(self, axes, obj, validate, nan_rep, data_columns, min_itemsize, **kwargs)\u001b[0m\n\u001b[1;32m   3518\u001b[0m                     \u001b[0;34m\"cannot properly create the storer for: [group->{group},\"\u001b[0m\u001b[0;34m\u001b[0m\u001b[0;34m\u001b[0m\u001b[0m\n\u001b[1;32m   3519\u001b[0m                     \"value->{value}]\".format(\n\u001b[0;32m-> 3520\u001b[0;31m                         group=self.group._v_name, value=type(obj)))\n\u001b[0m\u001b[1;32m   3521\u001b[0m \u001b[0;34m\u001b[0m\u001b[0m\n\u001b[1;32m   3522\u001b[0m         \u001b[0;31m# map axes to numbers\u001b[0m\u001b[0;34m\u001b[0m\u001b[0;34m\u001b[0m\u001b[0;34m\u001b[0m\u001b[0m\n",
            "\u001b[0;31mTypeError\u001b[0m: cannot properly create the storer for: [group->Bilanzen,value-><class 'pandas.core.series.Series'>]"
          ]
        }
      ]
    },
    {
      "cell_type": "code",
      "metadata": {
        "id": "iV_HFUt0Ke-a",
        "colab_type": "code",
        "colab": {}
      },
      "source": [
        ""
      ],
      "execution_count": 0,
      "outputs": []
    }
  ]
}