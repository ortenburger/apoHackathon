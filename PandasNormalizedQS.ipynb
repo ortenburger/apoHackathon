{
  "nbformat": 4,
  "nbformat_minor": 0,
  "metadata": {
    "colab": {
      "name": "PandasNormalizedQS.ipynb",
      "version": "0.3.2",
      "provenance": [],
      "include_colab_link": true
    },
    "kernelspec": {
      "name": "python3",
      "display_name": "Python 3"
    }
  },
  "cells": [
    {
      "cell_type": "markdown",
      "metadata": {
        "id": "view-in-github",
        "colab_type": "text"
      },
      "source": [
        "<a href=\"https://colab.research.google.com/github/ortenburger/apoHackathon/blob/master/PandasNormalizedQS.ipynb\" target=\"_parent\"><img src=\"https://colab.research.google.com/assets/colab-badge.svg\" alt=\"Open In Colab\"/></a>"
      ]
    },
    {
      "cell_type": "code",
      "metadata": {
        "id": "RUBCts97yfUM",
        "colab_type": "code",
        "outputId": "89ddd1d2-2261-47e1-eeb1-b13fe1bab958",
        "colab": {
          "base_uri": "https://localhost:8080/",
          "height": 35
        }
      },
      "source": [
        "from google.colab import drive\n",
        "drive.mount('/content/gdrive')"
      ],
      "execution_count": 0,
      "outputs": [
        {
          "output_type": "stream",
          "text": [
            "Drive already mounted at /content/gdrive; to attempt to forcibly remount, call drive.mount(\"/content/gdrive\", force_remount=True).\n"
          ],
          "name": "stdout"
        }
      ]
    },
    {
      "cell_type": "code",
      "metadata": {
        "id": "r8Up7cnt0EFz",
        "colab_type": "code",
        "outputId": "d314fc0c-bc2d-4dbb-ee70-f9f68db8f5a1",
        "colab": {
          "base_uri": "https://localhost:8080/",
          "height": 72
        }
      },
      "source": [
        "import os\n",
        "#os.chdir(\"gdrive/My Drive/Hackathon\")\n",
        "!ls\n",
        "store = pd.HDFStore('foo')"
      ],
      "execution_count": 0,
      "outputs": [
        {
          "output_type": "stream",
          "text": [
            "2013_Qualitätsberichte.zip  2016_Qualitätsberichte.zip\tadresses2019.txt\n",
            "2014_Qualitätsberichte.zip  2017_Qualitätsberichte.zip\tlocations.json\n",
            "2015_Qualitätsberichte.zip  adresses2019.json\n"
          ],
          "name": "stdout"
        }
      ]
    },
    {
      "cell_type": "code",
      "metadata": {
        "id": "qPYo_DIE04c6",
        "colab_type": "code",
        "outputId": "174508db-578a-49b3-f568-31f101bbaa7f",
        "colab": {
          "base_uri": "https://localhost:8080/",
          "height": 109
        }
      },
      "source": [
        "from zipfile import ZipFile\n",
        "import re\n",
        "from lxml import etree\n",
        "from lxml import objectify\n",
        "import pandas as pd\n",
        "\n",
        "\n",
        "regex=re.compile('.*\\/[0-9]{9}-99')\n",
        "df_kkh=pd.DataFrame(columns=('IK', 'Standortnummer', 'Name', 'Jahr', 'Strasse', 'Hausnummer', 'Postleitzahl', 'Ort'))\n",
        "df_icd=pd.DataFrame(columns=('IK', 'Standortnummer', 'Jahr', 'ICD_10', 'Fallzahl'))\n",
        "store = pd.HDFStore('Qualitätsberichte.h5')\n",
        "\n",
        "zipfilenames=['2013_Qualitätsberichte.zip', '2014_Qualitätsberichte.zip', '2015_Qualitätsberichte.zip', '2016_Qualitätsberichte.zip', '2017_Qualitätsberichte.zip']\n",
        "for zipfilename in zipfilenames:\n",
        "  with ZipFile(zipfilename) as zippy:\n",
        "    for filename in zippy.namelist():\n",
        "      if not(filename.lower().endswith('xml')) or regex.match(filename):\n",
        "        continue\n",
        "      try:\n",
        "        jahr=zipfilename[0:4]\n",
        "        xml_file=zippy.open(filename, 'r')\n",
        "        root=etree.fromstring(xml_file.read())\n",
        "        standort=root.xpath('/Qualitaetsbericht/Standort_dieses_Berichts/Kontaktdaten|/Qualitaetsbericht/Krankenhaus/Standortkontaktdaten')\n",
        "        if len(standort)==0:\n",
        "          standort=root.xpath('/Qualitaetsbericht/Krankenhaus/Krankenhauskontaktdaten|/Qualitaetsbericht/Krankenhaus/Kontaktdaten')\n",
        "        obj_kkh=objectify.XML(etree.tostring(standort[0]))\n",
        "        obj_adresse=obj_kkh.find('Hausanschrift')\n",
        "        if obj_adresse==None:\n",
        "          obj_adresse=obj_kkh.Kontakt_Zugang\n",
        "        if obj_adresse.find('Hausnummer')==None: objectify.SubElement(obj_adresse, 'Hausnummer')\n",
        "        data={'IK': obj_kkh.IK.text, 'Standortnummer': obj_kkh.Standortnummer.text, 'Name': obj_kkh.Name.text, 'Jahr': jahr, 'Strasse': obj_adresse.Strasse.text, 'Hausnummer': obj_adresse.Hausnummer.text, 'Postleitzahl': obj_adresse.Postleitzahl.text, 'Ort': obj_adresse.Ort.text}\n",
        "        row=pd_kkh.Series(data)\n",
        "        row.name=obj_kkh.IK.text+'_'+obj_kkh.Standortnummer.text+'_'+str(jahr)\n",
        "        df_kkh.append(row)\n",
        "        obj_fa=objectify.XML(etree.tostring(root.xpath('/Qualitaetsbericht/Organisationseinheiten_Fachabteilungen/Organisationseinheit_Fachabteilung')[0]))\n",
        "        if obj_fa.find('Hauptdiagnosen/Hauptdiagnose')!=None:\n",
        "          for i in range(0, len(obj_fa.Hauptdiagnosen.Hauptdiagnose)):\n",
        "            obj=obj_fa.Hauptdiagnosen.Hauptdiagnose[i]\n",
        "            fallzahl=0\n",
        "            if obj.find('Fallzahl')!=None:\n",
        "              fallzahl=obj['Fallzahl'].text\n",
        "            data={'IK': obj_kkh.IK.text, 'Standortnummer': obj_kkh.Standortnummer.text, 'Jahr': jahr, 'ICD_10': obj['ICD_10'].text, 'Fallzahl': fallzahl}\n",
        "            row=pd_icd.Series(data)\n",
        "            row.name=obj_kkh.IK.text+'_'+obj_kkh.Standortnummer.text+'_'+str(jahr)+'_'+str(i)\n",
        "            df_icd.append(row)\n",
        "      except Exception as e:\n",
        "        pass\n",
        "store['df_kkh'] = df_kkh\n",
        "store['df_icd'] = df_icd\n",
        "\n"
      ],
      "execution_count": 0,
      "outputs": [
        {
          "output_type": "stream",
          "text": [
            "/usr/local/lib/python3.6/dist-packages/IPython/core/interactiveshell.py:2882: PerformanceWarning: \n",
            "your performance may suffer as PyTables will pickle object types that it cannot\n",
            "map directly to c-types [inferred_type->mixed-integer,key->block0_values] [items->['IK', 'Standortnummer', 'Jahr', 'ICD_10', 'Fallzahl']]\n",
            "\n",
            "  exec(code_obj, self.user_global_ns, self.user_ns)\n"
          ],
          "name": "stderr"
        }
      ]
    },
    {
      "cell_type": "code",
      "metadata": {
        "id": "7EdTzTek4dRq",
        "colab_type": "code",
        "colab": {}
      },
      "source": [
        ""
      ],
      "execution_count": 0,
      "outputs": []
    }
  ]
}