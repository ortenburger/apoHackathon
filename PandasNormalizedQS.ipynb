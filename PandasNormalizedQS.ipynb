{
  "nbformat": 4,
  "nbformat_minor": 0,
  "metadata": {
    "colab": {
      "name": "PandasNormalizedQS.ipynb",
      "version": "0.3.2",
      "provenance": [],
      "include_colab_link": true
    },
    "kernelspec": {
      "name": "python3",
      "display_name": "Python 3"
    }
  },
  "cells": [
    {
      "cell_type": "markdown",
      "metadata": {
        "id": "view-in-github",
        "colab_type": "text"
      },
      "source": [
        "<a href=\"https://colab.research.google.com/github/ortenburger/apoHackathon/blob/master/PandasNormalizedQS.ipynb\" target=\"_parent\"><img src=\"https://colab.research.google.com/assets/colab-badge.svg\" alt=\"Open In Colab\"/></a>"
      ]
    },
    {
      "cell_type": "code",
      "metadata": {
        "id": "RUBCts97yfUM",
        "colab_type": "code",
        "colab": {
          "base_uri": "https://localhost:8080/",
          "height": 189
        },
        "outputId": "ccd86bf2-fab3-44be-a541-237219f843de"
      },
      "source": [
        "from google.colab import drive\n",
        "drive.mount('/content/gdrive')"
      ],
      "execution_count": 2,
      "outputs": [
        {
          "output_type": "stream",
          "text": [
            "Go to this URL in a browser: https://accounts.google.com/o/oauth2/auth?client_id=947318989803-6bn6qk8qdgf4n4g3pfee6491hc0brc4i.apps.googleusercontent.com&redirect_uri=urn%3Aietf%3Awg%3Aoauth%3A2.0%3Aoob&scope=email%20https%3A%2F%2Fwww.googleapis.com%2Fauth%2Fdocs.test%20https%3A%2F%2Fwww.googleapis.com%2Fauth%2Fdrive%20https%3A%2F%2Fwww.googleapis.com%2Fauth%2Fdrive.photos.readonly%20https%3A%2F%2Fwww.googleapis.com%2Fauth%2Fpeopleapi.readonly&response_type=code\n",
            "\n",
            "Enter your authorization code:\n",
            "··········\n",
            "Mounted at /content/gdrive\n"
          ],
          "name": "stdout"
        }
      ]
    },
    {
      "cell_type": "code",
      "metadata": {
        "id": "r8Up7cnt0EFz",
        "colab_type": "code",
        "colab": {}
      },
      "source": [
        "import os\n",
        "os.chdir(\"gdrive/My Drive/Hackathon\")\n"
      ],
      "execution_count": 0,
      "outputs": []
    },
    {
      "cell_type": "code",
      "metadata": {
        "id": "qPYo_DIE04c6",
        "colab_type": "code",
        "colab": {}
      },
      "source": [
        "from zipfile import ZipFile\n",
        "import re\n",
        "from lxml import etree\n",
        "from lxml import objectify\n",
        "import pandas as pd\n",
        "\n",
        "regex=re.compile('.*\\/[0-9]{9}-99')\n",
        "zipfilenames=['2017_Qualitätsberichte.zip']\n",
        "for zipfilename in zipfilenames:\n",
        "    with ZipFile(zipfilename) as zippy:\n",
        "        for filename in zippy.namelist():\n",
        "            if not(filename.lower().endswith('xml')) or regex.match(filename):\n",
        "                continue\n",
        "            try:\n",
        "                jahr=zipfilename[0:4]\n",
        "                xml_file=zippy.open(filename, 'r')\n",
        "                root=etree.fromstring(xml_file.read())\n",
        "                standort=root.xpath('/Qualitaetsbericht/Standort_dieses_Berichts/Kontaktdaten|/Qualitaetsbericht/Krankenhaus/Standortkontaktdaten')\n",
        "                if len(standort)==0:\n",
        "                    standort=root.xpath('/Qualitaetsbericht/Krankenhaus/Krankenhauskontaktdaten|/Qualitaetsbericht/Krankenhaus/Kontaktdaten')\n",
        "                obj_kkh=objectify.XML(etree.tostring(standort[0]))\n",
        "                obj_adresse=obj_kkh.find('Hausanschrift')\n",
        "                if obj_adresse==None:\n",
        "                    obj_adresse=obj_kkh.Kontakt_Zugang\n",
        "                if obj_adresse.find('Hausnummer')==None: objectify.SubElement(obj_adresse, 'Hausnummer')\n",
        "                df=pd.DataFrame(columns=('IK', 'Standortnummer', 'Name', 'Jahr', 'Strasse', 'Hausnummer', 'Postleitzahl', 'Ort'))\n",
        "                data={'IK': obj_kkh.IK.text, 'Standortnummer': obj_kkh.Standortnummer.text, 'Name': obj_kkh.Name.text, 'Jahr': jahr, 'Strasse': obj_adresse.Strasse.text, 'Hausnummer': obj_adresse.Hausnummer.text, 'Postleitzahl': obj_adresse.Postleitzahl.text, 'Ort': obj_adresse.Ort.text}\n",
        "                row=pd.Series(data)\n",
        "                row.name=obj_kkh.IK.text+'_'+obj_kkh.Standortnummer.text+'_'+str(jahr)\n",
        "                obj_fa=objectify.XML(etree.tostring(root.xpath('/Qualitaetsbericht/Organisationseinheiten_Fachabteilungen/Organisationseinheit_Fachabteilung')[0]))\n",
        "                df=pd.DataFrame(columns=('IK', 'Standortnummer', 'Jahr', 'ICD_10', 'Fallzahl'))\n",
        "                if obj_fa.find('Hauptdiagnosen/Hauptdiagnose')!=None:\n",
        "                    for i in range(0, len(obj_fa.Hauptdiagnosen.Hauptdiagnose)):\n",
        "                        obj=obj_fa.Hauptdiagnosen.Hauptdiagnose[i]\n",
        "                        fallzahl=0\n",
        "                        if obj.find('Fallzahl')!=None:\n",
        "                            fallzahl=obj['Fallzahl'].text\n",
        "                        data={'IK': obj_kkh.IK.text, 'Standortnummer': obj_kkh.Standortnummer.text, 'Jahr': jahr, 'ICD_10': obj['ICD_10'].text, 'Fallzahl': fallzahl}\n",
        "                        row=pd.Series(data)\n",
        "                        row.name=obj_kkh.IK.text+'_'+obj_kkh.Standortnummer.text+'_'+str(jahr)+'_'+str(i)\n",
        "                        df=df.append(row)\n",
        "            except Exception as e:\n",
        "              pass"
      ],
      "execution_count": 0,
      "outputs": []
    }
  ]
}