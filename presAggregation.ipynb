{
  "nbformat": 4,
  "nbformat_minor": 0,
  "metadata": {
    "colab": {
      "name": "presAggregation.ipynb",
      "version": "0.3.2",
      "provenance": [],
      "include_colab_link": true
    },
    "kernelspec": {
      "name": "python3",
      "display_name": "Python 3"
    }
  },
  "cells": [
    {
      "cell_type": "markdown",
      "metadata": {
        "id": "view-in-github",
        "colab_type": "text"
      },
      "source": [
        "<a href=\"https://colab.research.google.com/github/ortenburger/apoHackathon/blob/master/presAggregation.ipynb\" target=\"_parent\"><img src=\"https://colab.research.google.com/assets/colab-badge.svg\" alt=\"Open In Colab\"/></a>"
      ]
    },
    {
      "cell_type": "code",
      "metadata": {
        "id": "7sw6cEEdsHvR",
        "colab_type": "code",
        "colab": {
          "base_uri": "https://localhost:8080/",
          "height": 127
        },
        "outputId": "640b5653-83fb-498d-9a2e-eb485470011d"
      },
      "source": [
        "!pip install -U tables\n",
        "import os, json\n",
        "import pandas as pd\n",
        "import numpy as np\n",
        "from google.colab import drive\n",
        "drive.mount('/content/gdrive')\n",
        "os.chdir(\"gdrive/My Drive/Hackathon\")"
      ],
      "execution_count": 1,
      "outputs": [
        {
          "output_type": "stream",
          "text": [
            "Requirement already up-to-date: tables in /usr/local/lib/python3.6/dist-packages (3.5.2)\n",
            "Requirement already satisfied, skipping upgrade: numexpr>=2.6.2 in /usr/local/lib/python3.6/dist-packages (from tables) (2.6.9)\n",
            "Requirement already satisfied, skipping upgrade: numpy>=1.9.3 in /usr/local/lib/python3.6/dist-packages (from tables) (1.16.4)\n",
            "Requirement already satisfied, skipping upgrade: mock>=2.0 in /usr/local/lib/python3.6/dist-packages (from tables) (3.0.5)\n",
            "Requirement already satisfied, skipping upgrade: six>=1.9.0 in /usr/local/lib/python3.6/dist-packages (from tables) (1.12.0)\n",
            "Drive already mounted at /content/gdrive; to attempt to forcibly remount, call drive.mount(\"/content/gdrive\", force_remount=True).\n"
          ],
          "name": "stdout"
        }
      ]
    },
    {
      "cell_type": "code",
      "metadata": {
        "id": "M-LmXBICsK-h",
        "colab_type": "code",
        "colab": {
          "base_uri": "https://localhost:8080/",
          "height": 330
        },
        "outputId": "cb30c5ea-02bb-428d-eff1-7cb37c779cb0"
      },
      "source": [
        "df =  pd.read_hdf('kkh_locs.h5')\n",
        "df.head()"
      ],
      "execution_count": 11,
      "outputs": [
        {
          "output_type": "execute_result",
          "data": {
            "text/html": [
              "<div>\n",
              "<style scoped>\n",
              "    .dataframe tbody tr th:only-of-type {\n",
              "        vertical-align: middle;\n",
              "    }\n",
              "\n",
              "    .dataframe tbody tr th {\n",
              "        vertical-align: top;\n",
              "    }\n",
              "\n",
              "    .dataframe thead th {\n",
              "        text-align: right;\n",
              "    }\n",
              "</style>\n",
              "<table border=\"1\" class=\"dataframe\">\n",
              "  <thead>\n",
              "    <tr style=\"text-align: right;\">\n",
              "      <th></th>\n",
              "      <th>IK</th>\n",
              "      <th>Standortnummer</th>\n",
              "      <th>Name</th>\n",
              "      <th>Jahr</th>\n",
              "      <th>Strasse</th>\n",
              "      <th>Hausnummer</th>\n",
              "      <th>Postleitzahl</th>\n",
              "      <th>Ort</th>\n",
              "      <th>IK-SO</th>\n",
              "      <th>Location</th>\n",
              "      <th>Bundesland</th>\n",
              "      <th>lat</th>\n",
              "      <th>lng</th>\n",
              "    </tr>\n",
              "  </thead>\n",
              "  <tbody>\n",
              "    <tr>\n",
              "      <th>260000066_00_2013</th>\n",
              "      <td>260000066</td>\n",
              "      <td>00</td>\n",
              "      <td>Hochgebirgsklinik Davos</td>\n",
              "      <td>2013</td>\n",
              "      <td>Herman-Burchard-Str.</td>\n",
              "      <td>1</td>\n",
              "      <td>CH-7265</td>\n",
              "      <td>Davos Wolfgang</td>\n",
              "      <td>260000066-00</td>\n",
              "      <td>[{'address_components': [{'long_name': '1', 's...</td>\n",
              "      <td>GR</td>\n",
              "      <td>46.8291</td>\n",
              "      <td>9.85558</td>\n",
              "    </tr>\n",
              "    <tr>\n",
              "      <th>260100023_00_2013</th>\n",
              "      <td>260100023</td>\n",
              "      <td>00</td>\n",
              "      <td>Diakonissenkrankenhaus Flensburg</td>\n",
              "      <td>2013</td>\n",
              "      <td>Knuthstraße</td>\n",
              "      <td>1</td>\n",
              "      <td>24939</td>\n",
              "      <td>Flensburg</td>\n",
              "      <td>260100023-00</td>\n",
              "      <td>[{'address_components': [{'long_name': '1', 's...</td>\n",
              "      <td>SH</td>\n",
              "      <td>54.7904</td>\n",
              "      <td>9.42605</td>\n",
              "    </tr>\n",
              "    <tr>\n",
              "      <th>260100034_00_2013</th>\n",
              "      <td>260100034</td>\n",
              "      <td>00</td>\n",
              "      <td>Malteser Krankenhaus St. Franziskus-Hospital</td>\n",
              "      <td>2013</td>\n",
              "      <td>Waldstraße</td>\n",
              "      <td>17</td>\n",
              "      <td>24939</td>\n",
              "      <td>Flensburg</td>\n",
              "      <td>260100034-00</td>\n",
              "      <td>[{'address_components': [{'long_name': '17', '...</td>\n",
              "      <td>SH</td>\n",
              "      <td>54.7925</td>\n",
              "      <td>9.41987</td>\n",
              "    </tr>\n",
              "    <tr>\n",
              "      <th>260100089_00_2013</th>\n",
              "      <td>260100089</td>\n",
              "      <td>00</td>\n",
              "      <td>Städtisches Krankenhaus Kiel GmbH</td>\n",
              "      <td>2013</td>\n",
              "      <td>Chemnitzstr.</td>\n",
              "      <td>33</td>\n",
              "      <td>24116</td>\n",
              "      <td>Kiel</td>\n",
              "      <td>260100089-00</td>\n",
              "      <td>[{'address_components': [{'long_name': '33', '...</td>\n",
              "      <td>SH</td>\n",
              "      <td>54.3231</td>\n",
              "      <td>10.1161</td>\n",
              "    </tr>\n",
              "    <tr>\n",
              "      <th>260100125_00_2013</th>\n",
              "      <td>260100125</td>\n",
              "      <td>00</td>\n",
              "      <td>Sankt Elisabeth Krankenhaus Kiel</td>\n",
              "      <td>2013</td>\n",
              "      <td>Königsweg</td>\n",
              "      <td>8</td>\n",
              "      <td>24103</td>\n",
              "      <td>Kiel</td>\n",
              "      <td>260100125-00</td>\n",
              "      <td>[{'address_components': [{'long_name': '8', 's...</td>\n",
              "      <td>SH</td>\n",
              "      <td>54.3169</td>\n",
              "      <td>10.1272</td>\n",
              "    </tr>\n",
              "  </tbody>\n",
              "</table>\n",
              "</div>"
            ],
            "text/plain": [
              "                          IK Standortnummer  ...      lat      lng\n",
              "260000066_00_2013  260000066             00  ...  46.8291  9.85558\n",
              "260100023_00_2013  260100023             00  ...  54.7904  9.42605\n",
              "260100034_00_2013  260100034             00  ...  54.7925  9.41987\n",
              "260100089_00_2013  260100089             00  ...  54.3231  10.1161\n",
              "260100125_00_2013  260100125             00  ...  54.3169  10.1272\n",
              "\n",
              "[5 rows x 13 columns]"
            ]
          },
          "metadata": {
            "tags": []
          },
          "execution_count": 11
        }
      ]
    },
    {
      "cell_type": "code",
      "metadata": {
        "id": "b534d0ctsbHs",
        "colab_type": "code",
        "colab": {}
      },
      "source": [
        "newdf = df.set_index(['IK-SO', 'Jahr'], verify_integrity=False)"
      ],
      "execution_count": 0,
      "outputs": []
    },
    {
      "cell_type": "code",
      "metadata": {
        "id": "62ID_gx1srtW",
        "colab_type": "code",
        "colab": {
          "base_uri": "https://localhost:8080/",
          "height": 324
        },
        "outputId": "a1b3c0c4-32ff-42f1-de38-a238bf654b8f"
      },
      "source": [
        "newdf.head()"
      ],
      "execution_count": 8,
      "outputs": [
        {
          "output_type": "execute_result",
          "data": {
            "text/html": [
              "<div>\n",
              "<style scoped>\n",
              "    .dataframe tbody tr th:only-of-type {\n",
              "        vertical-align: middle;\n",
              "    }\n",
              "\n",
              "    .dataframe tbody tr th {\n",
              "        vertical-align: top;\n",
              "    }\n",
              "\n",
              "    .dataframe thead th {\n",
              "        text-align: right;\n",
              "    }\n",
              "</style>\n",
              "<table border=\"1\" class=\"dataframe\">\n",
              "  <thead>\n",
              "    <tr style=\"text-align: right;\">\n",
              "      <th></th>\n",
              "      <th></th>\n",
              "      <th>IK</th>\n",
              "      <th>Standortnummer</th>\n",
              "      <th>Name</th>\n",
              "      <th>Strasse</th>\n",
              "      <th>Hausnummer</th>\n",
              "      <th>Postleitzahl</th>\n",
              "      <th>Ort</th>\n",
              "      <th>Location</th>\n",
              "    </tr>\n",
              "    <tr>\n",
              "      <th>IK-SO</th>\n",
              "      <th>Jahr</th>\n",
              "      <th></th>\n",
              "      <th></th>\n",
              "      <th></th>\n",
              "      <th></th>\n",
              "      <th></th>\n",
              "      <th></th>\n",
              "      <th></th>\n",
              "      <th></th>\n",
              "    </tr>\n",
              "  </thead>\n",
              "  <tbody>\n",
              "    <tr>\n",
              "      <th>260000066-00</th>\n",
              "      <th>2013</th>\n",
              "      <td>260000066</td>\n",
              "      <td>00</td>\n",
              "      <td>Hochgebirgsklinik Davos</td>\n",
              "      <td>Herman-Burchard-Str.</td>\n",
              "      <td>1</td>\n",
              "      <td>CH-7265</td>\n",
              "      <td>Davos Wolfgang</td>\n",
              "      <td>[{'address_components': [{'long_name': '1', 's...</td>\n",
              "    </tr>\n",
              "    <tr>\n",
              "      <th>260100023-00</th>\n",
              "      <th>2013</th>\n",
              "      <td>260100023</td>\n",
              "      <td>00</td>\n",
              "      <td>Diakonissenkrankenhaus Flensburg</td>\n",
              "      <td>Knuthstraße</td>\n",
              "      <td>1</td>\n",
              "      <td>24939</td>\n",
              "      <td>Flensburg</td>\n",
              "      <td>[{'address_components': [{'long_name': '1', 's...</td>\n",
              "    </tr>\n",
              "    <tr>\n",
              "      <th>260100034-00</th>\n",
              "      <th>2013</th>\n",
              "      <td>260100034</td>\n",
              "      <td>00</td>\n",
              "      <td>Malteser Krankenhaus St. Franziskus-Hospital</td>\n",
              "      <td>Waldstraße</td>\n",
              "      <td>17</td>\n",
              "      <td>24939</td>\n",
              "      <td>Flensburg</td>\n",
              "      <td>[{'address_components': [{'long_name': '17', '...</td>\n",
              "    </tr>\n",
              "    <tr>\n",
              "      <th>260100089-00</th>\n",
              "      <th>2013</th>\n",
              "      <td>260100089</td>\n",
              "      <td>00</td>\n",
              "      <td>Städtisches Krankenhaus Kiel GmbH</td>\n",
              "      <td>Chemnitzstr.</td>\n",
              "      <td>33</td>\n",
              "      <td>24116</td>\n",
              "      <td>Kiel</td>\n",
              "      <td>[{'address_components': [{'long_name': '33', '...</td>\n",
              "    </tr>\n",
              "    <tr>\n",
              "      <th>260100125-00</th>\n",
              "      <th>2013</th>\n",
              "      <td>260100125</td>\n",
              "      <td>00</td>\n",
              "      <td>Sankt Elisabeth Krankenhaus Kiel</td>\n",
              "      <td>Königsweg</td>\n",
              "      <td>8</td>\n",
              "      <td>24103</td>\n",
              "      <td>Kiel</td>\n",
              "      <td>[{'address_components': [{'long_name': '8', 's...</td>\n",
              "    </tr>\n",
              "  </tbody>\n",
              "</table>\n",
              "</div>"
            ],
            "text/plain": [
              "                          IK  ...                                           Location\n",
              "IK-SO        Jahr             ...                                                   \n",
              "260000066-00 2013  260000066  ...  [{'address_components': [{'long_name': '1', 's...\n",
              "260100023-00 2013  260100023  ...  [{'address_components': [{'long_name': '1', 's...\n",
              "260100034-00 2013  260100034  ...  [{'address_components': [{'long_name': '17', '...\n",
              "260100089-00 2013  260100089  ...  [{'address_components': [{'long_name': '33', '...\n",
              "260100125-00 2013  260100125  ...  [{'address_components': [{'long_name': '8', 's...\n",
              "\n",
              "[5 rows x 8 columns]"
            ]
          },
          "metadata": {
            "tags": []
          },
          "execution_count": 8
        }
      ]
    },
    {
      "cell_type": "code",
      "metadata": {
        "id": "Z5TYdB3dtip0",
        "colab_type": "code",
        "colab": {
          "base_uri": "https://localhost:8080/",
          "height": 35
        },
        "outputId": "0700ac5a-f729-4532-ef3f-c75c752936e5"
      },
      "source": [
        "aggDict=[]\n",
        "for index, row in df.iterrows():\n",
        "  aggDict.append({\"IK-SO\": row[\"IK-SO\"], 'year': row['Jahr'], 'lng':row['lng'], 'lat':row['lat'], 'state':row['Bundesland']})\n",
        "print(aggDict[100])"
      ],
      "execution_count": 13,
      "outputs": [
        {
          "output_type": "stream",
          "text": [
            "{'IK-SO': '260200273-00', 'year': '2013', 'lng': 10.1536299, 'lat': 53.75758, 'state': 'SH'}\n"
          ],
          "name": "stdout"
        }
      ]
    },
    {
      "cell_type": "code",
      "metadata": {
        "id": "O0HxZ5jlw_lu",
        "colab_type": "code",
        "colab": {
          "base_uri": "https://localhost:8080/",
          "height": 35
        },
        "outputId": "0cea6f00-4b19-4d7a-ef23-bcaf9d42fa11"
      },
      "source": [
        "tdf =  pd.read_hdf('df_traeger.h5')\n",
        "tdf.head()\n",
        "tdict = []\n",
        "for row in aggDict:\n",
        "  try:\n",
        "    row['htype'] = tdf.loc[row['IK-SO'].split('-')[0]+'_'+row['year']]['Trägerart']\n",
        "  except:\n",
        "    row['htype'] = 'Ohne'\n",
        "  tdict.append(row)\n",
        "print(tdict[100])"
      ],
      "execution_count": 19,
      "outputs": [
        {
          "output_type": "stream",
          "text": [
            "{'IK-SO': '260200273-00', 'year': '2013', 'lng': 10.1536299, 'lat': 53.75758, 'state': 'SH', 'htype': 'freigemeinnützig'}\n"
          ],
          "name": "stdout"
        }
      ]
    },
    {
      "cell_type": "code",
      "metadata": {
        "id": "iKurc49hyVi6",
        "colab_type": "code",
        "colab": {
          "base_uri": "https://localhost:8080/",
          "height": 206
        },
        "outputId": "249fb239-15b2-4965-9706-c84487f9b0b9"
      },
      "source": [
        "aggdf = pd.DataFrame.from_dict(tdict)\n",
        "aggdf.head()"
      ],
      "execution_count": 22,
      "outputs": [
        {
          "output_type": "execute_result",
          "data": {
            "text/html": [
              "<div>\n",
              "<style scoped>\n",
              "    .dataframe tbody tr th:only-of-type {\n",
              "        vertical-align: middle;\n",
              "    }\n",
              "\n",
              "    .dataframe tbody tr th {\n",
              "        vertical-align: top;\n",
              "    }\n",
              "\n",
              "    .dataframe thead th {\n",
              "        text-align: right;\n",
              "    }\n",
              "</style>\n",
              "<table border=\"1\" class=\"dataframe\">\n",
              "  <thead>\n",
              "    <tr style=\"text-align: right;\">\n",
              "      <th></th>\n",
              "      <th>IK-SO</th>\n",
              "      <th>htype</th>\n",
              "      <th>lat</th>\n",
              "      <th>lng</th>\n",
              "      <th>state</th>\n",
              "      <th>year</th>\n",
              "    </tr>\n",
              "  </thead>\n",
              "  <tbody>\n",
              "    <tr>\n",
              "      <th>0</th>\n",
              "      <td>260000066-00</td>\n",
              "      <td>privat</td>\n",
              "      <td>46.829140</td>\n",
              "      <td>9.855576</td>\n",
              "      <td>GR</td>\n",
              "      <td>2013</td>\n",
              "    </tr>\n",
              "    <tr>\n",
              "      <th>1</th>\n",
              "      <td>260100023-00</td>\n",
              "      <td>freigemeinnützig</td>\n",
              "      <td>54.790410</td>\n",
              "      <td>9.426050</td>\n",
              "      <td>SH</td>\n",
              "      <td>2013</td>\n",
              "    </tr>\n",
              "    <tr>\n",
              "      <th>2</th>\n",
              "      <td>260100034-00</td>\n",
              "      <td>freigemeinnützig</td>\n",
              "      <td>54.792500</td>\n",
              "      <td>9.419870</td>\n",
              "      <td>SH</td>\n",
              "      <td>2013</td>\n",
              "    </tr>\n",
              "    <tr>\n",
              "      <th>3</th>\n",
              "      <td>260100089-00</td>\n",
              "      <td>öffentlich</td>\n",
              "      <td>54.323074</td>\n",
              "      <td>10.116095</td>\n",
              "      <td>SH</td>\n",
              "      <td>2013</td>\n",
              "    </tr>\n",
              "    <tr>\n",
              "      <th>4</th>\n",
              "      <td>260100125-00</td>\n",
              "      <td>freigemeinnützig</td>\n",
              "      <td>54.316870</td>\n",
              "      <td>10.127190</td>\n",
              "      <td>SH</td>\n",
              "      <td>2013</td>\n",
              "    </tr>\n",
              "  </tbody>\n",
              "</table>\n",
              "</div>"
            ],
            "text/plain": [
              "          IK-SO             htype        lat        lng state  year\n",
              "0  260000066-00            privat  46.829140   9.855576    GR  2013\n",
              "1  260100023-00  freigemeinnützig  54.790410   9.426050    SH  2013\n",
              "2  260100034-00  freigemeinnützig  54.792500   9.419870    SH  2013\n",
              "3  260100089-00        öffentlich  54.323074  10.116095    SH  2013\n",
              "4  260100125-00  freigemeinnützig  54.316870  10.127190    SH  2013"
            ]
          },
          "metadata": {
            "tags": []
          },
          "execution_count": 22
        }
      ]
    },
    {
      "cell_type": "code",
      "metadata": {
        "id": "v2J_fdi3zzvJ",
        "colab_type": "code",
        "colab": {
          "base_uri": "https://localhost:8080/",
          "height": 238
        },
        "outputId": "d28e23db-a812-4a14-dddd-5a78b43a01e6"
      },
      "source": [
        "newdf = aggdf.set_index(['IK-SO', 'year'])\n",
        "newdf.head()"
      ],
      "execution_count": 24,
      "outputs": [
        {
          "output_type": "execute_result",
          "data": {
            "text/html": [
              "<div>\n",
              "<style scoped>\n",
              "    .dataframe tbody tr th:only-of-type {\n",
              "        vertical-align: middle;\n",
              "    }\n",
              "\n",
              "    .dataframe tbody tr th {\n",
              "        vertical-align: top;\n",
              "    }\n",
              "\n",
              "    .dataframe thead th {\n",
              "        text-align: right;\n",
              "    }\n",
              "</style>\n",
              "<table border=\"1\" class=\"dataframe\">\n",
              "  <thead>\n",
              "    <tr style=\"text-align: right;\">\n",
              "      <th></th>\n",
              "      <th></th>\n",
              "      <th>htype</th>\n",
              "      <th>lat</th>\n",
              "      <th>lng</th>\n",
              "      <th>state</th>\n",
              "    </tr>\n",
              "    <tr>\n",
              "      <th>IK-SO</th>\n",
              "      <th>year</th>\n",
              "      <th></th>\n",
              "      <th></th>\n",
              "      <th></th>\n",
              "      <th></th>\n",
              "    </tr>\n",
              "  </thead>\n",
              "  <tbody>\n",
              "    <tr>\n",
              "      <th>260000066-00</th>\n",
              "      <th>2013</th>\n",
              "      <td>privat</td>\n",
              "      <td>46.829140</td>\n",
              "      <td>9.855576</td>\n",
              "      <td>GR</td>\n",
              "    </tr>\n",
              "    <tr>\n",
              "      <th>260100023-00</th>\n",
              "      <th>2013</th>\n",
              "      <td>freigemeinnützig</td>\n",
              "      <td>54.790410</td>\n",
              "      <td>9.426050</td>\n",
              "      <td>SH</td>\n",
              "    </tr>\n",
              "    <tr>\n",
              "      <th>260100034-00</th>\n",
              "      <th>2013</th>\n",
              "      <td>freigemeinnützig</td>\n",
              "      <td>54.792500</td>\n",
              "      <td>9.419870</td>\n",
              "      <td>SH</td>\n",
              "    </tr>\n",
              "    <tr>\n",
              "      <th>260100089-00</th>\n",
              "      <th>2013</th>\n",
              "      <td>öffentlich</td>\n",
              "      <td>54.323074</td>\n",
              "      <td>10.116095</td>\n",
              "      <td>SH</td>\n",
              "    </tr>\n",
              "    <tr>\n",
              "      <th>260100125-00</th>\n",
              "      <th>2013</th>\n",
              "      <td>freigemeinnützig</td>\n",
              "      <td>54.316870</td>\n",
              "      <td>10.127190</td>\n",
              "      <td>SH</td>\n",
              "    </tr>\n",
              "  </tbody>\n",
              "</table>\n",
              "</div>"
            ],
            "text/plain": [
              "                              htype        lat        lng state\n",
              "IK-SO        year                                              \n",
              "260000066-00 2013            privat  46.829140   9.855576    GR\n",
              "260100023-00 2013  freigemeinnützig  54.790410   9.426050    SH\n",
              "260100034-00 2013  freigemeinnützig  54.792500   9.419870    SH\n",
              "260100089-00 2013        öffentlich  54.323074  10.116095    SH\n",
              "260100125-00 2013  freigemeinnützig  54.316870  10.127190    SH"
            ]
          },
          "metadata": {
            "tags": []
          },
          "execution_count": 24
        }
      ]
    },
    {
      "cell_type": "code",
      "metadata": {
        "id": "ZSbrxBgi1VHW",
        "colab_type": "code",
        "colab": {
          "base_uri": "https://localhost:8080/",
          "height": 206
        },
        "outputId": "7ec456ea-479c-491c-e058-4540c09db745"
      },
      "source": [
        "icddf =  pd.read_hdf('df_icdmap (1).h5')\n",
        "icddf.head()\n"
      ],
      "execution_count": 31,
      "outputs": [
        {
          "output_type": "execute_result",
          "data": {
            "text/html": [
              "<div>\n",
              "<style scoped>\n",
              "    .dataframe tbody tr th:only-of-type {\n",
              "        vertical-align: middle;\n",
              "    }\n",
              "\n",
              "    .dataframe tbody tr th {\n",
              "        vertical-align: top;\n",
              "    }\n",
              "\n",
              "    .dataframe thead th {\n",
              "        text-align: right;\n",
              "    }\n",
              "</style>\n",
              "<table border=\"1\" class=\"dataframe\">\n",
              "  <thead>\n",
              "    <tr style=\"text-align: right;\">\n",
              "      <th></th>\n",
              "      <th>Class</th>\n",
              "      <th>Chapter</th>\n",
              "      <th>ICD_10</th>\n",
              "      <th>Title</th>\n",
              "    </tr>\n",
              "  </thead>\n",
              "  <tbody>\n",
              "    <tr>\n",
              "      <th>0</th>\n",
              "      <td>3</td>\n",
              "      <td>01</td>\n",
              "      <td>A00</td>\n",
              "      <td>Cholera</td>\n",
              "    </tr>\n",
              "    <tr>\n",
              "      <th>1</th>\n",
              "      <td>4</td>\n",
              "      <td>01</td>\n",
              "      <td>A000</td>\n",
              "      <td>Cholera durch Vibrio cholerae O:1, Biovar chol...</td>\n",
              "    </tr>\n",
              "    <tr>\n",
              "      <th>2</th>\n",
              "      <td>4</td>\n",
              "      <td>01</td>\n",
              "      <td>A001</td>\n",
              "      <td>Cholera durch Vibrio cholerae O:1, Biovar eltor</td>\n",
              "    </tr>\n",
              "    <tr>\n",
              "      <th>3</th>\n",
              "      <td>4</td>\n",
              "      <td>01</td>\n",
              "      <td>A009</td>\n",
              "      <td>Cholera, nicht näher bezeichnet</td>\n",
              "    </tr>\n",
              "    <tr>\n",
              "      <th>4</th>\n",
              "      <td>3</td>\n",
              "      <td>01</td>\n",
              "      <td>A01</td>\n",
              "      <td>Typhus abdominalis und Paratyphus</td>\n",
              "    </tr>\n",
              "  </tbody>\n",
              "</table>\n",
              "</div>"
            ],
            "text/plain": [
              "  Class Chapter ICD_10                                              Title\n",
              "0     3      01    A00                                            Cholera\n",
              "1     4      01   A000  Cholera durch Vibrio cholerae O:1, Biovar chol...\n",
              "2     4      01   A001    Cholera durch Vibrio cholerae O:1, Biovar eltor\n",
              "3     4      01   A009                    Cholera, nicht näher bezeichnet\n",
              "4     3      01    A01                  Typhus abdominalis und Paratyphus"
            ]
          },
          "metadata": {
            "tags": []
          },
          "execution_count": 31
        }
      ]
    },
    {
      "cell_type": "code",
      "metadata": {
        "id": "nxvQoOL311EW",
        "colab_type": "code",
        "colab": {
          "base_uri": "https://localhost:8080/",
          "height": 35
        },
        "outputId": "fc91ab53-5674-487d-8b83-c9aef3a9b76b"
      },
      "source": [
        "icdList=[]\n",
        "for index, row in icddf.iterrows():\n",
        "  icdList.append(row['Chapter'])\n",
        "icdList = list(set(icdList))\n",
        "icdList.sort()\n",
        "print(icdList)"
      ],
      "execution_count": 36,
      "outputs": [
        {
          "output_type": "stream",
          "text": [
            "['01', '02', '03', '04', '05', '06', '07', '08', '09', '10', '11', '12', '13', '14', '15', '16', '17', '18', '19', '20', '21', '22']\n"
          ],
          "name": "stdout"
        }
      ]
    },
    {
      "cell_type": "code",
      "metadata": {
        "id": "Ah9IxDY1204k",
        "colab_type": "code",
        "colab": {}
      },
      "source": [
        "for i in icdList:\n",
        "  newdf['ICD' + str(i)] = 0"
      ],
      "execution_count": 0,
      "outputs": []
    },
    {
      "cell_type": "code",
      "metadata": {
        "id": "s7F1idso3rSP",
        "colab_type": "code",
        "colab": {
          "base_uri": "https://localhost:8080/",
          "height": 258
        },
        "outputId": "483a1124-daf9-4f86-9780-e3afe89d64a3"
      },
      "source": [
        "newdf.head()"
      ],
      "execution_count": 38,
      "outputs": [
        {
          "output_type": "execute_result",
          "data": {
            "text/html": [
              "<div>\n",
              "<style scoped>\n",
              "    .dataframe tbody tr th:only-of-type {\n",
              "        vertical-align: middle;\n",
              "    }\n",
              "\n",
              "    .dataframe tbody tr th {\n",
              "        vertical-align: top;\n",
              "    }\n",
              "\n",
              "    .dataframe thead th {\n",
              "        text-align: right;\n",
              "    }\n",
              "</style>\n",
              "<table border=\"1\" class=\"dataframe\">\n",
              "  <thead>\n",
              "    <tr style=\"text-align: right;\">\n",
              "      <th></th>\n",
              "      <th></th>\n",
              "      <th>htype</th>\n",
              "      <th>lat</th>\n",
              "      <th>lng</th>\n",
              "      <th>state</th>\n",
              "      <th>ICD01</th>\n",
              "      <th>ICD02</th>\n",
              "      <th>ICD03</th>\n",
              "      <th>ICD04</th>\n",
              "      <th>ICD05</th>\n",
              "      <th>ICD06</th>\n",
              "      <th>ICD07</th>\n",
              "      <th>ICD08</th>\n",
              "      <th>ICD09</th>\n",
              "      <th>ICD10</th>\n",
              "      <th>ICD11</th>\n",
              "      <th>ICD12</th>\n",
              "      <th>ICD13</th>\n",
              "      <th>ICD14</th>\n",
              "      <th>ICD15</th>\n",
              "      <th>ICD16</th>\n",
              "      <th>ICD17</th>\n",
              "      <th>ICD18</th>\n",
              "      <th>ICD19</th>\n",
              "      <th>ICD20</th>\n",
              "      <th>ICD21</th>\n",
              "      <th>ICD22</th>\n",
              "    </tr>\n",
              "    <tr>\n",
              "      <th>IK-SO</th>\n",
              "      <th>year</th>\n",
              "      <th></th>\n",
              "      <th></th>\n",
              "      <th></th>\n",
              "      <th></th>\n",
              "      <th></th>\n",
              "      <th></th>\n",
              "      <th></th>\n",
              "      <th></th>\n",
              "      <th></th>\n",
              "      <th></th>\n",
              "      <th></th>\n",
              "      <th></th>\n",
              "      <th></th>\n",
              "      <th></th>\n",
              "      <th></th>\n",
              "      <th></th>\n",
              "      <th></th>\n",
              "      <th></th>\n",
              "      <th></th>\n",
              "      <th></th>\n",
              "      <th></th>\n",
              "      <th></th>\n",
              "      <th></th>\n",
              "      <th></th>\n",
              "      <th></th>\n",
              "      <th></th>\n",
              "    </tr>\n",
              "  </thead>\n",
              "  <tbody>\n",
              "    <tr>\n",
              "      <th>260000066-00</th>\n",
              "      <th>2013</th>\n",
              "      <td>privat</td>\n",
              "      <td>46.829140</td>\n",
              "      <td>9.855576</td>\n",
              "      <td>GR</td>\n",
              "      <td>0</td>\n",
              "      <td>0</td>\n",
              "      <td>0</td>\n",
              "      <td>0</td>\n",
              "      <td>0</td>\n",
              "      <td>0</td>\n",
              "      <td>0</td>\n",
              "      <td>0</td>\n",
              "      <td>0</td>\n",
              "      <td>0</td>\n",
              "      <td>0</td>\n",
              "      <td>0</td>\n",
              "      <td>0</td>\n",
              "      <td>0</td>\n",
              "      <td>0</td>\n",
              "      <td>0</td>\n",
              "      <td>0</td>\n",
              "      <td>0</td>\n",
              "      <td>0</td>\n",
              "      <td>0</td>\n",
              "      <td>0</td>\n",
              "      <td>0</td>\n",
              "    </tr>\n",
              "    <tr>\n",
              "      <th>260100023-00</th>\n",
              "      <th>2013</th>\n",
              "      <td>freigemeinnützig</td>\n",
              "      <td>54.790410</td>\n",
              "      <td>9.426050</td>\n",
              "      <td>SH</td>\n",
              "      <td>0</td>\n",
              "      <td>0</td>\n",
              "      <td>0</td>\n",
              "      <td>0</td>\n",
              "      <td>0</td>\n",
              "      <td>0</td>\n",
              "      <td>0</td>\n",
              "      <td>0</td>\n",
              "      <td>0</td>\n",
              "      <td>0</td>\n",
              "      <td>0</td>\n",
              "      <td>0</td>\n",
              "      <td>0</td>\n",
              "      <td>0</td>\n",
              "      <td>0</td>\n",
              "      <td>0</td>\n",
              "      <td>0</td>\n",
              "      <td>0</td>\n",
              "      <td>0</td>\n",
              "      <td>0</td>\n",
              "      <td>0</td>\n",
              "      <td>0</td>\n",
              "    </tr>\n",
              "    <tr>\n",
              "      <th>260100034-00</th>\n",
              "      <th>2013</th>\n",
              "      <td>freigemeinnützig</td>\n",
              "      <td>54.792500</td>\n",
              "      <td>9.419870</td>\n",
              "      <td>SH</td>\n",
              "      <td>0</td>\n",
              "      <td>0</td>\n",
              "      <td>0</td>\n",
              "      <td>0</td>\n",
              "      <td>0</td>\n",
              "      <td>0</td>\n",
              "      <td>0</td>\n",
              "      <td>0</td>\n",
              "      <td>0</td>\n",
              "      <td>0</td>\n",
              "      <td>0</td>\n",
              "      <td>0</td>\n",
              "      <td>0</td>\n",
              "      <td>0</td>\n",
              "      <td>0</td>\n",
              "      <td>0</td>\n",
              "      <td>0</td>\n",
              "      <td>0</td>\n",
              "      <td>0</td>\n",
              "      <td>0</td>\n",
              "      <td>0</td>\n",
              "      <td>0</td>\n",
              "    </tr>\n",
              "    <tr>\n",
              "      <th>260100089-00</th>\n",
              "      <th>2013</th>\n",
              "      <td>öffentlich</td>\n",
              "      <td>54.323074</td>\n",
              "      <td>10.116095</td>\n",
              "      <td>SH</td>\n",
              "      <td>0</td>\n",
              "      <td>0</td>\n",
              "      <td>0</td>\n",
              "      <td>0</td>\n",
              "      <td>0</td>\n",
              "      <td>0</td>\n",
              "      <td>0</td>\n",
              "      <td>0</td>\n",
              "      <td>0</td>\n",
              "      <td>0</td>\n",
              "      <td>0</td>\n",
              "      <td>0</td>\n",
              "      <td>0</td>\n",
              "      <td>0</td>\n",
              "      <td>0</td>\n",
              "      <td>0</td>\n",
              "      <td>0</td>\n",
              "      <td>0</td>\n",
              "      <td>0</td>\n",
              "      <td>0</td>\n",
              "      <td>0</td>\n",
              "      <td>0</td>\n",
              "    </tr>\n",
              "    <tr>\n",
              "      <th>260100125-00</th>\n",
              "      <th>2013</th>\n",
              "      <td>freigemeinnützig</td>\n",
              "      <td>54.316870</td>\n",
              "      <td>10.127190</td>\n",
              "      <td>SH</td>\n",
              "      <td>0</td>\n",
              "      <td>0</td>\n",
              "      <td>0</td>\n",
              "      <td>0</td>\n",
              "      <td>0</td>\n",
              "      <td>0</td>\n",
              "      <td>0</td>\n",
              "      <td>0</td>\n",
              "      <td>0</td>\n",
              "      <td>0</td>\n",
              "      <td>0</td>\n",
              "      <td>0</td>\n",
              "      <td>0</td>\n",
              "      <td>0</td>\n",
              "      <td>0</td>\n",
              "      <td>0</td>\n",
              "      <td>0</td>\n",
              "      <td>0</td>\n",
              "      <td>0</td>\n",
              "      <td>0</td>\n",
              "      <td>0</td>\n",
              "      <td>0</td>\n",
              "    </tr>\n",
              "  </tbody>\n",
              "</table>\n",
              "</div>"
            ],
            "text/plain": [
              "                              htype        lat        lng  ... ICD20  ICD21  ICD22\n",
              "IK-SO        year                                          ...                    \n",
              "260000066-00 2013            privat  46.829140   9.855576  ...     0      0      0\n",
              "260100023-00 2013  freigemeinnützig  54.790410   9.426050  ...     0      0      0\n",
              "260100034-00 2013  freigemeinnützig  54.792500   9.419870  ...     0      0      0\n",
              "260100089-00 2013        öffentlich  54.323074  10.116095  ...     0      0      0\n",
              "260100125-00 2013  freigemeinnützig  54.316870  10.127190  ...     0      0      0\n",
              "\n",
              "[5 rows x 26 columns]"
            ]
          },
          "metadata": {
            "tags": []
          },
          "execution_count": 38
        }
      ]
    },
    {
      "cell_type": "code",
      "metadata": {
        "id": "VFwNm9t23tAj",
        "colab_type": "code",
        "colab": {
          "base_uri": "https://localhost:8080/",
          "height": 166
        },
        "outputId": "c8b01dd4-8092-4e5a-fa93-0c3d0df29cc9"
      },
      "source": [
        "newdf.to_hdf('aggdata.h5', key='kkhicd')"
      ],
      "execution_count": 40,
      "outputs": [
        {
          "output_type": "stream",
          "text": [
            "/usr/local/lib/python3.6/dist-packages/tables/attributeset.py:475: NaturalNameWarning: object name is not a valid Python identifier: 'axis1_nameIK-SO'; it does not match the pattern ``^[a-zA-Z_][a-zA-Z0-9_]*$``; you will not be able to use natural naming to access this object; using ``getattr()`` will still work, though\n",
            "  check_attribute_name(name)\n",
            "/usr/local/lib/python3.6/dist-packages/pandas/core/generic.py:2377: PerformanceWarning: \n",
            "your performance may suffer as PyTables will pickle object types that it cannot\n",
            "map directly to c-types [inferred_type->mixed,key->block2_values] [items->['htype', 'state']]\n",
            "\n",
            "  return pytables.to_hdf(path_or_buf, key, self, **kwargs)\n"
          ],
          "name": "stderr"
        }
      ]
    },
    {
      "cell_type": "code",
      "metadata": {
        "id": "r_mHvfEl5VBs",
        "colab_type": "code",
        "colab": {
          "base_uri": "https://localhost:8080/",
          "height": 206
        },
        "outputId": "2a080d98-dc43-480d-f431-ab06fc47cf85"
      },
      "source": [
        "icddf =  pd.read_hdf('df_icd.h5')\n",
        "icdmap = pd.read_hdf('df_icdmap (1).h5')\n",
        "icddf['ICD'] = None\n",
        "icddf.head()\n"
      ],
      "execution_count": 95,
      "outputs": [
        {
          "output_type": "execute_result",
          "data": {
            "text/html": [
              "<div>\n",
              "<style scoped>\n",
              "    .dataframe tbody tr th:only-of-type {\n",
              "        vertical-align: middle;\n",
              "    }\n",
              "\n",
              "    .dataframe tbody tr th {\n",
              "        vertical-align: top;\n",
              "    }\n",
              "\n",
              "    .dataframe thead th {\n",
              "        text-align: right;\n",
              "    }\n",
              "</style>\n",
              "<table border=\"1\" class=\"dataframe\">\n",
              "  <thead>\n",
              "    <tr style=\"text-align: right;\">\n",
              "      <th></th>\n",
              "      <th>IK</th>\n",
              "      <th>Standortnummer</th>\n",
              "      <th>Jahr</th>\n",
              "      <th>ICD_10</th>\n",
              "      <th>Fallzahl</th>\n",
              "      <th>ICD</th>\n",
              "    </tr>\n",
              "  </thead>\n",
              "  <tbody>\n",
              "    <tr>\n",
              "      <th>260000066_00_2013_0</th>\n",
              "      <td>260000066</td>\n",
              "      <td>00</td>\n",
              "      <td>2013</td>\n",
              "      <td>B44</td>\n",
              "      <td>17</td>\n",
              "      <td>None</td>\n",
              "    </tr>\n",
              "    <tr>\n",
              "      <th>260000066_00_2013_1</th>\n",
              "      <td>260000066</td>\n",
              "      <td>00</td>\n",
              "      <td>2013</td>\n",
              "      <td>D86</td>\n",
              "      <td>7</td>\n",
              "      <td>None</td>\n",
              "    </tr>\n",
              "    <tr>\n",
              "      <th>260000066_00_2013_2</th>\n",
              "      <td>260000066</td>\n",
              "      <td>00</td>\n",
              "      <td>2013</td>\n",
              "      <td>J12</td>\n",
              "      <td>0</td>\n",
              "      <td>None</td>\n",
              "    </tr>\n",
              "    <tr>\n",
              "      <th>260000066_00_2013_3</th>\n",
              "      <td>260000066</td>\n",
              "      <td>00</td>\n",
              "      <td>2013</td>\n",
              "      <td>J30</td>\n",
              "      <td>9</td>\n",
              "      <td>None</td>\n",
              "    </tr>\n",
              "    <tr>\n",
              "      <th>260000066_00_2013_4</th>\n",
              "      <td>260000066</td>\n",
              "      <td>00</td>\n",
              "      <td>2013</td>\n",
              "      <td>J44</td>\n",
              "      <td>19</td>\n",
              "      <td>None</td>\n",
              "    </tr>\n",
              "  </tbody>\n",
              "</table>\n",
              "</div>"
            ],
            "text/plain": [
              "                            IK Standortnummer  Jahr ICD_10 Fallzahl   ICD\n",
              "260000066_00_2013_0  260000066             00  2013    B44       17  None\n",
              "260000066_00_2013_1  260000066             00  2013    D86        7  None\n",
              "260000066_00_2013_2  260000066             00  2013    J12        0  None\n",
              "260000066_00_2013_3  260000066             00  2013    J30        9  None\n",
              "260000066_00_2013_4  260000066             00  2013    J44       19  None"
            ]
          },
          "metadata": {
            "tags": []
          },
          "execution_count": 95
        }
      ]
    },
    {
      "cell_type": "code",
      "metadata": {
        "id": "MqQ1PRbI6yVj",
        "colab_type": "code",
        "colab": {
          "base_uri": "https://localhost:8080/",
          "height": 54
        },
        "outputId": "5c42b8c2-5e68-4c6e-fff5-a6f462da7ae3"
      },
      "source": [
        "#icdmap.head()\n",
        "print(icdmap.loc[icdmap['ICD_10'] == 'B59']['Chapter'])\n",
        "\"\"\"icdDict={}\n",
        "for index, row in icdmap.iterrows():\n",
        "  icdDict[row['ICD_10']]=row['Chapter']\n",
        "\n",
        "print(icdDict)\"\"\""
      ],
      "execution_count": 103,
      "outputs": [
        {
          "output_type": "stream",
          "text": [
            "Series([], Name: Chapter, dtype: int64)\n"
          ],
          "name": "stdout"
        },
        {
          "output_type": "execute_result",
          "data": {
            "text/plain": [
              "\"icdDict={}\\nfor index, row in icdmap.iterrows():\\n  icdDict[row['ICD_10']]=row['Chapter']\\n\\nprint(icdDict)\""
            ]
          },
          "metadata": {
            "tags": []
          },
          "execution_count": 103
        }
      ]
    },
    {
      "cell_type": "code",
      "metadata": {
        "id": "kl2qDUoo5l6O",
        "colab_type": "code",
        "colab": {}
      },
      "source": [
        "foo=[]\n",
        "i=0\n",
        "for index, row in icddf.iterrows():\n",
        "  #print(index)\n",
        "  if not row['ICD']:\n",
        "    try:\n",
        "      icddf.loc[index, 'ICD'] = icdDict[row['ICD_10']]\n",
        "    except:\n",
        "      try:\n",
        "        icddf.loc[index, 'ICD'] = icdDict[row['ICD_10'].split('.')[0]]\n",
        "      except:\n",
        "        pass"
      ],
      "execution_count": 0,
      "outputs": []
    },
    {
      "cell_type": "code",
      "metadata": {
        "id": "LFz0Pfbj8BSj",
        "colab_type": "code",
        "colab": {
          "base_uri": "https://localhost:8080/",
          "height": 55
        },
        "outputId": "6964867d-15e4-4157-fcf9-73db8d526dba"
      },
      "source": [
        ""
      ],
      "execution_count": 100,
      "outputs": [
        {
          "output_type": "stream",
          "text": [
            "{'A00': 1, 'A000': 1, 'A001': 1, 'A009': 1, 'A01': 1, 'A010': 1, 'A011': 1, 'A012': 1, 'A013': 1, 'A014': 1, 'A02': 1, 'A020': 1, 'A021': 1, 'A022': 1, 'A028': 1, 'A029': 1, 'A03': 1, 'A030': 1, 'A031': 1, 'A032': 1, 'A033': 1, 'A038': 1, 'A039': 1, 'A04': 1, 'A040': 1, 'A041': 1, 'A042': 1, 'A043': 1, 'A044': 1, 'A045': 1, 'A046': 1, 'A047': 1, 'A0470': 1, 'A0471': 1, 'A0472': 1, 'A0473': 1, 'A0479': 1, 'A048': 1, 'A049': 1, 'A05': 1, 'A050': 1, 'A051': 1, 'A052': 1, 'A053': 1, 'A054': 1, 'A058': 1, 'A059': 1, 'A06': 1, 'A060': 1, 'A061': 1, 'A062': 1, 'A063': 1, 'A064': 1, 'A065': 1, 'A066': 1, 'A067': 1, 'A068': 1, 'A069': 1, 'A07': 1, 'A070': 1, 'A071': 1, 'A072': 1, 'A073': 1, 'A078': 1, 'A079': 1, 'A08': 1, 'A080': 1, 'A081': 1, 'A082': 1, 'A083': 1, 'A084': 1, 'A085': 1, 'A09': 1, 'A090': 1, 'A099': 1, 'A15': 1, 'A150': 1, 'A151': 1, 'A152': 1, 'A153': 1, 'A154': 1, 'A155': 1, 'A156': 1, 'A157': 1, 'A158': 1, 'A159': 1, 'A16': 1, 'A160': 1, 'A161': 1, 'A162': 1, 'A163': 1, 'A164': 1, 'A165': 1, 'A167': 1, 'A168': 1, 'A169': 1, 'A17': 1, 'A170': 1, 'A171': 1, 'A178': 1, 'A179': 1, 'A18': 1, 'A180': 1, 'A181': 1, 'A182': 1, 'A183': 1, 'A184': 1, 'A185': 1, 'A186': 1, 'A187': 1, 'A188': 1, 'A19': 1, 'A190': 1, 'A191': 1, 'A192': 1, 'A198': 1, 'A199': 1, 'A20': 1, 'A200': 1, 'A201': 1, 'A202': 1, 'A203': 1, 'A207': 1, 'A208': 1, 'A209': 1, 'A21': 1, 'A210': 1, 'A211': 1, 'A212': 1, 'A213': 1, 'A217': 1, 'A218': 1, 'A219': 1, 'A22': 1, 'A220': 1, 'A221': 1, 'A222': 1, 'A227': 1, 'A228': 1, 'A229': 1, 'A23': 1, 'A230': 1, 'A231': 1, 'A232': 1, 'A233': 1, 'A238': 1, 'A239': 1, 'A24': 1, 'A240': 1, 'A241': 1, 'A242': 1, 'A243': 1, 'A244': 1, 'A25': 1, 'A250': 1, 'A251': 1, 'A259': 1, 'A26': 1, 'A260': 1, 'A267': 1, 'A268': 1, 'A269': 1, 'A27': 1, 'A270': 1, 'A278': 1, 'A279': 1, 'A28': 1, 'A280': 1, 'A281': 1, 'A282': 1, 'A288': 1, 'A289': 1, 'A30': 1, 'A300': 1, 'A301': 1, 'A302': 1, 'A303': 1, 'A304': 1, 'A305': 1, 'A308': 1, 'A309': 1, 'A31': 1, 'A310': 1, 'A311': 1, 'A318': 1, 'A3180': 1, 'A3188': 1, 'A319': 1, 'A32': 1, 'A320': 1, 'A321': 1, 'A327': 1, 'A328': 1, 'A329': 1, 'A33': 1, 'A34': 1, 'A35': 1, 'A36': 1, 'A360': 1, 'A361': 1, 'A362': 1, 'A363': 1, 'A368': 1, 'A369': 1, 'A37': 1, 'A370': 1, 'A371': 1, 'A378': 1, 'A379': 1, 'A38': 1, 'A39': 1, 'A390': 1, 'A391': 1, 'A392': 1, 'A393': 1, 'A394': 1, 'A395': 1, 'A398': 1, 'A399': 1, 'A40': 1, 'A400': 1, 'A401': 1, 'A402': 1, 'A403': 1, 'A408': 1, 'A409': 1, 'A41': 1, 'A410': 1, 'A411': 1, 'A412': 1, 'A413': 1, 'A414': 1, 'A415': 1, 'A4151': 1, 'A4152': 1, 'A4158': 1, 'A418': 1, 'A419': 1, 'A42': 1, 'A420': 1, 'A421': 1, 'A422': 1, 'A427': 1, 'A428': 1, 'A429': 1, 'A43': 1, 'A430': 1, 'A431': 1, 'A438': 1, 'A439': 1, 'A44': 1, 'A440': 1, 'A441': 1, 'A448': 1, 'A449': 1, 'A46': 1, 'A48': 1, 'A480': 1, 'A481': 1, 'A482': 1, 'A483': 1, 'A484': 1, 'A488': 1, 'A49': 1, 'A490': 1, 'A491': 1, 'A492': 1, 'A493': 1, 'A498': 1, 'A499': 1, 'A50': 1, 'A500': 1, 'A501': 1, 'A502': 1, 'A503': 1, 'A504': 1, 'A505': 1, 'A506': 1, 'A507': 1, 'A509': 1, 'A51': 1, 'A510': 1, 'A511': 1, 'A512': 1, 'A513': 1, 'A514': 1, 'A515': 1, 'A519': 1, 'A52': 1, 'A520': 1, 'A521': 1, 'A522': 1, 'A523': 1, 'A527': 1, 'A528': 1, 'A529': 1, 'A53': 1, 'A530': 1, 'A539': 1, 'A54': 1, 'A540': 1, 'A541': 1, 'A542': 1, 'A543': 1, 'A544': 1, 'A545': 1, 'A546': 1, 'A548': 1, 'A549': 1, 'A55': 1, 'A56': 1, 'A560': 1, 'A561': 1, 'A562': 1, 'A563': 1, 'A564': 1, 'A568': 1, 'A57': 1, 'A58': 1, 'A59': 1, 'A590': 1, 'A598': 1, 'A599': 1, 'A60': 1, 'A600': 1, 'A601': 1, 'A609': 1, 'A63': 1, 'A630': 1, 'A638': 1, 'A64': 1, 'A65': 1, 'A66': 1, 'A660': 1, 'A661': 1, 'A662': 1, 'A663': 1, 'A664': 1, 'A665': 1, 'A666': 1, 'A667': 1, 'A668': 1, 'A669': 1, 'A67': 1, 'A670': 1, 'A671': 1, 'A672': 1, 'A673': 1, 'A679': 1, 'A68': 1, 'A680': 1, 'A681': 1, 'A689': 1, 'A69': 1, 'A690': 1, 'A691': 1, 'A692': 1, 'A698': 1, 'A699': 1, 'A70': 1, 'A71': 1, 'A710': 1, 'A711': 1, 'A719': 1, 'A74': 1, 'A740': 1, 'A748': 1, 'A749': 1, 'A75': 1, 'A750': 1, 'A751': 1, 'A752': 1, 'A753': 1, 'A759': 1, 'A77': 1, 'A770': 1, 'A771': 1, 'A772': 1, 'A773': 1, 'A778': 1, 'A779': 1, 'A78': 1, 'A79': 1, 'A790': 1, 'A791': 1, 'A798': 1, 'A799': 1, 'A80': 1, 'A800': 1, 'A801': 1, 'A802': 1, 'A803': 1, 'A804': 1, 'A809': 1, 'A81': 1, 'A810': 1, 'A811': 1, 'A812': 1, 'A818': 1, 'A819': 1, 'A82': 1, 'A820': 1, 'A821': 1, 'A829': 1, 'A83': 1, 'A830': 1, 'A831': 1, 'A832': 1, 'A833': 1, 'A834': 1, 'A835': 1, 'A836': 1, 'A838': 1, 'A839': 1, 'A84': 1, 'A840': 1, 'A841': 1, 'A848': 1, 'A849': 1, 'A85': 1, 'A850': 1, 'A851': 1, 'A852': 1, 'A858': 1, 'A86': 1, 'A87': 1, 'A870': 1, 'A871': 1, 'A872': 1, 'A878': 1, 'A879': 1, 'A88': 1, 'A880': 1, 'A881': 1, 'A888': 1, 'A89': 1, 'A92': 1, 'A920': 1, 'A921': 1, 'A922': 1, 'A923': 1, 'A924': 1, 'A925': 1, 'A928': 1, 'A929': 1, 'A93': 1, 'A930': 1, 'A931': 1, 'A932': 1, 'A938': 1, 'A94': 1, 'A95': 1, 'A950': 1, 'A951': 1, 'A959': 1, 'A96': 1, 'A960': 1, 'A961': 1, 'A962': 1, 'A968': 1, 'A969': 1, 'A97': 1, 'A970': 1, 'A971': 1, 'A972': 1, 'A979': 1, 'A98': 1, 'A980': 1, 'A981': 1, 'A982': 1, 'A983': 1, 'A984': 1, 'A985': 1, 'A988': 1, 'A99': 1, 'B00': 1, 'B000': 1, 'B001': 1, 'B002': 1, 'B003': 1, 'B004': 1, 'B005': 1, 'B007': 1, 'B008': 1, 'B009': 1, 'B01': 1, 'B010': 1, 'B011': 1, 'B012': 1, 'B018': 1, 'B019': 1, 'B02': 1, 'B020': 1, 'B021': 1, 'B022': 1, 'B023': 1, 'B027': 1, 'B028': 1, 'B029': 1, 'B03': 1, 'B04': 1, 'B05': 1, 'B050': 1, 'B051': 1, 'B052': 1, 'B053': 1, 'B054': 1, 'B058': 1, 'B059': 1, 'B06': 1, 'B060': 1, 'B068': 1, 'B069': 1, 'B07': 1, 'B08': 1, 'B080': 1, 'B081': 1, 'B082': 1, 'B083': 1, 'B084': 1, 'B085': 1, 'B088': 1, 'B09': 1, 'B15': 1, 'B150': 1, 'B159': 1, 'B16': 1, 'B160': 1, 'B161': 1, 'B162': 1, 'B169': 1, 'B17': 1, 'B170': 1, 'B171': 1, 'B172': 1, 'B178': 1, 'B179': 1, 'B18': 1, 'B180': 1, 'B181': 1, 'B1811': 1, 'B1812': 1, 'B1813': 1, 'B1814': 1, 'B1819': 1, 'B182': 1, 'B188': 1, 'B189': 1, 'B19': 1, 'B190': 1, 'B199': 1, 'B20': 1, 'B21': 1, 'B22': 1, 'B23': 1, 'B230': 1, 'B238': 1, 'B24': 1, 'B25': 1, 'B250': 1, 'B251': 1, 'B252': 1, 'B258': 1, 'B2580': 1, 'B2588': 1, 'B259': 1, 'B26': 1, 'B260': 1, 'B261': 1, 'B262': 1, 'B263': 1, 'B268': 1, 'B269': 1, 'B27': 1, 'B270': 1, 'B271': 1, 'B278': 1, 'B279': 1, 'B30': 1, 'B300': 1, 'B301': 1, 'B302': 1, 'B303': 1, 'B308': 1, 'B309': 1, 'B33': 1, 'B330': 1, 'B331': 1, 'B332': 1, 'B333': 1, 'B334': 1, 'B338': 1, 'B34': 1, 'B340': 1, 'B341': 1, 'B342': 1, 'B343': 1, 'B344': 1, 'B348': 1, 'B349': 1, 'B35': 1, 'B350': 1, 'B351': 1, 'B352': 1, 'B353': 1, 'B354': 1, 'B355': 1, 'B356': 1, 'B358': 1, 'B359': 1, 'B36': 1, 'B360': 1, 'B361': 1, 'B362': 1, 'B363': 1, 'B368': 1, 'B369': 1, 'B37': 1, 'B370': 1, 'B371': 1, 'B372': 1, 'B373': 1, 'B374': 1, 'B375': 1, 'B376': 1, 'B377': 1, 'B378': 1, 'B3781': 1, 'B3788': 1, 'B379': 1, 'B38': 1, 'B380': 1, 'B381': 1, 'B382': 1, 'B383': 1, 'B384': 1, 'B387': 1, 'B388': 1, 'B389': 1, 'B39': 1, 'B390': 1, 'B391': 1, 'B392': 1, 'B393': 1, 'B394': 1, 'B395': 1, 'B399': 1, 'B40': 1, 'B400': 1, 'B401': 1, 'B402': 1, 'B403': 1, 'B407': 1, 'B408': 1, 'B409': 1, 'B41': 1, 'B410': 1, 'B417': 1, 'B418': 1, 'B419': 1, 'B42': 1, 'B420': 1, 'B421': 1, 'B427': 1, 'B428': 1, 'B429': 1, 'B43': 1, 'B430': 1, 'B431': 1, 'B432': 1, 'B438': 1, 'B439': 1, 'B44': 1, 'B440': 1, 'B441': 1, 'B442': 1, 'B447': 1, 'B448': 1, 'B449': 1, 'B45': 1, 'B450': 1, 'B451': 1, 'B452': 1, 'B453': 1, 'B457': 1, 'B458': 1, 'B459': 1, 'B46': 1, 'B460': 1, 'B461': 1, 'B462': 1, 'B463': 1, 'B464': 1, 'B465': 1, 'B468': 1, 'B469': 1, 'B47': 1, 'B470': 1, 'B471': 1, 'B479': 1, 'B48': 1, 'B480': 1, 'B481': 1, 'B482': 1, 'B483': 1, 'B484': 1, 'B485': 1, 'B487': 1, 'B488': 1, 'B49': 1, 'B50': 1, 'B500': 1, 'B508': 1, 'B509': 1, 'B51': 1, 'B510': 1, 'B518': 1, 'B519': 1, 'B52': 1, 'B520': 1, 'B528': 1, 'B529': 1, 'B53': 1, 'B530': 1, 'B531': 1, 'B538': 1, 'B54': 1, 'B55': 1, 'B550': 1, 'B551': 1, 'B552': 1, 'B559': 1, 'B56': 1, 'B560': 1, 'B561': 1, 'B569': 1, 'B57': 1, 'B570': 1, 'B571': 1, 'B572': 1, 'B573': 1, 'B574': 1, 'B575': 1, 'B58': 1, 'B580': 1, 'B581': 1, 'B582': 1, 'B583': 1, 'B588': 1, 'B589': 1, 'B60': 1, 'B600': 1, 'B601': 1, 'B602': 1, 'B608': 1, 'B64': 1, 'B65': 1, 'B650': 1, 'B651': 1, 'B652': 1, 'B653': 1, 'B658': 1, 'B659': 1, 'B66': 1, 'B660': 1, 'B661': 1, 'B662': 1, 'B663': 1, 'B664': 1, 'B665': 1, 'B668': 1, 'B669': 1, 'B67': 1, 'B670': 1, 'B671': 1, 'B672': 1, 'B673': 1, 'B674': 1, 'B675': 1, 'B676': 1, 'B677': 1, 'B678': 1, 'B679': 1, 'B68': 1, 'B680': 1, 'B681': 1, 'B689': 1, 'B69': 1, 'B690': 1, 'B691': 1, 'B698': 1, 'B699': 1, 'B70': 1, 'B700': 1, 'B701': 1, 'B71': 1, 'B710': 1, 'B711': 1, 'B718': 1, 'B719': 1, 'B72': 1, 'B73': 1, 'B74': 1, 'B740': 1, 'B741': 1, 'B742': 1, 'B743': 1, 'B744': 1, 'B748': 1, 'B749': 1, 'B75': 1, 'B76': 1, 'B760': 1, 'B761': 1, 'B768': 1, 'B769': 1, 'B77': 1, 'B770': 1, 'B778': 1, 'B779': 1, 'B78': 1, 'B780': 1, 'B781': 1, 'B787': 1, 'B789': 1, 'B79': 1, 'B80': 1, 'B81': 1, 'B810': 1, 'B811': 1, 'B812': 1, 'B813': 1, 'B814': 1, 'B818': 1, 'B82': 1, 'B820': 1, 'B829': 1, 'B83': 1, 'B830': 1, 'B831': 1, 'B832': 1, 'B833': 1, 'B834': 1, 'B838': 1, 'B839': 1, 'B85': 1, 'B850': 1, 'B851': 1, 'B852': 1, 'B853': 1, 'B854': 1, 'B86': 1, 'B87': 1, 'B870': 1, 'B871': 1, 'B872': 1, 'B873': 1, 'B874': 1, 'B878': 1, 'B879': 1, 'B88': 1, 'B880': 1, 'B881': 1, 'B882': 1, 'B883': 1, 'B888': 1, 'B889': 1, 'B89': 1, 'B90': 1, 'B900': 1, 'B901': 1, 'B902': 1, 'B908': 1, 'B909': 1, 'B91': 1, 'B92': 1, 'B94': 1, 'B940': 1, 'B941': 1, 'B942': 1, 'B948': 1, 'B949': 1, 'B95': 1, 'B950': 1, 'B951': 1, 'B952': 1, 'B953': 1, 'B954': 1, 'B9541': 1, 'B9542': 1, 'B9548': 1, 'B955': 1, 'B956': 1, 'B957': 1, 'B958': 1, 'B959': 1, 'B9590': 1, 'B9591': 1, 'B96': 1, 'B960': 1, 'B962': 1, 'B963': 1, 'B965': 1, 'B966': 1, 'B967': 1, 'B968': 1, 'B97': 1, 'B970': 1, 'B971': 1, 'B972': 1, 'B973': 1, 'B974': 1, 'B975': 1, 'B976': 1, 'B977': 1, 'B978': 1, 'B98': 1, 'B980': 1, 'B981': 1, 'B99': 1, 'C00': 2, 'C000': 2, 'C001': 2, 'C002': 2, 'C003': 2, 'C004': 2, 'C005': 2, 'C006': 2, 'C008': 2, 'C009': 2, 'C01': 2, 'C02': 2, 'C020': 2, 'C021': 2, 'C022': 2, 'C023': 2, 'C024': 2, 'C028': 2, 'C029': 2, 'C03': 2, 'C030': 2, 'C031': 2, 'C039': 2, 'C04': 2, 'C040': 2, 'C041': 2, 'C048': 2, 'C049': 2, 'C05': 2, 'C050': 2, 'C051': 2, 'C052': 2, 'C058': 2, 'C059': 2, 'C06': 2, 'C060': 2, 'C061': 2, 'C062': 2, 'C068': 2, 'C069': 2, 'C07': 2, 'C08': 2, 'C080': 2, 'C081': 2, 'C088': 2, 'C089': 2, 'C09': 2, 'C090': 2, 'C091': 2, 'C098': 2, 'C099': 2, 'C10': 2, 'C100': 2, 'C101': 2, 'C102': 2, 'C103': 2, 'C104': 2, 'C108': 2, 'C109': 2, 'C11': 2, 'C110': 2, 'C111': 2, 'C112': 2, 'C113': 2, 'C118': 2, 'C119': 2, 'C12': 2, 'C13': 2, 'C130': 2, 'C131': 2, 'C132': 2, 'C138': 2, 'C139': 2, 'C14': 2, 'C140': 2, 'C142': 2, 'C148': 2, 'C15': 2, 'C150': 2, 'C151': 2, 'C152': 2, 'C153': 2, 'C154': 2, 'C155': 2, 'C158': 2, 'C159': 2, 'C16': 2, 'C160': 2, 'C161': 2, 'C162': 2, 'C163': 2, 'C164': 2, 'C165': 2, 'C166': 2, 'C168': 2, 'C169': 2, 'C17': 2, 'C170': 2, 'C171': 2, 'C172': 2, 'C173': 2, 'C178': 2, 'C179': 2, 'C18': 2, 'C180': 2, 'C181': 2, 'C182': 2, 'C183': 2, 'C184': 2, 'C185': 2, 'C186': 2, 'C187': 2, 'C188': 2, 'C189': 2, 'C19': 2, 'C20': 2, 'C21': 2, 'C210': 2, 'C211': 2, 'C212': 2, 'C218': 2, 'C22': 2, 'C220': 2, 'C221': 2, 'C222': 2, 'C223': 2, 'C224': 2, 'C227': 2, 'C229': 2, 'C23': 2, 'C24': 2, 'C240': 2, 'C241': 2, 'C248': 2, 'C249': 2, 'C25': 2, 'C250': 2, 'C251': 2, 'C252': 2, 'C253': 2, 'C254': 2, 'C257': 2, 'C258': 2, 'C259': 2, 'C26': 2, 'C260': 2, 'C261': 2, 'C268': 2, 'C269': 2, 'C30': 2, 'C300': 2, 'C301': 2, 'C31': 2, 'C310': 2, 'C311': 2, 'C312': 2, 'C313': 2, 'C318': 2, 'C319': 2, 'C32': 2, 'C320': 2, 'C321': 2, 'C322': 2, 'C323': 2, 'C328': 2, 'C329': 2, 'C33': 2, 'C34': 2, 'C340': 2, 'C341': 2, 'C342': 2, 'C343': 2, 'C348': 2, 'C349': 2, 'C37': 2, 'C38': 2, 'C380': 2, 'C381': 2, 'C382': 2, 'C383': 2, 'C384': 2, 'C388': 2, 'C39': 2, 'C390': 2, 'C398': 2, 'C399': 2, 'C40': 2, 'C400': 2, 'C401': 2, 'C402': 2, 'C403': 2, 'C408': 2, 'C409': 2, 'C41': 2, 'C410': 2, 'C4101': 2, 'C4102': 2, 'C411': 2, 'C412': 2, 'C413': 2, 'C4130': 2, 'C4131': 2, 'C4132': 2, 'C414': 2, 'C418': 2, 'C419': 2, 'C43': 2, 'C430': 2, 'C431': 2, 'C432': 2, 'C433': 2, 'C434': 2, 'C435': 2, 'C436': 2, 'C437': 2, 'C438': 2, 'C439': 2, 'C44': 2, 'C440': 2, 'C441': 2, 'C442': 2, 'C443': 2, 'C444': 2, 'C445': 2, 'C446': 2, 'C447': 2, 'C448': 2, 'C449': 2, 'C45': 2, 'C450': 2, 'C451': 2, 'C452': 2, 'C457': 2, 'C459': 2, 'C46': 2, 'C460': 2, 'C461': 2, 'C462': 2, 'C463': 2, 'C467': 2, 'C468': 2, 'C469': 2, 'C47': 2, 'C470': 2, 'C471': 2, 'C472': 2, 'C473': 2, 'C474': 2, 'C475': 2, 'C476': 2, 'C478': 2, 'C479': 2, 'C48': 2, 'C480': 2, 'C481': 2, 'C482': 2, 'C488': 2, 'C49': 2, 'C490': 2, 'C491': 2, 'C492': 2, 'C493': 2, 'C494': 2, 'C495': 2, 'C496': 2, 'C498': 2, 'C499': 2, 'C50': 2, 'C500': 2, 'C501': 2, 'C502': 2, 'C503': 2, 'C504': 2, 'C505': 2, 'C506': 2, 'C508': 2, 'C509': 2, 'C51': 2, 'C510': 2, 'C511': 2, 'C512': 2, 'C518': 2, 'C519': 2, 'C52': 2, 'C53': 2, 'C530': 2, 'C531': 2, 'C538': 2, 'C539': 2, 'C54': 2, 'C540': 2, 'C541': 2, 'C542': 2, 'C543': 2, 'C548': 2, 'C549': 2, 'C55': 2, 'C56': 2, 'C57': 2, 'C570': 2, 'C571': 2, 'C572': 2, 'C573': 2, 'C574': 2, 'C577': 2, 'C578': 2, 'C579': 2, 'C58': 2, 'C60': 2, 'C600': 2, 'C601': 2, 'C602': 2, 'C608': 2, 'C609': 2, 'C61': 2, 'C62': 2, 'C620': 2, 'C621': 2, 'C629': 2, 'C63': 2, 'C630': 2, 'C631': 2, 'C632': 2, 'C637': 2, 'C638': 2, 'C639': 2, 'C64': 2, 'C65': 2, 'C66': 2, 'C67': 2, 'C670': 2, 'C671': 2, 'C672': 2, 'C673': 2, 'C674': 2, 'C675': 2, 'C676': 2, 'C677': 2, 'C678': 2, 'C679': 2, 'C68': 2, 'C680': 2, 'C681': 2, 'C688': 2, 'C689': 2, 'C69': 2, 'C690': 2, 'C691': 2, 'C692': 2, 'C693': 2, 'C694': 2, 'C695': 2, 'C696': 2, 'C698': 2, 'C699': 2, 'C70': 2, 'C700': 2, 'C701': 2, 'C709': 2, 'C71': 2, 'C710': 2, 'C711': 2, 'C712': 2, 'C713': 2, 'C714': 2, 'C715': 2, 'C716': 2, 'C717': 2, 'C718': 2, 'C719': 2, 'C72': 2, 'C720': 2, 'C721': 2, 'C722': 2, 'C723': 2, 'C724': 2, 'C725': 2, 'C728': 2, 'C729': 2, 'C73': 2, 'C74': 2, 'C740': 2, 'C741': 2, 'C749': 2, 'C75': 2, 'C750': 2, 'C751': 2, 'C752': 2, 'C753': 2, 'C754': 2, 'C755': 2, 'C758': 2, 'C759': 2, 'C76': 2, 'C760': 2, 'C761': 2, 'C762': 2, 'C763': 2, 'C764': 2, 'C765': 2, 'C767': 2, 'C768': 2, 'C77': 2, 'C770': 2, 'C771': 2, 'C772': 2, 'C773': 2, 'C774': 2, 'C775': 2, 'C778': 2, 'C779': 2, 'C78': 2, 'C780': 2, 'C781': 2, 'C782': 2, 'C783': 2, 'C784': 2, 'C785': 2, 'C786': 2, 'C787': 2, 'C788': 2, 'C79': 2, 'C790': 2, 'C791': 2, 'C792': 2, 'C793': 2, 'C794': 2, 'C795': 2, 'C796': 2, 'C797': 2, 'C798': 2, 'C7981': 2, 'C7982': 2, 'C7983': 2, 'C7984': 2, 'C7985': 2, 'C7986': 2, 'C7988': 2, 'C799': 2, 'C80': 2, 'C800': 2, 'C809': 2, 'C81': 2, 'C810': 2, 'C811': 2, 'C812': 2, 'C813': 2, 'C814': 2, 'C817': 2, 'C819': 2, 'C82': 2, 'C820': 2, 'C821': 2, 'C822': 2, 'C823': 2, 'C824': 2, 'C825': 2, 'C826': 2, 'C827': 2, 'C829': 2, 'C83': 2, 'C830': 2, 'C831': 2, 'C833': 2, 'C835': 2, 'C837': 2, 'C838': 2, 'C839': 2, 'C84': 2, 'C840': 2, 'C841': 2, 'C844': 2, 'C845': 2, 'C846': 2, 'C847': 2, 'C848': 2, 'C849': 2, 'C85': 2, 'C851': 2, 'C852': 2, 'C857': 2, 'C859': 2, 'C86': 2, 'C860': 2, 'C861': 2, 'C862': 2, 'C863': 2, 'C864': 2, 'C865': 2, 'C866': 2, 'C88': 2, 'C880': 2, 'C8800': 2, 'C8801': 2, 'C882': 2, 'C8820': 2, 'C8821': 2, 'C883': 2, 'C8830': 2, 'C8831': 2, 'C884': 2, 'C8840': 2, 'C8841': 2, 'C887': 2, 'C8870': 2, 'C8871': 2, 'C889': 2, 'C8890': 2, 'C8891': 2, 'C90': 2, 'C900': 2, 'C9000': 2, 'C9001': 2, 'C901': 2, 'C9010': 2, 'C9011': 2, 'C902': 2, 'C9020': 2, 'C9021': 2, 'C903': 2, 'C9030': 2, 'C9031': 2, 'C91': 2, 'C910': 2, 'C9100': 2, 'C9101': 2, 'C911': 2, 'C9110': 2, 'C9111': 2, 'C913': 2, 'C9130': 2, 'C9131': 2, 'C914': 2, 'C9140': 2, 'C9141': 2, 'C915': 2, 'C9150': 2, 'C9151': 2, 'C916': 2, 'C9160': 2, 'C9161': 2, 'C917': 2, 'C9170': 2, 'C9171': 2, 'C918': 2, 'C9180': 2, 'C9181': 2, 'C919': 2, 'C9190': 2, 'C9191': 2, 'C92': 2, 'C920': 2, 'C9200': 2, 'C9201': 2, 'C921': 2, 'C9210': 2, 'C9211': 2, 'C922': 2, 'C9220': 2, 'C9221': 2, 'C923': 2, 'C9230': 2, 'C9231': 2, 'C924': 2, 'C9240': 2, 'C9241': 2, 'C925': 2, 'C9250': 2, 'C9251': 2, 'C926': 2, 'C9260': 2, 'C9261': 2, 'C927': 2, 'C9270': 2, 'C9271': 2, 'C928': 2, 'C9280': 2, 'C9281': 2, 'C929': 2, 'C9290': 2, 'C9291': 2, 'C93': 2, 'C930': 2, 'C9300': 2, 'C9301': 2, 'C931': 2, 'C9310': 2, 'C9311': 2, 'C933': 2, 'C9330': 2, 'C9331': 2, 'C937': 2, 'C9370': 2, 'C9371': 2, 'C939': 2, 'C9390': 2, 'C9391': 2, 'C94': 2, 'C940': 2, 'C9400': 2, 'C9401': 2, 'C942': 2, 'C9420': 2, 'C9421': 2, 'C943': 2, 'C9430': 2, 'C9431': 2, 'C944': 2, 'C9440': 2, 'C9441': 2, 'C946': 2, 'C9460': 2, 'C9461': 2, 'C947': 2, 'C9470': 2, 'C9471': 2, 'C948': 2, 'C95': 2, 'C950': 2, 'C9500': 2, 'C9501': 2, 'C951': 2, 'C9510': 2, 'C9511': 2, 'C957': 2, 'C9570': 2, 'C9571': 2, 'C958': 2, 'C959': 2, 'C9590': 2, 'C9591': 2, 'C96': 2, 'C960': 2, 'C962': 2, 'C964': 2, 'C965': 2, 'C966': 2, 'C967': 2, 'C968': 2, 'C969': 2, 'C97': 2, 'D00': 2, 'D000': 2, 'D001': 2, 'D002': 2, 'D01': 2, 'D010': 2, 'D011': 2, 'D012': 2, 'D013': 2, 'D014': 2, 'D015': 2, 'D017': 2, 'D019': 2, 'D02': 2, 'D020': 2, 'D021': 2, 'D022': 2, 'D023': 2, 'D024': 2, 'D03': 2, 'D030': 2, 'D031': 2, 'D032': 2, 'D033': 2, 'D034': 2, 'D035': 2, 'D036': 2, 'D037': 2, 'D038': 2, 'D039': 2, 'D04': 2, 'D040': 2, 'D041': 2, 'D042': 2, 'D043': 2, 'D044': 2, 'D045': 2, 'D046': 2, 'D047': 2, 'D048': 2, 'D049': 2, 'D05': 2, 'D050': 2, 'D051': 2, 'D057': 2, 'D059': 2, 'D06': 2, 'D060': 2, 'D061': 2, 'D067': 2, 'D069': 2, 'D07': 2, 'D070': 2, 'D071': 2, 'D072': 2, 'D073': 2, 'D074': 2, 'D075': 2, 'D076': 2, 'D09': 2, 'D090': 2, 'D091': 2, 'D092': 2, 'D093': 2, 'D097': 2, 'D099': 2, 'D10': 2, 'D100': 2, 'D101': 2, 'D102': 2, 'D103': 2, 'D104': 2, 'D105': 2, 'D106': 2, 'D107': 2, 'D109': 2, 'D11': 2, 'D110': 2, 'D117': 2, 'D119': 2, 'D12': 2, 'D120': 2, 'D121': 2, 'D122': 2, 'D123': 2, 'D124': 2, 'D125': 2, 'D126': 2, 'D127': 2, 'D128': 2, 'D129': 2, 'D13': 2, 'D130': 2, 'D131': 2, 'D132': 2, 'D133': 2, 'D134': 2, 'D135': 2, 'D136': 2, 'D137': 2, 'D139': 2, 'D14': 2, 'D140': 2, 'D141': 2, 'D142': 2, 'D143': 2, 'D144': 2, 'D15': 2, 'D150': 2, 'D151': 2, 'D152': 2, 'D157': 2, 'D159': 2, 'D16': 2, 'D160': 2, 'D161': 2, 'D162': 2, 'D163': 2, 'D164': 2, 'D1641': 2, 'D1642': 2, 'D165': 2, 'D166': 2, 'D167': 2, 'D1670': 2, 'D1671': 2, 'D1672': 2, 'D168': 2, 'D169': 2, 'D17': 2, 'D170': 2, 'D171': 2, 'D172': 2, 'D173': 2, 'D174': 2, 'D175': 2, 'D176': 2, 'D177': 2, 'D179': 2, 'D18': 2, 'D180': 2, 'D1800': 2, 'D1801': 2, 'D1802': 2, 'D1803': 2, 'D1804': 2, 'D1805': 2, 'D1806': 2, 'D1808': 2, 'D181': 2, 'D1810': 2, 'D1811': 2, 'D1812': 2, 'D1813': 2, 'D1818': 2, 'D1819': 2, 'D19': 2, 'D190': 2, 'D191': 2, 'D197': 2, 'D199': 2, 'D20': 2, 'D200': 2, 'D201': 2, 'D21': 2, 'D210': 2, 'D211': 2, 'D212': 2, 'D213': 2, 'D214': 2, 'D215': 2, 'D216': 2, 'D219': 2, 'D22': 2, 'D220': 2, 'D221': 2, 'D222': 2, 'D223': 2, 'D224': 2, 'D225': 2, 'D226': 2, 'D227': 2, 'D229': 2, 'D23': 2, 'D230': 2, 'D231': 2, 'D232': 2, 'D233': 2, 'D234': 2, 'D235': 2, 'D236': 2, 'D237': 2, 'D239': 2, 'D24': 2, 'D25': 2, 'D250': 2, 'D251': 2, 'D252': 2, 'D259': 2, 'D26': 2, 'D260': 2, 'D261': 2, 'D267': 2, 'D269': 2, 'D27': 2, 'D28': 2, 'D280': 2, 'D281': 2, 'D282': 2, 'D287': 2, 'D289': 2, 'D29': 2, 'D290': 2, 'D291': 2, 'D292': 2, 'D293': 2, 'D294': 2, 'D297': 2, 'D299': 2, 'D30': 2, 'D300': 2, 'D301': 2, 'D302': 2, 'D303': 2, 'D304': 2, 'D307': 2, 'D309': 2, 'D31': 2, 'D310': 2, 'D311': 2, 'D312': 2, 'D313': 2, 'D314': 2, 'D315': 2, 'D316': 2, 'D319': 2, 'D32': 2, 'D320': 2, 'D321': 2, 'D329': 2, 'D33': 2, 'D330': 2, 'D331': 2, 'D332': 2, 'D333': 2, 'D334': 2, 'D337': 2, 'D339': 2, 'D34': 2, 'D35': 2, 'D350': 2, 'D351': 2, 'D352': 2, 'D353': 2, 'D354': 2, 'D355': 2, 'D356': 2, 'D357': 2, 'D358': 2, 'D359': 2, 'D36': 2, 'D360': 2, 'D361': 2, 'D367': 2, 'D369': 2, 'D37': 2, 'D370': 2, 'D371': 2, 'D372': 2, 'D373': 2, 'D374': 2, 'D375': 2, 'D376': 2, 'D377': 2, 'D3770': 2, 'D3778': 2, 'D379': 2, 'D38': 2, 'D380': 2, 'D381': 2, 'D382': 2, 'D383': 2, 'D384': 2, 'D385': 2, 'D386': 2, 'D39': 2, 'D390': 2, 'D391': 2, 'D392': 2, 'D397': 2, 'D399': 2, 'D40': 2, 'D400': 2, 'D401': 2, 'D407': 2, 'D409': 2, 'D41': 2, 'D410': 2, 'D411': 2, 'D412': 2, 'D413': 2, 'D414': 2, 'D417': 2, 'D419': 2, 'D42': 2, 'D420': 2, 'D421': 2, 'D429': 2, 'D43': 2, 'D430': 2, 'D431': 2, 'D432': 2, 'D433': 2, 'D434': 2, 'D437': 2, 'D439': 2, 'D44': 2, 'D440': 2, 'D441': 2, 'D442': 2, 'D443': 2, 'D444': 2, 'D445': 2, 'D446': 2, 'D447': 2, 'D448': 2, 'D449': 2, 'D45': 2, 'D46': 2, 'D460': 2, 'D461': 2, 'D462': 2, 'D464': 2, 'D465': 2, 'D466': 2, 'D467': 2, 'D469': 2, 'D47': 2, 'D470': 2, 'D471': 2, 'D472': 2, 'D473': 2, 'D474': 2, 'D475': 2, 'D477': 2, 'D479': 2, 'D48': 2, 'D480': 2, 'D481': 2, 'D482': 2, 'D483': 2, 'D484': 2, 'D485': 2, 'D486': 2, 'D487': 2, 'D489': 2, 'D50': 3, 'D500': 3, 'D501': 3, 'D508': 3, 'D509': 3, 'D51': 3, 'D510': 3, 'D511': 3, 'D512': 3, 'D513': 3, 'D518': 3, 'D519': 3, 'D52': 3, 'D520': 3, 'D521': 3, 'D528': 3, 'D529': 3, 'D53': 3, 'D530': 3, 'D531': 3, 'D532': 3, 'D538': 3, 'D539': 3, 'D55': 3, 'D550': 3, 'D551': 3, 'D552': 3, 'D553': 3, 'D558': 3, 'D559': 3, 'D56': 3, 'D560': 3, 'D561': 3, 'D562': 3, 'D563': 3, 'D564': 3, 'D568': 3, 'D569': 3, 'D57': 3, 'D570': 3, 'D571': 3, 'D572': 3, 'D573': 3, 'D578': 3, 'D58': 3, 'D580': 3, 'D581': 3, 'D582': 3, 'D588': 3, 'D589': 3, 'D59': 3, 'D590': 3, 'D591': 3, 'D592': 3, 'D593': 3, 'D594': 3, 'D595': 3, 'D596': 3, 'D598': 3, 'D599': 3, 'D60': 3, 'D600': 3, 'D601': 3, 'D608': 3, 'D609': 3, 'D61': 3, 'D610': 3, 'D611': 3, 'D6110': 3, 'D6118': 3, 'D6119': 3, 'D612': 3, 'D613': 3, 'D618': 3, 'D619': 3, 'D62': 3, 'D63': 3, 'D630': 3, 'D638': 3, 'D64': 3, 'D640': 3, 'D641': 3, 'D642': 3, 'D643': 3, 'D644': 3, 'D648': 3, 'D649': 3, 'D65': 3, 'D650': 3, 'D651': 3, 'D652': 3, 'D659': 3, 'D66': 3, 'D67': 3, 'D68': 3, 'D680': 3, 'D6800': 3, 'D6801': 3, 'D6809': 3, 'D681': 3, 'D682': 3, 'D6820': 3, 'D6821': 3, 'D6822': 3, 'D6823': 3, 'D6824': 3, 'D6825': 3, 'D6826': 3, 'D6828': 3, 'D683': 3, 'D6831': 3, 'D6832': 3, 'D6833': 3, 'D6834': 3, 'D6835': 3, 'D6838': 3, 'D684': 3, 'D685': 3, 'D686': 3, 'D688': 3, 'D689': 3, 'D69': 3, 'D690': 3, 'D691': 3, 'D692': 3, 'D693': 3, 'D694': 3, 'D6940': 3, 'D6941': 3, 'D695': 3, 'D6952': 3, 'D6953': 3, 'D6957': 3, 'D6958': 3, 'D6959': 3, 'D696': 3, 'D6960': 3, 'D6961': 3, 'D698': 3, 'D6980': 3, 'D6988': 3, 'D699': 3, 'D70': 3, 'D700': 3, 'D701': 3, 'D7010': 3, 'D7011': 3, 'D7012': 3, 'D7013': 3, 'D7014': 3, 'D7018': 3, 'D7019': 3, 'D703': 3, 'D705': 3, 'D706': 3, 'D707': 3, 'D71': 3, 'D72': 3, 'D720': 3, 'D721': 3, 'D728': 3, 'D729': 3, 'D73': 3, 'D730': 3, 'D731': 3, 'D732': 3, 'D733': 3, 'D734': 3, 'D735': 3, 'D738': 3, 'D739': 3, 'D74': 3, 'D740': 3, 'D748': 3, 'D749': 3, 'D75': 3, 'D750': 3, 'D751': 3, 'D758': 3, 'D759': 3, 'D76': 3, 'D761': 3, 'D762': 3, 'D763': 3, 'D77': 3, 'D80': 3, 'D800': 3, 'D801': 3, 'D802': 3, 'D803': 3, 'D804': 3, 'D805': 3, 'D806': 3, 'D807': 3, 'D808': 3, 'D809': 3, 'D81': 3, 'D810': 3, 'D811': 3, 'D812': 3, 'D813': 3, 'D814': 3, 'D815': 3, 'D816': 3, 'D817': 3, 'D818': 3, 'D819': 3, 'D82': 3, 'D820': 3, 'D821': 3, 'D822': 3, 'D823': 3, 'D824': 3, 'D828': 3, 'D829': 3, 'D83': 3, 'D830': 3, 'D831': 3, 'D832': 3, 'D838': 3, 'D839': 3, 'D84': 3, 'D840': 3, 'D841': 3, 'D848': 3, 'D849': 3, 'D86': 3, 'D860': 3, 'D861': 3, 'D862': 3, 'D863': 3, 'D868': 3, 'D869': 3, 'D89': 3, 'D890': 3, 'D891': 3, 'D892': 3, 'D893': 3, 'D898': 3, 'D899': 3, 'D90': 3, 'E00': 4, 'E000': 4, 'E001': 4, 'E002': 4, 'E009': 4, 'E01': 4, 'E010': 4, 'E011': 4, 'E012': 4, 'E018': 4, 'E02': 4, 'E03': 4, 'E030': 4, 'E031': 4, 'E032': 4, 'E033': 4, 'E034': 4, 'E035': 4, 'E038': 4, 'E039': 4, 'E04': 4, 'E040': 4, 'E041': 4, 'E042': 4, 'E048': 4, 'E049': 4, 'E05': 4, 'E050': 4, 'E051': 4, 'E052': 4, 'E053': 4, 'E054': 4, 'E055': 4, 'E058': 4, 'E059': 4, 'E06': 4, 'E060': 4, 'E061': 4, 'E062': 4, 'E063': 4, 'E064': 4, 'E065': 4, 'E069': 4, 'E07': 4, 'E070': 4, 'E071': 4, 'E078': 4, 'E079': 4, 'E10': 4, 'E100': 4, 'E1001': 4, 'E101': 4, 'E1011': 4, 'E102': 4, 'E1020': 4, 'E1021': 4, 'E103': 4, 'E1030': 4, 'E1031': 4, 'E104': 4, 'E1040': 4, 'E1041': 4, 'E105': 4, 'E1050': 4, 'E1051': 4, 'E106': 4, 'E1060': 4, 'E1061': 4, 'E107': 4, 'E1072': 4, 'E1073': 4, 'E1074': 4, 'E1075': 4, 'E108': 4, 'E1080': 4, 'E1081': 4, 'E109': 4, 'E1090': 4, 'E1091': 4, 'E11': 4, 'E110': 4, 'E1101': 4, 'E111': 4, 'E1111': 4, 'E112': 4, 'E1120': 4, 'E1121': 4, 'E113': 4, 'E1130': 4, 'E1131': 4, 'E114': 4, 'E1140': 4, 'E1141': 4, 'E115': 4, 'E1150': 4, 'E1151': 4, 'E116': 4, 'E1160': 4, 'E1161': 4, 'E117': 4, 'E1172': 4, 'E1173': 4, 'E1174': 4, 'E1175': 4, 'E118': 4, 'E1180': 4, 'E1181': 4, 'E119': 4, 'E1190': 4, 'E1191': 4, 'E12': 4, 'E120': 4, 'E1201': 4, 'E121': 4, 'E1211': 4, 'E122': 4, 'E1220': 4, 'E1221': 4, 'E123': 4, 'E1230': 4, 'E1231': 4, 'E124': 4, 'E1240': 4, 'E1241': 4, 'E125': 4, 'E1250': 4, 'E1251': 4, 'E126': 4, 'E1260': 4, 'E1261': 4, 'E127': 4, 'E1272': 4, 'E1273': 4, 'E1274': 4, 'E1275': 4, 'E128': 4, 'E1280': 4, 'E1281': 4, 'E129': 4, 'E1290': 4, 'E1291': 4, 'E13': 4, 'E130': 4, 'E1301': 4, 'E131': 4, 'E1311': 4, 'E132': 4, 'E1320': 4, 'E1321': 4, 'E133': 4, 'E1330': 4, 'E1331': 4, 'E134': 4, 'E1340': 4, 'E1341': 4, 'E135': 4, 'E1350': 4, 'E1351': 4, 'E136': 4, 'E1360': 4, 'E1361': 4, 'E137': 4, 'E1372': 4, 'E1373': 4, 'E1374': 4, 'E1375': 4, 'E138': 4, 'E1380': 4, 'E1381': 4, 'E139': 4, 'E1390': 4, 'E1391': 4, 'E14': 4, 'E140': 4, 'E1401': 4, 'E141': 4, 'E1411': 4, 'E142': 4, 'E1420': 4, 'E1421': 4, 'E143': 4, 'E1430': 4, 'E1431': 4, 'E144': 4, 'E1440': 4, 'E1441': 4, 'E145': 4, 'E1450': 4, 'E1451': 4, 'E146': 4, 'E1460': 4, 'E1461': 4, 'E147': 4, 'E1472': 4, 'E1473': 4, 'E1474': 4, 'E1475': 4, 'E148': 4, 'E1480': 4, 'E1481': 4, 'E149': 4, 'E1490': 4, 'E1491': 4, 'E15': 4, 'E16': 4, 'E160': 4, 'E161': 4, 'E162': 4, 'E163': 4, 'E164': 4, 'E168': 4, 'E169': 4, 'E20': 4, 'E200': 4, 'E201': 4, 'E208': 4, 'E209': 4, 'E21': 4, 'E210': 4, 'E211': 4, 'E212': 4, 'E213': 4, 'E214': 4, 'E215': 4, 'E22': 4, 'E220': 4, 'E221': 4, 'E222': 4, 'E228': 4, 'E229': 4, 'E23': 4, 'E230': 4, 'E231': 4, 'E232': 4, 'E233': 4, 'E236': 4, 'E237': 4, 'E24': 4, 'E240': 4, 'E241': 4, 'E242': 4, 'E243': 4, 'E244': 4, 'E248': 4, 'E249': 4, 'E25': 4, 'E250': 4, 'E2500': 4, 'E2501': 4, 'E2508': 4, 'E2509': 4, 'E258': 4, 'E259': 4, 'E26': 4, 'E260': 4, 'E261': 4, 'E268': 4, 'E269': 4, 'E27': 4, 'E270': 4, 'E271': 4, 'E272': 4, 'E273': 4, 'E274': 4, 'E275': 4, 'E278': 4, 'E279': 4, 'E28': 4, 'E280': 4, 'E281': 4, 'E282': 4, 'E283': 4, 'E288': 4, 'E289': 4, 'E29': 4, 'E290': 4, 'E291': 4, 'E298': 4, 'E299': 4, 'E30': 4, 'E300': 4, 'E301': 4, 'E308': 4, 'E309': 4, 'E31': 4, 'E310': 4, 'E311': 4, 'E318': 4, 'E319': 4, 'E32': 4, 'E320': 4, 'E321': 4, 'E328': 4, 'E329': 4, 'E34': 4, 'E340': 4, 'E341': 4, 'E342': 4, 'E343': 4, 'E344': 4, 'E345': 4, 'E3450': 4, 'E3451': 4, 'E3459': 4, 'E348': 4, 'E349': 4, 'E35': 4, 'E350': 4, 'E351': 4, 'E358': 4, 'E40': 4, 'E41': 4, 'E42': 4, 'E43': 4, 'E44': 4, 'E440': 4, 'E441': 4, 'E45': 4, 'E46': 4, 'E50': 4, 'E500': 4, 'E501': 4, 'E502': 4, 'E503': 4, 'E504': 4, 'E505': 4, 'E506': 4, 'E507': 4, 'E508': 4, 'E509': 4, 'E51': 4, 'E511': 4, 'E512': 4, 'E518': 4, 'E519': 4, 'E52': 4, 'E53': 4, 'E530': 4, 'E531': 4, 'E538': 4, 'E539': 4, 'E54': 4, 'E55': 4, 'E550': 4, 'E559': 4, 'E56': 4, 'E560': 4, 'E561': 4, 'E568': 4, 'E569': 4, 'E58': 4, 'E59': 4, 'E60': 4, 'E61': 4, 'E610': 4, 'E611': 4, 'E612': 4, 'E613': 4, 'E614': 4, 'E615': 4, 'E616': 4, 'E617': 4, 'E618': 4, 'E619': 4, 'E63': 4, 'E630': 4, 'E631': 4, 'E638': 4, 'E639': 4, 'E64': 4, 'E640': 4, 'E641': 4, 'E642': 4, 'E643': 4, 'E648': 4, 'E649': 4, 'E65': 4, 'E66': 4, 'E660': 4, 'E6600': 4, 'E6601': 4, 'E6602': 4, 'E6604': 4, 'E6605': 4, 'E6609': 4, 'E661': 4, 'E6610': 4, 'E6611': 4, 'E6612': 4, 'E6614': 4, 'E6615': 4, 'E6619': 4, 'E662': 4, 'E6620': 4, 'E6621': 4, 'E6622': 4, 'E6624': 4, 'E6625': 4, 'E6629': 4, 'E668': 4, 'E6680': 4, 'E6681': 4, 'E6682': 4, 'E6684': 4, 'E6685': 4, 'E6689': 4, 'E669': 4, 'E6690': 4, 'E6691': 4, 'E6692': 4, 'E6694': 4, 'E6695': 4, 'E6699': 4, 'E67': 4, 'E670': 4, 'E671': 4, 'E672': 4, 'E673': 4, 'E678': 4, 'E68': 4, 'E70': 4, 'E700': 4, 'E701': 4, 'E702': 4, 'E703': 4, 'E708': 4, 'E709': 4, 'E71': 4, 'E710': 4, 'E711': 4, 'E712': 4, 'E713': 4, 'E72': 4, 'E720': 4, 'E721': 4, 'E722': 4, 'E723': 4, 'E724': 4, 'E725': 4, 'E728': 4, 'E729': 4, 'E73': 4, 'E730': 4, 'E731': 4, 'E738': 4, 'E739': 4, 'E74': 4, 'E740': 4, 'E741': 4, 'E742': 4, 'E743': 4, 'E744': 4, 'E748': 4, 'E749': 4, 'E75': 4, 'E750': 4, 'E751': 4, 'E752': 4, 'E753': 4, 'E754': 4, 'E755': 4, 'E756': 4, 'E76': 4, 'E760': 4, 'E761': 4, 'E762': 4, 'E763': 4, 'E768': 4, 'E769': 4, 'E77': 4, 'E770': 4, 'E771': 4, 'E778': 4, 'E779': 4, 'E78': 4, 'E780': 4, 'E781': 4, 'E782': 4, 'E783': 4, 'E784': 4, 'E785': 4, 'E786': 4, 'E788': 4, 'E789': 4, 'E79': 4, 'E790': 4, 'E791': 4, 'E798': 4, 'E799': 4, 'E80': 4, 'E800': 4, 'E801': 4, 'E802': 4, 'E803': 4, 'E804': 4, 'E805': 4, 'E806': 4, 'E807': 4, 'E83': 4, 'E830': 4, 'E831': 4, 'E832': 4, 'E833': 4, 'E8330': 4, 'E8331': 4, 'E8338': 4, 'E8339': 4, 'E834': 4, 'E835': 4, 'E8350': 4, 'E8358': 4, 'E8359': 4, 'E838': 4, 'E839': 4, 'E84': 4, 'E840': 4, 'E841': 4, 'E848': 4, 'E8480': 4, 'E8487': 4, 'E8488': 4, 'E849': 4, 'E85': 4, 'E850': 4, 'E851': 4, 'E852': 4, 'E853': 4, 'E854': 4, 'E858': 4, 'E859': 4, 'E86': 4, 'E87': 4, 'E870': 4, 'E871': 4, 'E872': 4, 'E873': 4, 'E874': 4, 'E875': 4, 'E876': 4, 'E877': 4, 'E878': 4, 'E88': 4, 'E880': 4, 'E881': 4, 'E882': 4, 'E8820': 4, 'E8821': 4, 'E8822': 4, 'E8828': 4, 'E8829': 4, 'E883': 4, 'E888': 4, 'E889': 4, 'E89': 4, 'E890': 4, 'E891': 4, 'E892': 4, 'E893': 4, 'E894': 4, 'E895': 4, 'E896': 4, 'E898': 4, 'E899': 4, 'E90': 4, 'F00': 5, 'F000': 5, 'F001': 5, 'F002': 5, 'F009': 5, 'F01': 5, 'F010': 5, 'F011': 5, 'F012': 5, 'F013': 5, 'F018': 5, 'F019': 5, 'F02': 5, 'F020': 5, 'F021': 5, 'F022': 5, 'F023': 5, 'F024': 5, 'F028': 5, 'F03': 5, 'F04': 5, 'F05': 5, 'F050': 5, 'F051': 5, 'F058': 5, 'F059': 5, 'F06': 5, 'F060': 5, 'F061': 5, 'F062': 5, 'F063': 5, 'F064': 5, 'F065': 5, 'F066': 5, 'F067': 5, 'F068': 5, 'F069': 5, 'F07': 5, 'F070': 5, 'F071': 5, 'F072': 5, 'F078': 5, 'F079': 5, 'F09': 5, 'F10': 5, 'F100': 5, 'F101': 5, 'F102': 5, 'F103': 5, 'F104': 5, 'F105': 5, 'F106': 5, 'F107': 5, 'F108': 5, 'F109': 5, 'F11': 5, 'F110': 5, 'F111': 5, 'F112': 5, 'F113': 5, 'F114': 5, 'F115': 5, 'F116': 5, 'F117': 5, 'F118': 5, 'F119': 5, 'F12': 5, 'F120': 5, 'F121': 5, 'F122': 5, 'F123': 5, 'F124': 5, 'F125': 5, 'F126': 5, 'F127': 5, 'F128': 5, 'F129': 5, 'F13': 5, 'F130': 5, 'F131': 5, 'F132': 5, 'F133': 5, 'F134': 5, 'F135': 5, 'F136': 5, 'F137': 5, 'F138': 5, 'F139': 5, 'F14': 5, 'F140': 5, 'F141': 5, 'F142': 5, 'F143': 5, 'F144': 5, 'F145': 5, 'F146': 5, 'F147': 5, 'F148': 5, 'F149': 5, 'F15': 5, 'F150': 5, 'F151': 5, 'F152': 5, 'F153': 5, 'F154': 5, 'F155': 5, 'F156': 5, 'F157': 5, 'F158': 5, 'F159': 5, 'F16': 5, 'F160': 5, 'F161': 5, 'F162': 5, 'F163': 5, 'F164': 5, 'F165': 5, 'F166': 5, 'F167': 5, 'F168': 5, 'F169': 5, 'F17': 5, 'F170': 5, 'F171': 5, 'F172': 5, 'F173': 5, 'F174': 5, 'F175': 5, 'F176': 5, 'F177': 5, 'F178': 5, 'F179': 5, 'F18': 5, 'F180': 5, 'F181': 5, 'F182': 5, 'F183': 5, 'F184': 5, 'F185': 5, 'F186': 5, 'F187': 5, 'F188': 5, 'F189': 5, 'F19': 5, 'F190': 5, 'F191': 5, 'F192': 5, 'F193': 5, 'F194': 5, 'F195': 5, 'F196': 5, 'F197': 5, 'F198': 5, 'F199': 5, 'F20': 5, 'F200': 5, 'F201': 5, 'F202': 5, 'F203': 5, 'F204': 5, 'F205': 5, 'F206': 5, 'F208': 5, 'F209': 5, 'F21': 5, 'F22': 5, 'F220': 5, 'F228': 5, 'F229': 5, 'F23': 5, 'F230': 5, 'F231': 5, 'F232': 5, 'F233': 5, 'F238': 5, 'F239': 5, 'F24': 5, 'F25': 5, 'F250': 5, 'F251': 5, 'F252': 5, 'F258': 5, 'F259': 5, 'F28': 5, 'F29': 5, 'F30': 5, 'F300': 5, 'F301': 5, 'F302': 5, 'F308': 5, 'F309': 5, 'F31': 5, 'F310': 5, 'F311': 5, 'F312': 5, 'F313': 5, 'F314': 5, 'F315': 5, 'F316': 5, 'F317': 5, 'F318': 5, 'F319': 5, 'F32': 5, 'F320': 5, 'F321': 5, 'F322': 5, 'F323': 5, 'F328': 5, 'F329': 5, 'F33': 5, 'F330': 5, 'F331': 5, 'F332': 5, 'F333': 5, 'F334': 5, 'F338': 5, 'F339': 5, 'F34': 5, 'F340': 5, 'F341': 5, 'F348': 5, 'F349': 5, 'F38': 5, 'F380': 5, 'F381': 5, 'F388': 5, 'F39': 5, 'F40': 5, 'F400': 5, 'F4000': 5, 'F4001': 5, 'F401': 5, 'F402': 5, 'F408': 5, 'F409': 5, 'F41': 5, 'F410': 5, 'F411': 5, 'F412': 5, 'F413': 5, 'F418': 5, 'F419': 5, 'F42': 5, 'F420': 5, 'F421': 5, 'F422': 5, 'F428': 5, 'F429': 5, 'F43': 5, 'F430': 5, 'F431': 5, 'F432': 5, 'F438': 5, 'F439': 5, 'F44': 5, 'F440': 5, 'F441': 5, 'F442': 5, 'F443': 5, 'F444': 5, 'F445': 5, 'F446': 5, 'F447': 5, 'F448': 5, 'F4480': 5, 'F4481': 5, 'F4482': 5, 'F4488': 5, 'F449': 5, 'F45': 5, 'F450': 5, 'F451': 5, 'F452': 5, 'F453': 5, 'F4530': 5, 'F4531': 5, 'F4532': 5, 'F4533': 5, 'F4534': 5, 'F4537': 5, 'F4538': 5, 'F4539': 5, 'F454': 5, 'F4540': 5, 'F4541': 5, 'F458': 5, 'F459': 5, 'F48': 5, 'F480': 5, 'F481': 5, 'F488': 5, 'F489': 5, 'F50': 5, 'F500': 5, 'F5000': 5, 'F5001': 5, 'F5008': 5, 'F501': 5, 'F502': 5, 'F503': 5, 'F504': 5, 'F505': 5, 'F508': 5, 'F509': 5, 'F51': 5, 'F510': 5, 'F511': 5, 'F512': 5, 'F513': 5, 'F514': 5, 'F515': 5, 'F518': 5, 'F519': 5, 'F52': 5, 'F520': 5, 'F521': 5, 'F522': 5, 'F523': 5, 'F524': 5, 'F525': 5, 'F526': 5, 'F527': 5, 'F528': 5, 'F529': 5, 'F53': 5, 'F530': 5, 'F531': 5, 'F538': 5, 'F539': 5, 'F54': 5, 'F55': 5, 'F550': 5, 'F551': 5, 'F552': 5, 'F553': 5, 'F554': 5, 'F555': 5, 'F556': 5, 'F558': 5, 'F559': 5, 'F59': 5, 'F60': 5, 'F600': 5, 'F601': 5, 'F602': 5, 'F603': 5, 'F6030': 5, 'F6031': 5, 'F604': 5, 'F605': 5, 'F606': 5, 'F607': 5, 'F608': 5, 'F609': 5, 'F61': 5, 'F62': 5, 'F620': 5, 'F621': 5, 'F628': 5, 'F6280': 5, 'F6288': 5, 'F629': 5, 'F63': 5, 'F630': 5, 'F631': 5, 'F632': 5, 'F633': 5, 'F638': 5, 'F639': 5, 'F64': 5, 'F640': 5, 'F641': 5, 'F642': 5, 'F648': 5, 'F649': 5, 'F65': 5, 'F650': 5, 'F651': 5, 'F652': 5, 'F653': 5, 'F654': 5, 'F655': 5, 'F656': 5, 'F658': 5, 'F659': 5, 'F66': 5, 'F660': 5, 'F661': 5, 'F662': 5, 'F668': 5, 'F669': 5, 'F68': 5, 'F680': 5, 'F681': 5, 'F688': 5, 'F69': 5, 'F70': 5, 'F700': 5, 'F701': 5, 'F708': 5, 'F709': 5, 'F71': 5, 'F710': 5, 'F711': 5, 'F718': 5, 'F719': 5, 'F72': 5, 'F720': 5, 'F721': 5, 'F728': 5, 'F729': 5, 'F73': 5, 'F730': 5, 'F731': 5, 'F738': 5, 'F739': 5, 'F74': 5, 'F740': 5, 'F741': 5, 'F748': 5, 'F749': 5, 'F78': 5, 'F780': 5, 'F781': 5, 'F788': 5, 'F789': 5, 'F79': 5, 'F790': 5, 'F791': 5, 'F798': 5, 'F799': 5, 'F80': 5, 'F800': 5, 'F801': 5, 'F802': 5, 'F8020': 5, 'F8028': 5, 'F803': 5, 'F808': 5, 'F809': 5, 'F81': 5, 'F810': 5, 'F811': 5, 'F812': 5, 'F813': 5, 'F818': 5, 'F819': 5, 'F82': 5, 'F820': 5, 'F821': 5, 'F822': 5, 'F829': 5, 'F83': 5, 'F84': 5, 'F840': 5, 'F841': 5, 'F842': 5, 'F843': 5, 'F844': 5, 'F845': 5, 'F848': 5, 'F849': 5, 'F88': 5, 'F89': 5, 'F90': 5, 'F900': 5, 'F901': 5, 'F908': 5, 'F909': 5, 'F91': 5, 'F910': 5, 'F911': 5, 'F912': 5, 'F913': 5, 'F918': 5, 'F919': 5, 'F92': 5, 'F920': 5, 'F928': 5, 'F929': 5, 'F93': 5, 'F930': 5, 'F931': 5, 'F932': 5, 'F933': 5, 'F938': 5, 'F939': 5, 'F94': 5, 'F940': 5, 'F941': 5, 'F942': 5, 'F948': 5, 'F949': 5, 'F95': 5, 'F950': 5, 'F951': 5, 'F952': 5, 'F958': 5, 'F959': 5, 'F98': 5, 'F980': 5, 'F9800': 5, 'F9801': 5, 'F9802': 5, 'F9808': 5, 'F981': 5, 'F982': 5, 'F983': 5, 'F984': 5, 'F9840': 5, 'F9841': 5, 'F9849': 5, 'F985': 5, 'F986': 5, 'F988': 5, 'F9880': 5, 'F9888': 5, 'F989': 5, 'F99': 5, 'G00': 6, 'G000': 6, 'G001': 6, 'G002': 6, 'G003': 6, 'G008': 6, 'G009': 6, 'G01': 6, 'G02': 6, 'G020': 6, 'G021': 6, 'G028': 6, 'G03': 6, 'G030': 6, 'G031': 6, 'G032': 6, 'G038': 6, 'G039': 6, 'G04': 6, 'G040': 6, 'G041': 6, 'G042': 6, 'G048': 6, 'G049': 6, 'G05': 6, 'G050': 6, 'G051': 6, 'G052': 6, 'G058': 6, 'G06': 6, 'G060': 6, 'G061': 6, 'G062': 6, 'G07': 6, 'G08': 6, 'G09': 6, 'G10': 6, 'G11': 6, 'G110': 6, 'G111': 6, 'G112': 6, 'G113': 6, 'G114': 6, 'G118': 6, 'G119': 6, 'G12': 6, 'G120': 6, 'G121': 6, 'G122': 6, 'G128': 6, 'G129': 6, 'G13': 6, 'G130': 6, 'G131': 6, 'G132': 6, 'G138': 6, 'G14': 6, 'G20': 6, 'G200': 6, 'G2000': 6, 'G2001': 6, 'G201': 6, 'G2010': 6, 'G2011': 6, 'G202': 6, 'G2020': 6, 'G2021': 6, 'G209': 6, 'G2090': 6, 'G2091': 6, 'G21': 6, 'G210': 6, 'G211': 6, 'G212': 6, 'G213': 6, 'G214': 6, 'G218': 6, 'G219': 6, 'G22': 6, 'G23': 6, 'G230': 6, 'G231': 6, 'G232': 6, 'G233': 6, 'G238': 6, 'G239': 6, 'G24': 6, 'G240': 6, 'G241': 6, 'G242': 6, 'G243': 6, 'G244': 6, 'G245': 6, 'G248': 6, 'G249': 6, 'G25': 6, 'G250': 6, 'G251': 6, 'G252': 6, 'G253': 6, 'G254': 6, 'G255': 6, 'G256': 6, 'G258': 6, 'G2580': 6, 'G2581': 6, 'G2588': 6, 'G259': 6, 'G26': 6, 'G30': 6, 'G300': 6, 'G301': 6, 'G308': 6, 'G309': 6, 'G31': 6, 'G310': 6, 'G311': 6, 'G312': 6, 'G318': 6, 'G3181': 6, 'G3182': 6, 'G3188': 6, 'G319': 6, 'G32': 6, 'G320': 6, 'G328': 6, 'G35': 6, 'G350': 6, 'G351': 6, 'G3510': 6, 'G3511': 6, 'G352': 6, 'G3520': 6, 'G3521': 6, 'G353': 6, 'G3530': 6, 'G3531': 6, 'G359': 6, 'G36': 6, 'G360': 6, 'G361': 6, 'G368': 6, 'G369': 6, 'G37': 6, 'G370': 6, 'G371': 6, 'G372': 6, 'G373': 6, 'G374': 6, 'G375': 6, 'G378': 6, 'G379': 6, 'G40': 6, 'G400': 6, 'G4000': 6, 'G4001': 6, 'G4002': 6, 'G4008': 6, 'G4009': 6, 'G401': 6, 'G402': 6, 'G403': 6, 'G404': 6, 'G405': 6, 'G406': 6, 'G407': 6, 'G408': 6, 'G409': 6, 'G41': 6, 'G410': 6, 'G411': 6, 'G412': 6, 'G418': 6, 'G419': 6, 'G43': 6, 'G430': 6, 'G431': 6, 'G432': 6, 'G433': 6, 'G438': 6, 'G439': 6, 'G44': 6, 'G440': 6, 'G441': 6, 'G442': 6, 'G443': 6, 'G444': 6, 'G448': 6, 'G45': 6, 'G450': 6, 'G4502': 6, 'G4503': 6, 'G4509': 6, 'G451': 6, 'G4512': 6, 'G4513': 6, 'G4519': 6, 'G452': 6, 'G4522': 6, 'G4523': 6, 'G4529': 6, 'G453': 6, 'G4532': 6, 'G4533': 6, 'G4539': 6, 'G454': 6, 'G4542': 6, 'G4543': 6, 'G4549': 6, 'G458': 6, 'G4582': 6, 'G4583': 6, 'G4589': 6, 'G459': 6, 'G4592': 6, 'G4593': 6, 'G4599': 6, 'G46': 6, 'G460': 6, 'G461': 6, 'G462': 6, 'G463': 6, 'G464': 6, 'G465': 6, 'G466': 6, 'G467': 6, 'G468': 6, 'G47': 6, 'G470': 6, 'G471': 6, 'G472': 6, 'G473': 6, 'G4730': 6, 'G4731': 6, 'G4732': 6, 'G4738': 6, 'G4739': 6, 'G474': 6, 'G478': 6, 'G479': 6, 'G50': 6, 'G500': 6, 'G501': 6, 'G508': 6, 'G509': 6, 'G51': 6, 'G510': 6, 'G511': 6, 'G512': 6, 'G513': 6, 'G514': 6, 'G518': 6, 'G519': 6, 'G52': 6, 'G520': 6, 'G521': 6, 'G522': 6, 'G523': 6, 'G527': 6, 'G528': 6, 'G529': 6, 'G53': 6, 'G530': 6, 'G531': 6, 'G532': 6, 'G533': 6, 'G538': 6, 'G54': 6, 'G540': 6, 'G541': 6, 'G542': 6, 'G543': 6, 'G544': 6, 'G545': 6, 'G546': 6, 'G547': 6, 'G548': 6, 'G549': 6, 'G55': 6, 'G550': 6, 'G551': 6, 'G552': 6, 'G553': 6, 'G558': 6, 'G56': 6, 'G560': 6, 'G561': 6, 'G562': 6, 'G563': 6, 'G568': 6, 'G569': 6, 'G57': 6, 'G570': 6, 'G571': 6, 'G572': 6, 'G573': 6, 'G574': 6, 'G575': 6, 'G576': 6, 'G578': 6, 'G579': 6, 'G58': 6, 'G580': 6, 'G587': 6, 'G588': 6, 'G589': 6, 'G59': 6, 'G590': 6, 'G598': 6, 'G60': 6, 'G600': 6, 'G601': 6, 'G602': 6, 'G603': 6, 'G608': 6, 'G609': 6, 'G61': 6, 'G610': 6, 'G611': 6, 'G618': 6, 'G619': 6, 'G62': 6, 'G620': 6, 'G621': 6, 'G622': 6, 'G628': 6, 'G6280': 6, 'G6288': 6, 'G629': 6, 'G63': 6, 'G630': 6, 'G631': 6, 'G632': 6, 'G633': 6, 'G634': 6, 'G635': 6, 'G636': 6, 'G638': 6, 'G64': 6, 'G70': 6, 'G700': 6, 'G701': 6, 'G702': 6, 'G708': 6, 'G709': 6, 'G71': 6, 'G710': 6, 'G711': 6, 'G712': 6, 'G713': 6, 'G718': 6, 'G719': 6, 'G72': 6, 'G720': 6, 'G721': 6, 'G722': 6, 'G723': 6, 'G724': 6, 'G728': 6, 'G7280': 6, 'G7288': 6, 'G729': 6, 'G73': 6, 'G730': 6, 'G731': 6, 'G732': 6, 'G733': 6, 'G734': 6, 'G735': 6, 'G736': 6, 'G737': 6, 'G80': 6, 'G800': 6, 'G801': 6, 'G802': 6, 'G803': 6, 'G804': 6, 'G808': 6, 'G809': 6, 'G81': 6, 'G810': 6, 'G811': 6, 'G819': 6, 'G82': 6, 'G820': 6, 'G8200': 6, 'G8201': 6, 'G8202': 6, 'G8203': 6, 'G8209': 6, 'G821': 6, 'G8210': 6, 'G8211': 6, 'G8212': 6, 'G8213': 6, 'G8219': 6, 'G822': 6, 'G8220': 6, 'G8221': 6, 'G8222': 6, 'G8223': 6, 'G8229': 6, 'G823': 6, 'G8230': 6, 'G8231': 6, 'G8232': 6, 'G8233': 6, 'G8239': 6, 'G824': 6, 'G8240': 6, 'G8241': 6, 'G8242': 6, 'G8243': 6, 'G8249': 6, 'G825': 6, 'G8250': 6, 'G8251': 6, 'G8252': 6, 'G8253': 6, 'G8259': 6, 'G826': 6, 'G8260': 6, 'G8261': 6, 'G8262': 6, 'G8263': 6, 'G8264': 6, 'G8265': 6, 'G8266': 6, 'G8267': 6, 'G8269': 6, 'G83': 6, 'G830': 6, 'G831': 6, 'G832': 6, 'G833': 6, 'G834': 6, 'G8340': 6, 'G8341': 6, 'G8349': 6, 'G835': 6, 'G836': 6, 'G838': 6, 'G839': 6, 'G90': 6, 'G900': 6, 'G9000': 6, 'G9008': 6, 'G9009': 6, 'G901': 6, 'G902': 6, 'G904': 6, 'G9040': 6, 'G9041': 6, 'G9048': 6, 'G9049': 6, 'G905': 6, 'G9050': 6, 'G9051': 6, 'G9059': 6, 'G906': 6, 'G9060': 6, 'G9061': 6, 'G9069': 6, 'G907': 6, 'G9070': 6, 'G9071': 6, 'G9079': 6, 'G908': 6, 'G909': 6, 'G91': 6, 'G910': 6, 'G911': 6, 'G912': 6, 'G9120': 6, 'G9121': 6, 'G9129': 6, 'G913': 6, 'G918': 6, 'G919': 6, 'G92': 6, 'G93': 6, 'G930': 6, 'G931': 6, 'G932': 6, 'G933': 6, 'G934': 6, 'G935': 6, 'G936': 6, 'G937': 6, 'G938': 6, 'G9380': 6, 'G9388': 6, 'G939': 6, 'G94': 6, 'G940': 6, 'G941': 6, 'G942': 6, 'G943': 6, 'G948': 6, 'G95': 6, 'G950': 6, 'G951': 6, 'G9510': 6, 'G9518': 6, 'G952': 6, 'G958': 6, 'G9580': 6, 'G9581': 6, 'G9582': 6, 'G9583': 6, 'G9584': 6, 'G9585': 6, 'G9588': 6, 'G959': 6, 'G96': 6, 'G960': 6, 'G961': 6, 'G968': 6, 'G969': 6, 'G97': 6, 'G970': 6, 'G971': 6, 'G972': 6, 'G978': 6, 'G9780': 6, 'G9781': 6, 'G9782': 6, 'G9783': 6, 'G9784': 6, 'G9788': 6, 'G979': 6, 'G98': 6, 'G99': 6, 'G990': 6, 'G991': 6, 'G992': 6, 'G998': 6, 'H00': 7, 'H000': 7, 'H001': 7, 'H01': 7, 'H010': 7, 'H011': 7, 'H018': 7, 'H019': 7, 'H02': 7, 'H020': 7, 'H021': 7, 'H022': 7, 'H023': 7, 'H024': 7, 'H025': 7, 'H026': 7, 'H027': 7, 'H028': 7, 'H029': 7, 'H03': 7, 'H030': 7, 'H031': 7, 'H038': 7, 'H04': 7, 'H040': 7, 'H041': 7, 'H042': 7, 'H043': 7, 'H044': 7, 'H045': 7, 'H046': 7, 'H048': 7, 'H049': 7, 'H05': 7, 'H050': 7, 'H051': 7, 'H052': 7, 'H053': 7, 'H054': 7, 'H055': 7, 'H058': 7, 'H059': 7, 'H06': 7, 'H060': 7, 'H061': 7, 'H062': 7, 'H063': 7, 'H10': 7, 'H100': 7, 'H101': 7, 'H102': 7, 'H103': 7, 'H104': 7, 'H105': 7, 'H108': 7, 'H109': 7, 'H11': 7, 'H110': 7, 'H111': 7, 'H112': 7, 'H113': 7, 'H114': 7, 'H118': 7, 'H119': 7, 'H13': 7, 'H130': 7, 'H131': 7, 'H132': 7, 'H133': 7, 'H138': 7, 'H15': 7, 'H150': 7, 'H151': 7, 'H158': 7, 'H159': 7, 'H16': 7, 'H160': 7, 'H161': 7, 'H162': 7, 'H163': 7, 'H164': 7, 'H168': 7, 'H169': 7, 'H17': 7, 'H170': 7, 'H171': 7, 'H178': 7, 'H179': 7, 'H18': 7, 'H180': 7, 'H181': 7, 'H182': 7, 'H183': 7, 'H184': 7, 'H185': 7, 'H186': 7, 'H187': 7, 'H188': 7, 'H189': 7, 'H19': 7, 'H190': 7, 'H191': 7, 'H192': 7, 'H193': 7, 'H198': 7, 'H20': 7, 'H200': 7, 'H201': 7, 'H202': 7, 'H208': 7, 'H209': 7, 'H21': 7, 'H210': 7, 'H211': 7, 'H212': 7, 'H213': 7, 'H214': 7, 'H215': 7, 'H218': 7, 'H219': 7, 'H22': 7, 'H220': 7, 'H221': 7, 'H228': 7, 'H25': 7, 'H250': 7, 'H251': 7, 'H252': 7, 'H258': 7, 'H259': 7, 'H26': 7, 'H260': 7, 'H261': 7, 'H262': 7, 'H263': 7, 'H264': 7, 'H268': 7, 'H269': 7, 'H27': 7, 'H270': 7, 'H271': 7, 'H278': 7, 'H279': 7, 'H28': 7, 'H280': 7, 'H281': 7, 'H282': 7, 'H288': 7, 'H30': 7, 'H300': 7, 'H301': 7, 'H302': 7, 'H308': 7, 'H309': 7, 'H31': 7, 'H310': 7, 'H311': 7, 'H312': 7, 'H313': 7, 'H314': 7, 'H318': 7, 'H319': 7, 'H32': 7, 'H320': 7, 'H328': 7, 'H33': 7, 'H330': 7, 'H331': 7, 'H332': 7, 'H333': 7, 'H334': 7, 'H335': 7, 'H34': 7, 'H340': 7, 'H341': 7, 'H342': 7, 'H348': 7, 'H349': 7, 'H35': 7, 'H350': 7, 'H351': 7, 'H352': 7, 'H353': 7, 'H354': 7, 'H355': 7, 'H356': 7, 'H357': 7, 'H358': 7, 'H359': 7, 'H36': 7, 'H360': 7, 'H368': 7, 'H40': 7, 'H400': 7, 'H401': 7, 'H402': 7, 'H403': 7, 'H404': 7, 'H405': 7, 'H406': 7, 'H408': 7, 'H409': 7, 'H42': 7, 'H420': 7, 'H428': 7, 'H43': 7, 'H430': 7, 'H431': 7, 'H432': 7, 'H433': 7, 'H438': 7, 'H439': 7, 'H44': 7, 'H440': 7, 'H441': 7, 'H442': 7, 'H443': 7, 'H444': 7, 'H445': 7, 'H446': 7, 'H447': 7, 'H448': 7, 'H449': 7, 'H45': 7, 'H450': 7, 'H451': 7, 'H458': 7, 'H46': 7, 'H47': 7, 'H470': 7, 'H471': 7, 'H472': 7, 'H473': 7, 'H474': 7, 'H475': 7, 'H476': 7, 'H477': 7, 'H48': 7, 'H480': 7, 'H481': 7, 'H488': 7, 'H49': 7, 'H490': 7, 'H491': 7, 'H492': 7, 'H493': 7, 'H494': 7, 'H498': 7, 'H499': 7, 'H50': 7, 'H500': 7, 'H501': 7, 'H502': 7, 'H503': 7, 'H504': 7, 'H505': 7, 'H506': 7, 'H508': 7, 'H509': 7, 'H51': 7, 'H510': 7, 'H511': 7, 'H512': 7, 'H518': 7, 'H519': 7, 'H52': 7, 'H520': 7, 'H521': 7, 'H522': 7, 'H523': 7, 'H524': 7, 'H525': 7, 'H526': 7, 'H527': 7, 'H53': 7, 'H530': 7, 'H531': 7, 'H532': 7, 'H533': 7, 'H534': 7, 'H535': 7, 'H536': 7, 'H538': 7, 'H539': 7, 'H54': 7, 'H540': 7, 'H541': 7, 'H542': 7, 'H543': 7, 'H544': 7, 'H545': 7, 'H546': 7, 'H549': 7, 'H55': 7, 'H57': 7, 'H570': 7, 'H571': 7, 'H578': 7, 'H579': 7, 'H58': 7, 'H580': 7, 'H581': 7, 'H582': 7, 'H5821': 7, 'H5822': 7, 'H5823': 7, 'H588': 7, 'H59': 7, 'H590': 7, 'H598': 7, 'H599': 7, 'H60': 8, 'H600': 8, 'H601': 8, 'H602': 8, 'H603': 8, 'H604': 8, 'H605': 8, 'H608': 8, 'H609': 8, 'H61': 8, 'H610': 8, 'H611': 8, 'H612': 8, 'H613': 8, 'H618': 8, 'H619': 8, 'H62': 8, 'H620': 8, 'H621': 8, 'H622': 8, 'H623': 8, 'H624': 8, 'H628': 8, 'H65': 8, 'H650': 8, 'H651': 8, 'H652': 8, 'H653': 8, 'H654': 8, 'H659': 8, 'H66': 8, 'H660': 8, 'H661': 8, 'H662': 8, 'H663': 8, 'H664': 8, 'H669': 8, 'H67': 8, 'H670': 8, 'H671': 8, 'H678': 8, 'H68': 8, 'H680': 8, 'H681': 8, 'H69': 8, 'H690': 8, 'H698': 8, 'H699': 8, 'H70': 8, 'H700': 8, 'H701': 8, 'H702': 8, 'H708': 8, 'H709': 8, 'H71': 8, 'H72': 8, 'H720': 8, 'H721': 8, 'H722': 8, 'H728': 8, 'H729': 8, 'H73': 8, 'H730': 8, 'H731': 8, 'H738': 8, 'H739': 8, 'H74': 8, 'H740': 8, 'H741': 8, 'H742': 8, 'H743': 8, 'H744': 8, 'H748': 8, 'H749': 8, 'H75': 8, 'H750': 8, 'H758': 8, 'H80': 8, 'H800': 8, 'H801': 8, 'H802': 8, 'H808': 8, 'H809': 8, 'H81': 8, 'H810': 8, 'H811': 8, 'H812': 8, 'H813': 8, 'H814': 8, 'H818': 8, 'H819': 8, 'H82': 8, 'H83': 8, 'H830': 8, 'H831': 8, 'H832': 8, 'H833': 8, 'H838': 8, 'H839': 8, 'H90': 8, 'H900': 8, 'H901': 8, 'H902': 8, 'H903': 8, 'H904': 8, 'H905': 8, 'H906': 8, 'H907': 8, 'H908': 8, 'H91': 8, 'H910': 8, 'H911': 8, 'H912': 8, 'H913': 8, 'H918': 8, 'H919': 8, 'H92': 8, 'H920': 8, 'H921': 8, 'H922': 8, 'H93': 8, 'H930': 8, 'H931': 8, 'H932': 8, 'H933': 8, 'H938': 8, 'H939': 8, 'H94': 8, 'H940': 8, 'H948': 8, 'H95': 8, 'H950': 8, 'H951': 8, 'H958': 8, 'H959': 8, 'I00': 9, 'I01': 9, 'I010': 9, 'I011': 9, 'I012': 9, 'I018': 9, 'I019': 9, 'I02': 9, 'I020': 9, 'I029': 9, 'I05': 9, 'I050': 9, 'I051': 9, 'I052': 9, 'I058': 9, 'I059': 9, 'I06': 9, 'I060': 9, 'I061': 9, 'I062': 9, 'I068': 9, 'I069': 9, 'I07': 9, 'I070': 9, 'I071': 9, 'I072': 9, 'I078': 9, 'I079': 9, 'I08': 9, 'I080': 9, 'I081': 9, 'I082': 9, 'I083': 9, 'I088': 9, 'I089': 9, 'I09': 9, 'I090': 9, 'I091': 9, 'I092': 9, 'I098': 9, 'I099': 9, 'I10': 9, 'I100': 9, 'I1000': 9, 'I1001': 9, 'I101': 9, 'I1010': 9, 'I1011': 9, 'I109': 9, 'I1090': 9, 'I1091': 9, 'I11': 9, 'I110': 9, 'I1100': 9, 'I1101': 9, 'I119': 9, 'I1190': 9, 'I1191': 9, 'I12': 9, 'I120': 9, 'I1200': 9, 'I1201': 9, 'I129': 9, 'I1290': 9, 'I1291': 9, 'I13': 9, 'I130': 9, 'I1300': 9, 'I1301': 9, 'I131': 9, 'I1310': 9, 'I1311': 9, 'I132': 9, 'I1320': 9, 'I1321': 9, 'I139': 9, 'I1390': 9, 'I1391': 9, 'I15': 9, 'I150': 9, 'I1500': 9, 'I1501': 9, 'I151': 9, 'I1510': 9, 'I1511': 9, 'I152': 9, 'I1520': 9, 'I1521': 9, 'I158': 9, 'I1580': 9, 'I1581': 9, 'I159': 9, 'I1590': 9, 'I1591': 9, 'I20': 9, 'I200': 9, 'I201': 9, 'I208': 9, 'I209': 9, 'I21': 9, 'I210': 9, 'I211': 9, 'I212': 9, 'I213': 9, 'I214': 9, 'I219': 9, 'I22': 9, 'I220': 9, 'I221': 9, 'I228': 9, 'I229': 9, 'I23': 9, 'I230': 9, 'I231': 9, 'I232': 9, 'I233': 9, 'I234': 9, 'I235': 9, 'I236': 9, 'I238': 9, 'I24': 9, 'I240': 9, 'I241': 9, 'I248': 9, 'I249': 9, 'I25': 9, 'I250': 9, 'I251': 9, 'I2510': 9, 'I2511': 9, 'I2512': 9, 'I2513': 9, 'I2514': 9, 'I2515': 9, 'I2516': 9, 'I2519': 9, 'I252': 9, 'I2520': 9, 'I2521': 9, 'I2522': 9, 'I2529': 9, 'I253': 9, 'I254': 9, 'I255': 9, 'I256': 9, 'I258': 9, 'I259': 9, 'I26': 9, 'I260': 9, 'I269': 9, 'I27': 9, 'I270': 9, 'I271': 9, 'I272': 9, 'I2720': 9, 'I2728': 9, 'I278': 9, 'I279': 9, 'I28': 9, 'I280': 9, 'I281': 9, 'I288': 9, 'I289': 9, 'I30': 9, 'I300': 9, 'I301': 9, 'I308': 9, 'I309': 9, 'I31': 9, 'I310': 9, 'I311': 9, 'I312': 9, 'I313': 9, 'I318': 9, 'I319': 9, 'I32': 9, 'I320': 9, 'I321': 9, 'I328': 9, 'I33': 9, 'I330': 9, 'I339': 9, 'I34': 9, 'I340': 9, 'I341': 9, 'I342': 9, 'I348': 9, 'I3480': 9, 'I3488': 9, 'I349': 9, 'I35': 9, 'I350': 9, 'I351': 9, 'I352': 9, 'I358': 9, 'I359': 9, 'I36': 9, 'I360': 9, 'I361': 9, 'I362': 9, 'I368': 9, 'I369': 9, 'I37': 9, 'I370': 9, 'I371': 9, 'I372': 9, 'I378': 9, 'I379': 9, 'I38': 9, 'I39': 9, 'I390': 9, 'I391': 9, 'I392': 9, 'I393': 9, 'I394': 9, 'I398': 9, 'I40': 9, 'I400': 9, 'I401': 9, 'I408': 9, 'I409': 9, 'I41': 9, 'I410': 9, 'I411': 9, 'I412': 9, 'I418': 9, 'I42': 9, 'I420': 9, 'I421': 9, 'I422': 9, 'I423': 9, 'I424': 9, 'I425': 9, 'I426': 9, 'I427': 9, 'I428': 9, 'I4280': 9, 'I4288': 9, 'I429': 9, 'I43': 9, 'I430': 9, 'I431': 9, 'I432': 9, 'I438': 9, 'I44': 9, 'I440': 9, 'I441': 9, 'I442': 9, 'I443': 9, 'I444': 9, 'I445': 9, 'I446': 9, 'I447': 9, 'I45': 9, 'I450': 9, 'I451': 9, 'I452': 9, 'I453': 9, 'I454': 9, 'I455': 9, 'I456': 9, 'I458': 9, 'I459': 9, 'I46': 9, 'I460': 9, 'I461': 9, 'I469': 9, 'I47': 9, 'I470': 9, 'I471': 9, 'I472': 9, 'I479': 9, 'I48': 9, 'I480': 9, 'I481': 9, 'I482': 9, 'I483': 9, 'I484': 9, 'I489': 9, 'I49': 9, 'I490': 9, 'I491': 9, 'I492': 9, 'I493': 9, 'I494': 9, 'I495': 9, 'I498': 9, 'I499': 9, 'I50': 9, 'I500': 9, 'I5000': 9, 'I5001': 9, 'I5002': 9, 'I5003': 9, 'I5004': 9, 'I5005': 9, 'I501': 9, 'I5011': 9, 'I5012': 9, 'I5013': 9, 'I5014': 9, 'I5019': 9, 'I509': 9, 'I51': 9, 'I510': 9, 'I511': 9, 'I512': 9, 'I513': 9, 'I514': 9, 'I515': 9, 'I516': 9, 'I517': 9, 'I518': 9, 'I519': 9, 'I52': 9, 'I520': 9, 'I521': 9, 'I528': 9, 'I60': 9, 'I600': 9, 'I601': 9, 'I602': 9, 'I603': 9, 'I604': 9, 'I605': 9, 'I606': 9, 'I607': 9, 'I608': 9, 'I609': 9, 'I61': 9, 'I610': 9, 'I611': 9, 'I612': 9, 'I613': 9, 'I614': 9, 'I615': 9, 'I616': 9, 'I618': 9, 'I619': 9, 'I62': 9, 'I620': 9, 'I6200': 9, 'I6201': 9, 'I6202': 9, 'I6209': 9, 'I621': 9, 'I629': 9, 'I63': 9, 'I630': 9, 'I631': 9, 'I632': 9, 'I633': 9, 'I634': 9, 'I635': 9, 'I636': 9, 'I638': 9, 'I639': 9, 'I64': 9, 'I65': 9, 'I650': 9, 'I651': 9, 'I652': 9, 'I653': 9, 'I658': 9, 'I659': 9, 'I66': 9, 'I660': 9, 'I661': 9, 'I662': 9, 'I663': 9, 'I664': 9, 'I668': 9, 'I669': 9, 'I67': 9, 'I670': 9, 'I671': 9, 'I6710': 9, 'I6711': 9, 'I672': 9, 'I673': 9, 'I674': 9, 'I675': 9, 'I676': 9, 'I677': 9, 'I678': 9, 'I6780': 9, 'I6788': 9, 'I679': 9, 'I68': 9, 'I680': 9, 'I681': 9, 'I682': 9, 'I688': 9, 'I69': 9, 'I690': 9, 'I691': 9, 'I692': 9, 'I693': 9, 'I694': 9, 'I698': 9, 'I70': 9, 'I700': 9, 'I701': 9, 'I702': 9, 'I7020': 9, 'I7021': 9, 'I7022': 9, 'I7023': 9, 'I7024': 9, 'I7025': 9, 'I7026': 9, 'I7029': 9, 'I708': 9, 'I709': 9, 'I71': 9, 'I710': 9, 'I7100': 9, 'I7101': 9, 'I7102': 9, 'I7103': 9, 'I7104': 9, 'I7105': 9, 'I7106': 9, 'I7107': 9, 'I711': 9, 'I712': 9, 'I713': 9, 'I714': 9, 'I715': 9, 'I716': 9, 'I718': 9, 'I719': 9, 'I72': 9, 'I720': 9, 'I721': 9, 'I722': 9, 'I723': 9, 'I724': 9, 'I725': 9, 'I726': 9, 'I728': 9, 'I729': 9, 'I73': 9, 'I730': 9, 'I731': 9, 'I738': 9, 'I739': 9, 'I74': 9, 'I740': 9, 'I741': 9, 'I742': 9, 'I743': 9, 'I744': 9, 'I745': 9, 'I748': 9, 'I749': 9, 'I77': 9, 'I770': 9, 'I771': 9, 'I772': 9, 'I773': 9, 'I774': 9, 'I775': 9, 'I776': 9, 'I778': 9, 'I779': 9, 'I78': 9, 'I780': 9, 'I781': 9, 'I788': 9, 'I789': 9, 'I79': 9, 'I790': 9, 'I791': 9, 'I792': 9, 'I798': 9, 'I80': 9, 'I800': 9, 'I801': 9, 'I802': 9, 'I8020': 9, 'I8028': 9, 'I803': 9, 'I808': 9, 'I8080': 9, 'I8081': 9, 'I8088': 9, 'I809': 9, 'I81': 9, 'I82': 9, 'I820': 9, 'I821': 9, 'I822': 9, 'I823': 9, 'I828': 9, 'I8280': 9, 'I8281': 9, 'I8288': 9, 'I829': 9, 'I83': 9, 'I830': 9, 'I831': 9, 'I832': 9, 'I839': 9, 'I85': 9, 'I850': 9, 'I859': 9, 'I86': 9, 'I860': 9, 'I861': 9, 'I862': 9, 'I863': 9, 'I864': 9, 'I868': 9, 'I8680': 9, 'I8681': 9, 'I8682': 9, 'I8688': 9, 'I87': 9, 'I870': 9, 'I8700': 9, 'I8701': 9, 'I871': 9, 'I872': 9, 'I8720': 9, 'I8721': 9, 'I878': 9, 'I879': 9, 'I88': 9, 'I880': 9, 'I881': 9, 'I888': 9, 'I889': 9, 'I89': 9, 'I890': 9, 'I8900': 9, 'I8901': 9, 'I8902': 9, 'I8903': 9, 'I8904': 9, 'I8905': 9, 'I8908': 9, 'I8909': 9, 'I891': 9, 'I898': 9, 'I899': 9, 'I95': 9, 'I950': 9, 'I951': 9, 'I952': 9, 'I958': 9, 'I959': 9, 'I97': 9, 'I970': 9, 'I971': 9, 'I972': 9, 'I9720': 9, 'I9721': 9, 'I9722': 9, 'I9729': 9, 'I978': 9, 'I9780': 9, 'I9781': 9, 'I9782': 9, 'I9783': 9, 'I9784': 9, 'I9785': 9, 'I9786': 9, 'I9787': 9, 'I9788': 9, 'I9789': 9, 'I979': 9, 'I98': 9, 'I980': 9, 'I981': 9, 'I982': 9, 'I983': 9, 'I988': 9, 'I99': 9, 'J00': 10, 'J01': 10, 'J010': 10, 'J011': 10, 'J012': 10, 'J013': 10, 'J014': 10, 'J018': 10, 'J019': 10, 'J02': 10, 'J020': 10, 'J028': 10, 'J029': 10, 'J03': 10, 'J030': 10, 'J038': 10, 'J039': 10, 'J04': 10, 'J040': 10, 'J041': 10, 'J042': 10, 'J05': 10, 'J050': 10, 'J051': 10, 'J06': 10, 'J060': 10, 'J068': 10, 'J069': 10, 'J09': 10, 'J10': 10, 'J100': 10, 'J101': 10, 'J108': 10, 'J11': 10, 'J110': 10, 'J111': 10, 'J118': 10, 'J12': 10, 'J120': 10, 'J121': 10, 'J122': 10, 'J123': 10, 'J128': 10, 'J129': 10, 'J13': 10, 'J14': 10, 'J15': 10, 'J150': 10, 'J151': 10, 'J152': 10, 'J153': 10, 'J154': 10, 'J155': 10, 'J156': 10, 'J157': 10, 'J158': 10, 'J159': 10, 'J16': 10, 'J160': 10, 'J168': 10, 'J17': 10, 'J170': 10, 'J171': 10, 'J172': 10, 'J173': 10, 'J178': 10, 'J18': 10, 'J180': 10, 'J181': 10, 'J182': 10, 'J188': 10, 'J189': 10, 'J20': 10, 'J200': 10, 'J201': 10, 'J202': 10, 'J203': 10, 'J204': 10, 'J205': 10, 'J206': 10, 'J207': 10, 'J208': 10, 'J209': 10, 'J21': 10, 'J210': 10, 'J211': 10, 'J218': 10, 'J219': 10, 'J22': 10, 'J30': 10, 'J300': 10, 'J301': 10, 'J302': 10, 'J303': 10, 'J304': 10, 'J31': 10, 'J310': 10, 'J311': 10, 'J312': 10, 'J32': 10, 'J320': 10, 'J321': 10, 'J322': 10, 'J323': 10, 'J324': 10, 'J328': 10, 'J329': 10, 'J33': 10, 'J330': 10, 'J331': 10, 'J338': 10, 'J339': 10, 'J34': 10, 'J340': 10, 'J341': 10, 'J342': 10, 'J343': 10, 'J348': 10, 'J35': 10, 'J350': 10, 'J351': 10, 'J352': 10, 'J353': 10, 'J358': 10, 'J359': 10, 'J36': 10, 'J37': 10, 'J370': 10, 'J371': 10, 'J38': 10, 'J380': 10, 'J3800': 10, 'J3801': 10, 'J3802': 10, 'J3803': 10, 'J381': 10, 'J382': 10, 'J383': 10, 'J384': 10, 'J385': 10, 'J386': 10, 'J387': 10, 'J39': 10, 'J390': 10, 'J391': 10, 'J392': 10, 'J393': 10, 'J398': 10, 'J3980': 10, 'J3988': 10, 'J399': 10, 'J40': 10, 'J41': 10, 'J410': 10, 'J411': 10, 'J418': 10, 'J42': 10, 'J43': 10, 'J430': 10, 'J431': 10, 'J432': 10, 'J438': 10, 'J439': 10, 'J44': 10, 'J440': 10, 'J4400': 10, 'J4401': 10, 'J4402': 10, 'J4403': 10, 'J4409': 10, 'J441': 10, 'J4410': 10, 'J4411': 10, 'J4412': 10, 'J4413': 10, 'J4419': 10, 'J448': 10, 'J4480': 10, 'J4481': 10, 'J4482': 10, 'J4483': 10, 'J4489': 10, 'J449': 10, 'J4490': 10, 'J4491': 10, 'J4492': 10, 'J4493': 10, 'J4499': 10, 'J45': 10, 'J450': 10, 'J451': 10, 'J458': 10, 'J459': 10, 'J46': 10, 'J47': 10, 'J60': 10, 'J61': 10, 'J62': 10, 'J620': 10, 'J628': 10, 'J63': 10, 'J630': 10, 'J631': 10, 'J632': 10, 'J633': 10, 'J634': 10, 'J635': 10, 'J638': 10, 'J64': 10, 'J65': 10, 'J66': 10, 'J660': 10, 'J661': 10, 'J662': 10, 'J668': 10, 'J67': 10, 'J670': 10, 'J671': 10, 'J672': 10, 'J673': 10, 'J674': 10, 'J675': 10, 'J676': 10, 'J677': 10, 'J678': 10, 'J679': 10, 'J68': 10, 'J680': 10, 'J681': 10, 'J682': 10, 'J683': 10, 'J684': 10, 'J688': 10, 'J689': 10, 'J69': 10, 'J690': 10, 'J691': 10, 'J698': 10, 'J70': 10, 'J700': 10, 'J701': 10, 'J702': 10, 'J703': 10, 'J704': 10, 'J708': 10, 'J709': 10, 'J80': 10, 'J800': 10, 'J8001': 10, 'J8002': 10, 'J8003': 10, 'J8009': 10, 'J81': 10, 'J82': 10, 'J84': 10, 'J840': 10, 'J841': 10, 'J848': 10, 'J849': 10, 'J85': 10, 'J850': 10, 'J851': 10, 'J852': 10, 'J853': 10, 'J86': 10, 'J860': 10, 'J869': 10, 'J90': 10, 'J91': 10, 'J92': 10, 'J920': 10, 'J929': 10, 'J93': 10, 'J930': 10, 'J931': 10, 'J938': 10, 'J939': 10, 'J94': 10, 'J940': 10, 'J941': 10, 'J942': 10, 'J948': 10, 'J949': 10, 'J95': 10, 'J950': 10, 'J951': 10, 'J952': 10, 'J953': 10, 'J954': 10, 'J955': 10, 'J958': 10, 'J9580': 10, 'J9581': 10, 'J9582': 10, 'J9588': 10, 'J959': 10, 'J96': 10, 'J960': 10, 'J9600': 10, 'J9601': 10, 'J9609': 10, 'J961': 10, 'J9610': 10, 'J9611': 10, 'J9619': 10, 'J969': 10, 'J9690': 10, 'J9691': 10, 'J9699': 10, 'J98': 10, 'J980': 10, 'J981': 10, 'J982': 10, 'J983': 10, 'J984': 10, 'J985': 10, 'J9850': 10, 'J9858': 10, 'J986': 10, 'J987': 10, 'J988': 10, 'J989': 10, 'J99': 10, 'J990': 10, 'J991': 10, 'J992': 10, 'J9921': 10, 'J9922': 10, 'J9923': 10, 'J998': 10, 'K00': 11, 'K000': 11, 'K001': 11, 'K002': 11, 'K003': 11, 'K004': 11, 'K005': 11, 'K006': 11, 'K007': 11, 'K008': 11, 'K009': 11, 'K01': 11, 'K010': 11, 'K011': 11, 'K02': 11, 'K020': 11, 'K021': 11, 'K022': 11, 'K023': 11, 'K024': 11, 'K025': 11, 'K028': 11, 'K029': 11, 'K03': 11, 'K030': 11, 'K031': 11, 'K032': 11, 'K033': 11, 'K034': 11, 'K035': 11, 'K036': 11, 'K037': 11, 'K038': 11, 'K039': 11, 'K04': 11, 'K040': 11, 'K041': 11, 'K042': 11, 'K043': 11, 'K044': 11, 'K045': 11, 'K046': 11, 'K047': 11, 'K048': 11, 'K049': 11, 'K05': 11, 'K050': 11, 'K051': 11, 'K052': 11, 'K053': 11, 'K054': 11, 'K055': 11, 'K056': 11, 'K06': 11, 'K060': 11, 'K061': 11, 'K062': 11, 'K068': 11, 'K069': 11, 'K07': 11, 'K070': 11, 'K071': 11, 'K072': 11, 'K073': 11, 'K074': 11, 'K075': 11, 'K076': 11, 'K078': 11, 'K079': 11, 'K08': 11, 'K080': 11, 'K081': 11, 'K082': 11, 'K083': 11, 'K088': 11, 'K0881': 11, 'K0888': 11, 'K089': 11, 'K09': 11, 'K090': 11, 'K091': 11, 'K092': 11, 'K098': 11, 'K099': 11, 'K10': 11, 'K100': 11, 'K101': 11, 'K102': 11, 'K1020': 11, 'K1021': 11, 'K1028': 11, 'K1029': 11, 'K103': 11, 'K108': 11, 'K109': 11, 'K11': 11, 'K110': 11, 'K111': 11, 'K112': 11, 'K113': 11, 'K114': 11, 'K115': 11, 'K116': 11, 'K117': 11, 'K118': 11, 'K119': 11, 'K12': 11, 'K120': 11, 'K121': 11, 'K122': 11, 'K1220': 11, 'K1221': 11, 'K1222': 11, 'K1223': 11, 'K1228': 11, 'K1229': 11, 'K123': 11, 'K13': 11, 'K130': 11, 'K131': 11, 'K132': 11, 'K133': 11, 'K134': 11, 'K135': 11, 'K136': 11, 'K137': 11, 'K14': 11, 'K140': 11, 'K141': 11, 'K142': 11, 'K143': 11, 'K144': 11, 'K145': 11, 'K146': 11, 'K148': 11, 'K149': 11, 'K20': 11, 'K21': 11, 'K210': 11, 'K219': 11, 'K22': 11, 'K220': 11, 'K221': 11, 'K222': 11, 'K223': 11, 'K224': 11, 'K225': 11, 'K226': 11, 'K227': 11, 'K228': 11, 'K2280': 11, 'K2281': 11, 'K2288': 11, 'K229': 11, 'K23': 11, 'K230': 11, 'K231': 11, 'K238': 11, 'K25': 11, 'K250': 11, 'K251': 11, 'K252': 11, 'K253': 11, 'K254': 11, 'K255': 11, 'K256': 11, 'K257': 11, 'K259': 11, 'K26': 11, 'K260': 11, 'K261': 11, 'K262': 11, 'K263': 11, 'K264': 11, 'K265': 11, 'K266': 11, 'K267': 11, 'K269': 11, 'K27': 11, 'K270': 11, 'K271': 11, 'K272': 11, 'K273': 11, 'K274': 11, 'K275': 11, 'K276': 11, 'K277': 11, 'K279': 11, 'K28': 11, 'K280': 11, 'K281': 11, 'K282': 11, 'K283': 11, 'K284': 11, 'K285': 11, 'K286': 11, 'K287': 11, 'K289': 11, 'K29': 11, 'K290': 11, 'K291': 11, 'K292': 11, 'K293': 11, 'K294': 11, 'K295': 11, 'K296': 11, 'K297': 11, 'K298': 11, 'K299': 11, 'K30': 11, 'K31': 11, 'K310': 11, 'K311': 11, 'K312': 11, 'K313': 11, 'K314': 11, 'K315': 11, 'K316': 11, 'K317': 11, 'K318': 11, 'K3181': 11, 'K3182': 11, 'K3188': 11, 'K319': 11, 'K35': 11, 'K352': 11, 'K353': 11, 'K3530': 11, 'K3531': 11, 'K3532': 11, 'K358': 11, 'K36': 11, 'K37': 11, 'K38': 11, 'K380': 11, 'K381': 11, 'K382': 11, 'K383': 11, 'K388': 11, 'K389': 11, 'K40': 11, 'K400': 11, 'K4000': 11, 'K4001': 11, 'K401': 11, 'K4010': 11, 'K4011': 11, 'K402': 11, 'K4020': 11, 'K4021': 11, 'K403': 11, 'K4030': 11, 'K4031': 11, 'K404': 11, 'K4040': 11, 'K4041': 11, 'K409': 11, 'K4090': 11, 'K4091': 11, 'K41': 11, 'K410': 11, 'K4100': 11, 'K4101': 11, 'K411': 11, 'K4110': 11, 'K4111': 11, 'K412': 11, 'K4120': 11, 'K4121': 11, 'K413': 11, 'K4130': 11, 'K4131': 11, 'K414': 11, 'K4140': 11, 'K4141': 11, 'K419': 11, 'K4190': 11, 'K4191': 11, 'K42': 11, 'K420': 11, 'K421': 11, 'K429': 11, 'K43': 11, 'K430': 11, 'K431': 11, 'K432': 11, 'K433': 11, 'K434': 11, 'K435': 11, 'K436': 11, 'K4360': 11, 'K4368': 11, 'K4369': 11, 'K437': 11, 'K4370': 11, 'K4378': 11, 'K4379': 11, 'K439': 11, 'K4390': 11, 'K4398': 11, 'K4399': 11, 'K44': 11, 'K440': 11, 'K441': 11, 'K449': 11, 'K45': 11, 'K450': 11, 'K451': 11, 'K458': 11, 'K46': 11, 'K460': 11, 'K461': 11, 'K469': 11, 'K50': 11, 'K500': 11, 'K501': 11, 'K508': 11, 'K5080': 11, 'K5081': 11, 'K5082': 11, 'K5088': 11, 'K509': 11, 'K51': 11, 'K510': 11, 'K512': 11, 'K513': 11, 'K514': 11, 'K515': 11, 'K518': 11, 'K519': 11, 'K52': 11, 'K520': 11, 'K521': 11, 'K522': 11, 'K523': 11, 'K5230': 11, 'K5231': 11, 'K5232': 11, 'K5238': 11, 'K528': 11, 'K529': 11, 'K55': 11, 'K550': 11, 'K551': 11, 'K552': 11, 'K5521': 11, 'K5522': 11, 'K553': 11, 'K5531': 11, 'K5532': 11, 'K558': 11, 'K559': 11, 'K56': 11, 'K560': 11, 'K561': 11, 'K562': 11, 'K563': 11, 'K564': 11, 'K565': 11, 'K566': 11, 'K567': 11, 'K57': 11, 'K570': 11, 'K5700': 11, 'K5701': 11, 'K5702': 11, 'K5703': 11, 'K571': 11, 'K5710': 11, 'K5711': 11, 'K5712': 11, 'K5713': 11, 'K572': 11, 'K5720': 11, 'K5721': 11, 'K5722': 11, 'K5723': 11, 'K573': 11, 'K5730': 11, 'K5731': 11, 'K5732': 11, 'K5733': 11, 'K574': 11, 'K5740': 11, 'K5741': 11, 'K5742': 11, 'K5743': 11, 'K575': 11, 'K5750': 11, 'K5751': 11, 'K5752': 11, 'K5753': 11, 'K578': 11, 'K5780': 11, 'K5781': 11, 'K5782': 11, 'K5783': 11, 'K579': 11, 'K5790': 11, 'K5791': 11, 'K5792': 11, 'K5793': 11, 'K58': 11, 'K581': 11, 'K582': 11, 'K583': 11, 'K588': 11, 'K59': 11, 'K590': 11, 'K5900': 11, 'K5901': 11, 'K5902': 11, 'K5909': 11, 'K591': 11, 'K592': 11, 'K593': 11, 'K594': 11, 'K598': 11, 'K599': 11, 'K60': 11, 'K600': 11, 'K601': 11, 'K602': 11, 'K603': 11, 'K604': 11, 'K605': 11, 'K61': 11, 'K610': 11, 'K611': 11, 'K612': 11, 'K613': 11, 'K614': 11, 'K62': 11, 'K620': 11, 'K621': 11, 'K622': 11, 'K623': 11, 'K624': 11, 'K625': 11, 'K626': 11, 'K627': 11, 'K628': 11, 'K629': 11, 'K63': 11, 'K630': 11, 'K631': 11, 'K632': 11, 'K633': 11, 'K634': 11, 'K635': 11, 'K638': 11, 'K639': 11, 'K64': 11, 'K640': 11, 'K641': 11, 'K642': 11, 'K643': 11, 'K644': 11, 'K645': 11, 'K648': 11, 'K649': 11, 'K65': 11, 'K650': 11, 'K658': 11, 'K659': 11, 'K66': 11, 'K660': 11, 'K661': 11, 'K662': 11, 'K668': 11, 'K669': 11, 'K67': 11, 'K670': 11, 'K671': 11, 'K672': 11, 'K673': 11, 'K678': 11, 'K70': 11, 'K700': 11, 'K701': 11, 'K702': 11, 'K703': 11, 'K704': 11, 'K709': 11, 'K71': 11, 'K710': 11, 'K711': 11, 'K712': 11, 'K713': 11, 'K714': 11, 'K715': 11, 'K716': 11, 'K717': 11, 'K718': 11, 'K7180': 11, 'K7188': 11, 'K719': 11, 'K72': 11, 'K720': 11, 'K721': 11, 'K727': 11, 'K7271': 11, 'K7272': 11, 'K7273': 11, 'K7274': 11, 'K7279': 11, 'K729': 11, 'K73': 11, 'K730': 11, 'K731': 11, 'K732': 11, 'K738': 11, 'K739': 11, 'K74': 11, 'K740': 11, 'K741': 11, 'K742': 11, 'K743': 11, 'K744': 11, 'K745': 11, 'K746': 11, 'K747': 11, 'K7470': 11, 'K7471': 11, 'K7472': 11, 'K75': 11, 'K750': 11, 'K751': 11, 'K752': 11, 'K753': 11, 'K754': 11, 'K758': 11, 'K759': 11, 'K76': 11, 'K760': 11, 'K761': 11, 'K762': 11, 'K763': 11, 'K764': 11, 'K765': 11, 'K766': 11, 'K767': 11, 'K768': 11, 'K769': 11, 'K77': 11, 'K770': 11, 'K771': 11, 'K7711': 11, 'K7712': 11, 'K7713': 11, 'K7714': 11, 'K772': 11, 'K7721': 11, 'K7722': 11, 'K7723': 11, 'K778': 11, 'K80': 11, 'K800': 11, 'K8000': 11, 'K8001': 11, 'K801': 11, 'K8010': 11, 'K8011': 11, 'K802': 11, 'K8020': 11, 'K8021': 11, 'K803': 11, 'K8030': 11, 'K8031': 11, 'K804': 11, 'K8040': 11, 'K8041': 11, 'K805': 11, 'K8050': 11, 'K8051': 11, 'K808': 11, 'K8080': 11, 'K8081': 11, 'K81': 11, 'K810': 11, 'K811': 11, 'K818': 11, 'K819': 11, 'K82': 11, 'K820': 11, 'K821': 11, 'K822': 11, 'K823': 11, 'K824': 11, 'K828': 11, 'K829': 11, 'K83': 11, 'K830': 11, 'K831': 11, 'K832': 11, 'K833': 11, 'K834': 11, 'K835': 11, 'K838': 11, 'K839': 11, 'K85': 11, 'K850': 11, 'K8500': 11, 'K8501': 11, 'K851': 11, 'K8510': 11, 'K8511': 11, 'K852': 11, 'K8520': 11, 'K8521': 11, 'K853': 11, 'K8530': 11, 'K8531': 11, 'K858': 11, 'K8580': 11, 'K8581': 11, 'K859': 11, 'K8590': 11, 'K8591': 11, 'K86': 11, 'K860': 11, 'K861': 11, 'K862': 11, 'K863': 11, 'K868': 11, 'K869': 11, 'K87': 11, 'K870': 11, 'K871': 11, 'K90': 11, 'K900': 11, 'K901': 11, 'K902': 11, 'K903': 11, 'K904': 11, 'K908': 11, 'K909': 11, 'K91': 11, 'K910': 11, 'K911': 11, 'K912': 11, 'K913': 11, 'K914': 11, 'K915': 11, 'K918': 11, 'K9180': 11, 'K9181': 11, 'K9182': 11, 'K9183': 11, 'K9188': 11, 'K919': 11, 'K92': 11, 'K920': 11, 'K921': 11, 'K922': 11, 'K928': 11, 'K929': 11, 'K93': 11, 'K930': 11, 'K931': 11, 'K932': 11, 'K9321': 11, 'K9322': 11, 'K9323': 11, 'K9324': 11, 'K933': 11, 'K9331': 11, 'K9332': 11, 'K9333': 11, 'K934': 11, 'K9341': 11, 'K9342': 11, 'K9343': 11, 'K938': 11, 'L00': 12, 'L000': 12, 'L001': 12, 'L01': 12, 'L010': 12, 'L011': 12, 'L02': 12, 'L020': 12, 'L021': 12, 'L022': 12, 'L023': 12, 'L024': 12, 'L028': 12, 'L029': 12, 'L03': 12, 'L030': 12, 'L0301': 12, 'L0302': 12, 'L031': 12, 'L0310': 12, 'L0311': 12, 'L032': 12, 'L033': 12, 'L038': 12, 'L039': 12, 'L04': 12, 'L040': 12, 'L041': 12, 'L042': 12, 'L043': 12, 'L048': 12, 'L049': 12, 'L05': 12, 'L050': 12, 'L059': 12, 'L08': 12, 'L080': 12, 'L081': 12, 'L088': 12, 'L089': 12, 'L10': 12, 'L100': 12, 'L101': 12, 'L102': 12, 'L103': 12, 'L104': 12, 'L105': 12, 'L108': 12, 'L109': 12, 'L11': 12, 'L110': 12, 'L111': 12, 'L118': 12, 'L119': 12, 'L12': 12, 'L120': 12, 'L121': 12, 'L122': 12, 'L123': 12, 'L128': 12, 'L129': 12, 'L13': 12, 'L130': 12, 'L131': 12, 'L138': 12, 'L139': 12, 'L14': 12, 'L20': 12, 'L200': 12, 'L208': 12, 'L209': 12, 'L21': 12, 'L210': 12, 'L211': 12, 'L218': 12, 'L219': 12, 'L22': 12, 'L23': 12, 'L230': 12, 'L231': 12, 'L232': 12, 'L233': 12, 'L234': 12, 'L235': 12, 'L236': 12, 'L237': 12, 'L238': 12, 'L239': 12, 'L24': 12, 'L240': 12, 'L241': 12, 'L242': 12, 'L243': 12, 'L244': 12, 'L245': 12, 'L246': 12, 'L247': 12, 'L248': 12, 'L249': 12, 'L25': 12, 'L250': 12, 'L251': 12, 'L252': 12, 'L253': 12, 'L254': 12, 'L255': 12, 'L258': 12, 'L259': 12, 'L26': 12, 'L27': 12, 'L270': 12, 'L271': 12, 'L272': 12, 'L278': 12, 'L279': 12, 'L28': 12, 'L280': 12, 'L281': 12, 'L282': 12, 'L29': 12, 'L290': 12, 'L291': 12, 'L292': 12, 'L293': 12, 'L298': 12, 'L299': 12, 'L30': 12, 'L300': 12, 'L301': 12, 'L302': 12, 'L303': 12, 'L304': 12, 'L305': 12, 'L308': 12, 'L309': 12, 'L40': 12, 'L400': 12, 'L401': 12, 'L402': 12, 'L403': 12, 'L404': 12, 'L405': 12, 'L407': 12, 'L4070': 12, 'L408': 12, 'L409': 12, 'L41': 12, 'L410': 12, 'L411': 12, 'L413': 12, 'L414': 12, 'L415': 12, 'L418': 12, 'L419': 12, 'L42': 12, 'L43': 12, 'L430': 12, 'L431': 12, 'L432': 12, 'L433': 12, 'L438': 12, 'L439': 12, 'L44': 12, 'L440': 12, 'L441': 12, 'L442': 12, 'L443': 12, 'L444': 12, 'L448': 12, 'L449': 12, 'L45': 12, 'L50': 12, 'L500': 12, 'L501': 12, 'L502': 12, 'L503': 12, 'L504': 12, 'L505': 12, 'L506': 12, 'L508': 12, 'L509': 12, 'L51': 12, 'L510': 12, 'L511': 12, 'L512': 12, 'L5120': 12, 'L5121': 12, 'L518': 12, 'L519': 12, 'L52': 12, 'L53': 12, 'L530': 12, 'L531': 12, 'L532': 12, 'L533': 12, 'L538': 12, 'L539': 12, 'L54': 12, 'L540': 12, 'L548': 12, 'L55': 12, 'L550': 12, 'L551': 12, 'L552': 12, 'L558': 12, 'L559': 12, 'L56': 12, 'L560': 12, 'L561': 12, 'L562': 12, 'L563': 12, 'L564': 12, 'L568': 12, 'L569': 12, 'L57': 12, 'L570': 12, 'L571': 12, 'L572': 12, 'L573': 12, 'L574': 12, 'L575': 12, 'L578': 12, 'L579': 12, 'L58': 12, 'L580': 12, 'L581': 12, 'L589': 12, 'L59': 12, 'L590': 12, 'L598': 12, 'L599': 12, 'L60': 12, 'L600': 12, 'L601': 12, 'L602': 12, 'L603': 12, 'L604': 12, 'L605': 12, 'L608': 12, 'L609': 12, 'L62': 12, 'L620': 12, 'L628': 12, 'L63': 12, 'L630': 12, 'L631': 12, 'L632': 12, 'L638': 12, 'L639': 12, 'L64': 12, 'L640': 12, 'L648': 12, 'L649': 12, 'L65': 12, 'L650': 12, 'L651': 12, 'L652': 12, 'L658': 12, 'L659': 12, 'L66': 12, 'L660': 12, 'L661': 12, 'L662': 12, 'L663': 12, 'L664': 12, 'L668': 12, 'L669': 12, 'L67': 12, 'L670': 12, 'L671': 12, 'L678': 12, 'L679': 12, 'L68': 12, 'L680': 12, 'L681': 12, 'L682': 12, 'L683': 12, 'L688': 12, 'L689': 12, 'L70': 12, 'L700': 12, 'L701': 12, 'L702': 12, 'L703': 12, 'L704': 12, 'L705': 12, 'L708': 12, 'L709': 12, 'L71': 12, 'L710': 12, 'L711': 12, 'L718': 12, 'L719': 12, 'L72': 12, 'L720': 12, 'L721': 12, 'L722': 12, 'L728': 12, 'L729': 12, 'L73': 12, 'L730': 12, 'L731': 12, 'L732': 12, 'L738': 12, 'L739': 12, 'L74': 12, 'L740': 12, 'L741': 12, 'L742': 12, 'L743': 12, 'L744': 12, 'L748': 12, 'L749': 12, 'L75': 12, 'L750': 12, 'L751': 12, 'L752': 12, 'L758': 12, 'L759': 12, 'L80': 12, 'L81': 12, 'L810': 12, 'L811': 12, 'L812': 12, 'L813': 12, 'L814': 12, 'L815': 12, 'L816': 12, 'L817': 12, 'L818': 12, 'L819': 12, 'L82': 12, 'L83': 12, 'L84': 12, 'L85': 12, 'L850': 12, 'L851': 12, 'L852': 12, 'L853': 12, 'L858': 12, 'L859': 12, 'L86': 12, 'L87': 12, 'L870': 12, 'L871': 12, 'L872': 12, 'L878': 12, 'L879': 12, 'L88': 12, 'L89': 12, 'L890': 12, 'L8900': 12, 'L8901': 12, 'L8902': 12, 'L8903': 12, 'L8904': 12, 'L8905': 12, 'L8906': 12, 'L8907': 12, 'L8908': 12, 'L8909': 12, 'L891': 12, 'L8910': 12, 'L8911': 12, 'L8912': 12, 'L8913': 12, 'L8914': 12, 'L8915': 12, 'L8916': 12, 'L8917': 12, 'L8918': 12, 'L8919': 12, 'L892': 12, 'L8920': 12, 'L8921': 12, 'L8922': 12, 'L8923': 12, 'L8924': 12, 'L8925': 12, 'L8926': 12, 'L8927': 12, 'L8928': 12, 'L8929': 12, 'L893': 12, 'L8930': 12, 'L8931': 12, 'L8932': 12, 'L8933': 12, 'L8934': 12, 'L8935': 12, 'L8936': 12, 'L8937': 12, 'L8938': 12, 'L8939': 12, 'L899': 12, 'L8990': 12, 'L8991': 12, 'L8992': 12, 'L8993': 12, 'L8994': 12, 'L8995': 12, 'L8996': 12, 'L8997': 12, 'L8998': 12, 'L8999': 12, 'L90': 12, 'L900': 12, 'L901': 12, 'L902': 12, 'L903': 12, 'L904': 12, 'L905': 12, 'L906': 12, 'L908': 12, 'L909': 12, 'L91': 12, 'L910': 12, 'L918': 12, 'L919': 12, 'L92': 12, 'L920': 12, 'L921': 12, 'L922': 12, 'L923': 12, 'L928': 12, 'L929': 12, 'L93': 12, 'L930': 12, 'L931': 12, 'L932': 12, 'L94': 12, 'L940': 12, 'L941': 12, 'L942': 12, 'L943': 12, 'L944': 12, 'L945': 12, 'L946': 12, 'L948': 12, 'L949': 12, 'L95': 12, 'L950': 12, 'L951': 12, 'L958': 12, 'L959': 12, 'L97': 12, 'L98': 12, 'L980': 12, 'L981': 12, 'L982': 12, 'L983': 12, 'L984': 12, 'L985': 12, 'L986': 12, 'L987': 12, 'L988': 12, 'L989': 12, 'L99': 12, 'L990': 12, 'L991': 12, 'L9911': 12, 'L9912': 12, 'L9913': 12, 'L9914': 12, 'L992': 12, 'L9921': 12, 'L9922': 12, 'L9923': 12, 'L998': 12, 'M00': 13, 'M000': 13, 'M0000': 13, 'M0001': 13, 'M0002': 13, 'M0003': 13, 'M0004': 13, 'M0005': 13, 'M0006': 13, 'M0007': 13, 'M0008': 13, 'M0009': 13, 'M001': 13, 'M0010': 13, 'M0011': 13, 'M0012': 13, 'M0013': 13, 'M0014': 13, 'M0015': 13, 'M0016': 13, 'M0017': 13, 'M0018': 13, 'M0019': 13, 'M002': 13, 'M0020': 13, 'M0021': 13, 'M0022': 13, 'M0023': 13, 'M0024': 13, 'M0025': 13, 'M0026': 13, 'M0027': 13, 'M0028': 13, 'M0029': 13, 'M008': 13, 'M0080': 13, 'M0081': 13, 'M0082': 13, 'M0083': 13, 'M0084': 13, 'M0085': 13, 'M0086': 13, 'M0087': 13, 'M0088': 13, 'M0089': 13, 'M009': 13, 'M0090': 13, 'M0091': 13, 'M0092': 13, 'M0093': 13, 'M0094': 13, 'M0095': 13, 'M0096': 13, 'M0097': 13, 'M0098': 13, 'M0099': 13, 'M01': 13, 'M010': 13, 'M0100': 13, 'M0101': 13, 'M0102': 13, 'M0103': 13, 'M0104': 13, 'M0105': 13, 'M0106': 13, 'M0107': 13, 'M0108': 13, 'M0109': 13, 'M011': 13, 'M0110': 13, 'M0111': 13, 'M0112': 13, 'M0113': 13, 'M0114': 13, 'M0115': 13, 'M0116': 13, 'M0117': 13, 'M0118': 13, 'M0119': 13, 'M012': 13, 'M0120': 13, 'M0121': 13, 'M0122': 13, 'M0123': 13, 'M0124': 13, 'M0125': 13, 'M0126': 13, 'M0127': 13, 'M0128': 13, 'M0129': 13, 'M013': 13, 'M0130': 13, 'M0131': 13, 'M0132': 13, 'M0133': 13, 'M0134': 13, 'M0135': 13, 'M0136': 13, 'M0137': 13, 'M0138': 13, 'M0139': 13, 'M014': 13, 'M0140': 13, 'M0141': 13, 'M0142': 13, 'M0143': 13, 'M0144': 13, 'M0145': 13, 'M0146': 13, 'M0147': 13, 'M0148': 13, 'M0149': 13, 'M015': 13, 'M0150': 13, 'M0151': 13, 'M0152': 13, 'M0153': 13, 'M0154': 13, 'M0155': 13, 'M0156': 13, 'M0157': 13, 'M0158': 13, 'M0159': 13, 'M016': 13, 'M0160': 13, 'M0161': 13, 'M0162': 13, 'M0163': 13, 'M0164': 13, 'M0165': 13, 'M0166': 13, 'M0167': 13, 'M0168': 13, 'M0169': 13, 'M018': 13, 'M0180': 13, 'M0181': 13, 'M0182': 13, 'M0183': 13, 'M0184': 13, 'M0185': 13, 'M0186': 13, 'M0187': 13, 'M0188': 13, 'M0189': 13, 'M02': 13, 'M020': 13, 'M0200': 13, 'M0201': 13, 'M0202': 13, 'M0203': 13, 'M0204': 13, 'M0205': 13, 'M0206': 13, 'M0207': 13, 'M0208': 13, 'M0209': 13, 'M021': 13, 'M0210': 13, 'M0211': 13, 'M0212': 13, 'M0213': 13, 'M0214': 13, 'M0215': 13, 'M0216': 13, 'M0217': 13, 'M0218': 13, 'M0219': 13, 'M022': 13, 'M0220': 13, 'M0221': 13, 'M0222': 13, 'M0223': 13, 'M0224': 13, 'M0225': 13, 'M0226': 13, 'M0227': 13, 'M0228': 13, 'M0229': 13, 'M023': 13, 'M0230': 13, 'M0231': 13, 'M0232': 13, 'M0233': 13, 'M0234': 13, 'M0235': 13, 'M0236': 13, 'M0237': 13, 'M0238': 13, 'M0239': 13, 'M028': 13, 'M0280': 13, 'M0281': 13, 'M0282': 13, 'M0283': 13, 'M0284': 13, 'M0285': 13, 'M0286': 13, 'M0287': 13, 'M0288': 13, 'M0289': 13, 'M029': 13, 'M0290': 13, 'M0291': 13, 'M0292': 13, 'M0293': 13, 'M0294': 13, 'M0295': 13, 'M0296': 13, 'M0297': 13, 'M0298': 13, 'M0299': 13, 'M03': 13, 'M030': 13, 'M0300': 13, 'M0301': 13, 'M0302': 13, 'M0303': 13, 'M0304': 13, 'M0305': 13, 'M0306': 13, 'M0307': 13, 'M0308': 13, 'M0309': 13, 'M031': 13, 'M0310': 13, 'M0311': 13, 'M0312': 13, 'M0313': 13, 'M0314': 13, 'M0315': 13, 'M0316': 13, 'M0317': 13, 'M0318': 13, 'M0319': 13, 'M032': 13, 'M0320': 13, 'M0321': 13, 'M0322': 13, 'M0323': 13, 'M0324': 13, 'M0325': 13, 'M0326': 13, 'M0327': 13, 'M0328': 13, 'M0329': 13, 'M036': 13, 'M0360': 13, 'M0361': 13, 'M0362': 13, 'M0363': 13, 'M0364': 13, 'M0365': 13, 'M0366': 13, 'M0367': 13, 'M0368': 13, 'M0369': 13, 'M05': 13, 'M050': 13, 'M0500': 13, 'M0501': 13, 'M0502': 13, 'M0503': 13, 'M0504': 13, 'M0505': 13, 'M0506': 13, 'M0507': 13, 'M0508': 13, 'M0509': 13, 'M051': 13, 'M0510': 13, 'M0511': 13, 'M0512': 13, 'M0513': 13, 'M0514': 13, 'M0515': 13, 'M0516': 13, 'M0517': 13, 'M0518': 13, 'M0519': 13, 'M052': 13, 'M0520': 13, 'M0521': 13, 'M0522': 13, 'M0523': 13, 'M0524': 13, 'M0525': 13, 'M0526': 13, 'M0527': 13, 'M0528': 13, 'M0529': 13, 'M053': 13, 'M0530': 13, 'M0531': 13, 'M0532': 13, 'M0533': 13, 'M0534': 13, 'M0535': 13, 'M0536': 13, 'M0537': 13, 'M0538': 13, 'M0539': 13, 'M058': 13, 'M0580': 13, 'M0581': 13, 'M0582': 13, 'M0583': 13, 'M0584': 13, 'M0585': 13, 'M0586': 13, 'M0587': 13, 'M0588': 13, 'M0589': 13, 'M059': 13, 'M0590': 13, 'M0591': 13, 'M0592': 13, 'M0593': 13, 'M0594': 13, 'M0595': 13, 'M0596': 13, 'M0597': 13, 'M0598': 13, 'M0599': 13, 'M06': 13, 'M060': 13, 'M0600': 13, 'M0601': 13, 'M0602': 13, 'M0603': 13, 'M0604': 13, 'M0605': 13, 'M0606': 13, 'M0607': 13, 'M0608': 13, 'M0609': 13, 'M061': 13, 'M0610': 13, 'M0611': 13, 'M0612': 13, 'M0613': 13, 'M0614': 13, 'M0615': 13, 'M0616': 13, 'M0617': 13, 'M0618': 13, 'M0619': 13, 'M062': 13, 'M0620': 13, 'M0621': 13, 'M0622': 13, 'M0623': 13, 'M0624': 13, 'M0625': 13, 'M0626': 13, 'M0627': 13, 'M0628': 13, 'M0629': 13, 'M063': 13, 'M0630': 13, 'M0631': 13, 'M0632': 13, 'M0633': 13, 'M0634': 13, 'M0635': 13, 'M0636': 13, 'M0637': 13, 'M0638': 13, 'M0639': 13, 'M064': 13, 'M0640': 13, 'M0641': 13, 'M0642': 13, 'M0643': 13, 'M0644': 13, 'M0645': 13, 'M0646': 13, 'M0647': 13, 'M0648': 13, 'M0649': 13, 'M068': 13, 'M0680': 13, 'M0681': 13, 'M0682': 13, 'M0683': 13, 'M0684': 13, 'M0685': 13, 'M0686': 13, 'M0687': 13, 'M0688': 13, 'M0689': 13, 'M069': 13, 'M0690': 13, 'M0691': 13, 'M0692': 13, 'M0693': 13, 'M0694': 13, 'M0695': 13, 'M0696': 13, 'M0697': 13, 'M0698': 13, 'M0699': 13, 'M07': 13, 'M070': 13, 'M0700': 13, 'M0704': 13, 'M0707': 13, 'M0709': 13, 'M071': 13, 'M0710': 13, 'M0711': 13, 'M0712': 13, 'M0713': 13, 'M0714': 13, 'M0715': 13, 'M0716': 13, 'M0717': 13, 'M0718': 13, 'M0719': 13, 'M072': 13, 'M073': 13, 'M0730': 13, 'M0731': 13, 'M0732': 13, 'M0733': 13, 'M0734': 13, 'M0735': 13, 'M0736': 13, 'M0737': 13, 'M0738': 13, 'M0739': 13, 'M074': 13, 'M0740': 13, 'M0741': 13, 'M0742': 13, 'M0743': 13, 'M0744': 13, 'M0745': 13, 'M0746': 13, 'M0747': 13, 'M0748': 13, 'M0749': 13, 'M075': 13, 'M0750': 13, 'M0751': 13, 'M0752': 13, 'M0753': 13, 'M0754': 13, 'M0755': 13, 'M0756': 13, 'M0757': 13, 'M0758': 13, 'M0759': 13, 'M076': 13, 'M0760': 13, 'M0761': 13, 'M0762': 13, 'M0763': 13, 'M0764': 13, 'M0765': 13, 'M0766': 13, 'M0767': 13, 'M0768': 13, 'M0769': 13, 'M08': 13, 'M080': 13, 'M0800': 13, 'M0801': 13, 'M0802': 13, 'M0803': 13, 'M0804': 13, 'M0805': 13, 'M0806': 13, 'M0807': 13, 'M0808': 13, 'M0809': 13, 'M081': 13, 'M0810': 13, 'M0811': 13, 'M0812': 13, 'M0813': 13, 'M0814': 13, 'M0815': 13, 'M0816': 13, 'M0817': 13, 'M0818': 13, 'M0819': 13, 'M082': 13, 'M0820': 13, 'M0821': 13, 'M0822': 13, 'M0823': 13, 'M0824': 13, 'M0825': 13, 'M0826': 13, 'M0827': 13, 'M0828': 13, 'M0829': 13, 'M083': 13, 'M084': 13, 'M0840': 13, 'M0841': 13, 'M0842': 13, 'M0843': 13, 'M0844': 13, 'M0845': 13, 'M0846': 13, 'M0847': 13, 'M0848': 13, 'M0849': 13, 'M087': 13, 'M0870': 13, 'M0871': 13, 'M0872': 13, 'M0873': 13, 'M0874': 13, 'M0875': 13, 'M0876': 13, 'M0877': 13, 'M0878': 13, 'M0879': 13, 'M088': 13, 'M0880': 13, 'M0881': 13, 'M0882': 13, 'M0883': 13, 'M0884': 13, 'M0885': 13, 'M0886': 13, 'M0887': 13, 'M0888': 13, 'M0889': 13, 'M089': 13, 'M0890': 13, 'M0891': 13, 'M0892': 13, 'M0893': 13, 'M0894': 13, 'M0895': 13, 'M0896': 13, 'M0897': 13, 'M0898': 13, 'M0899': 13, 'M09': 13, 'M090': 13, 'M0900': 13, 'M0901': 13, 'M0902': 13, 'M0903': 13, 'M0904': 13, 'M0905': 13, 'M0906': 13, 'M0907': 13, 'M0908': 13, 'M0909': 13, 'M091': 13, 'M0910': 13, 'M0911': 13, 'M0912': 13, 'M0913': 13, 'M0914': 13, 'M0915': 13, 'M0916': 13, 'M0917': 13, 'M0918': 13, 'M0919': 13, 'M092': 13, 'M0920': 13, 'M0921': 13, 'M0922': 13, 'M0923': 13, 'M0924': 13, 'M0925': 13, 'M0926': 13, 'M0927': 13, 'M0928': 13, 'M0929': 13, 'M098': 13, 'M0980': 13, 'M0981': 13, 'M0982': 13, 'M0983': 13, 'M0984': 13, 'M0985': 13, 'M0986': 13, 'M0987': 13, 'M0988': 13, 'M0989': 13, 'M10': 13, 'M100': 13, 'M1000': 13, 'M1001': 13, 'M1002': 13, 'M1003': 13, 'M1004': 13, 'M1005': 13, 'M1006': 13, 'M1007': 13, 'M1008': 13, 'M1009': 13, 'M101': 13, 'M1010': 13, 'M1011': 13, 'M1012': 13, 'M1013': 13, 'M1014': 13, 'M1015': 13, 'M1016': 13, 'M1017': 13, 'M1018': 13, 'M1019': 13, 'M102': 13, 'M1020': 13, 'M1021': 13, 'M1022': 13, 'M1023': 13, 'M1024': 13, 'M1025': 13, 'M1026': 13, 'M1027': 13, 'M1028': 13, 'M1029': 13, 'M103': 13, 'M1030': 13, 'M1031': 13, 'M1032': 13, 'M1033': 13, 'M1034': 13, 'M1035': 13, 'M1036': 13, 'M1037': 13, 'M1038': 13, 'M1039': 13, 'M104': 13, 'M1040': 13, 'M1041': 13, 'M1042': 13, 'M1043': 13, 'M1044': 13, 'M1045': 13, 'M1046': 13, 'M1047': 13, 'M1048': 13, 'M1049': 13, 'M109': 13, 'M1090': 13, 'M1091': 13, 'M1092': 13, 'M1093': 13, 'M1094': 13, 'M1095': 13, 'M1096': 13, 'M1097': 13, 'M1098': 13, 'M1099': 13, 'M11': 13, 'M110': 13, 'M1100': 13, 'M1101': 13, 'M1102': 13, 'M1103': 13, 'M1104': 13, 'M1105': 13, 'M1106': 13, 'M1107': 13, 'M1108': 13, 'M1109': 13, 'M111': 13, 'M1110': 13, 'M1111': 13, 'M1112': 13, 'M1113': 13, 'M1114': 13, 'M1115': 13, 'M1116': 13, 'M1117': 13, 'M1118': 13, 'M1119': 13, 'M112': 13, 'M1120': 13, 'M1121': 13, 'M1122': 13, 'M1123': 13, 'M1124': 13, 'M1125': 13, 'M1126': 13, 'M1127': 13, 'M1128': 13, 'M1129': 13, 'M118': 13, 'M1180': 13, 'M1181': 13, 'M1182': 13, 'M1183': 13, 'M1184': 13, 'M1185': 13, 'M1186': 13, 'M1187': 13, 'M1188': 13, 'M1189': 13, 'M119': 13, 'M1190': 13, 'M1191': 13, 'M1192': 13, 'M1193': 13, 'M1194': 13, 'M1195': 13, 'M1196': 13, 'M1197': 13, 'M1198': 13, 'M1199': 13, 'M12': 13, 'M120': 13, 'M1200': 13, 'M1201': 13, 'M1202': 13, 'M1203': 13, 'M1204': 13, 'M1205': 13, 'M1206': 13, 'M1207': 13, 'M1208': 13, 'M1209': 13, 'M121': 13, 'M1210': 13, 'M1211': 13, 'M1212': 13, 'M1213': 13, 'M1214': 13, 'M1215': 13, 'M1216': 13, 'M1217': 13, 'M1218': 13, 'M1219': 13, 'M122': 13, 'M1220': 13, 'M1221': 13, 'M1222': 13, 'M1223': 13, 'M1224': 13, 'M1225': 13, 'M1226': 13, 'M1227': 13, 'M1228': 13, 'M1229': 13, 'M123': 13, 'M1230': 13, 'M1231': 13, 'M1232': 13, 'M1233': 13, 'M1234': 13, 'M1235': 13, 'M1236': 13, 'M1237': 13, 'M1238': 13, 'M1239': 13, 'M124': 13, 'M1240': 13, 'M1241': 13, 'M1242': 13, 'M1243': 13, 'M1244': 13, 'M1245': 13, 'M1246': 13, 'M1247': 13, 'M1248': 13, 'M1249': 13, 'M125': 13, 'M1250': 13, 'M1251': 13, 'M1252': 13, 'M1253': 13, 'M1254': 13, 'M1255': 13, 'M1256': 13, 'M1257': 13, 'M1258': 13, 'M1259': 13, 'M128': 13, 'M1280': 13, 'M1281': 13, 'M1282': 13, 'M1283': 13, 'M1284': 13, 'M1285': 13, 'M1286': 13, 'M1287': 13, 'M1288': 13, 'M1289': 13, 'M13': 13, 'M130': 13, 'M131': 13, 'M1311': 13, 'M1312': 13, 'M1313': 13, 'M1314': 13, 'M1315': 13, 'M1316': 13, 'M1317': 13, 'M1318': 13, 'M1319': 13, 'M138': 13, 'M1380': 13, 'M1381': 13, 'M1382': 13, 'M1383': 13, 'M1384': 13, 'M1385': 13, 'M1386': 13, 'M1387': 13, 'M1388': 13, 'M1389': 13, 'M139': 13, 'M1390': 13, 'M1391': 13, 'M1392': 13, 'M1393': 13, 'M1394': 13, 'M1395': 13, 'M1396': 13, 'M1397': 13, 'M1398': 13, 'M1399': 13, 'M14': 13, 'M140': 13, 'M1400': 13, 'M1401': 13, 'M1402': 13, 'M1403': 13, 'M1404': 13, 'M1405': 13, 'M1406': 13, 'M1407': 13, 'M1408': 13, 'M1409': 13, 'M141': 13, 'M1410': 13, 'M1411': 13, 'M1412': 13, 'M1413': 13, 'M1414': 13, 'M1415': 13, 'M1416': 13, 'M1417': 13, 'M1418': 13, 'M1419': 13, 'M142': 13, 'M1420': 13, 'M1421': 13, 'M1422': 13, 'M1423': 13, 'M1424': 13, 'M1425': 13, 'M1426': 13, 'M1427': 13, 'M1428': 13, 'M1429': 13, 'M143': 13, 'M1430': 13, 'M1431': 13, 'M1432': 13, 'M1433': 13, 'M1434': 13, 'M1435': 13, 'M1436': 13, 'M1437': 13, 'M1438': 13, 'M1439': 13, 'M144': 13, 'M1440': 13, 'M1441': 13, 'M1442': 13, 'M1443': 13, 'M1444': 13, 'M1445': 13, 'M1446': 13, 'M1447': 13, 'M1448': 13, 'M1449': 13, 'M145': 13, 'M1450': 13, 'M1451': 13, 'M1452': 13, 'M1453': 13, 'M1454': 13, 'M1455': 13, 'M1456': 13, 'M1457': 13, 'M1458': 13, 'M1459': 13, 'M146': 13, 'M1460': 13, 'M1461': 13, 'M1462': 13, 'M1463': 13, 'M1464': 13, 'M1465': 13, 'M1466': 13, 'M1467': 13, 'M1468': 13, 'M1469': 13, 'M148': 13, 'M1480': 13, 'M1481': 13, 'M1482': 13, 'M1483': 13, 'M1484': 13, 'M1485': 13, 'M1486': 13, 'M1487': 13, 'M1488': 13, 'M1489': 13, 'M15': 13, 'M150': 13, 'M151': 13, 'M152': 13, 'M153': 13, 'M154': 13, 'M158': 13, 'M159': 13, 'M16': 13, 'M160': 13, 'M161': 13, 'M162': 13, 'M163': 13, 'M164': 13, 'M165': 13, 'M166': 13, 'M167': 13, 'M169': 13, 'M17': 13, 'M170': 13, 'M171': 13, 'M172': 13, 'M173': 13, 'M174': 13, 'M175': 13, 'M179': 13, 'M18': 13, 'M180': 13, 'M181': 13, 'M182': 13, 'M183': 13, 'M184': 13, 'M185': 13, 'M189': 13, 'M19': 13, 'M190': 13, 'M1901': 13, 'M1902': 13, 'M1903': 13, 'M1904': 13, 'M1905': 13, 'M1907': 13, 'M1908': 13, 'M1909': 13, 'M191': 13, 'M1911': 13, 'M1912': 13, 'M1913': 13, 'M1914': 13, 'M1915': 13, 'M1917': 13, 'M1918': 13, 'M1919': 13, 'M192': 13, 'M1921': 13, 'M1922': 13, 'M1923': 13, 'M1924': 13, 'M1925': 13, 'M1927': 13, 'M1928': 13, 'M1929': 13, 'M198': 13, 'M1981': 13, 'M1982': 13, 'M1983': 13, 'M1984': 13, 'M1985': 13, 'M1987': 13, 'M1988': 13, 'M1989': 13, 'M199': 13, 'M1991': 13, 'M1992': 13, 'M1993': 13, 'M1994': 13, 'M1995': 13, 'M1997': 13, 'M1998': 13, 'M1999': 13, 'M20': 13, 'M200': 13, 'M201': 13, 'M202': 13, 'M203': 13, 'M204': 13, 'M205': 13, 'M206': 13, 'M21': 13, 'M210': 13, 'M2100': 13, 'M2101': 13, 'M2102': 13, 'M2103': 13, 'M2104': 13, 'M2105': 13, 'M2106': 13, 'M2107': 13, 'M2108': 13, 'M2109': 13, 'M211': 13, 'M2110': 13, 'M2111': 13, 'M2112': 13, 'M2113': 13, 'M2114': 13, 'M2115': 13, 'M2116': 13, 'M2117': 13, 'M2118': 13, 'M2119': 13, 'M212': 13, 'M2120': 13, 'M2121': 13, 'M2122': 13, 'M2123': 13, 'M2124': 13, 'M2125': 13, 'M2126': 13, 'M2127': 13, 'M2128': 13, 'M2129': 13, 'M213': 13, 'M2130': 13, 'M2133': 13, 'M2137': 13, 'M214': 13, 'M215': 13, 'M2150': 13, 'M2154': 13, 'M2157': 13, 'M216': 13, 'M2160': 13, 'M2161': 13, 'M2162': 13, 'M2163': 13, 'M2168': 13, 'M217': 13, 'M2170': 13, 'M2171': 13, 'M2172': 13, 'M2173': 13, 'M2174': 13, 'M2175': 13, 'M2176': 13, 'M2177': 13, 'M2179': 13, 'M218': 13, 'M2180': 13, 'M2181': 13, 'M2182': 13, 'M2183': 13, 'M2184': 13, 'M2185': 13, 'M2186': 13, 'M2189': 13, 'M219': 13, 'M2190': 13, 'M2191': 13, 'M2192': 13, 'M2193': 13, 'M2194': 13, 'M2195': 13, 'M2196': 13, 'M2197': 13, 'M2199': 13, 'M22': 13, 'M220': 13, 'M221': 13, 'M222': 13, 'M223': 13, 'M224': 13, 'M228': 13, 'M229': 13, 'M23': 13, 'M230': 13, 'M2300': 13, 'M2301': 13, 'M2302': 13, 'M2303': 13, 'M2304': 13, 'M2305': 13, 'M2306': 13, 'M2309': 13, 'M231': 13, 'M2310': 13, 'M2313': 13, 'M2316': 13, 'M2319': 13, 'M232': 13, 'M2320': 13, 'M2321': 13, 'M2322': 13, 'M2323': 13, 'M2324': 13, 'M2325': 13, 'M2326': 13, 'M2329': 13, 'M233': 13, 'M2330': 13, 'M2331': 13, 'M2332': 13, 'M2333': 13, 'M2334': 13, 'M2335': 13, 'M2336': 13, 'M2339': 13, 'M234': 13, 'M235': 13, 'M2350': 13, 'M2351': 13, 'M2352': 13, 'M2353': 13, 'M2354': 13, 'M2357': 13, 'M2359': 13, 'M236': 13, 'M2360': 13, 'M2361': 13, 'M2362': 13, 'M2363': 13, 'M2364': 13, 'M2367': 13, 'M2369': 13, 'M238': 13, 'M2380': 13, 'M2381': 13, 'M2382': 13, 'M2383': 13, 'M2384': 13, 'M2387': 13, 'M2389': 13, 'M239': 13, 'M2390': 13, 'M2391': 13, 'M2392': 13, 'M2393': 13, 'M2394': 13, 'M2395': 13, 'M2396': 13, 'M2397': 13, 'M2399': 13, 'M24': 13, 'M240': 13, 'M2400': 13, 'M2401': 13, 'M2402': 13, 'M2403': 13, 'M2404': 13, 'M2405': 13, 'M2407': 13, 'M2408': 13, 'M2409': 13, 'M241': 13, 'M2410': 13, 'M2411': 13, 'M2412': 13, 'M2413': 13, 'M2414': 13, 'M2415': 13, 'M2417': 13, 'M2418': 13, 'M2419': 13, 'M242': 13, 'M2420': 13, 'M2421': 13, 'M2422': 13, 'M2423': 13, 'M2424': 13, 'M2425': 13, 'M2427': 13, 'M2428': 13, 'M2429': 13, 'M243': 13, 'M2430': 13, 'M2431': 13, 'M2432': 13, 'M2433': 13, 'M2434': 13, 'M2435': 13, 'M2436': 13, 'M2437': 13, 'M2438': 13, 'M2439': 13, 'M244': 13, 'M2440': 13, 'M2441': 13, 'M2442': 13, 'M2443': 13, 'M2444': 13, 'M2445': 13, 'M2446': 13, 'M2447': 13, 'M2448': 13, 'M2449': 13, 'M245': 13, 'M2450': 13, 'M2451': 13, 'M2452': 13, 'M2453': 13, 'M2454': 13, 'M2455': 13, 'M2456': 13, 'M2457': 13, 'M2458': 13, 'M2459': 13, 'M246': 13, 'M2460': 13, 'M2461': 13, 'M2462': 13, 'M2463': 13, 'M2464': 13, 'M2465': 13, 'M2466': 13, 'M2467': 13, 'M2468': 13, 'M2469': 13, 'M247': 13, 'M248': 13, 'M2480': 13, 'M2481': 13, 'M2482': 13, 'M2483': 13, 'M2484': 13, 'M2485': 13, 'M2487': 13, 'M2488': 13, 'M2489': 13, 'M249': 13, 'M2490': 13, 'M2491': 13, 'M2492': 13, 'M2493': 13, 'M2494': 13, 'M2495': 13, 'M2497': 13, 'M2498': 13, 'M2499': 13, 'M25': 13, 'M250': 13, 'M2500': 13, 'M2501': 13, 'M2502': 13, 'M2503': 13, 'M2504': 13, 'M2505': 13, 'M2506': 13, 'M2507': 13, 'M2508': 13, 'M2509': 13, 'M251': 13, 'M2510': 13, 'M2511': 13, 'M2512': 13, 'M2513': 13, 'M2514': 13, 'M2515': 13, 'M2516': 13, 'M2517': 13, 'M2518': 13, 'M2519': 13, 'M252': 13, 'M2520': 13, 'M2521': 13, 'M2522': 13, 'M2523': 13, 'M2524': 13, 'M2525': 13, 'M2526': 13, 'M2527': 13, 'M2528': 13, 'M2529': 13, 'M253': 13, 'M2530': 13, 'M2531': 13, 'M2532': 13, 'M2533': 13, 'M2534': 13, 'M2535': 13, 'M2536': 13, 'M2537': 13, 'M2538': 13, 'M2539': 13, 'M254': 13, 'M2540': 13, 'M2541': 13, 'M2542': 13, 'M2543': 13, 'M2544': 13, 'M2545': 13, 'M2546': 13, 'M2547': 13, 'M2548': 13, 'M2549': 13, 'M255': 13, 'M2550': 13, 'M2551': 13, 'M2552': 13, 'M2553': 13, 'M2554': 13, 'M2555': 13, 'M2556': 13, 'M2557': 13, 'M2558': 13, 'M2559': 13, 'M256': 13, 'M2560': 13, 'M2561': 13, 'M2562': 13, 'M2563': 13, 'M2564': 13, 'M2565': 13, 'M2566': 13, 'M2567': 13, 'M2568': 13, 'M2569': 13, 'M257': 13, 'M2570': 13, 'M2571': 13, 'M2572': 13, 'M2573': 13, 'M2574': 13, 'M2575': 13, 'M2576': 13, 'M2577': 13, 'M2578': 13, 'M2579': 13, 'M258': 13, 'M2580': 13, 'M2581': 13, 'M2582': 13, 'M2583': 13, 'M2584': 13, 'M2585': 13, 'M2586': 13, 'M2587': 13, 'M2588': 13, 'M2589': 13, 'M259': 13, 'M2590': 13, 'M2591': 13, 'M2592': 13, 'M2593': 13, 'M2594': 13, 'M2595': 13, 'M2596': 13, 'M2597': 13, 'M2598': 13, 'M2599': 13, 'M30': 13, 'M300': 13, 'M301': 13, 'M302': 13, 'M303': 13, 'M308': 13, 'M31': 13, 'M310': 13, 'M311': 13, 'M313': 13, 'M314': 13, 'M315': 13, 'M316': 13, 'M317': 13, 'M318': 13, 'M319': 13, 'M32': 13, 'M320': 13, 'M321': 13, 'M328': 13, 'M329': 13, 'M33': 13, 'M330': 13, 'M331': 13, 'M332': 13, 'M339': 13, 'M34': 13, 'M340': 13, 'M341': 13, 'M342': 13, 'M348': 13, 'M349': 13, 'M35': 13, 'M350': 13, 'M351': 13, 'M352': 13, 'M353': 13, 'M354': 13, 'M355': 13, 'M356': 13, 'M357': 13, 'M358': 13, 'M359': 13, 'M36': 13, 'M360': 13, 'M361': 13, 'M362': 13, 'M363': 13, 'M364': 13, 'M365': 13, 'M3651': 13, 'M3652': 13, 'M3653': 13, 'M368': 13, 'M40': 13, 'M400': 13, 'M4000': 13, 'M4001': 13, 'M4002': 13, 'M4003': 13, 'M4004': 13, 'M4005': 13, 'M4006': 13, 'M4007': 13, 'M4008': 13, 'M4009': 13, 'M401': 13, 'M4010': 13, 'M4011': 13, 'M4012': 13, 'M4013': 13, 'M4014': 13, 'M4015': 13, 'M4016': 13, 'M4017': 13, 'M4018': 13, 'M4019': 13, 'M402': 13, 'M4020': 13, 'M4021': 13, 'M4022': 13, 'M4023': 13, 'M4024': 13, 'M4025': 13, 'M4026': 13, 'M4027': 13, 'M4028': 13, 'M4029': 13, 'M403': 13, 'M4030': 13, 'M4031': 13, 'M4032': 13, 'M4033': 13, 'M4034': 13, 'M4035': 13, 'M4036': 13, 'M4037': 13, 'M4038': 13, 'M4039': 13, 'M404': 13, 'M4040': 13, 'M4041': 13, 'M4042': 13, 'M4043': 13, 'M4044': 13, 'M4045': 13, 'M4046': 13, 'M4047': 13, 'M4048': 13, 'M4049': 13, 'M405': 13, 'M4050': 13, 'M4051': 13, 'M4052': 13, 'M4053': 13, 'M4054': 13, 'M4055': 13, 'M4056': 13, 'M4057': 13, 'M4058': 13, 'M4059': 13, 'M41': 13, 'M410': 13, 'M4100': 13, 'M4101': 13, 'M4102': 13, 'M4103': 13, 'M4104': 13, 'M4105': 13, 'M4106': 13, 'M4107': 13, 'M4108': 13, 'M4109': 13, 'M411': 13, 'M4110': 13, 'M4111': 13, 'M4112': 13, 'M4113': 13, 'M4114': 13, 'M4115': 13, 'M4116': 13, 'M4117': 13, 'M4118': 13, 'M4119': 13, 'M412': 13, 'M4120': 13, 'M4121': 13, 'M4122': 13, 'M4123': 13, 'M4124': 13, 'M4125': 13, 'M4126': 13, 'M4127': 13, 'M4128': 13, 'M4129': 13, 'M413': 13, 'M4130': 13, 'M4131': 13, 'M4132': 13, 'M4133': 13, 'M4134': 13, 'M4135': 13, 'M4136': 13, 'M4137': 13, 'M4138': 13, 'M4139': 13, 'M414': 13, 'M4140': 13, 'M4141': 13, 'M4142': 13, 'M4143': 13, 'M4144': 13, 'M4145': 13, 'M4146': 13, 'M4147': 13, 'M4148': 13, 'M4149': 13, 'M415': 13, 'M4150': 13, 'M4151': 13, 'M4152': 13, 'M4153': 13, 'M4154': 13, 'M4155': 13, 'M4156': 13, 'M4157': 13, 'M4158': 13, 'M4159': 13, 'M418': 13, 'M4180': 13, 'M4181': 13, 'M4182': 13, 'M4183': 13, 'M4184': 13, 'M4185': 13, 'M4186': 13, 'M4187': 13, 'M4188': 13, 'M4189': 13, 'M419': 13, 'M4190': 13, 'M4191': 13, 'M4192': 13, 'M4193': 13, 'M4194': 13, 'M4195': 13, 'M4196': 13, 'M4197': 13, 'M4198': 13, 'M4199': 13, 'M42': 13, 'M420': 13, 'M4200': 13, 'M4201': 13, 'M4202': 13, 'M4203': 13, 'M4204': 13, 'M4205': 13, 'M4206': 13, 'M4207': 13, 'M4208': 13, 'M4209': 13, 'M421': 13, 'M4210': 13, 'M4211': 13, 'M4212': 13, 'M4213': 13, 'M4214': 13, 'M4215': 13, 'M4216': 13, 'M4217': 13, 'M4218': 13, 'M4219': 13, 'M429': 13, 'M4290': 13, 'M4291': 13, 'M4292': 13, 'M4293': 13, 'M4294': 13, 'M4295': 13, 'M4296': 13, 'M4297': 13, 'M4298': 13, 'M4299': 13, 'M43': 13, 'M430': 13, 'M4300': 13, 'M4301': 13, 'M4302': 13, 'M4303': 13, 'M4304': 13, 'M4305': 13, 'M4306': 13, 'M4307': 13, 'M4308': 13, 'M4309': 13, 'M431': 13, 'M4310': 13, 'M4311': 13, 'M4312': 13, 'M4313': 13, 'M4314': 13, 'M4315': 13, 'M4316': 13, 'M4317': 13, 'M4318': 13, 'M4319': 13, 'M432': 13, 'M4320': 13, 'M4321': 13, 'M4322': 13, 'M4323': 13, 'M4324': 13, 'M4325': 13, 'M4326': 13, 'M4327': 13, 'M4328': 13, 'M4329': 13, 'M433': 13, 'M434': 13, 'M435': 13, 'M4350': 13, 'M4352': 13, 'M4353': 13, 'M4354': 13, 'M4355': 13, 'M4356': 13, 'M4357': 13, 'M4358': 13, 'M4359': 13, 'M436': 13, 'M438': 13, 'M4380': 13, 'M4381': 13, 'M4382': 13, 'M4383': 13, 'M4384': 13, 'M4385': 13, 'M4386': 13, 'M4387': 13, 'M4388': 13, 'M4389': 13, 'M439': 13, 'M4390': 13, 'M4391': 13, 'M4392': 13, 'M4393': 13, 'M4394': 13, 'M4395': 13, 'M4396': 13, 'M4397': 13, 'M4398': 13, 'M4399': 13, 'M45': 13, 'M450': 13, 'M4500': 13, 'M4501': 13, 'M4502': 13, 'M4503': 13, 'M4504': 13, 'M4505': 13, 'M4506': 13, 'M4507': 13, 'M4508': 13, 'M4509': 13, 'M46': 13, 'M460': 13, 'M4600': 13, 'M4601': 13, 'M4602': 13, 'M4603': 13, 'M4604': 13, 'M4605': 13, 'M4606': 13, 'M4607': 13, 'M4608': 13, 'M4609': 13, 'M461': 13, 'M462': 13, 'M4620': 13, 'M4621': 13, 'M4622': 13, 'M4623': 13, 'M4624': 13, 'M4625': 13, 'M4626': 13, 'M4627': 13, 'M4628': 13, 'M4629': 13, 'M463': 13, 'M4630': 13, 'M4631': 13, 'M4632': 13, 'M4633': 13, 'M4634': 13, 'M4635': 13, 'M4636': 13, 'M4637': 13, 'M4638': 13, 'M4639': 13, 'M464': 13, 'M4640': 13, 'M4641': 13, 'M4642': 13, 'M4643': 13, 'M4644': 13, 'M4645': 13, 'M4646': 13, 'M4647': 13, 'M4648': 13, 'M4649': 13, 'M465': 13, 'M4650': 13, 'M4651': 13, 'M4652': 13, 'M4653': 13, 'M4654': 13, 'M4655': 13, 'M4656': 13, 'M4657': 13, 'M4658': 13, 'M4659': 13, 'M468': 13, 'M4680': 13, 'M4681': 13, 'M4682': 13, 'M4683': 13, 'M4684': 13, 'M4685': 13, 'M4686': 13, 'M4687': 13, 'M4688': 13, 'M4689': 13, 'M469': 13, 'M4690': 13, 'M4691': 13, 'M4692': 13, 'M4693': 13, 'M4694': 13, 'M4695': 13, 'M4696': 13, 'M4697': 13, 'M4698': 13, 'M4699': 13, 'M47': 13, 'M470': 13, 'M4700': 13, 'M4701': 13, 'M4702': 13, 'M4703': 13, 'M4704': 13, 'M4705': 13, 'M4706': 13, 'M4707': 13, 'M4708': 13, 'M4709': 13, 'M471': 13, 'M4710': 13, 'M4711': 13, 'M4712': 13, 'M4713': 13, 'M4714': 13, 'M4715': 13, 'M4716': 13, 'M4717': 13, 'M4718': 13, 'M4719': 13, 'M472': 13, 'M4720': 13, 'M4721': 13, 'M4722': 13, 'M4723': 13, 'M4724': 13, 'M4725': 13, 'M4726': 13, 'M4727': 13, 'M4728': 13, 'M4729': 13, 'M478': 13, 'M4780': 13, 'M4781': 13, 'M4782': 13, 'M4783': 13, 'M4784': 13, 'M4785': 13, 'M4786': 13, 'M4787': 13, 'M4788': 13, 'M4789': 13, 'M479': 13, 'M4790': 13, 'M4791': 13, 'M4792': 13, 'M4793': 13, 'M4794': 13, 'M4795': 13, 'M4796': 13, 'M4797': 13, 'M4798': 13, 'M4799': 13, 'M48': 13, 'M480': 13, 'M4800': 13, 'M4801': 13, 'M4802': 13, 'M4803': 13, 'M4804': 13, 'M4805': 13, 'M4806': 13, 'M4807': 13, 'M4808': 13, 'M4809': 13, 'M481': 13, 'M4810': 13, 'M4811': 13, 'M4812': 13, 'M4813': 13, 'M4814': 13, 'M4815': 13, 'M4816': 13, 'M4817': 13, 'M4818': 13, 'M4819': 13, 'M482': 13, 'M4820': 13, 'M4821': 13, 'M4822': 13, 'M4823': 13, 'M4824': 13, 'M4825': 13, 'M4826': 13, 'M4827': 13, 'M4828': 13, 'M4829': 13, 'M483': 13, 'M4830': 13, 'M4831': 13, 'M4832': 13, 'M4833': 13, 'M4834': 13, 'M4835': 13, 'M4836': 13, 'M4837': 13, 'M4838': 13, 'M4839': 13, 'M484': 13, 'M4840': 13, 'M4841': 13, 'M4842': 13, 'M4843': 13, 'M4844': 13, 'M4845': 13, 'M4846': 13, 'M4847': 13, 'M4848': 13, 'M4849': 13, 'M485': 13, 'M4850': 13, 'M4851': 13, 'M4852': 13, 'M4853': 13, 'M4854': 13, 'M4855': 13, 'M4856': 13, 'M4857': 13, 'M4858': 13, 'M4859': 13, 'M488': 13, 'M4880': 13, 'M4881': 13, 'M4882': 13, 'M4883': 13, 'M4884': 13, 'M4885': 13, 'M4886': 13, 'M4887': 13, 'M4888': 13, 'M4889': 13, 'M489': 13, 'M4890': 13, 'M4891': 13, 'M4892': 13, 'M4893': 13, 'M4894': 13, 'M4895': 13, 'M4896': 13, 'M4897': 13, 'M4898': 13, 'M4899': 13, 'M49': 13, 'M490': 13, 'M4900': 13, 'M4901': 13, 'M4902': 13, 'M4903': 13, 'M4904': 13, 'M4905': 13, 'M4906': 13, 'M4907': 13, 'M4908': 13, 'M4909': 13, 'M491': 13, 'M4910': 13, 'M4911': 13, 'M4912': 13, 'M4913': 13, 'M4914': 13, 'M4915': 13, 'M4916': 13, 'M4917': 13, 'M4918': 13, 'M4919': 13, 'M492': 13, 'M4920': 13, 'M4921': 13, 'M4922': 13, 'M4923': 13, 'M4924': 13, 'M4925': 13, 'M4926': 13, 'M4927': 13, 'M4928': 13, 'M4929': 13, 'M493': 13, 'M4930': 13, 'M4931': 13, 'M4932': 13, 'M4933': 13, 'M4934': 13, 'M4935': 13, 'M4936': 13, 'M4937': 13, 'M4938': 13, 'M4939': 13, 'M494': 13, 'M4940': 13, 'M4941': 13, 'M4942': 13, 'M4943': 13, 'M4944': 13, 'M4945': 13, 'M4946': 13, 'M4947': 13, 'M4948': 13, 'M4949': 13, 'M495': 13, 'M4950': 13, 'M4951': 13, 'M4952': 13, 'M4953': 13, 'M4954': 13, 'M4955': 13, 'M4956': 13, 'M4957': 13, 'M4958': 13, 'M4959': 13, 'M498': 13, 'M4980': 13, 'M4981': 13, 'M4982': 13, 'M4983': 13, 'M4984': 13, 'M4985': 13, 'M4986': 13, 'M4987': 13, 'M4988': 13, 'M4989': 13, 'M50': 13, 'M500': 13, 'M501': 13, 'M502': 13, 'M503': 13, 'M508': 13, 'M509': 13, 'M51': 13, 'M510': 13, 'M511': 13, 'M512': 13, 'M513': 13, 'M514': 13, 'M518': 13, 'M519': 13, 'M53': 13, 'M530': 13, 'M531': 13, 'M532': 13, 'M5320': 13, 'M5321': 13, 'M5322': 13, 'M5323': 13, 'M5324': 13, 'M5325': 13, 'M5326': 13, 'M5327': 13, 'M5328': 13, 'M5329': 13, 'M533': 13, 'M538': 13, 'M5380': 13, 'M5381': 13, 'M5382': 13, 'M5383': 13, 'M5384': 13, 'M5385': 13, 'M5386': 13, 'M5387': 13, 'M5388': 13, 'M5389': 13, 'M539': 13, 'M5390': 13, 'M5391': 13, 'M5392': 13, 'M5393': 13, 'M5394': 13, 'M5395': 13, 'M5396': 13, 'M5397': 13, 'M5398': 13, 'M5399': 13, 'M54': 13, 'M540': 13, 'M5400': 13, 'M5401': 13, 'M5402': 13, 'M5403': 13, 'M5404': 13, 'M5405': 13, 'M5406': 13, 'M5407': 13, 'M5408': 13, 'M5409': 13, 'M541': 13, 'M5410': 13, 'M5411': 13, 'M5412': 13, 'M5413': 13, 'M5414': 13, 'M5415': 13, 'M5416': 13, 'M5417': 13, 'M5418': 13, 'M5419': 13, 'M542': 13, 'M543': 13, 'M544': 13, 'M545': 13, 'M546': 13, 'M548': 13, 'M5480': 13, 'M5481': 13, 'M5482': 13, 'M5483': 13, 'M5484': 13, 'M5485': 13, 'M5486': 13, 'M5487': 13, 'M5488': 13, 'M5489': 13, 'M549': 13, 'M5490': 13, 'M5491': 13, 'M5492': 13, 'M5493': 13, 'M5494': 13, 'M5495': 13, 'M5496': 13, 'M5497': 13, 'M5498': 13, 'M5499': 13, 'M60': 13, 'M600': 13, 'M6000': 13, 'M6001': 13, 'M6002': 13, 'M6003': 13, 'M6004': 13, 'M6005': 13, 'M6006': 13, 'M6007': 13, 'M6008': 13, 'M6009': 13, 'M601': 13, 'M6010': 13, 'M6011': 13, 'M6012': 13, 'M6013': 13, 'M6014': 13, 'M6015': 13, 'M6016': 13, 'M6017': 13, 'M6018': 13, 'M6019': 13, 'M602': 13, 'M6020': 13, 'M6021': 13, 'M6022': 13, 'M6023': 13, 'M6024': 13, 'M6025': 13, 'M6026': 13, 'M6027': 13, 'M6028': 13, 'M6029': 13, 'M608': 13, 'M6080': 13, 'M6081': 13, 'M6082': 13, 'M6083': 13, 'M6084': 13, 'M6085': 13, 'M6086': 13, 'M6087': 13, 'M6088': 13, 'M6089': 13, 'M609': 13, 'M6090': 13, 'M6091': 13, 'M6092': 13, 'M6093': 13, 'M6094': 13, 'M6095': 13, 'M6096': 13, 'M6097': 13, 'M6098': 13, 'M6099': 13, 'M61': 13, 'M610': 13, 'M6100': 13, 'M6101': 13, 'M6102': 13, 'M6103': 13, 'M6104': 13, 'M6105': 13, 'M6106': 13, 'M6107': 13, 'M6108': 13, 'M6109': 13, 'M611': 13, 'M6110': 13, 'M6111': 13, 'M6112': 13, 'M6113': 13, 'M6114': 13, 'M6115': 13, 'M6116': 13, 'M6117': 13, 'M6118': 13, 'M6119': 13, 'M612': 13, 'M6120': 13, 'M6121': 13, 'M6122': 13, 'M6123': 13, 'M6124': 13, 'M6125': 13, 'M6126': 13, 'M6127': 13, 'M6128': 13, 'M6129': 13, 'M613': 13, 'M6130': 13, 'M6131': 13, 'M6132': 13, 'M6133': 13, 'M6134': 13, 'M6135': 13, 'M6136': 13, 'M6137': 13, 'M6138': 13, 'M6139': 13, 'M614': 13, 'M6140': 13, 'M6141': 13, 'M6142': 13, 'M6143': 13, 'M6144': 13, 'M6145': 13, 'M6146': 13, 'M6147': 13, 'M6148': 13, 'M6149': 13, 'M615': 13, 'M6150': 13, 'M6151': 13, 'M6152': 13, 'M6153': 13, 'M6154': 13, 'M6155': 13, 'M6156': 13, 'M6157': 13, 'M6158': 13, 'M6159': 13, 'M619': 13, 'M6190': 13, 'M6191': 13, 'M6192': 13, 'M6193': 13, 'M6194': 13, 'M6195': 13, 'M6196': 13, 'M6197': 13, 'M6198': 13, 'M6199': 13, 'M62': 13, 'M620': 13, 'M6200': 13, 'M6201': 13, 'M6202': 13, 'M6203': 13, 'M6204': 13, 'M6205': 13, 'M6206': 13, 'M6207': 13, 'M6208': 13, 'M6209': 13, 'M621': 13, 'M6210': 13, 'M6211': 13, 'M6212': 13, 'M6213': 13, 'M6214': 13, 'M6215': 13, 'M6216': 13, 'M6217': 13, 'M6218': 13, 'M6219': 13, 'M622': 13, 'M6220': 13, 'M6221': 13, 'M6222': 13, 'M6223': 13, 'M6224': 13, 'M6225': 13, 'M6226': 13, 'M6227': 13, 'M6228': 13, 'M6229': 13, 'M623': 13, 'M6230': 13, 'M6231': 13, 'M6232': 13, 'M6233': 13, 'M6234': 13, 'M6235': 13, 'M6236': 13, 'M6237': 13, 'M6238': 13, 'M6239': 13, 'M624': 13, 'M6240': 13, 'M6241': 13, 'M6242': 13, 'M6243': 13, 'M6244': 13, 'M6245': 13, 'M6246': 13, 'M6247': 13, 'M6248': 13, 'M6249': 13, 'M625': 13, 'M6250': 13, 'M6251': 13, 'M6252': 13, 'M6253': 13, 'M6254': 13, 'M6255': 13, 'M6256': 13, 'M6257': 13, 'M6258': 13, 'M6259': 13, 'M626': 13, 'M6260': 13, 'M6261': 13, 'M6262': 13, 'M6263': 13, 'M6264': 13, 'M6265': 13, 'M6266': 13, 'M6267': 13, 'M6268': 13, 'M6269': 13, 'M628': 13, 'M6280': 13, 'M6281': 13, 'M6282': 13, 'M6283': 13, 'M6284': 13, 'M6285': 13, 'M6286': 13, 'M6287': 13, 'M6288': 13, 'M6289': 13, 'M629': 13, 'M6290': 13, 'M6291': 13, 'M6292': 13, 'M6293': 13, 'M6294': 13, 'M6295': 13, 'M6296': 13, 'M6297': 13, 'M6298': 13, 'M6299': 13, 'M63': 13, 'M630': 13, 'M6300': 13, 'M6301': 13, 'M6302': 13, 'M6303': 13, 'M6304': 13, 'M6305': 13, 'M6306': 13, 'M6307': 13, 'M6308': 13, 'M6309': 13, 'M631': 13, 'M6310': 13, 'M6311': 13, 'M6312': 13, 'M6313': 13, 'M6314': 13, 'M6315': 13, 'M6316': 13, 'M6317': 13, 'M6318': 13, 'M6319': 13, 'M632': 13, 'M6320': 13, 'M6321': 13, 'M6322': 13, 'M6323': 13, 'M6324': 13, 'M6325': 13, 'M6326': 13, 'M6327': 13, 'M6328': 13, 'M6329': 13, 'M633': 13, 'M6330': 13, 'M6331': 13, 'M6332': 13, 'M6333': 13, 'M6334': 13, 'M6335': 13, 'M6336': 13, 'M6337': 13, 'M6338': 13, 'M6339': 13, 'M638': 13, 'M6380': 13, 'M6381': 13, 'M6382': 13, 'M6383': 13, 'M6384': 13, 'M6385': 13, 'M6386': 13, 'M6387': 13, 'M6388': 13, 'M6389': 13, 'M65': 13, 'M650': 13, 'M6500': 13, 'M6501': 13, 'M6502': 13, 'M6503': 13, 'M6504': 13, 'M6505': 13, 'M6506': 13, 'M6507': 13, 'M6508': 13, 'M6509': 13, 'M651': 13, 'M6510': 13, 'M6511': 13, 'M6512': 13, 'M6513': 13, 'M6514': 13, 'M6515': 13, 'M6516': 13, 'M6517': 13, 'M6518': 13, 'M6519': 13, 'M652': 13, 'M6520': 13, 'M6522': 13, 'M6523': 13, 'M6524': 13, 'M6525': 13, 'M6526': 13, 'M6527': 13, 'M6528': 13, 'M6529': 13, 'M653': 13, 'M654': 13, 'M658': 13, 'M6580': 13, 'M6581': 13, 'M6582': 13, 'M6583': 13, 'M6584': 13, 'M6585': 13, 'M6586': 13, 'M6587': 13, 'M6588': 13, 'M6589': 13, 'M659': 13, 'M6590': 13, 'M6591': 13, 'M6592': 13, 'M6593': 13, 'M6594': 13, 'M6595': 13, 'M6596': 13, 'M6597': 13, 'M6598': 13, 'M6599': 13, 'M66': 13, 'M660': 13, 'M661': 13, 'M6610': 13, 'M6611': 13, 'M6612': 13, 'M6613': 13, 'M6614': 13, 'M6615': 13, 'M6616': 13, 'M6617': 13, 'M6618': 13, 'M6619': 13, 'M662': 13, 'M6620': 13, 'M6621': 13, 'M6622': 13, 'M6623': 13, 'M6624': 13, 'M6625': 13, 'M6626': 13, 'M6627': 13, 'M6628': 13, 'M6629': 13, 'M663': 13, 'M6630': 13, 'M6631': 13, 'M6632': 13, 'M6633': 13, 'M6634': 13, 'M6635': 13, 'M6636': 13, 'M6637': 13, 'M6638': 13, 'M6639': 13, 'M664': 13, 'M6640': 13, 'M6641': 13, 'M6642': 13, 'M6643': 13, 'M6644': 13, 'M6645': 13, 'M6646': 13, 'M6647': 13, 'M6648': 13, 'M6649': 13, 'M665': 13, 'M6650': 13, 'M6651': 13, 'M6652': 13, 'M6653': 13, 'M6654': 13, 'M6655': 13, 'M6656': 13, 'M6657': 13, 'M6658': 13, 'M6659': 13, 'M67': 13, 'M670': 13, 'M671': 13, 'M6710': 13, 'M6711': 13, 'M6712': 13, 'M6713': 13, 'M6714': 13, 'M6715': 13, 'M6716': 13, 'M6717': 13, 'M6718': 13, 'M6719': 13, 'M672': 13, 'M6720': 13, 'M6721': 13, 'M6722': 13, 'M6723': 13, 'M6724': 13, 'M6725': 13, 'M6726': 13, 'M6727': 13, 'M6728': 13, 'M6729': 13, 'M673': 13, 'M6730': 13, 'M6731': 13, 'M6732': 13, 'M6733': 13, 'M6734': 13, 'M6735': 13, 'M6736': 13, 'M6737': 13, 'M6738': 13, 'M6739': 13, 'M674': 13, 'M6740': 13, 'M6741': 13, 'M6742': 13, 'M6743': 13, 'M6744': 13, 'M6745': 13, 'M6746': 13, 'M6747': 13, 'M6748': 13, 'M6749': 13, 'M678': 13, 'M6780': 13, 'M6781': 13, 'M6782': 13, 'M6783': 13, 'M6784': 13, 'M6785': 13, 'M6786': 13, 'M6787': 13, 'M6788': 13, 'M6789': 13, 'M679': 13, 'M6790': 13, 'M6791': 13, 'M6792': 13, 'M6793': 13, 'M6794': 13, 'M6795': 13, 'M6796': 13, 'M6797': 13, 'M6798': 13, 'M6799': 13, 'M68': 13, 'M680': 13, 'M6800': 13, 'M6801': 13, 'M6802': 13, 'M6803': 13, 'M6804': 13, 'M6805': 13, 'M6806': 13, 'M6807': 13, 'M6808': 13, 'M6809': 13, 'M688': 13, 'M6880': 13, 'M6881': 13, 'M6882': 13, 'M6883': 13, 'M6884': 13, 'M6885': 13, 'M6886': 13, 'M6887': 13, 'M6888': 13, 'M6889': 13, 'M70': 13, 'M700': 13, 'M701': 13, 'M702': 13, 'M703': 13, 'M704': 13, 'M705': 13, 'M706': 13, 'M707': 13, 'M708': 13, 'M709': 13, 'M71': 13, 'M710': 13, 'M7100': 13, 'M7101': 13, 'M7102': 13, 'M7103': 13, 'M7104': 13, 'M7105': 13, 'M7106': 13, 'M7107': 13, 'M7108': 13, 'M7109': 13, 'M711': 13, 'M7110': 13, 'M7111': 13, 'M7112': 13, 'M7113': 13, 'M7114': 13, 'M7115': 13, 'M7116': 13, 'M7117': 13, 'M7118': 13, 'M7119': 13, 'M712': 13, 'M713': 13, 'M7130': 13, 'M7131': 13, 'M7132': 13, 'M7133': 13, 'M7134': 13, 'M7135': 13, 'M7136': 13, 'M7137': 13, 'M7138': 13, 'M7139': 13, 'M714': 13, 'M7140': 13, 'M7142': 13, 'M7143': 13, 'M7144': 13, 'M7145': 13, 'M7146': 13, 'M7147': 13, 'M7148': 13, 'M7149': 13, 'M715': 13, 'M7150': 13, 'M7152': 13, 'M7153': 13, 'M7154': 13, 'M7155': 13, 'M7156': 13, 'M7157': 13, 'M7158': 13, 'M7159': 13, 'M718': 13, 'M7180': 13, 'M7181': 13, 'M7182': 13, 'M7183': 13, 'M7184': 13, 'M7185': 13, 'M7186': 13, 'M7187': 13, 'M7188': 13, 'M7189': 13, 'M719': 13, 'M7190': 13, 'M7191': 13, 'M7192': 13, 'M7193': 13, 'M7194': 13, 'M7195': 13, 'M7196': 13, 'M7197': 13, 'M7198': 13, 'M7199': 13, 'M72': 13, 'M720': 13, 'M721': 13, 'M722': 13, 'M724': 13, 'M7240': 13, 'M7241': 13, 'M7242': 13, 'M7243': 13, 'M7244': 13, 'M7245': 13, 'M7246': 13, 'M7247': 13, 'M7248': 13, 'M7249': 13, 'M726': 13, 'M7260': 13, 'M7261': 13, 'M7262': 13, 'M7263': 13, 'M7264': 13, 'M7265': 13, 'M7266': 13, 'M7267': 13, 'M7268': 13, 'M7269': 13, 'M728': 13, 'M7280': 13, 'M7281': 13, 'M7282': 13, 'M7283': 13, 'M7284': 13, 'M7285': 13, 'M7286': 13, 'M7287': 13, 'M7288': 13, 'M7289': 13, 'M729': 13, 'M7290': 13, 'M7291': 13, 'M7292': 13, 'M7293': 13, 'M7294': 13, 'M7295': 13, 'M7296': 13, 'M7297': 13, 'M7298': 13, 'M7299': 13, 'M73': 13, 'M730': 13, 'M7300': 13, 'M7301': 13, 'M7302': 13, 'M7303': 13, 'M7304': 13, 'M7305': 13, 'M7306': 13, 'M7307': 13, 'M7308': 13, 'M7309': 13, 'M731': 13, 'M7310': 13, 'M7311': 13, 'M7312': 13, 'M7313': 13, 'M7314': 13, 'M7315': 13, 'M7316': 13, 'M7317': 13, 'M7318': 13, 'M7319': 13, 'M738': 13, 'M7380': 13, 'M7381': 13, 'M7382': 13, 'M7383': 13, 'M7384': 13, 'M7385': 13, 'M7386': 13, 'M7387': 13, 'M7388': 13, 'M7389': 13, 'M75': 13, 'M750': 13, 'M751': 13, 'M752': 13, 'M753': 13, 'M754': 13, 'M755': 13, 'M756': 13, 'M758': 13, 'M759': 13, 'M76': 13, 'M760': 13, 'M761': 13, 'M762': 13, 'M763': 13, 'M764': 13, 'M765': 13, 'M766': 13, 'M767': 13, 'M768': 13, 'M769': 13, 'M77': 13, 'M770': 13, 'M771': 13, 'M772': 13, 'M773': 13, 'M774': 13, 'M775': 13, 'M778': 13, 'M779': 13, 'M79': 13, 'M790': 13, 'M7900': 13, 'M7901': 13, 'M7902': 13, 'M7903': 13, 'M7904': 13, 'M7905': 13, 'M7906': 13, 'M7907': 13, 'M7908': 13, 'M7909': 13, 'M791': 13, 'M7910': 13, 'M7911': 13, 'M7912': 13, 'M7913': 13, 'M7914': 13, 'M7915': 13, 'M7916': 13, 'M7917': 13, 'M7918': 13, 'M7919': 13, 'M792': 13, 'M7920': 13, 'M7921': 13, 'M7922': 13, 'M7923': 13, 'M7924': 13, 'M7925': 13, 'M7926': 13, 'M7927': 13, 'M7928': 13, 'M7929': 13, 'M793': 13, 'M7930': 13, 'M7931': 13, 'M7932': 13, 'M7933': 13, 'M7934': 13, 'M7935': 13, 'M7936': 13, 'M7937': 13, 'M7938': 13, 'M7939': 13, 'M794': 13, 'M7946': 13, 'M795': 13, 'M7950': 13, 'M7951': 13, 'M7952': 13, 'M7953': 13, 'M7954': 13, 'M7955': 13, 'M7956': 13, 'M7957': 13, 'M7958': 13, 'M7959': 13, 'M796': 13, 'M7960': 13, 'M7961': 13, 'M7962': 13, 'M7963': 13, 'M7964': 13, 'M7965': 13, 'M7966': 13, 'M7967': 13, 'M7969': 13, 'M797': 13, 'M7970': 13, 'M798': 13, 'M7980': 13, 'M7981': 13, 'M7982': 13, 'M7983': 13, 'M7984': 13, 'M7985': 13, 'M7986': 13, 'M7987': 13, 'M7988': 13, 'M7989': 13, 'M799': 13, 'M7990': 13, 'M7991': 13, 'M7992': 13, 'M7993': 13, 'M7994': 13, 'M7995': 13, 'M7996': 13, 'M7997': 13, 'M7998': 13, 'M7999': 13, 'M80': 13, 'M800': 13, 'M8000': 13, 'M8001': 13, 'M8002': 13, 'M8003': 13, 'M8004': 13, 'M8005': 13, 'M8006': 13, 'M8007': 13, 'M8008': 13, 'M8009': 13, 'M801': 13, 'M8010': 13, 'M8011': 13, 'M8012': 13, 'M8013': 13, 'M8014': 13, 'M8015': 13, 'M8016': 13, 'M8017': 13, 'M8018': 13, 'M8019': 13, 'M802': 13, 'M8020': 13, 'M8021': 13, 'M8022': 13, 'M8023': 13, 'M8024': 13, 'M8025': 13, 'M8026': 13, 'M8027': 13, 'M8028': 13, 'M8029': 13, 'M803': 13, 'M8030': 13, 'M8031': 13, 'M8032': 13, 'M8033': 13, 'M8034': 13, 'M8035': 13, 'M8036': 13, 'M8037': 13, 'M8038': 13, 'M8039': 13, 'M804': 13, 'M8040': 13, 'M8041': 13, 'M8042': 13, 'M8043': 13, 'M8044': 13, 'M8045': 13, 'M8046': 13, 'M8047': 13, 'M8048': 13, 'M8049': 13, 'M805': 13, 'M8050': 13, 'M8051': 13, 'M8052': 13, 'M8053': 13, 'M8054': 13, 'M8055': 13, 'M8056': 13, 'M8057': 13, 'M8058': 13, 'M8059': 13, 'M808': 13, 'M8080': 13, 'M8081': 13, 'M8082': 13, 'M8083': 13, 'M8084': 13, 'M8085': 13, 'M8086': 13, 'M8087': 13, 'M8088': 13, 'M8089': 13, 'M809': 13, 'M8090': 13, 'M8091': 13, 'M8092': 13, 'M8093': 13, 'M8094': 13, 'M8095': 13, 'M8096': 13, 'M8097': 13, 'M8098': 13, 'M8099': 13, 'M81': 13, 'M810': 13, 'M8100': 13, 'M8101': 13, 'M8102': 13, 'M8103': 13, 'M8104': 13, 'M8105': 13, 'M8106': 13, 'M8107': 13, 'M8108': 13, 'M8109': 13, 'M811': 13, 'M8110': 13, 'M8111': 13, 'M8112': 13, 'M8113': 13, 'M8114': 13, 'M8115': 13, 'M8116': 13, 'M8117': 13, 'M8118': 13, 'M8119': 13, 'M812': 13, 'M8120': 13, 'M8121': 13, 'M8122': 13, 'M8123': 13, 'M8124': 13, 'M8125': 13, 'M8126': 13, 'M8127': 13, 'M8128': 13, 'M8129': 13, 'M813': 13, 'M8130': 13, 'M8131': 13, 'M8132': 13, 'M8133': 13, 'M8134': 13, 'M8135': 13, 'M8136': 13, 'M8137': 13, 'M8138': 13, 'M8139': 13, 'M814': 13, 'M8140': 13, 'M8141': 13, 'M8142': 13, 'M8143': 13, 'M8144': 13, 'M8145': 13, 'M8146': 13, 'M8147': 13, 'M8148': 13, 'M8149': 13, 'M815': 13, 'M8150': 13, 'M8151': 13, 'M8152': 13, 'M8153': 13, 'M8154': 13, 'M8155': 13, 'M8156': 13, 'M8157': 13, 'M8158': 13, 'M8159': 13, 'M816': 13, 'M8160': 13, 'M8165': 13, 'M8166': 13, 'M8167': 13, 'M8169': 13, 'M818': 13, 'M8180': 13, 'M8181': 13, 'M8182': 13, 'M8183': 13, 'M8184': 13, 'M8185': 13, 'M8186': 13, 'M8187': 13, 'M8188': 13, 'M8189': 13, 'M819': 13, 'M8190': 13, 'M8191': 13, 'M8192': 13, 'M8193': 13, 'M8194': 13, 'M8195': 13, 'M8196': 13, 'M8197': 13, 'M8198': 13, 'M8199': 13, 'M82': 13, 'M820': 13, 'M8200': 13, 'M8201': 13, 'M8202': 13, 'M8203': 13, 'M8204': 13, 'M8205': 13, 'M8206': 13, 'M8207': 13, 'M8208': 13, 'M8209': 13, 'M821': 13, 'M8210': 13, 'M8211': 13, 'M8212': 13, 'M8213': 13, 'M8214': 13, 'M8215': 13, 'M8216': 13, 'M8217': 13, 'M8218': 13, 'M8219': 13, 'M828': 13, 'M8280': 13, 'M8281': 13, 'M8282': 13, 'M8283': 13, 'M8284': 13, 'M8285': 13, 'M8286': 13, 'M8287': 13, 'M8288': 13, 'M8289': 13, 'M83': 13, 'M830': 13, 'M8300': 13, 'M8301': 13, 'M8302': 13, 'M8303': 13, 'M8304': 13, 'M8305': 13, 'M8306': 13, 'M8307': 13, 'M8308': 13, 'M8309': 13, 'M831': 13, 'M8310': 13, 'M8311': 13, 'M8312': 13, 'M8313': 13, 'M8314': 13, 'M8315': 13, 'M8316': 13, 'M8317': 13, 'M8318': 13, 'M8319': 13, 'M832': 13, 'M8320': 13, 'M8321': 13, 'M8322': 13, 'M8323': 13, 'M8324': 13, 'M8325': 13, 'M8326': 13, 'M8327': 13, 'M8328': 13, 'M8329': 13, 'M833': 13, 'M8330': 13, 'M8331': 13, 'M8332': 13, 'M8333': 13, 'M8334': 13, 'M8335': 13, 'M8336': 13, 'M8337': 13, 'M8338': 13, 'M8339': 13, 'M834': 13, 'M8340': 13, 'M8341': 13, 'M8342': 13, 'M8343': 13, 'M8344': 13, 'M8345': 13, 'M8346': 13, 'M8347': 13, 'M8348': 13, 'M8349': 13, 'M835': 13, 'M8350': 13, 'M8351': 13, 'M8352': 13, 'M8353': 13, 'M8354': 13, 'M8355': 13, 'M8356': 13, 'M8357': 13, 'M8358': 13, 'M8359': 13, 'M838': 13, 'M8380': 13, 'M8381': 13, 'M8382': 13, 'M8383': 13, 'M8384': 13, 'M8385': 13, 'M8386': 13, 'M8387': 13, 'M8388': 13, 'M8389': 13, 'M839': 13, 'M8390': 13, 'M8391': 13, 'M8392': 13, 'M8393': 13, 'M8394': 13, 'M8395': 13, 'M8396': 13, 'M8397': 13, 'M8398': 13, 'M8399': 13, 'M84': 13, 'M840': 13, 'M8400': 13, 'M8401': 13, 'M8402': 13, 'M8403': 13, 'M8404': 13, 'M8405': 13, 'M8406': 13, 'M8407': 13, 'M8408': 13, 'M8409': 13, 'M841': 13, 'M8410': 13, 'M8411': 13, 'M8412': 13, 'M8413': 13, 'M8414': 13, 'M8415': 13, 'M8416': 13, 'M8417': 13, 'M8418': 13, 'M8419': 13, 'M842': 13, 'M8420': 13, 'M8421': 13, 'M8422': 13, 'M8423': 13, 'M8424': 13, 'M8425': 13, 'M8426': 13, 'M8427': 13, 'M8428': 13, 'M8429': 13, 'M843': 13, 'M8430': 13, 'M8431': 13, 'M8432': 13, 'M8433': 13, 'M8434': 13, 'M8435': 13, 'M8436': 13, 'M8437': 13, 'M8438': 13, 'M8439': 13, 'M844': 13, 'M8440': 13, 'M8441': 13, 'M8442': 13, 'M8443': 13, 'M8444': 13, 'M8445': 13, 'M8446': 13, 'M8447': 13, 'M8448': 13, 'M8449': 13, 'M848': 13, 'M8480': 13, 'M8481': 13, 'M8482': 13, 'M8483': 13, 'M8484': 13, 'M8485': 13, 'M8486': 13, 'M8487': 13, 'M8488': 13, 'M8489': 13, 'M849': 13, 'M8490': 13, 'M8491': 13, 'M8492': 13, 'M8493': 13, 'M8494': 13, 'M8495': 13, 'M8496': 13, 'M8497': 13, 'M8498': 13, 'M8499': 13, 'M85': 13, 'M850': 13, 'M8500': 13, 'M8501': 13, 'M8502': 13, 'M8503': 13, 'M8504': 13, 'M8505': 13, 'M8506': 13, 'M8507': 13, 'M8508': 13, 'M8509': 13, 'M851': 13, 'M8510': 13, 'M8511': 13, 'M8512': 13, 'M8513': 13, 'M8514': 13, 'M8515': 13, 'M8516': 13, 'M8517': 13, 'M8518': 13, 'M8519': 13, 'M852': 13, 'M853': 13, 'M8530': 13, 'M8531': 13, 'M8532': 13, 'M8533': 13, 'M8534': 13, 'M8535': 13, 'M8536': 13, 'M8537': 13, 'M8538': 13, 'M8539': 13, 'M854': 13, 'M8540': 13, 'M8541': 13, 'M8542': 13, 'M8543': 13, 'M8544': 13, 'M8545': 13, 'M8546': 13, 'M8547': 13, 'M8548': 13, 'M8549': 13, 'M855': 13, 'M8550': 13, 'M8551': 13, 'M8552': 13, 'M8553': 13, 'M8554': 13, 'M8555': 13, 'M8556': 13, 'M8557': 13, 'M8558': 13, 'M8559': 13, 'M856': 13, 'M8560': 13, 'M8561': 13, 'M8562': 13, 'M8563': 13, 'M8564': 13, 'M8565': 13, 'M8566': 13, 'M8567': 13, 'M8568': 13, 'M8569': 13, 'M858': 13, 'M8580': 13, 'M8581': 13, 'M8582': 13, 'M8583': 13, 'M8584': 13, 'M8585': 13, 'M8586': 13, 'M8587': 13, 'M8588': 13, 'M8589': 13, 'M859': 13, 'M8590': 13, 'M8591': 13, 'M8592': 13, 'M8593': 13, 'M8594': 13, 'M8595': 13, 'M8596': 13, 'M8597': 13, 'M8598': 13, 'M8599': 13, 'M86': 13, 'M860': 13, 'M8600': 13, 'M8601': 13, 'M8602': 13, 'M8603': 13, 'M8604': 13, 'M8605': 13, 'M8606': 13, 'M8607': 13, 'M8608': 13, 'M8609': 13, 'M861': 13, 'M8610': 13, 'M8611': 13, 'M8612': 13, 'M8613': 13, 'M8614': 13, 'M8615': 13, 'M8616': 13, 'M8617': 13, 'M8618': 13, 'M8619': 13, 'M862': 13, 'M8620': 13, 'M8621': 13, 'M8622': 13, 'M8623': 13, 'M8624': 13, 'M8625': 13, 'M8626': 13, 'M8627': 13, 'M8628': 13, 'M8629': 13, 'M863': 13, 'M8630': 13, 'M8631': 13, 'M8632': 13, 'M8633': 13, 'M8634': 13, 'M8635': 13, 'M8636': 13, 'M8637': 13, 'M8638': 13, 'M8639': 13, 'M864': 13, 'M8640': 13, 'M8641': 13, 'M8642': 13, 'M8643': 13, 'M8644': 13, 'M8645': 13, 'M8646': 13, 'M8647': 13, 'M8648': 13, 'M8649': 13, 'M865': 13, 'M8650': 13, 'M8651': 13, 'M8652': 13, 'M8653': 13, 'M8654': 13, 'M8655': 13, 'M8656': 13, 'M8657': 13, 'M8658': 13, 'M8659': 13, 'M866': 13, 'M8660': 13, 'M8661': 13, 'M8662': 13, 'M8663': 13, 'M8664': 13, 'M8665': 13, 'M8666': 13, 'M8667': 13, 'M8668': 13, 'M8669': 13, 'M868': 13, 'M8680': 13, 'M8681': 13, 'M8682': 13, 'M8683': 13, 'M8684': 13, 'M8685': 13, 'M8686': 13, 'M8687': 13, 'M8688': 13, 'M8689': 13, 'M869': 13, 'M8690': 13, 'M8691': 13, 'M8692': 13, 'M8693': 13, 'M8694': 13, 'M8695': 13, 'M8696': 13, 'M8697': 13, 'M8698': 13, 'M8699': 13, 'M87': 13, 'M870': 13, 'M8700': 13, 'M8701': 13, 'M8702': 13, 'M8703': 13, 'M8704': 13, 'M8705': 13, 'M8706': 13, 'M8707': 13, 'M8708': 13, 'M8709': 13, 'M871': 13, 'M8710': 13, 'M8711': 13, 'M8712': 13, 'M8713': 13, 'M8714': 13, 'M8715': 13, 'M8716': 13, 'M8717': 13, 'M8718': 13, 'M8719': 13, 'M872': 13, 'M8720': 13, 'M8721': 13, 'M8722': 13, 'M8723': 13, 'M8724': 13, 'M8725': 13, 'M8726': 13, 'M8727': 13, 'M8728': 13, 'M8729': 13, 'M873': 13, 'M8730': 13, 'M8731': 13, 'M8732': 13, 'M8733': 13, 'M8734': 13, 'M8735': 13, 'M8736': 13, 'M8737': 13, 'M8738': 13, 'M8739': 13, 'M878': 13, 'M8780': 13, 'M8781': 13, 'M8782': 13, 'M8783': 13, 'M8784': 13, 'M8785': 13, 'M8786': 13, 'M8787': 13, 'M8788': 13, 'M8789': 13, 'M879': 13, 'M8790': 13, 'M8791': 13, 'M8792': 13, 'M8793': 13, 'M8794': 13, 'M8795': 13, 'M8796': 13, 'M8797': 13, 'M8798': 13, 'M8799': 13, 'M88': 13, 'M880': 13, 'M888': 13, 'M8880': 13, 'M8881': 13, 'M8882': 13, 'M8883': 13, 'M8884': 13, 'M8885': 13, 'M8886': 13, 'M8887': 13, 'M8888': 13, 'M8889': 13, 'M889': 13, 'M8890': 13, 'M8891': 13, 'M8892': 13, 'M8893': 13, 'M8894': 13, 'M8895': 13, 'M8896': 13, 'M8897': 13, 'M8898': 13, 'M8899': 13, 'M89': 13, 'M890': 13, 'M8900': 13, 'M8901': 13, 'M8902': 13, 'M8903': 13, 'M8904': 13, 'M8905': 13, 'M8906': 13, 'M8907': 13, 'M8908': 13, 'M8909': 13, 'M891': 13, 'M8910': 13, 'M8911': 13, 'M8912': 13, 'M8913': 13, 'M8914': 13, 'M8915': 13, 'M8916': 13, 'M8917': 13, 'M8918': 13, 'M8919': 13, 'M892': 13, 'M8920': 13, 'M8921': 13, 'M8922': 13, 'M8923': 13, 'M8924': 13, 'M8925': 13, 'M8926': 13, 'M8927': 13, 'M8928': 13, 'M8929': 13, 'M893': 13, 'M8930': 13, 'M8931': 13, 'M8932': 13, 'M8933': 13, 'M8934': 13, 'M8935': 13, 'M8936': 13, 'M8937': 13, 'M8938': 13, 'M8939': 13, 'M894': 13, 'M8940': 13, 'M8941': 13, 'M8942': 13, 'M8943': 13, 'M8944': 13, 'M8945': 13, 'M8946': 13, 'M8947': 13, 'M8948': 13, 'M8949': 13, 'M895': 13, 'M8950': 13, 'M8951': 13, 'M8952': 13, 'M8953': 13, 'M8954': 13, 'M8955': 13, 'M8956': 13, 'M8957': 13, 'M8958': 13, 'M8959': 13, 'M896': 13, 'M8960': 13, 'M8961': 13, 'M8962': 13, 'M8963': 13, 'M8964': 13, 'M8965': 13, 'M8966': 13, 'M8967': 13, 'M8968': 13, 'M8969': 13, 'M898': 13, 'M8980': 13, 'M8981': 13, 'M8982': 13, 'M8983': 13, 'M8984': 13, 'M8985': 13, 'M8986': 13, 'M8987': 13, 'M8988': 13, 'M8989': 13, 'M899': 13, 'M8990': 13, 'M8991': 13, 'M8992': 13, 'M8993': 13, 'M8994': 13, 'M8995': 13, 'M8996': 13, 'M8997': 13, 'M8998': 13, 'M8999': 13, 'M90': 13, 'M900': 13, 'M9000': 13, 'M9001': 13, 'M9002': 13, 'M9003': 13, 'M9004': 13, 'M9005': 13, 'M9006': 13, 'M9007': 13, 'M9008': 13, 'M9009': 13, 'M901': 13, 'M9010': 13, 'M9011': 13, 'M9012': 13, 'M9013': 13, 'M9014': 13, 'M9015': 13, 'M9016': 13, 'M9017': 13, 'M9018': 13, 'M9019': 13, 'M902': 13, 'M9020': 13, 'M9021': 13, 'M9022': 13, 'M9023': 13, 'M9024': 13, 'M9025': 13, 'M9026': 13, 'M9027': 13, 'M9028': 13, 'M9029': 13, 'M903': 13, 'M9030': 13, 'M9031': 13, 'M9032': 13, 'M9033': 13, 'M9034': 13, 'M9035': 13, 'M9036': 13, 'M9037': 13, 'M9038': 13, 'M9039': 13, 'M904': 13, 'M9040': 13, 'M9041': 13, 'M9042': 13, 'M9043': 13, 'M9044': 13, 'M9045': 13, 'M9046': 13, 'M9047': 13, 'M9048': 13, 'M9049': 13, 'M905': 13, 'M9050': 13, 'M9051': 13, 'M9052': 13, 'M9053': 13, 'M9054': 13, 'M9055': 13, 'M9056': 13, 'M9057': 13, 'M9058': 13, 'M9059': 13, 'M906': 13, 'M9060': 13, 'M9061': 13, 'M9062': 13, 'M9063': 13, 'M9064': 13, 'M9065': 13, 'M9066': 13, 'M9067': 13, 'M9068': 13, 'M9069': 13, 'M907': 13, 'M9070': 13, 'M9071': 13, 'M9072': 13, 'M9073': 13, 'M9074': 13, 'M9075': 13, 'M9076': 13, 'M9077': 13, 'M9078': 13, 'M9079': 13, 'M908': 13, 'M9080': 13, 'M9081': 13, 'M9082': 13, 'M9083': 13, 'M9084': 13, 'M9085': 13, 'M9086': 13, 'M9087': 13, 'M9088': 13, 'M9089': 13, 'M91': 13, 'M910': 13, 'M911': 13, 'M912': 13, 'M913': 13, 'M918': 13, 'M919': 13, 'M92': 13, 'M920': 13, 'M921': 13, 'M922': 13, 'M923': 13, 'M924': 13, 'M925': 13, 'M926': 13, 'M927': 13, 'M928': 13, 'M929': 13, 'M93': 13, 'M930': 13, 'M931': 13, 'M932': 13, 'M9320': 13, 'M9321': 13, 'M9322': 13, 'M9323': 13, 'M9324': 13, 'M9325': 13, 'M9326': 13, 'M9327': 13, 'M9328': 13, 'M9329': 13, 'M938': 13, 'M9380': 13, 'M9381': 13, 'M9382': 13, 'M9383': 13, 'M9384': 13, 'M9385': 13, 'M9386': 13, 'M9387': 13, 'M9388': 13, 'M9389': 13, 'M939': 13, 'M94': 13, 'M940': 13, 'M941': 13, 'M942': 13, 'M9420': 13, 'M9421': 13, 'M9422': 13, 'M9423': 13, 'M9424': 13, 'M9425': 13, 'M9426': 13, 'M9427': 13, 'M9428': 13, 'M9429': 13, 'M943': 13, 'M9430': 13, 'M9431': 13, 'M9432': 13, 'M9433': 13, 'M9434': 13, 'M9435': 13, 'M9436': 13, 'M9437': 13, 'M9438': 13, 'M9439': 13, 'M948': 13, 'M9480': 13, 'M9481': 13, 'M9482': 13, 'M9483': 13, 'M9484': 13, 'M9485': 13, 'M9486': 13, 'M9487': 13, 'M9488': 13, 'M9489': 13, 'M949': 13, 'M9490': 13, 'M9491': 13, 'M9492': 13, 'M9493': 13, 'M9494': 13, 'M9495': 13, 'M9496': 13, 'M9497': 13, 'M9498': 13, 'M9499': 13, 'M95': 13, 'M950': 13, 'M951': 13, 'M952': 13, 'M953': 13, 'M954': 13, 'M955': 13, 'M958': 13, 'M959': 13, 'M96': 13, 'M960': 13, 'M961': 13, 'M962': 13, 'M963': 13, 'M964': 13, 'M965': 13, 'M966': 13, 'M968': 13, 'M9680': 13, 'M9681': 13, 'M9682': 13, 'M9688': 13, 'M969': 13, 'M99': 13, 'M990': 13, 'M9900': 13, 'M9901': 13, 'M9902': 13, 'M9903': 13, 'M9904': 13, 'M9905': 13, 'M9906': 13, 'M9907': 13, 'M9908': 13, 'M9909': 13, 'M991': 13, 'M9910': 13, 'M9911': 13, 'M9912': 13, 'M9913': 13, 'M9914': 13, 'M9919': 13, 'M992': 13, 'M9920': 13, 'M9921': 13, 'M9922': 13, 'M9923': 13, 'M9924': 13, 'M9929': 13, 'M993': 13, 'M9930': 13, 'M9931': 13, 'M9932': 13, 'M9933': 13, 'M9934': 13, 'M9939': 13, 'M994': 13, 'M9940': 13, 'M9941': 13, 'M9942': 13, 'M9943': 13, 'M9944': 13, 'M9949': 13, 'M995': 13, 'M9950': 13, 'M9951': 13, 'M9952': 13, 'M9953': 13, 'M9959': 13, 'M996': 13, 'M9960': 13, 'M9961': 13, 'M9962': 13, 'M9963': 13, 'M9964': 13, 'M9969': 13, 'M997': 13, 'M9970': 13, 'M9971': 13, 'M9972': 13, 'M9973': 13, 'M9974': 13, 'M9979': 13, 'M998': 13, 'M9980': 13, 'M9981': 13, 'M9982': 13, 'M9983': 13, 'M9984': 13, 'M9985': 13, 'M9986': 13, 'M9987': 13, 'M9988': 13, 'M9989': 13, 'M999': 13, 'M9990': 13, 'M9991': 13, 'M9992': 13, 'M9993': 13, 'M9994': 13, 'M9995': 13, 'M9996': 13, 'M9997': 13, 'M9998': 13, 'M9999': 13, 'N00': 14, 'N000': 14, 'N001': 14, 'N002': 14, 'N003': 14, 'N004': 14, 'N005': 14, 'N006': 14, 'N007': 14, 'N008': 14, 'N009': 14, 'N01': 14, 'N010': 14, 'N011': 14, 'N012': 14, 'N013': 14, 'N014': 14, 'N015': 14, 'N016': 14, 'N017': 14, 'N018': 14, 'N019': 14, 'N02': 14, 'N020': 14, 'N021': 14, 'N022': 14, 'N023': 14, 'N024': 14, 'N025': 14, 'N026': 14, 'N027': 14, 'N028': 14, 'N029': 14, 'N03': 14, 'N030': 14, 'N031': 14, 'N032': 14, 'N033': 14, 'N034': 14, 'N035': 14, 'N036': 14, 'N037': 14, 'N038': 14, 'N039': 14, 'N04': 14, 'N040': 14, 'N041': 14, 'N042': 14, 'N043': 14, 'N044': 14, 'N045': 14, 'N046': 14, 'N047': 14, 'N048': 14, 'N049': 14, 'N05': 14, 'N050': 14, 'N051': 14, 'N052': 14, 'N053': 14, 'N054': 14, 'N055': 14, 'N056': 14, 'N057': 14, 'N058': 14, 'N059': 14, 'N06': 14, 'N060': 14, 'N061': 14, 'N062': 14, 'N063': 14, 'N064': 14, 'N065': 14, 'N066': 14, 'N067': 14, 'N068': 14, 'N069': 14, 'N07': 14, 'N070': 14, 'N071': 14, 'N072': 14, 'N073': 14, 'N074': 14, 'N075': 14, 'N076': 14, 'N077': 14, 'N078': 14, 'N079': 14, 'N08': 14, 'N080': 14, 'N081': 14, 'N082': 14, 'N083': 14, 'N084': 14, 'N085': 14, 'N088': 14, 'N10': 14, 'N11': 14, 'N110': 14, 'N111': 14, 'N118': 14, 'N119': 14, 'N12': 14, 'N13': 14, 'N130': 14, 'N131': 14, 'N132': 14, 'N133': 14, 'N134': 14, 'N135': 14, 'N136': 14, 'N137': 14, 'N138': 14, 'N139': 14, 'N14': 14, 'N140': 14, 'N141': 14, 'N142': 14, 'N143': 14, 'N144': 14, 'N15': 14, 'N150': 14, 'N151': 14, 'N1510': 14, 'N1511': 14, 'N158': 14, 'N159': 14, 'N16': 14, 'N160': 14, 'N161': 14, 'N162': 14, 'N163': 14, 'N164': 14, 'N165': 14, 'N168': 14, 'N17': 14, 'N170': 14, 'N1701': 14, 'N1702': 14, 'N1703': 14, 'N1709': 14, 'N171': 14, 'N1711': 14, 'N1712': 14, 'N1713': 14, 'N1719': 14, 'N172': 14, 'N1721': 14, 'N1722': 14, 'N1723': 14, 'N1729': 14, 'N178': 14, 'N1781': 14, 'N1782': 14, 'N1783': 14, 'N1789': 14, 'N179': 14, 'N1791': 14, 'N1792': 14, 'N1793': 14, 'N1799': 14, 'N18': 14, 'N181': 14, 'N182': 14, 'N183': 14, 'N184': 14, 'N185': 14, 'N188': 14, 'N1880': 14, 'N1889': 14, 'N189': 14, 'N19': 14, 'N20': 14, 'N200': 14, 'N201': 14, 'N202': 14, 'N209': 14, 'N21': 14, 'N210': 14, 'N211': 14, 'N218': 14, 'N219': 14, 'N22': 14, 'N220': 14, 'N228': 14, 'N23': 14, 'N25': 14, 'N250': 14, 'N251': 14, 'N258': 14, 'N259': 14, 'N26': 14, 'N27': 14, 'N270': 14, 'N271': 14, 'N279': 14, 'N28': 14, 'N280': 14, 'N281': 14, 'N288': 14, 'N2880': 14, 'N2888': 14, 'N289': 14, 'N29': 14, 'N290': 14, 'N291': 14, 'N298': 14, 'N30': 14, 'N300': 14, 'N301': 14, 'N302': 14, 'N303': 14, 'N304': 14, 'N308': 14, 'N309': 14, 'N31': 14, 'N310': 14, 'N311': 14, 'N312': 14, 'N318': 14, 'N3180': 14, 'N3181': 14, 'N3182': 14, 'N3188': 14, 'N319': 14, 'N32': 14, 'N320': 14, 'N321': 14, 'N322': 14, 'N323': 14, 'N324': 14, 'N328': 14, 'N329': 14, 'N33': 14, 'N330': 14, 'N338': 14, 'N34': 14, 'N340': 14, 'N341': 14, 'N342': 14, 'N343': 14, 'N35': 14, 'N350': 14, 'N351': 14, 'N358': 14, 'N359': 14, 'N36': 14, 'N360': 14, 'N361': 14, 'N362': 14, 'N363': 14, 'N368': 14, 'N369': 14, 'N37': 14, 'N370': 14, 'N378': 14, 'N39': 14, 'N390': 14, 'N391': 14, 'N392': 14, 'N393': 14, 'N394': 14, 'N3940': 14, 'N3941': 14, 'N3942': 14, 'N3943': 14, 'N3947': 14, 'N3948': 14, 'N398': 14, 'N3981': 14, 'N3988': 14, 'N399': 14, 'N40': 14, 'N41': 14, 'N410': 14, 'N411': 14, 'N412': 14, 'N413': 14, 'N418': 14, 'N419': 14, 'N42': 14, 'N420': 14, 'N421': 14, 'N422': 14, 'N423': 14, 'N428': 14, 'N429': 14, 'N43': 14, 'N430': 14, 'N431': 14, 'N432': 14, 'N433': 14, 'N434': 14, 'N44': 14, 'N440': 14, 'N441': 14, 'N45': 14, 'N450': 14, 'N459': 14, 'N46': 14, 'N47': 14, 'N48': 14, 'N480': 14, 'N481': 14, 'N482': 14, 'N483': 14, 'N4830': 14, 'N4831': 14, 'N4838': 14, 'N4839': 14, 'N484': 14, 'N485': 14, 'N486': 14, 'N488': 14, 'N489': 14, 'N49': 14, 'N490': 14, 'N491': 14, 'N492': 14, 'N498': 14, 'N4980': 14, 'N4988': 14, 'N499': 14, 'N50': 14, 'N500': 14, 'N501': 14, 'N508': 14, 'N509': 14, 'N51': 14, 'N510': 14, 'N511': 14, 'N512': 14, 'N518': 14, 'N60': 14, 'N600': 14, 'N601': 14, 'N602': 14, 'N603': 14, 'N604': 14, 'N608': 14, 'N609': 14, 'N61': 14, 'N62': 14, 'N63': 14, 'N64': 14, 'N640': 14, 'N641': 14, 'N642': 14, 'N643': 14, 'N644': 14, 'N645': 14, 'N648': 14, 'N649': 14, 'N70': 14, 'N700': 14, 'N701': 14, 'N709': 14, 'N71': 14, 'N710': 14, 'N711': 14, 'N719': 14, 'N72': 14, 'N73': 14, 'N730': 14, 'N731': 14, 'N732': 14, 'N733': 14, 'N734': 14, 'N735': 14, 'N736': 14, 'N738': 14, 'N739': 14, 'N74': 14, 'N740': 14, 'N741': 14, 'N742': 14, 'N743': 14, 'N744': 14, 'N748': 14, 'N75': 14, 'N750': 14, 'N751': 14, 'N758': 14, 'N759': 14, 'N76': 14, 'N760': 14, 'N761': 14, 'N762': 14, 'N763': 14, 'N764': 14, 'N765': 14, 'N766': 14, 'N768': 14, 'N7680': 14, 'N7688': 14, 'N77': 14, 'N770': 14, 'N771': 14, 'N772': 14, 'N7721': 14, 'N7722': 14, 'N7723': 14, 'N778': 14, 'N80': 14, 'N800': 14, 'N801': 14, 'N802': 14, 'N803': 14, 'N804': 14, 'N805': 14, 'N806': 14, 'N808': 14, 'N809': 14, 'N81': 14, 'N810': 14, 'N811': 14, 'N812': 14, 'N813': 14, 'N814': 14, 'N815': 14, 'N816': 14, 'N818': 14, 'N819': 14, 'N82': 14, 'N820': 14, 'N821': 14, 'N822': 14, 'N823': 14, 'N824': 14, 'N825': 14, 'N828': 14, 'N8280': 14, 'N8281': 14, 'N8288': 14, 'N829': 14, 'N83': 14, 'N830': 14, 'N831': 14, 'N832': 14, 'N833': 14, 'N834': 14, 'N835': 14, 'N836': 14, 'N837': 14, 'N838': 14, 'N839': 14, 'N84': 14, 'N840': 14, 'N841': 14, 'N842': 14, 'N843': 14, 'N848': 14, 'N849': 14, 'N85': 14, 'N850': 14, 'N851': 14, 'N852': 14, 'N853': 14, 'N854': 14, 'N855': 14, 'N856': 14, 'N857': 14, 'N858': 14, 'N859': 14, 'N86': 14, 'N87': 14, 'N870': 14, 'N871': 14, 'N872': 14, 'N879': 14, 'N88': 14, 'N880': 14, 'N881': 14, 'N882': 14, 'N883': 14, 'N884': 14, 'N888': 14, 'N889': 14, 'N89': 14, 'N890': 14, 'N891': 14, 'N892': 14, 'N893': 14, 'N894': 14, 'N895': 14, 'N896': 14, 'N897': 14, 'N898': 14, 'N899': 14, 'N90': 14, 'N900': 14, 'N901': 14, 'N902': 14, 'N903': 14, 'N904': 14, 'N905': 14, 'N906': 14, 'N907': 14, 'N908': 14, 'N909': 14, 'N91': 14, 'N910': 14, 'N911': 14, 'N912': 14, 'N913': 14, 'N914': 14, 'N915': 14, 'N92': 14, 'N920': 14, 'N921': 14, 'N922': 14, 'N923': 14, 'N924': 14, 'N925': 14, 'N926': 14, 'N93': 14, 'N930': 14, 'N938': 14, 'N939': 14, 'N94': 14, 'N940': 14, 'N941': 14, 'N942': 14, 'N943': 14, 'N944': 14, 'N945': 14, 'N946': 14, 'N948': 14, 'N949': 14, 'N95': 14, 'N950': 14, 'N951': 14, 'N952': 14, 'N953': 14, 'N958': 14, 'N959': 14, 'N96': 14, 'N97': 14, 'N970': 14, 'N971': 14, 'N972': 14, 'N973': 14, 'N974': 14, 'N978': 14, 'N979': 14, 'N98': 14, 'N980': 14, 'N981': 14, 'N982': 14, 'N983': 14, 'N988': 14, 'N989': 14, 'N99': 14, 'N990': 14, 'N991': 14, 'N992': 14, 'N993': 14, 'N994': 14, 'N995': 14, 'N998': 14, 'N999': 14, 'O00': 15, 'O000': 15, 'O001': 15, 'O002': 15, 'O008': 15, 'O009': 15, 'O01': 15, 'O010': 15, 'O011': 15, 'O019': 15, 'O02': 15, 'O020': 15, 'O021': 15, 'O028': 15, 'O029': 15, 'O03': 15, 'O030': 15, 'O031': 15, 'O032': 15, 'O033': 15, 'O034': 15, 'O035': 15, 'O036': 15, 'O037': 15, 'O038': 15, 'O039': 15, 'O04': 15, 'O040': 15, 'O041': 15, 'O042': 15, 'O043': 15, 'O044': 15, 'O045': 15, 'O046': 15, 'O047': 15, 'O048': 15, 'O049': 15, 'O05': 15, 'O050': 15, 'O051': 15, 'O052': 15, 'O053': 15, 'O054': 15, 'O055': 15, 'O056': 15, 'O057': 15, 'O058': 15, 'O059': 15, 'O06': 15, 'O060': 15, 'O061': 15, 'O062': 15, 'O063': 15, 'O064': 15, 'O065': 15, 'O066': 15, 'O067': 15, 'O068': 15, 'O069': 15, 'O07': 15, 'O070': 15, 'O071': 15, 'O072': 15, 'O073': 15, 'O074': 15, 'O075': 15, 'O076': 15, 'O077': 15, 'O078': 15, 'O079': 15, 'O08': 15, 'O080': 15, 'O081': 15, 'O082': 15, 'O083': 15, 'O084': 15, 'O085': 15, 'O086': 15, 'O087': 15, 'O088': 15, 'O089': 15, 'O09': 15, 'O090': 15, 'O091': 15, 'O092': 15, 'O093': 15, 'O094': 15, 'O095': 15, 'O096': 15, 'O097': 15, 'O099': 15, 'O10': 15, 'O100': 15, 'O101': 15, 'O102': 15, 'O103': 15, 'O104': 15, 'O109': 15, 'O11': 15, 'O12': 15, 'O120': 15, 'O121': 15, 'O122': 15, 'O13': 15, 'O14': 15, 'O140': 15, 'O141': 15, 'O142': 15, 'O149': 15, 'O15': 15, 'O150': 15, 'O151': 15, 'O152': 15, 'O159': 15, 'O16': 15, 'O20': 15, 'O200': 15, 'O208': 15, 'O209': 15, 'O21': 15, 'O210': 15, 'O211': 15, 'O212': 15, 'O218': 15, 'O219': 15, 'O22': 15, 'O220': 15, 'O221': 15, 'O222': 15, 'O223': 15, 'O224': 15, 'O225': 15, 'O228': 15, 'O229': 15, 'O23': 15, 'O230': 15, 'O231': 15, 'O232': 15, 'O233': 15, 'O234': 15, 'O235': 15, 'O239': 15, 'O24': 15, 'O240': 15, 'O241': 15, 'O242': 15, 'O243': 15, 'O244': 15, 'O249': 15, 'O25': 15, 'O26': 15, 'O260': 15, 'O261': 15, 'O262': 15, 'O263': 15, 'O264': 15, 'O265': 15, 'O266': 15, 'O2660': 15, 'O2668': 15, 'O267': 15, 'O268': 15, 'O2681': 15, 'O2682': 15, 'O2683': 15, 'O2688': 15, 'O269': 15, 'O28': 15, 'O280': 15, 'O281': 15, 'O282': 15, 'O283': 15, 'O284': 15, 'O285': 15, 'O288': 15, 'O289': 15, 'O29': 15, 'O290': 15, 'O291': 15, 'O292': 15, 'O293': 15, 'O294': 15, 'O295': 15, 'O296': 15, 'O298': 15, 'O299': 15, 'O30': 15, 'O300': 15, 'O301': 15, 'O302': 15, 'O308': 15, 'O309': 15, 'O31': 15, 'O310': 15, 'O311': 15, 'O312': 15, 'O318': 15, 'O32': 15, 'O320': 15, 'O321': 15, 'O322': 15, 'O323': 15, 'O324': 15, 'O325': 15, 'O326': 15, 'O328': 15, 'O329': 15, 'O33': 15, 'O330': 15, 'O331': 15, 'O332': 15, 'O333': 15, 'O334': 15, 'O335': 15, 'O336': 15, 'O337': 15, 'O338': 15, 'O339': 15, 'O34': 15, 'O340': 15, 'O341': 15, 'O342': 15, 'O343': 15, 'O3430': 15, 'O3431': 15, 'O3438': 15, 'O3439': 15, 'O344': 15, 'O345': 15, 'O346': 15, 'O347': 15, 'O348': 15, 'O349': 15, 'O35': 15, 'O350': 15, 'O351': 15, 'O352': 15, 'O353': 15, 'O354': 15, 'O355': 15, 'O356': 15, 'O357': 15, 'O358': 15, 'O359': 15, 'O36': 15, 'O360': 15, 'O361': 15, 'O362': 15, 'O363': 15, 'O364': 15, 'O365': 15, 'O366': 15, 'O367': 15, 'O368': 15, 'O369': 15, 'O40': 15, 'O41': 15, 'O410': 15, 'O411': 15, 'O418': 15, 'O419': 15, 'O42': 15, 'O420': 15, 'O421': 15, 'O4211': 15, 'O4212': 15, 'O422': 15, 'O4220': 15, 'O4221': 15, 'O4222': 15, 'O4229': 15, 'O429': 15, 'O43': 15, 'O430': 15, 'O431': 15, 'O432': 15, 'O4320': 15, 'O4321': 15, 'O438': 15, 'O439': 15, 'O44': 15, 'O440': 15, 'O4400': 15, 'O4401': 15, 'O441': 15, 'O4410': 15, 'O4411': 15, 'O45': 15, 'O450': 15, 'O458': 15, 'O459': 15, 'O46': 15, 'O460': 15, 'O468': 15, 'O469': 15, 'O47': 15, 'O470': 15, 'O471': 15, 'O479': 15, 'O48': 15, 'O60': 15, 'O600': 15, 'O601': 15, 'O602': 15, 'O603': 15, 'O61': 15, 'O610': 15, 'O611': 15, 'O618': 15, 'O619': 15, 'O62': 15, 'O620': 15, 'O621': 15, 'O622': 15, 'O623': 15, 'O624': 15, 'O628': 15, 'O629': 15, 'O63': 15, 'O630': 15, 'O631': 15, 'O632': 15, 'O639': 15, 'O64': 15, 'O640': 15, 'O641': 15, 'O642': 15, 'O643': 15, 'O644': 15, 'O645': 15, 'O648': 15, 'O649': 15, 'O65': 15, 'O650': 15, 'O651': 15, 'O652': 15, 'O653': 15, 'O654': 15, 'O655': 15, 'O658': 15, 'O659': 15, 'O66': 15, 'O660': 15, 'O661': 15, 'O662': 15, 'O663': 15, 'O664': 15, 'O665': 15, 'O668': 15, 'O669': 15, 'O67': 15, 'O670': 15, 'O678': 15, 'O679': 15, 'O68': 15, 'O680': 15, 'O681': 15, 'O682': 15, 'O683': 15, 'O688': 15, 'O689': 15, 'O69': 15, 'O690': 15, 'O691': 15, 'O692': 15, 'O693': 15, 'O694': 15, 'O695': 15, 'O698': 15, 'O699': 15, 'O70': 15, 'O700': 15, 'O701': 15, 'O702': 15, 'O703': 15, 'O709': 15, 'O71': 15, 'O710': 15, 'O711': 15, 'O712': 15, 'O713': 15, 'O714': 15, 'O715': 15, 'O716': 15, 'O717': 15, 'O718': 15, 'O719': 15, 'O72': 15, 'O720': 15, 'O721': 15, 'O722': 15, 'O723': 15, 'O73': 15, 'O730': 15, 'O731': 15, 'O74': 15, 'O740': 15, 'O741': 15, 'O742': 15, 'O743': 15, 'O744': 15, 'O745': 15, 'O746': 15, 'O747': 15, 'O748': 15, 'O749': 15, 'O75': 15, 'O750': 15, 'O751': 15, 'O752': 15, 'O753': 15, 'O754': 15, 'O755': 15, 'O756': 15, 'O757': 15, 'O758': 15, 'O759': 15, 'O80': 15, 'O81': 15, 'O82': 15, 'O85': 15, 'O86': 15, 'O860': 15, 'O861': 15, 'O862': 15, 'O863': 15, 'O864': 15, 'O868': 15, 'O87': 15, 'O870': 15, 'O871': 15, 'O872': 15, 'O873': 15, 'O878': 15, 'O879': 15, 'O88': 15, 'O880': 15, 'O881': 15, 'O882': 15, 'O8820': 15, 'O8828': 15, 'O883': 15, 'O888': 15, 'O89': 15, 'O890': 15, 'O891': 15, 'O892': 15, 'O893': 15, 'O894': 15, 'O895': 15, 'O896': 15, 'O898': 15, 'O899': 15, 'O90': 15, 'O900': 15, 'O901': 15, 'O902': 15, 'O903': 15, 'O904': 15, 'O905': 15, 'O908': 15, 'O909': 15, 'O91': 15, 'O910': 15, 'O9100': 15, 'O9101': 15, 'O911': 15, 'O9110': 15, 'O9111': 15, 'O912': 15, 'O9120': 15, 'O9121': 15, 'O92': 15, 'O920': 15, 'O9200': 15, 'O9201': 15, 'O921': 15, 'O9210': 15, 'O9211': 15, 'O922': 15, 'O9220': 15, 'O9221': 15, 'O923': 15, 'O9230': 15, 'O9231': 15, 'O924': 15, 'O9240': 15, 'O9241': 15, 'O925': 15, 'O9250': 15, 'O9251': 15, 'O926': 15, 'O9260': 15, 'O9261': 15, 'O927': 15, 'O9270': 15, 'O9271': 15, 'O94': 15, 'O95': 15, 'O96': 15, 'O960': 15, 'O961': 15, 'O969': 15, 'O97': 15, 'O970': 15, 'O971': 15, 'O979': 15, 'O98': 15, 'O980': 15, 'O981': 15, 'O982': 15, 'O983': 15, 'O984': 15, 'O985': 15, 'O986': 15, 'O987': 15, 'O988': 15, 'O989': 15, 'O99': 15, 'O990': 15, 'O991': 15, 'O992': 15, 'O993': 15, 'O994': 15, 'O995': 15, 'O996': 15, 'O997': 15, 'O998': 15, 'P00': 16, 'P000': 16, 'P001': 16, 'P002': 16, 'P003': 16, 'P004': 16, 'P005': 16, 'P006': 16, 'P007': 16, 'P008': 16, 'P009': 16, 'P01': 16, 'P010': 16, 'P011': 16, 'P012': 16, 'P013': 16, 'P014': 16, 'P015': 16, 'P016': 16, 'P017': 16, 'P018': 16, 'P019': 16, 'P02': 16, 'P020': 16, 'P021': 16, 'P022': 16, 'P023': 16, 'P024': 16, 'P025': 16, 'P026': 16, 'P027': 16, 'P028': 16, 'P029': 16, 'P03': 16, 'P030': 16, 'P031': 16, 'P032': 16, 'P033': 16, 'P034': 16, 'P035': 16, 'P036': 16, 'P038': 16, 'P039': 16, 'P04': 16, 'P040': 16, 'P041': 16, 'P042': 16, 'P043': 16, 'P044': 16, 'P045': 16, 'P046': 16, 'P048': 16, 'P049': 16, 'P05': 16, 'P050': 16, 'P051': 16, 'P052': 16, 'P059': 16, 'P07': 16, 'P070': 16, 'P0700': 16, 'P0701': 16, 'P0702': 16, 'P071': 16, 'P0710': 16, 'P0711': 16, 'P0712': 16, 'P072': 16, 'P073': 16, 'P08': 16, 'P080': 16, 'P081': 16, 'P082': 16, 'P10': 16, 'P100': 16, 'P101': 16, 'P102': 16, 'P103': 16, 'P104': 16, 'P108': 16, 'P109': 16, 'P11': 16, 'P110': 16, 'P111': 16, 'P112': 16, 'P113': 16, 'P114': 16, 'P115': 16, 'P1150': 16, 'P1151': 16, 'P1159': 16, 'P119': 16, 'P12': 16, 'P120': 16, 'P121': 16, 'P122': 16, 'P123': 16, 'P124': 16, 'P128': 16, 'P129': 16, 'P13': 16, 'P130': 16, 'P131': 16, 'P132': 16, 'P133': 16, 'P134': 16, 'P138': 16, 'P139': 16, 'P14': 16, 'P140': 16, 'P141': 16, 'P142': 16, 'P143': 16, 'P148': 16, 'P149': 16, 'P15': 16, 'P150': 16, 'P151': 16, 'P152': 16, 'P153': 16, 'P154': 16, 'P155': 16, 'P156': 16, 'P158': 16, 'P159': 16, 'P20': 16, 'P200': 16, 'P201': 16, 'P209': 16, 'P21': 16, 'P210': 16, 'P211': 16, 'P219': 16, 'P22': 16, 'P220': 16, 'P221': 16, 'P228': 16, 'P229': 16, 'P23': 16, 'P230': 16, 'P231': 16, 'P232': 16, 'P233': 16, 'P234': 16, 'P235': 16, 'P236': 16, 'P238': 16, 'P239': 16, 'P24': 16, 'P240': 16, 'P241': 16, 'P242': 16, 'P243': 16, 'P248': 16, 'P249': 16, 'P25': 16, 'P250': 16, 'P251': 16, 'P252': 16, 'P253': 16, 'P258': 16, 'P26': 16, 'P260': 16, 'P261': 16, 'P268': 16, 'P269': 16, 'P27': 16, 'P270': 16, 'P271': 16, 'P278': 16, 'P279': 16, 'P28': 16, 'P280': 16, 'P281': 16, 'P282': 16, 'P283': 16, 'P284': 16, 'P285': 16, 'P288': 16, 'P289': 16, 'P29': 16, 'P290': 16, 'P291': 16, 'P292': 16, 'P293': 16, 'P294': 16, 'P298': 16, 'P299': 16, 'P35': 16, 'P350': 16, 'P351': 16, 'P352': 16, 'P353': 16, 'P354': 16, 'P358': 16, 'P359': 16, 'P36': 16, 'P360': 16, 'P361': 16, 'P362': 16, 'P363': 16, 'P364': 16, 'P365': 16, 'P368': 16, 'P369': 16, 'P37': 16, 'P370': 16, 'P371': 16, 'P372': 16, 'P373': 16, 'P374': 16, 'P375': 16, 'P378': 16, 'P379': 16, 'P38': 16, 'P39': 16, 'P390': 16, 'P391': 16, 'P392': 16, 'P393': 16, 'P394': 16, 'P398': 16, 'P399': 16, 'P50': 16, 'P500': 16, 'P501': 16, 'P502': 16, 'P503': 16, 'P504': 16, 'P505': 16, 'P508': 16, 'P509': 16, 'P51': 16, 'P510': 16, 'P518': 16, 'P519': 16, 'P52': 16, 'P520': 16, 'P521': 16, 'P522': 16, 'P523': 16, 'P524': 16, 'P525': 16, 'P526': 16, 'P528': 16, 'P529': 16, 'P53': 16, 'P54': 16, 'P540': 16, 'P541': 16, 'P542': 16, 'P543': 16, 'P544': 16, 'P545': 16, 'P546': 16, 'P548': 16, 'P549': 16, 'P55': 16, 'P550': 16, 'P551': 16, 'P558': 16, 'P559': 16, 'P56': 16, 'P560': 16, 'P569': 16, 'P57': 16, 'P570': 16, 'P578': 16, 'P579': 16, 'P58': 16, 'P580': 16, 'P581': 16, 'P582': 16, 'P583': 16, 'P584': 16, 'P585': 16, 'P588': 16, 'P589': 16, 'P59': 16, 'P590': 16, 'P591': 16, 'P592': 16, 'P593': 16, 'P598': 16, 'P599': 16, 'P60': 16, 'P61': 16, 'P610': 16, 'P611': 16, 'P612': 16, 'P613': 16, 'P614': 16, 'P615': 16, 'P616': 16, 'P618': 16, 'P619': 16, 'P70': 16, 'P700': 16, 'P701': 16, 'P702': 16, 'P703': 16, 'P704': 16, 'P708': 16, 'P709': 16, 'P71': 16, 'P710': 16, 'P711': 16, 'P712': 16, 'P713': 16, 'P714': 16, 'P718': 16, 'P719': 16, 'P72': 16, 'P720': 16, 'P721': 16, 'P722': 16, 'P728': 16, 'P729': 16, 'P74': 16, 'P740': 16, 'P741': 16, 'P742': 16, 'P743': 16, 'P744': 16, 'P745': 16, 'P748': 16, 'P749': 16, 'P75': 16, 'P76': 16, 'P760': 16, 'P761': 16, 'P762': 16, 'P768': 16, 'P769': 16, 'P77': 16, 'P78': 16, 'P780': 16, 'P781': 16, 'P782': 16, 'P783': 16, 'P788': 16, 'P789': 16, 'P80': 16, 'P800': 16, 'P808': 16, 'P809': 16, 'P81': 16, 'P810': 16, 'P818': 16, 'P819': 16, 'P83': 16, 'P830': 16, 'P831': 16, 'P832': 16, 'P833': 16, 'P834': 16, 'P835': 16, 'P836': 16, 'P838': 16, 'P839': 16, 'P90': 16, 'P91': 16, 'P910': 16, 'P911': 16, 'P912': 16, 'P913': 16, 'P914': 16, 'P915': 16, 'P916': 16, 'P917': 16, 'P918': 16, 'P9180': 16, 'P9188': 16, 'P919': 16, 'P92': 16, 'P920': 16, 'P921': 16, 'P922': 16, 'P923': 16, 'P924': 16, 'P925': 16, 'P928': 16, 'P929': 16, 'P93': 16, 'P94': 16, 'P940': 16, 'P941': 16, 'P942': 16, 'P948': 16, 'P949': 16, 'P95': 16, 'P96': 16, 'P960': 16, 'P961': 16, 'P962': 16, 'P963': 16, 'P964': 16, 'P965': 16, 'P968': 16, 'P969': 16, 'Q00': 17, 'Q000': 17, 'Q001': 17, 'Q002': 17, 'Q01': 17, 'Q010': 17, 'Q011': 17, 'Q012': 17, 'Q018': 17, 'Q019': 17, 'Q02': 17, 'Q03': 17, 'Q030': 17, 'Q031': 17, 'Q038': 17, 'Q039': 17, 'Q04': 17, 'Q040': 17, 'Q041': 17, 'Q042': 17, 'Q043': 17, 'Q044': 17, 'Q045': 17, 'Q046': 17, 'Q048': 17, 'Q049': 17, 'Q05': 17, 'Q050': 17, 'Q051': 17, 'Q052': 17, 'Q053': 17, 'Q054': 17, 'Q055': 17, 'Q056': 17, 'Q057': 17, 'Q058': 17, 'Q059': 17, 'Q06': 17, 'Q060': 17, 'Q061': 17, 'Q062': 17, 'Q063': 17, 'Q064': 17, 'Q068': 17, 'Q069': 17, 'Q07': 17, 'Q070': 17, 'Q078': 17, 'Q079': 17, 'Q10': 17, 'Q100': 17, 'Q101': 17, 'Q102': 17, 'Q103': 17, 'Q104': 17, 'Q105': 17, 'Q106': 17, 'Q107': 17, 'Q11': 17, 'Q110': 17, 'Q111': 17, 'Q112': 17, 'Q113': 17, 'Q12': 17, 'Q120': 17, 'Q121': 17, 'Q122': 17, 'Q123': 17, 'Q124': 17, 'Q128': 17, 'Q129': 17, 'Q13': 17, 'Q130': 17, 'Q131': 17, 'Q132': 17, 'Q133': 17, 'Q134': 17, 'Q135': 17, 'Q138': 17, 'Q139': 17, 'Q14': 17, 'Q140': 17, 'Q141': 17, 'Q142': 17, 'Q143': 17, 'Q148': 17, 'Q149': 17, 'Q15': 17, 'Q150': 17, 'Q158': 17, 'Q159': 17, 'Q16': 17, 'Q160': 17, 'Q161': 17, 'Q162': 17, 'Q163': 17, 'Q164': 17, 'Q165': 17, 'Q169': 17, 'Q17': 17, 'Q170': 17, 'Q171': 17, 'Q172': 17, 'Q173': 17, 'Q174': 17, 'Q175': 17, 'Q178': 17, 'Q179': 17, 'Q18': 17, 'Q180': 17, 'Q181': 17, 'Q182': 17, 'Q183': 17, 'Q184': 17, 'Q185': 17, 'Q186': 17, 'Q187': 17, 'Q188': 17, 'Q189': 17, 'Q20': 17, 'Q200': 17, 'Q201': 17, 'Q202': 17, 'Q203': 17, 'Q204': 17, 'Q205': 17, 'Q206': 17, 'Q208': 17, 'Q209': 17, 'Q21': 17, 'Q210': 17, 'Q211': 17, 'Q212': 17, 'Q213': 17, 'Q214': 17, 'Q218': 17, 'Q2180': 17, 'Q2188': 17, 'Q219': 17, 'Q22': 17, 'Q220': 17, 'Q221': 17, 'Q222': 17, 'Q223': 17, 'Q224': 17, 'Q225': 17, 'Q226': 17, 'Q228': 17, 'Q229': 17, 'Q23': 17, 'Q230': 17, 'Q231': 17, 'Q232': 17, 'Q233': 17, 'Q234': 17, 'Q238': 17, 'Q239': 17, 'Q24': 17, 'Q240': 17, 'Q241': 17, 'Q242': 17, 'Q243': 17, 'Q244': 17, 'Q245': 17, 'Q246': 17, 'Q248': 17, 'Q249': 17, 'Q25': 17, 'Q250': 17, 'Q251': 17, 'Q252': 17, 'Q253': 17, 'Q254': 17, 'Q255': 17, 'Q256': 17, 'Q257': 17, 'Q258': 17, 'Q259': 17, 'Q26': 17, 'Q260': 17, 'Q261': 17, 'Q262': 17, 'Q263': 17, 'Q264': 17, 'Q265': 17, 'Q266': 17, 'Q268': 17, 'Q269': 17, 'Q27': 17, 'Q270': 17, 'Q271': 17, 'Q272': 17, 'Q273': 17, 'Q274': 17, 'Q278': 17, 'Q279': 17, 'Q28': 17, 'Q280': 17, 'Q2800': 17, 'Q2801': 17, 'Q2808': 17, 'Q2809': 17, 'Q281': 17, 'Q2810': 17, 'Q2811': 17, 'Q2818': 17, 'Q2819': 17, 'Q282': 17, 'Q2820': 17, 'Q2821': 17, 'Q2828': 17, 'Q2829': 17, 'Q283': 17, 'Q2830': 17, 'Q2831': 17, 'Q2838': 17, 'Q2839': 17, 'Q288': 17, 'Q2880': 17, 'Q2881': 17, 'Q2888': 17, 'Q289': 17, 'Q30': 17, 'Q300': 17, 'Q301': 17, 'Q302': 17, 'Q303': 17, 'Q308': 17, 'Q309': 17, 'Q31': 17, 'Q310': 17, 'Q311': 17, 'Q312': 17, 'Q313': 17, 'Q315': 17, 'Q318': 17, 'Q319': 17, 'Q32': 17, 'Q320': 17, 'Q321': 17, 'Q322': 17, 'Q323': 17, 'Q324': 17, 'Q33': 17, 'Q330': 17, 'Q331': 17, 'Q332': 17, 'Q333': 17, 'Q334': 17, 'Q335': 17, 'Q336': 17, 'Q338': 17, 'Q339': 17, 'Q34': 17, 'Q340': 17, 'Q341': 17, 'Q348': 17, 'Q349': 17, 'Q35': 17, 'Q351': 17, 'Q353': 17, 'Q355': 17, 'Q357': 17, 'Q359': 17, 'Q36': 17, 'Q360': 17, 'Q361': 17, 'Q369': 17, 'Q37': 17, 'Q370': 17, 'Q371': 17, 'Q372': 17, 'Q373': 17, 'Q374': 17, 'Q375': 17, 'Q378': 17, 'Q379': 17, 'Q38': 17, 'Q380': 17, 'Q381': 17, 'Q382': 17, 'Q383': 17, 'Q384': 17, 'Q385': 17, 'Q386': 17, 'Q387': 17, 'Q388': 17, 'Q39': 17, 'Q390': 17, 'Q391': 17, 'Q392': 17, 'Q393': 17, 'Q394': 17, 'Q395': 17, 'Q396': 17, 'Q398': 17, 'Q399': 17, 'Q40': 17, 'Q400': 17, 'Q401': 17, 'Q402': 17, 'Q403': 17, 'Q408': 17, 'Q409': 17, 'Q41': 17, 'Q410': 17, 'Q411': 17, 'Q412': 17, 'Q418': 17, 'Q419': 17, 'Q42': 17, 'Q420': 17, 'Q421': 17, 'Q422': 17, 'Q423': 17, 'Q428': 17, 'Q429': 17, 'Q43': 17, 'Q430': 17, 'Q431': 17, 'Q432': 17, 'Q433': 17, 'Q434': 17, 'Q4340': 17, 'Q4341': 17, 'Q4342': 17, 'Q4349': 17, 'Q435': 17, 'Q436': 17, 'Q437': 17, 'Q438': 17, 'Q439': 17, 'Q44': 17, 'Q440': 17, 'Q441': 17, 'Q442': 17, 'Q443': 17, 'Q444': 17, 'Q445': 17, 'Q446': 17, 'Q447': 17, 'Q45': 17, 'Q450': 17, 'Q451': 17, 'Q452': 17, 'Q453': 17, 'Q458': 17, 'Q459': 17, 'Q50': 17, 'Q500': 17, 'Q501': 17, 'Q502': 17, 'Q503': 17, 'Q504': 17, 'Q505': 17, 'Q506': 17, 'Q51': 17, 'Q510': 17, 'Q511': 17, 'Q512': 17, 'Q513': 17, 'Q514': 17, 'Q515': 17, 'Q516': 17, 'Q517': 17, 'Q518': 17, 'Q519': 17, 'Q52': 17, 'Q520': 17, 'Q521': 17, 'Q522': 17, 'Q523': 17, 'Q524': 17, 'Q525': 17, 'Q526': 17, 'Q527': 17, 'Q528': 17, 'Q529': 17, 'Q53': 17, 'Q530': 17, 'Q531': 17, 'Q532': 17, 'Q539': 17, 'Q54': 17, 'Q540': 17, 'Q541': 17, 'Q542': 17, 'Q543': 17, 'Q544': 17, 'Q548': 17, 'Q549': 17, 'Q55': 17, 'Q550': 17, 'Q551': 17, 'Q552': 17, 'Q553': 17, 'Q554': 17, 'Q555': 17, 'Q556': 17, 'Q558': 17, 'Q559': 17, 'Q56': 17, 'Q560': 17, 'Q561': 17, 'Q562': 17, 'Q563': 17, 'Q564': 17, 'Q60': 17, 'Q600': 17, 'Q601': 17, 'Q602': 17, 'Q603': 17, 'Q604': 17, 'Q605': 17, 'Q606': 17, 'Q61': 17, 'Q610': 17, 'Q611': 17, 'Q612': 17, 'Q613': 17, 'Q614': 17, 'Q615': 17, 'Q618': 17, 'Q619': 17, 'Q62': 17, 'Q620': 17, 'Q621': 17, 'Q622': 17, 'Q623': 17, 'Q624': 17, 'Q625': 17, 'Q626': 17, 'Q627': 17, 'Q628': 17, 'Q63': 17, 'Q630': 17, 'Q631': 17, 'Q632': 17, 'Q633': 17, 'Q638': 17, 'Q639': 17, 'Q64': 17, 'Q640': 17, 'Q641': 17, 'Q642': 17, 'Q643': 17, 'Q644': 17, 'Q645': 17, 'Q646': 17, 'Q647': 17, 'Q648': 17, 'Q649': 17, 'Q65': 17, 'Q650': 17, 'Q651': 17, 'Q652': 17, 'Q653': 17, 'Q654': 17, 'Q655': 17, 'Q656': 17, 'Q658': 17, 'Q659': 17, 'Q66': 17, 'Q660': 17, 'Q661': 17, 'Q662': 17, 'Q663': 17, 'Q664': 17, 'Q665': 17, 'Q666': 17, 'Q667': 17, 'Q668': 17, 'Q669': 17, 'Q67': 17, 'Q670': 17, 'Q671': 17, 'Q672': 17, 'Q673': 17, 'Q674': 17, 'Q675': 17, 'Q676': 17, 'Q677': 17, 'Q678': 17, 'Q68': 17, 'Q680': 17, 'Q681': 17, 'Q682': 17, 'Q683': 17, 'Q684': 17, 'Q685': 17, 'Q688': 17, 'Q69': 17, 'Q690': 17, 'Q691': 17, 'Q692': 17, 'Q699': 17, 'Q70': 17, 'Q700': 17, 'Q701': 17, 'Q702': 17, 'Q703': 17, 'Q704': 17, 'Q709': 17, 'Q71': 17, 'Q710': 17, 'Q711': 17, 'Q712': 17, 'Q713': 17, 'Q714': 17, 'Q715': 17, 'Q716': 17, 'Q718': 17, 'Q719': 17, 'Q72': 17, 'Q720': 17, 'Q721': 17, 'Q722': 17, 'Q723': 17, 'Q724': 17, 'Q725': 17, 'Q726': 17, 'Q727': 17, 'Q728': 17, 'Q729': 17, 'Q73': 17, 'Q730': 17, 'Q731': 17, 'Q738': 17, 'Q74': 17, 'Q740': 17, 'Q741': 17, 'Q742': 17, 'Q743': 17, 'Q748': 17, 'Q749': 17, 'Q75': 17, 'Q750': 17, 'Q751': 17, 'Q752': 17, 'Q753': 17, 'Q754': 17, 'Q755': 17, 'Q758': 17, 'Q759': 17, 'Q76': 17, 'Q760': 17, 'Q761': 17, 'Q762': 17, 'Q7621': 17, 'Q7622': 17, 'Q763': 17, 'Q764': 17, 'Q765': 17, 'Q766': 17, 'Q767': 17, 'Q768': 17, 'Q769': 17, 'Q77': 17, 'Q770': 17, 'Q771': 17, 'Q772': 17, 'Q773': 17, 'Q774': 17, 'Q775': 17, 'Q776': 17, 'Q777': 17, 'Q778': 17, 'Q779': 17, 'Q78': 17, 'Q780': 17, 'Q781': 17, 'Q782': 17, 'Q783': 17, 'Q784': 17, 'Q785': 17, 'Q786': 17, 'Q788': 17, 'Q789': 17, 'Q79': 17, 'Q790': 17, 'Q791': 17, 'Q792': 17, 'Q793': 17, 'Q794': 17, 'Q795': 17, 'Q796': 17, 'Q798': 17, 'Q799': 17, 'Q80': 17, 'Q800': 17, 'Q801': 17, 'Q802': 17, 'Q803': 17, 'Q804': 17, 'Q808': 17, 'Q809': 17, 'Q81': 17, 'Q810': 17, 'Q811': 17, 'Q812': 17, 'Q818': 17, 'Q819': 17, 'Q82': 17, 'Q820': 17, 'Q8200': 17, 'Q8201': 17, 'Q8202': 17, 'Q8203': 17, 'Q8204': 17, 'Q8205': 17, 'Q8208': 17, 'Q8209': 17, 'Q821': 17, 'Q822': 17, 'Q823': 17, 'Q824': 17, 'Q825': 17, 'Q828': 17, 'Q829': 17, 'Q83': 17, 'Q830': 17, 'Q831': 17, 'Q832': 17, 'Q833': 17, 'Q838': 17, 'Q8380': 17, 'Q8388': 17, 'Q839': 17, 'Q84': 17, 'Q840': 17, 'Q841': 17, 'Q842': 17, 'Q843': 17, 'Q844': 17, 'Q845': 17, 'Q846': 17, 'Q848': 17, 'Q849': 17, 'Q85': 17, 'Q850': 17, 'Q851': 17, 'Q858': 17, 'Q859': 17, 'Q86': 17, 'Q860': 17, 'Q861': 17, 'Q862': 17, 'Q868': 17, 'Q8680': 17, 'Q8688': 17, 'Q87': 17, 'Q870': 17, 'Q871': 17, 'Q872': 17, 'Q873': 17, 'Q874': 17, 'Q875': 17, 'Q878': 17, 'Q89': 17, 'Q890': 17, 'Q8900': 17, 'Q8901': 17, 'Q8908': 17, 'Q891': 17, 'Q892': 17, 'Q893': 17, 'Q894': 17, 'Q897': 17, 'Q898': 17, 'Q899': 17, 'Q90': 17, 'Q900': 17, 'Q901': 17, 'Q902': 17, 'Q909': 17, 'Q91': 17, 'Q910': 17, 'Q911': 17, 'Q912': 17, 'Q913': 17, 'Q914': 17, 'Q915': 17, 'Q916': 17, 'Q917': 17, 'Q92': 17, 'Q920': 17, 'Q921': 17, 'Q922': 17, 'Q923': 17, 'Q924': 17, 'Q925': 17, 'Q926': 17, 'Q927': 17, 'Q928': 17, 'Q929': 17, 'Q93': 17, 'Q930': 17, 'Q931': 17, 'Q932': 17, 'Q933': 17, 'Q934': 17, 'Q935': 17, 'Q936': 17, 'Q937': 17, 'Q938': 17, 'Q939': 17, 'Q95': 17, 'Q950': 17, 'Q951': 17, 'Q952': 17, 'Q953': 17, 'Q954': 17, 'Q955': 17, 'Q958': 17, 'Q959': 17, 'Q96': 17, 'Q960': 17, 'Q961': 17, 'Q962': 17, 'Q963': 17, 'Q964': 17, 'Q968': 17, 'Q969': 17, 'Q97': 17, 'Q970': 17, 'Q971': 17, 'Q972': 17, 'Q973': 17, 'Q978': 17, 'Q979': 17, 'Q98': 17, 'Q980': 17, 'Q981': 17, 'Q982': 17, 'Q983': 17, 'Q984': 17, 'Q985': 17, 'Q986': 17, 'Q987': 17, 'Q988': 17, 'Q989': 17, 'Q99': 17, 'Q990': 17, 'Q991': 17, 'Q992': 17, 'Q998': 17, 'Q999': 17, 'R00': 18, 'R000': 18, 'R001': 18, 'R002': 18, 'R003': 18, 'R008': 18, 'R01': 18, 'R010': 18, 'R011': 18, 'R012': 18, 'R02': 18, 'R020': 18, 'R0200': 18, 'R0201': 18, 'R0202': 18, 'R0203': 18, 'R0204': 18, 'R0205': 18, 'R0206': 18, 'R0207': 18, 'R0209': 18, 'R028': 18, 'R03': 18, 'R030': 18, 'R031': 18, 'R04': 18, 'R040': 18, 'R041': 18, 'R042': 18, 'R048': 18, 'R049': 18, 'R05': 18, 'R06': 18, 'R060': 18, 'R061': 18, 'R062': 18, 'R063': 18, 'R064': 18, 'R065': 18, 'R066': 18, 'R067': 18, 'R068': 18, 'R0680': 18, 'R0688': 18, 'R07': 18, 'R070': 18, 'R071': 18, 'R072': 18, 'R073': 18, 'R074': 18, 'R09': 18, 'R090': 18, 'R091': 18, 'R092': 18, 'R093': 18, 'R098': 18, 'R10': 18, 'R100': 18, 'R101': 18, 'R102': 18, 'R103': 18, 'R104': 18, 'R11': 18, 'R12': 18, 'R13': 18, 'R130': 18, 'R131': 18, 'R139': 18, 'R14': 18, 'R15': 18, 'R16': 18, 'R160': 18, 'R161': 18, 'R162': 18, 'R17': 18, 'R170': 18, 'R179': 18, 'R18': 18, 'R19': 18, 'R190': 18, 'R191': 18, 'R192': 18, 'R193': 18, 'R194': 18, 'R195': 18, 'R196': 18, 'R198': 18, 'R1980': 18, 'R1988': 18, 'R20': 18, 'R200': 18, 'R201': 18, 'R202': 18, 'R203': 18, 'R208': 18, 'R21': 18, 'R22': 18, 'R220': 18, 'R221': 18, 'R222': 18, 'R223': 18, 'R224': 18, 'R227': 18, 'R229': 18, 'R23': 18, 'R230': 18, 'R231': 18, 'R232': 18, 'R233': 18, 'R234': 18, 'R238': 18, 'R25': 18, 'R250': 18, 'R251': 18, 'R252': 18, 'R253': 18, 'R258': 18, 'R26': 18, 'R260': 18, 'R261': 18, 'R262': 18, 'R263': 18, 'R268': 18, 'R27': 18, 'R270': 18, 'R278': 18, 'R29': 18, 'R290': 18, 'R291': 18, 'R292': 18, 'R293': 18, 'R294': 18, 'R295': 18, 'R296': 18, 'R298': 18, 'R30': 18, 'R300': 18, 'R301': 18, 'R309': 18, 'R31': 18, 'R32': 18, 'R33': 18, 'R34': 18, 'R35': 18, 'R36': 18, 'R39': 18, 'R390': 18, 'R391': 18, 'R392': 18, 'R398': 18, 'R40': 18, 'R400': 18, 'R401': 18, 'R402': 18, 'R41': 18, 'R410': 18, 'R411': 18, 'R412': 18, 'R413': 18, 'R418': 18, 'R42': 18, 'R43': 18, 'R430': 18, 'R431': 18, 'R432': 18, 'R438': 18, 'R44': 18, 'R440': 18, 'R441': 18, 'R442': 18, 'R443': 18, 'R448': 18, 'R45': 18, 'R450': 18, 'R451': 18, 'R452': 18, 'R453': 18, 'R454': 18, 'R455': 18, 'R456': 18, 'R457': 18, 'R458': 18, 'R46': 18, 'R460': 18, 'R461': 18, 'R462': 18, 'R463': 18, 'R464': 18, 'R465': 18, 'R466': 18, 'R467': 18, 'R468': 18, 'R47': 18, 'R470': 18, 'R471': 18, 'R478': 18, 'R48': 18, 'R480': 18, 'R481': 18, 'R482': 18, 'R488': 18, 'R49': 18, 'R490': 18, 'R491': 18, 'R492': 18, 'R498': 18, 'R50': 18, 'R502': 18, 'R508': 18, 'R5080': 18, 'R5088': 18, 'R509': 18, 'R51': 18, 'R52': 18, 'R520': 18, 'R521': 18, 'R522': 18, 'R529': 18, 'R53': 18, 'R54': 18, 'R55': 18, 'R56': 18, 'R560': 18, 'R568': 18, 'R57': 18, 'R570': 18, 'R571': 18, 'R572': 18, 'R578': 18, 'R579': 18, 'R58': 18, 'R59': 18, 'R590': 18, 'R591': 18, 'R599': 18, 'R60': 18, 'R600': 18, 'R601': 18, 'R609': 18, 'R61': 18, 'R610': 18, 'R611': 18, 'R619': 18, 'R62': 18, 'R620': 18, 'R628': 18, 'R629': 18, 'R63': 18, 'R630': 18, 'R631': 18, 'R632': 18, 'R633': 18, 'R634': 18, 'R635': 18, 'R636': 18, 'R638': 18, 'R64': 18, 'R65': 18, 'R650': 18, 'R651': 18, 'R652': 18, 'R653': 18, 'R659': 18, 'R68': 18, 'R680': 18, 'R681': 18, 'R682': 18, 'R683': 18, 'R688': 18, 'R69': 18, 'R70': 18, 'R700': 18, 'R701': 18, 'R71': 18, 'R72': 18, 'R73': 18, 'R730': 18, 'R739': 18, 'R74': 18, 'R740': 18, 'R748': 18, 'R749': 18, 'R75': 18, 'R76': 18, 'R760': 18, 'R761': 18, 'R762': 18, 'R768': 18, 'R769': 18, 'R77': 18, 'R770': 18, 'R771': 18, 'R772': 18, 'R778': 18, 'R7780': 18, 'R7788': 18, 'R779': 18, 'R78': 18, 'R780': 18, 'R781': 18, 'R782': 18, 'R783': 18, 'R784': 18, 'R785': 18, 'R786': 18, 'R787': 18, 'R788': 18, 'R789': 18, 'R79': 18, 'R790': 18, 'R798': 18, 'R799': 18, 'R80': 18, 'R81': 18, 'R82': 18, 'R820': 18, 'R821': 18, 'R822': 18, 'R823': 18, 'R824': 18, 'R825': 18, 'R826': 18, 'R827': 18, 'R828': 18, 'R829': 18, 'R83': 18, 'R830': 18, 'R831': 18, 'R832': 18, 'R833': 18, 'R834': 18, 'R835': 18, 'R836': 18, 'R837': 18, 'R838': 18, 'R839': 18, 'R84': 18, 'R840': 18, 'R841': 18, 'R842': 18, 'R843': 18, 'R844': 18, 'R845': 18, 'R846': 18, 'R847': 18, 'R848': 18, 'R849': 18, 'R85': 18, 'R850': 18, 'R851': 18, 'R852': 18, 'R853': 18, 'R854': 18, 'R855': 18, 'R856': 18, 'R857': 18, 'R858': 18, 'R859': 18, 'R86': 18, 'R860': 18, 'R861': 18, 'R862': 18, 'R863': 18, 'R864': 18, 'R865': 18, 'R866': 18, 'R867': 18, 'R868': 18, 'R869': 18, 'R87': 18, 'R870': 18, 'R871': 18, 'R872': 18, 'R873': 18, 'R874': 18, 'R875': 18, 'R876': 18, 'R877': 18, 'R878': 18, 'R879': 18, 'R89': 18, 'R890': 18, 'R891': 18, 'R892': 18, 'R893': 18, 'R894': 18, 'R895': 18, 'R896': 18, 'R897': 18, 'R898': 18, 'R899': 18, 'R90': 18, 'R900': 18, 'R908': 18, 'R91': 18, 'R92': 18, 'R93': 18, 'R930': 18, 'R931': 18, 'R932': 18, 'R933': 18, 'R934': 18, 'R935': 18, 'R936': 18, 'R937': 18, 'R938': 18, 'R94': 18, 'R940': 18, 'R941': 18, 'R942': 18, 'R943': 18, 'R944': 18, 'R945': 18, 'R946': 18, 'R947': 18, 'R948': 18, 'R95': 18, 'R950': 18, 'R959': 18, 'R96': 18, 'R960': 18, 'R961': 18, 'R98': 18, 'R99': 18, 'S00': 19, 'S000': 19, 'S0000': 19, 'S0001': 19, 'S0002': 19, 'S0003': 19, 'S0004': 19, 'S0005': 19, 'S0008': 19, 'S001': 19, 'S002': 19, 'S0020': 19, 'S0021': 19, 'S0022': 19, 'S0023': 19, 'S0024': 19, 'S0028': 19, 'S003': 19, 'S0030': 19, 'S0031': 19, 'S0032': 19, 'S0033': 19, 'S0034': 19, 'S0035': 19, 'S0038': 19, 'S004': 19, 'S0040': 19, 'S0041': 19, 'S0042': 19, 'S0043': 19, 'S0044': 19, 'S0045': 19, 'S0048': 19, 'S005': 19, 'S0050': 19, 'S0051': 19, 'S0052': 19, 'S0053': 19, 'S0054': 19, 'S0055': 19, 'S0058': 19, 'S007': 19, 'S008': 19, 'S0080': 19, 'S0081': 19, 'S0082': 19, 'S0083': 19, 'S0084': 19, 'S0085': 19, 'S0088': 19, 'S009': 19, 'S0090': 19, 'S0091': 19, 'S0092': 19, 'S0093': 19, 'S0094': 19, 'S0095': 19, 'S0098': 19, 'S01': 19, 'S010': 19, 'S011': 19, 'S012': 19, 'S0120': 19, 'S0121': 19, 'S0122': 19, 'S0123': 19, 'S0129': 19, 'S013': 19, 'S0130': 19, 'S0131': 19, 'S0133': 19, 'S0134': 19, 'S0135': 19, 'S0136': 19, 'S0137': 19, 'S0138': 19, 'S0139': 19, 'S014': 19, 'S0141': 19, 'S0142': 19, 'S0143': 19, 'S0149': 19, 'S015': 19, 'S0150': 19, 'S0151': 19, 'S0152': 19, 'S0153': 19, 'S0154': 19, 'S0155': 19, 'S0159': 19, 'S017': 19, 'S018': 19, 'S0180': 19, 'S0183': 19, 'S0184': 19, 'S0185': 19, 'S0186': 19, 'S0187': 19, 'S0188': 19, 'S0189': 19, 'S019': 19, 'S02': 19, 'S020': 19, 'S021': 19, 'S022': 19, 'S023': 19, 'S024': 19, 'S025': 19, 'S026': 19, 'S0260': 19, 'S0261': 19, 'S0262': 19, 'S0263': 19, 'S0264': 19, 'S0265': 19, 'S0266': 19, 'S0267': 19, 'S0268': 19, 'S0269': 19, 'S027': 19, 'S028': 19, 'S029': 19, 'S03': 19, 'S030': 19, 'S031': 19, 'S032': 19, 'S033': 19, 'S034': 19, 'S035': 19, 'S04': 19, 'S040': 19, 'S041': 19, 'S042': 19, 'S043': 19, 'S044': 19, 'S045': 19, 'S046': 19, 'S047': 19, 'S048': 19, 'S049': 19, 'S05': 19, 'S050': 19, 'S051': 19, 'S052': 19, 'S053': 19, 'S054': 19, 'S055': 19, 'S056': 19, 'S057': 19, 'S058': 19, 'S059': 19, 'S06': 19, 'S060': 19, 'S061': 19, 'S062': 19, 'S0620': 19, 'S0621': 19, 'S0622': 19, 'S0623': 19, 'S0628': 19, 'S063': 19, 'S0630': 19, 'S0631': 19, 'S0632': 19, 'S0633': 19, 'S0634': 19, 'S0638': 19, 'S064': 19, 'S065': 19, 'S066': 19, 'S067': 19, 'S0670': 19, 'S0671': 19, 'S0672': 19, 'S0673': 19, 'S0679': 19, 'S068': 19, 'S069': 19, 'S07': 19, 'S070': 19, 'S071': 19, 'S078': 19, 'S079': 19, 'S08': 19, 'S080': 19, 'S081': 19, 'S088': 19, 'S089': 19, 'S09': 19, 'S090': 19, 'S091': 19, 'S092': 19, 'S097': 19, 'S098': 19, 'S099': 19, 'S10': 19, 'S100': 19, 'S101': 19, 'S1010': 19, 'S1011': 19, 'S1012': 19, 'S1013': 19, 'S1014': 19, 'S1018': 19, 'S107': 19, 'S108': 19, 'S1080': 19, 'S1081': 19, 'S1082': 19, 'S1083': 19, 'S1084': 19, 'S1085': 19, 'S1088': 19, 'S109': 19, 'S1090': 19, 'S1091': 19, 'S1092': 19, 'S1093': 19, 'S1094': 19, 'S1095': 19, 'S1098': 19, 'S11': 19, 'S110': 19, 'S1101': 19, 'S1102': 19, 'S111': 19, 'S112': 19, 'S1121': 19, 'S1122': 19, 'S117': 19, 'S118': 19, 'S1180': 19, 'S1184': 19, 'S1185': 19, 'S1186': 19, 'S1187': 19, 'S1188': 19, 'S1189': 19, 'S119': 19, 'S12': 19, 'S120': 19, 'S121': 19, 'S122': 19, 'S1221': 19, 'S1222': 19, 'S1223': 19, 'S1224': 19, 'S1225': 19, 'S127': 19, 'S128': 19, 'S129': 19, 'S13': 19, 'S130': 19, 'S131': 19, 'S1310': 19, 'S1311': 19, 'S1312': 19, 'S1313': 19, 'S1314': 19, 'S1315': 19, 'S1316': 19, 'S1317': 19, 'S1318': 19, 'S132': 19, 'S133': 19, 'S134': 19, 'S135': 19, 'S136': 19, 'S14': 19, 'S140': 19, 'S141': 19, 'S1410': 19, 'S1411': 19, 'S1412': 19, 'S1413': 19, 'S142': 19, 'S143': 19, 'S144': 19, 'S145': 19, 'S146': 19, 'S147': 19, 'S1470': 19, 'S1471': 19, 'S1472': 19, 'S1473': 19, 'S1474': 19, 'S1475': 19, 'S1476': 19, 'S1477': 19, 'S1478': 19, 'S15': 19, 'S150': 19, 'S1500': 19, 'S1501': 19, 'S1502': 19, 'S1503': 19, 'S151': 19, 'S152': 19, 'S153': 19, 'S157': 19, 'S158': 19, 'S1580': 19, 'S1581': 19, 'S1582': 19, 'S1588': 19, 'S159': 19, 'S16': 19, 'S17': 19, 'S170': 19, 'S178': 19, 'S179': 19, 'S18': 19, 'S19': 19, 'S197': 19, 'S198': 19, 'S1980': 19, 'S1988': 19, 'S199': 19, 'S20': 19, 'S200': 19, 'S201': 19, 'S2010': 19, 'S2011': 19, 'S2012': 19, 'S2013': 19, 'S2014': 19, 'S2018': 19, 'S202': 19, 'S203': 19, 'S2030': 19, 'S2031': 19, 'S2032': 19, 'S2033': 19, 'S2034': 19, 'S2038': 19, 'S204': 19, 'S2040': 19, 'S2041': 19, 'S2042': 19, 'S2043': 19, 'S2044': 19, 'S2048': 19, 'S207': 19, 'S208': 19, 'S2080': 19, 'S2081': 19, 'S2082': 19, 'S2083': 19, 'S2084': 19, 'S2085': 19, 'S2088': 19, 'S21': 19, 'S210': 19, 'S211': 19, 'S212': 19, 'S217': 19, 'S218': 19, 'S2180': 19, 'S2183': 19, 'S2184': 19, 'S2185': 19, 'S2186': 19, 'S2187': 19, 'S2188': 19, 'S2189': 19, 'S219': 19, 'S22': 19, 'S220': 19, 'S2200': 19, 'S2201': 19, 'S2202': 19, 'S2203': 19, 'S2204': 19, 'S2205': 19, 'S2206': 19, 'S221': 19, 'S222': 19, 'S2220': 19, 'S2221': 19, 'S2222': 19, 'S2223': 19, 'S223': 19, 'S2231': 19, 'S2232': 19, 'S224': 19, 'S2240': 19, 'S2241': 19, 'S2242': 19, 'S2243': 19, 'S2244': 19, 'S225': 19, 'S228': 19, 'S229': 19, 'S23': 19, 'S230': 19, 'S231': 19, 'S2310': 19, 'S2311': 19, 'S2312': 19, 'S2313': 19, 'S2314': 19, 'S2315': 19, 'S2316': 19, 'S2317': 19, 'S232': 19, 'S233': 19, 'S234': 19, 'S235': 19, 'S24': 19, 'S240': 19, 'S241': 19, 'S2410': 19, 'S2411': 19, 'S2412': 19, 'S242': 19, 'S243': 19, 'S244': 19, 'S245': 19, 'S246': 19, 'S247': 19, 'S2470': 19, 'S2471': 19, 'S2472': 19, 'S2473': 19, 'S2474': 19, 'S2475': 19, 'S2476': 19, 'S2477': 19, 'S25': 19, 'S250': 19, 'S251': 19, 'S252': 19, 'S253': 19, 'S254': 19, 'S255': 19, 'S257': 19, 'S258': 19, 'S2580': 19, 'S2581': 19, 'S2582': 19, 'S2588': 19, 'S259': 19, 'S26': 19, 'S260': 19, 'S268': 19, 'S2681': 19, 'S2682': 19, 'S2683': 19, 'S2688': 19, 'S269': 19, 'S27': 19, 'S270': 19, 'S271': 19, 'S272': 19, 'S273': 19, 'S2731': 19, 'S2732': 19, 'S2738': 19, 'S274': 19, 'S275': 19, 'S276': 19, 'S277': 19, 'S278': 19, 'S2781': 19, 'S2782': 19, 'S2783': 19, 'S2784': 19, 'S2788': 19, 'S279': 19, 'S28': 19, 'S280': 19, 'S281': 19, 'S29': 19, 'S290': 19, 'S297': 19, 'S298': 19, 'S2980': 19, 'S2988': 19, 'S299': 19, 'S30': 19, 'S300': 19, 'S301': 19, 'S302': 19, 'S307': 19, 'S308': 19, 'S3080': 19, 'S3081': 19, 'S3082': 19, 'S3083': 19, 'S3084': 19, 'S3085': 19, 'S3088': 19, 'S309': 19, 'S3090': 19, 'S3091': 19, 'S3092': 19, 'S3093': 19, 'S3094': 19, 'S3095': 19, 'S3098': 19, 'S31': 19, 'S310': 19, 'S311': 19, 'S312': 19, 'S313': 19, 'S314': 19, 'S315': 19, 'S317': 19, 'S318': 19, 'S3180': 19, 'S3183': 19, 'S3184': 19, 'S3185': 19, 'S3186': 19, 'S3187': 19, 'S3188': 19, 'S3189': 19, 'S32': 19, 'S320': 19, 'S3200': 19, 'S3201': 19, 'S3202': 19, 'S3203': 19, 'S3204': 19, 'S3205': 19, 'S321': 19, 'S322': 19, 'S323': 19, 'S324': 19, 'S325': 19, 'S327': 19, 'S328': 19, 'S3281': 19, 'S3282': 19, 'S3289': 19, 'S33': 19, 'S330': 19, 'S331': 19, 'S3310': 19, 'S3311': 19, 'S3312': 19, 'S3313': 19, 'S3314': 19, 'S3315': 19, 'S332': 19, 'S333': 19, 'S334': 19, 'S335': 19, 'S3350': 19, 'S3351': 19, 'S336': 19, 'S337': 19, 'S34': 19, 'S340': 19, 'S341': 19, 'S3410': 19, 'S3411': 19, 'S3418': 19, 'S342': 19, 'S343': 19, 'S3430': 19, 'S3431': 19, 'S3438': 19, 'S344': 19, 'S345': 19, 'S346': 19, 'S347': 19, 'S3470': 19, 'S3471': 19, 'S3472': 19, 'S3473': 19, 'S3474': 19, 'S3475': 19, 'S3476': 19, 'S3477': 19, 'S348': 19, 'S35': 19, 'S350': 19, 'S351': 19, 'S352': 19, 'S353': 19, 'S354': 19, 'S355': 19, 'S357': 19, 'S358': 19, 'S3580': 19, 'S3581': 19, 'S3582': 19, 'S3588': 19, 'S359': 19, 'S36': 19, 'S360': 19, 'S3600': 19, 'S3601': 19, 'S3602': 19, 'S3603': 19, 'S3604': 19, 'S3608': 19, 'S361': 19, 'S3610': 19, 'S3611': 19, 'S3612': 19, 'S3613': 19, 'S3614': 19, 'S3615': 19, 'S3616': 19, 'S3617': 19, 'S3618': 19, 'S362': 19, 'S3620': 19, 'S3621': 19, 'S3622': 19, 'S3623': 19, 'S3629': 19, 'S363': 19, 'S364': 19, 'S3640': 19, 'S3641': 19, 'S3649': 19, 'S365': 19, 'S3650': 19, 'S3651': 19, 'S3652': 19, 'S3653': 19, 'S3654': 19, 'S3659': 19, 'S366': 19, 'S367': 19, 'S368': 19, 'S3681': 19, 'S3682': 19, 'S3683': 19, 'S3688': 19, 'S369': 19, 'S37': 19, 'S370': 19, 'S3700': 19, 'S3701': 19, 'S3702': 19, 'S3703': 19, 'S371': 19, 'S372': 19, 'S3720': 19, 'S3721': 19, 'S3722': 19, 'S3728': 19, 'S373': 19, 'S3730': 19, 'S3731': 19, 'S3732': 19, 'S3733': 19, 'S3738': 19, 'S374': 19, 'S375': 19, 'S376': 19, 'S377': 19, 'S378': 19, 'S3781': 19, 'S3782': 19, 'S3783': 19, 'S3784': 19, 'S3788': 19, 'S379': 19, 'S38': 19, 'S380': 19, 'S381': 19, 'S382': 19, 'S383': 19, 'S39': 19, 'S390': 19, 'S396': 19, 'S397': 19, 'S398': 19, 'S3980': 19, 'S3981': 19, 'S3988': 19, 'S399': 19, 'S40': 19, 'S400': 19, 'S407': 19, 'S408': 19, 'S4081': 19, 'S4082': 19, 'S4083': 19, 'S4084': 19, 'S4088': 19, 'S409': 19, 'S41': 19, 'S410': 19, 'S411': 19, 'S417': 19, 'S418': 19, 'S4180': 19, 'S4184': 19, 'S4185': 19, 'S4186': 19, 'S4187': 19, 'S4188': 19, 'S4189': 19, 'S42': 19, 'S420': 19, 'S4200': 19, 'S4201': 19, 'S4202': 19, 'S4203': 19, 'S4209': 19, 'S421': 19, 'S4210': 19, 'S4211': 19, 'S4212': 19, 'S4213': 19, 'S4214': 19, 'S4219': 19, 'S422': 19, 'S4220': 19, 'S4221': 19, 'S4222': 19, 'S4223': 19, 'S4224': 19, 'S4229': 19, 'S423': 19, 'S424': 19, 'S4240': 19, 'S4241': 19, 'S4242': 19, 'S4243': 19, 'S4244': 19, 'S4245': 19, 'S4249': 19, 'S427': 19, 'S428': 19, 'S429': 19, 'S43': 19, 'S430': 19, 'S4300': 19, 'S4301': 19, 'S4302': 19, 'S4303': 19, 'S4308': 19, 'S431': 19, 'S432': 19, 'S433': 19, 'S434': 19, 'S435': 19, 'S436': 19, 'S437': 19, 'S44': 19, 'S440': 19, 'S441': 19, 'S442': 19, 'S443': 19, 'S444': 19, 'S445': 19, 'S447': 19, 'S448': 19, 'S449': 19, 'S45': 19, 'S450': 19, 'S451': 19, 'S452': 19, 'S453': 19, 'S457': 19, 'S458': 19, 'S459': 19, 'S46': 19, 'S460': 19, 'S461': 19, 'S462': 19, 'S463': 19, 'S467': 19, 'S468': 19, 'S469': 19, 'S47': 19, 'S48': 19, 'S480': 19, 'S481': 19, 'S489': 19, 'S49': 19, 'S497': 19, 'S498': 19, 'S499': 19, 'S50': 19, 'S500': 19, 'S501': 19, 'S507': 19, 'S508': 19, 'S5081': 19, 'S5082': 19, 'S5083': 19, 'S5084': 19, 'S5088': 19, 'S509': 19, 'S51': 19, 'S510': 19, 'S517': 19, 'S518': 19, 'S5180': 19, 'S5184': 19, 'S5185': 19, 'S5186': 19, 'S5187': 19, 'S5188': 19, 'S5189': 19, 'S519': 19, 'S52': 19, 'S520': 19, 'S5200': 19, 'S5201': 19, 'S5202': 19, 'S5209': 19, 'S521': 19, 'S5210': 19, 'S5211': 19, 'S5212': 19, 'S5219': 19, 'S522': 19, 'S5220': 19, 'S5221': 19, 'S523': 19, 'S5230': 19, 'S5231': 19, 'S524': 19, 'S525': 19, 'S5250': 19, 'S5251': 19, 'S5252': 19, 'S5259': 19, 'S526': 19, 'S527': 19, 'S528': 19, 'S529': 19, 'S53': 19, 'S530': 19, 'S531': 19, 'S5310': 19, 'S5311': 19, 'S5312': 19, 'S5313': 19, 'S5314': 19, 'S5318': 19, 'S532': 19, 'S533': 19, 'S534': 19, 'S5340': 19, 'S5341': 19, 'S5342': 19, 'S5343': 19, 'S5344': 19, 'S5348': 19, 'S54': 19, 'S540': 19, 'S541': 19, 'S542': 19, 'S543': 19, 'S547': 19, 'S548': 19, 'S549': 19, 'S55': 19, 'S550': 19, 'S551': 19, 'S552': 19, 'S557': 19, 'S558': 19, 'S559': 19, 'S56': 19, 'S560': 19, 'S561': 19, 'S562': 19, 'S563': 19, 'S564': 19, 'S565': 19, 'S567': 19, 'S568': 19, 'S57': 19, 'S570': 19, 'S578': 19, 'S579': 19, 'S58': 19, 'S580': 19, 'S581': 19, 'S589': 19, 'S59': 19, 'S597': 19, 'S598': 19, 'S599': 19, 'S60': 19, 'S600': 19, 'S601': 19, 'S602': 19, 'S607': 19, 'S608': 19, 'S6081': 19, 'S6082': 19, 'S6083': 19, 'S6084': 19, 'S6088': 19, 'S609': 19, 'S61': 19, 'S610': 19, 'S611': 19, 'S617': 19, 'S618': 19, 'S6180': 19, 'S6184': 19, 'S6185': 19, 'S6186': 19, 'S6187': 19, 'S6188': 19, 'S6189': 19, 'S619': 19, 'S62': 19, 'S620': 19, 'S621': 19, 'S6210': 19, 'S6211': 19, 'S6212': 19, 'S6213': 19, 'S6214': 19, 'S6215': 19, 'S6216': 19, 'S6217': 19, 'S6219': 19, 'S622': 19, 'S6220': 19, 'S6221': 19, 'S6222': 19, 'S6223': 19, 'S6224': 19, 'S623': 19, 'S6230': 19, 'S6231': 19, 'S6232': 19, 'S6233': 19, 'S6234': 19, 'S624': 19, 'S625': 19, 'S6250': 19, 'S6251': 19, 'S6252': 19, 'S626': 19, 'S6260': 19, 'S6261': 19, 'S6262': 19, 'S6263': 19, 'S627': 19, 'S628': 19, 'S63': 19, 'S630': 19, 'S6300': 19, 'S6301': 19, 'S6302': 19, 'S6303': 19, 'S6304': 19, 'S6308': 19, 'S631': 19, 'S6310': 19, 'S6311': 19, 'S6312': 19, 'S632': 19, 'S633': 19, 'S634': 19, 'S635': 19, 'S6350': 19, 'S6351': 19, 'S6352': 19, 'S6353': 19, 'S6358': 19, 'S636': 19, 'S6360': 19, 'S6361': 19, 'S6362': 19, 'S6368': 19, 'S637': 19, 'S64': 19, 'S640': 19, 'S641': 19, 'S642': 19, 'S643': 19, 'S644': 19, 'S647': 19, 'S648': 19, 'S649': 19, 'S65': 19, 'S650': 19, 'S651': 19, 'S652': 19, 'S653': 19, 'S654': 19, 'S655': 19, 'S657': 19, 'S658': 19, 'S659': 19, 'S66': 19, 'S660': 19, 'S661': 19, 'S662': 19, 'S663': 19, 'S664': 19, 'S665': 19, 'S666': 19, 'S667': 19, 'S668': 19, 'S669': 19, 'S67': 19, 'S670': 19, 'S678': 19, 'S68': 19, 'S680': 19, 'S681': 19, 'S682': 19, 'S683': 19, 'S684': 19, 'S688': 19, 'S689': 19, 'S69': 19, 'S697': 19, 'S698': 19, 'S699': 19, 'S70': 19, 'S700': 19, 'S701': 19, 'S707': 19, 'S708': 19, 'S7081': 19, 'S7082': 19, 'S7083': 19, 'S7084': 19, 'S7088': 19, 'S709': 19, 'S71': 19, 'S710': 19, 'S711': 19, 'S717': 19, 'S718': 19, 'S7180': 19, 'S7184': 19, 'S7185': 19, 'S7186': 19, 'S7187': 19, 'S7188': 19, 'S7189': 19, 'S72': 19, 'S720': 19, 'S7200': 19, 'S7201': 19, 'S7202': 19, 'S7203': 19, 'S7204': 19, 'S7205': 19, 'S7208': 19, 'S721': 19, 'S7210': 19, 'S7211': 19, 'S722': 19, 'S723': 19, 'S724': 19, 'S7240': 19, 'S7241': 19, 'S7242': 19, 'S7243': 19, 'S7244': 19, 'S727': 19, 'S728': 19, 'S729': 19, 'S73': 19, 'S730': 19, 'S7300': 19, 'S7301': 19, 'S7302': 19, 'S7308': 19, 'S731': 19, 'S7310': 19, 'S7311': 19, 'S7312': 19, 'S7318': 19, 'S74': 19, 'S740': 19, 'S741': 19, 'S742': 19, 'S747': 19, 'S748': 19, 'S749': 19, 'S75': 19, 'S750': 19, 'S751': 19, 'S752': 19, 'S757': 19, 'S758': 19, 'S759': 19, 'S76': 19, 'S760': 19, 'S761': 19, 'S762': 19, 'S763': 19, 'S764': 19, 'S767': 19, 'S77': 19, 'S770': 19, 'S771': 19, 'S772': 19, 'S78': 19, 'S780': 19, 'S781': 19, 'S789': 19, 'S79': 19, 'S797': 19, 'S798': 19, 'S799': 19, 'S80': 19, 'S800': 19, 'S801': 19, 'S807': 19, 'S808': 19, 'S8081': 19, 'S8082': 19, 'S8083': 19, 'S8084': 19, 'S8088': 19, 'S809': 19, 'S81': 19, 'S810': 19, 'S817': 19, 'S818': 19, 'S8180': 19, 'S8184': 19, 'S8185': 19, 'S8186': 19, 'S8187': 19, 'S8188': 19, 'S8189': 19, 'S819': 19, 'S82': 19, 'S820': 19, 'S821': 19, 'S8211': 19, 'S8218': 19, 'S822': 19, 'S8221': 19, 'S8228': 19, 'S823': 19, 'S8231': 19, 'S8238': 19, 'S824': 19, 'S8240': 19, 'S8241': 19, 'S8242': 19, 'S8249': 19, 'S825': 19, 'S826': 19, 'S827': 19, 'S828': 19, 'S8281': 19, 'S8282': 19, 'S8288': 19, 'S829': 19, 'S83': 19, 'S830': 19, 'S831': 19, 'S8310': 19, 'S8311': 19, 'S8312': 19, 'S8313': 19, 'S8314': 19, 'S8318': 19, 'S832': 19, 'S833': 19, 'S834': 19, 'S8340': 19, 'S8341': 19, 'S8342': 19, 'S8343': 19, 'S8344': 19, 'S835': 19, 'S8350': 19, 'S8351': 19, 'S8352': 19, 'S8353': 19, 'S8354': 19, 'S836': 19, 'S837': 19, 'S84': 19, 'S840': 19, 'S841': 19, 'S842': 19, 'S847': 19, 'S848': 19, 'S849': 19, 'S85': 19, 'S850': 19, 'S851': 19, 'S852': 19, 'S853': 19, 'S854': 19, 'S855': 19, 'S857': 19, 'S858': 19, 'S859': 19, 'S86': 19, 'S860': 19, 'S861': 19, 'S862': 19, 'S863': 19, 'S867': 19, 'S868': 19, 'S869': 19, 'S87': 19, 'S870': 19, 'S878': 19, 'S88': 19, 'S880': 19, 'S881': 19, 'S889': 19, 'S89': 19, 'S897': 19, 'S898': 19, 'S899': 19, 'S90': 19, 'S900': 19, 'S901': 19, 'S902': 19, 'S903': 19, 'S907': 19, 'S908': 19, 'S9081': 19, 'S9082': 19, 'S9083': 19, 'S9084': 19, 'S9088': 19, 'S909': 19, 'S91': 19, 'S910': 19, 'S911': 19, 'S912': 19, 'S913': 19, 'S917': 19, 'S918': 19, 'S9180': 19, 'S9184': 19, 'S9185': 19, 'S9186': 19, 'S9187': 19, 'S9188': 19, 'S9189': 19, 'S92': 19, 'S920': 19, 'S921': 19, 'S922': 19, 'S9220': 19, 'S9221': 19, 'S9222': 19, 'S9223': 19, 'S9228': 19, 'S923': 19, 'S924': 19, 'S925': 19, 'S927': 19, 'S929': 19, 'S93': 19, 'S930': 19, 'S931': 19, 'S9310': 19, 'S9311': 19, 'S9312': 19, 'S932': 19, 'S933': 19, 'S9330': 19, 'S9331': 19, 'S9332': 19, 'S9333': 19, 'S9334': 19, 'S9338': 19, 'S934': 19, 'S9340': 19, 'S9341': 19, 'S9342': 19, 'S9343': 19, 'S9348': 19, 'S935': 19, 'S936': 19, 'S94': 19, 'S940': 19, 'S941': 19, 'S942': 19, 'S943': 19, 'S947': 19, 'S948': 19, 'S949': 19, 'S95': 19, 'S950': 19, 'S951': 19, 'S952': 19, 'S957': 19, 'S958': 19, 'S959': 19, 'S96': 19, 'S960': 19, 'S961': 19, 'S962': 19, 'S967': 19, 'S968': 19, 'S969': 19, 'S97': 19, 'S970': 19, 'S971': 19, 'S978': 19, 'S98': 19, 'S980': 19, 'S981': 19, 'S982': 19, 'S983': 19, 'S984': 19, 'S99': 19, 'S997': 19, 'S998': 19, 'S999': 19, 'T00': 19, 'T000': 19, 'T001': 19, 'T002': 19, 'T003': 19, 'T006': 19, 'T008': 19, 'T009': 19, 'T01': 19, 'T010': 19, 'T011': 19, 'T012': 19, 'T013': 19, 'T016': 19, 'T018': 19, 'T019': 19, 'T02': 19, 'T020': 19, 'T0200': 19, 'T0201': 19, 'T021': 19, 'T0210': 19, 'T0211': 19, 'T022': 19, 'T0220': 19, 'T0221': 19, 'T023': 19, 'T0230': 19, 'T0231': 19, 'T024': 19, 'T0240': 19, 'T0241': 19, 'T025': 19, 'T0250': 19, 'T0251': 19, 'T026': 19, 'T0260': 19, 'T0261': 19, 'T027': 19, 'T0270': 19, 'T0271': 19, 'T028': 19, 'T0280': 19, 'T0281': 19, 'T029': 19, 'T0290': 19, 'T0291': 19, 'T03': 19, 'T030': 19, 'T031': 19, 'T032': 19, 'T033': 19, 'T034': 19, 'T038': 19, 'T039': 19, 'T04': 19, 'T040': 19, 'T041': 19, 'T042': 19, 'T043': 19, 'T044': 19, 'T047': 19, 'T048': 19, 'T049': 19, 'T05': 19, 'T050': 19, 'T051': 19, 'T052': 19, 'T053': 19, 'T054': 19, 'T055': 19, 'T056': 19, 'T058': 19, 'T059': 19, 'T06': 19, 'T060': 19, 'T061': 19, 'T062': 19, 'T063': 19, 'T064': 19, 'T065': 19, 'T068': 19, 'T07': 19, 'T08': 19, 'T080': 19, 'T081': 19, 'T09': 19, 'T090': 19, 'T0900': 19, 'T0901': 19, 'T0902': 19, 'T0903': 19, 'T0904': 19, 'T0905': 19, 'T0908': 19, 'T091': 19, 'T092': 19, 'T093': 19, 'T094': 19, 'T095': 19, 'T096': 19, 'T098': 19, 'T099': 19, 'T10': 19, 'T100': 19, 'T101': 19, 'T11': 19, 'T110': 19, 'T1100': 19, 'T1101': 19, 'T1102': 19, 'T1103': 19, 'T1104': 19, 'T1105': 19, 'T1108': 19, 'T111': 19, 'T112': 19, 'T113': 19, 'T114': 19, 'T115': 19, 'T116': 19, 'T118': 19, 'T119': 19, 'T12': 19, 'T120': 19, 'T121': 19, 'T13': 19, 'T130': 19, 'T1300': 19, 'T1301': 19, 'T1302': 19, 'T1303': 19, 'T1304': 19, 'T1305': 19, 'T1308': 19, 'T131': 19, 'T132': 19, 'T133': 19, 'T134': 19, 'T135': 19, 'T136': 19, 'T138': 19, 'T139': 19, 'T14': 19, 'T140': 19, 'T1400': 19, 'T1401': 19, 'T1402': 19, 'T1403': 19, 'T1404': 19, 'T1405': 19, 'T1408': 19, 'T141': 19, 'T142': 19, 'T1420': 19, 'T1421': 19, 'T143': 19, 'T144': 19, 'T145': 19, 'T146': 19, 'T147': 19, 'T148': 19, 'T149': 19, 'T15': 19, 'T150': 19, 'T151': 19, 'T158': 19, 'T159': 19, 'T16': 19, 'T17': 19, 'T170': 19, 'T171': 19, 'T172': 19, 'T173': 19, 'T174': 19, 'T175': 19, 'T178': 19, 'T179': 19, 'T18': 19, 'T180': 19, 'T181': 19, 'T182': 19, 'T183': 19, 'T184': 19, 'T185': 19, 'T188': 19, 'T189': 19, 'T19': 19, 'T190': 19, 'T191': 19, 'T192': 19, 'T193': 19, 'T198': 19, 'T199': 19, 'T20': 19, 'T200': 19, 'T201': 19, 'T202': 19, 'T2020': 19, 'T2021': 19, 'T203': 19, 'T204': 19, 'T205': 19, 'T206': 19, 'T2060': 19, 'T2061': 19, 'T207': 19, 'T21': 19, 'T210': 19, 'T2100': 19, 'T2101': 19, 'T2102': 19, 'T2103': 19, 'T2104': 19, 'T2105': 19, 'T2109': 19, 'T211': 19, 'T2110': 19, 'T2111': 19, 'T2112': 19, 'T2113': 19, 'T2114': 19, 'T2115': 19, 'T2119': 19, 'T212': 19, 'T2120': 19, 'T2121': 19, 'T2122': 19, 'T2123': 19, 'T2124': 19, 'T2125': 19, 'T2129': 19, 'T213': 19, 'T2130': 19, 'T2131': 19, 'T2132': 19, 'T2133': 19, 'T2134': 19, 'T2135': 19, 'T2139': 19, 'T214': 19, 'T2140': 19, 'T2141': 19, 'T2142': 19, 'T2143': 19, 'T2144': 19, 'T2145': 19, 'T2149': 19, 'T215': 19, 'T2150': 19, 'T2151': 19, 'T2152': 19, 'T2153': 19, 'T2154': 19, 'T2155': 19, 'T2159': 19, 'T216': 19, 'T2160': 19, 'T2161': 19, 'T2162': 19, 'T2163': 19, 'T2164': 19, 'T2165': 19, 'T2169': 19, 'T217': 19, 'T2170': 19, 'T2171': 19, 'T2172': 19, 'T2173': 19, 'T2174': 19, 'T2175': 19, 'T2179': 19, 'T218': 19, 'T2180': 19, 'T2181': 19, 'T2182': 19, 'T2183': 19, 'T2184': 19, 'T2185': 19, 'T2189': 19, 'T219': 19, 'T2190': 19, 'T2191': 19, 'T2192': 19, 'T2193': 19, 'T2194': 19, 'T2195': 19, 'T2199': 19, 'T22': 19, 'T220': 19, 'T2200': 19, 'T2201': 19, 'T2202': 19, 'T2203': 19, 'T221': 19, 'T2210': 19, 'T2211': 19, 'T2212': 19, 'T2213': 19, 'T222': 19, 'T2220': 19, 'T2221': 19, 'T2222': 19, 'T2223': 19, 'T223': 19, 'T2230': 19, 'T2231': 19, 'T2232': 19, 'T2233': 19, 'T224': 19, 'T2240': 19, 'T2241': 19, 'T2242': 19, 'T2243': 19, 'T225': 19, 'T2250': 19, 'T2251': 19, 'T2252': 19, 'T2253': 19, 'T226': 19, 'T2260': 19, 'T2261': 19, 'T2262': 19, 'T2263': 19, 'T227': 19, 'T2270': 19, 'T2271': 19, 'T2272': 19, 'T2273': 19, 'T228': 19, 'T2280': 19, 'T2281': 19, 'T2282': 19, 'T2283': 19, 'T229': 19, 'T2290': 19, 'T2291': 19, 'T2292': 19, 'T2293': 19, 'T23': 19, 'T230': 19, 'T231': 19, 'T232': 19, 'T2320': 19, 'T2321': 19, 'T233': 19, 'T234': 19, 'T235': 19, 'T236': 19, 'T2360': 19, 'T2361': 19, 'T237': 19, 'T24': 19, 'T240': 19, 'T241': 19, 'T242': 19, 'T2420': 19, 'T2421': 19, 'T243': 19, 'T244': 19, 'T245': 19, 'T246': 19, 'T2460': 19, 'T2461': 19, 'T247': 19, 'T25': 19, 'T250': 19, 'T251': 19, 'T252': 19, 'T2520': 19, 'T2521': 19, 'T253': 19, 'T254': 19, 'T255': 19, 'T256': 19, 'T2560': 19, 'T2561': 19, 'T257': 19, 'T26': 19, 'T260': 19, 'T261': 19, 'T262': 19, 'T263': 19, 'T264': 19, 'T265': 19, 'T266': 19, 'T267': 19, 'T268': 19, 'T269': 19, 'T27': 19, 'T270': 19, 'T271': 19, 'T272': 19, 'T273': 19, 'T274': 19, 'T275': 19, 'T276': 19, 'T277': 19, 'T28': 19, 'T280': 19, 'T281': 19, 'T282': 19, 'T283': 19, 'T284': 19, 'T285': 19, 'T286': 19, 'T287': 19, 'T288': 19, 'T289': 19, 'T29': 19, 'T290': 19, 'T291': 19, 'T292': 19, 'T2920': 19, 'T2921': 19, 'T293': 19, 'T294': 19, 'T295': 19, 'T296': 19, 'T2960': 19, 'T2961': 19, 'T297': 19, 'T30': 19, 'T300': 19, 'T301': 19, 'T302': 19, 'T3020': 19, 'T3021': 19, 'T303': 19, 'T304': 19, 'T305': 19, 'T306': 19, 'T3060': 19, 'T3061': 19, 'T307': 19, 'T31': 19, 'T310': 19, 'T3100': 19, 'T311': 19, 'T3110': 19, 'T3111': 19, 'T312': 19, 'T3120': 19, 'T3121': 19, 'T3122': 19, 'T313': 19, 'T3130': 19, 'T3131': 19, 'T3132': 19, 'T3133': 19, 'T314': 19, 'T3140': 19, 'T3141': 19, 'T3142': 19, 'T3143': 19, 'T3144': 19, 'T315': 19, 'T3150': 19, 'T3151': 19, 'T3152': 19, 'T3153': 19, 'T3154': 19, 'T3155': 19, 'T316': 19, 'T3160': 19, 'T3161': 19, 'T3162': 19, 'T3163': 19, 'T3164': 19, 'T3165': 19, 'T3166': 19, 'T317': 19, 'T3170': 19, 'T3171': 19, 'T3172': 19, 'T3173': 19, 'T3174': 19, 'T3175': 19, 'T3176': 19, 'T3177': 19, 'T318': 19, 'T3180': 19, 'T3181': 19, 'T3182': 19, 'T3183': 19, 'T3184': 19, 'T3185': 19, 'T3186': 19, 'T3187': 19, 'T3188': 19, 'T319': 19, 'T3190': 19, 'T3191': 19, 'T3192': 19, 'T3193': 19, 'T3194': 19, 'T3195': 19, 'T3196': 19, 'T3197': 19, 'T3198': 19, 'T3199': 19, 'T32': 19, 'T320': 19, 'T3200': 19, 'T321': 19, 'T3210': 19, 'T3211': 19, 'T322': 19, 'T3220': 19, 'T3221': 19, 'T3222': 19, 'T323': 19, 'T3230': 19, 'T3231': 19, 'T3232': 19, 'T3233': 19, 'T324': 19, 'T3240': 19, 'T3241': 19, 'T3242': 19, 'T3243': 19, 'T3244': 19, 'T325': 19, 'T3250': 19, 'T3251': 19, 'T3252': 19, 'T3253': 19, 'T3254': 19, 'T3255': 19, 'T326': 19, 'T3260': 19, 'T3261': 19, 'T3262': 19, 'T3263': 19, 'T3264': 19, 'T3265': 19, 'T3266': 19, 'T327': 19, 'T3270': 19, 'T3271': 19, 'T3272': 19, 'T3273': 19, 'T3274': 19, 'T3275': 19, 'T3276': 19, 'T3277': 19, 'T328': 19, 'T3280': 19, 'T3281': 19, 'T3282': 19, 'T3283': 19, 'T3284': 19, 'T3285': 19, 'T3286': 19, 'T3287': 19, 'T3288': 19, 'T329': 19, 'T3290': 19, 'T3291': 19, 'T3292': 19, 'T3293': 19, 'T3294': 19, 'T3295': 19, 'T3296': 19, 'T3297': 19, 'T3298': 19, 'T3299': 19, 'T33': 19, 'T330': 19, 'T331': 19, 'T332': 19, 'T333': 19, 'T334': 19, 'T335': 19, 'T336': 19, 'T337': 19, 'T338': 19, 'T339': 19, 'T34': 19, 'T340': 19, 'T341': 19, 'T342': 19, 'T343': 19, 'T344': 19, 'T345': 19, 'T346': 19, 'T347': 19, 'T348': 19, 'T349': 19, 'T35': 19, 'T350': 19, 'T351': 19, 'T352': 19, 'T353': 19, 'T354': 19, 'T355': 19, 'T356': 19, 'T357': 19, 'T36': 19, 'T360': 19, 'T361': 19, 'T362': 19, 'T363': 19, 'T364': 19, 'T365': 19, 'T366': 19, 'T367': 19, 'T368': 19, 'T369': 19, 'T37': 19, 'T370': 19, 'T371': 19, 'T372': 19, 'T373': 19, 'T374': 19, 'T375': 19, 'T378': 19, 'T379': 19, 'T38': 19, 'T380': 19, 'T381': 19, 'T382': 19, 'T383': 19, 'T384': 19, 'T385': 19, 'T386': 19, 'T387': 19, 'T388': 19, 'T389': 19, 'T39': 19, 'T390': 19, 'T391': 19, 'T392': 19, 'T393': 19, 'T394': 19, 'T398': 19, 'T399': 19, 'T40': 19, 'T400': 19, 'T401': 19, 'T402': 19, 'T403': 19, 'T404': 19, 'T405': 19, 'T406': 19, 'T407': 19, 'T408': 19, 'T409': 19, 'T41': 19, 'T410': 19, 'T411': 19, 'T412': 19, 'T413': 19, 'T414': 19, 'T415': 19, 'T42': 19, 'T420': 19, 'T421': 19, 'T422': 19, 'T423': 19, 'T424': 19, 'T425': 19, 'T426': 19, 'T427': 19, 'T428': 19, 'T43': 19, 'T430': 19, 'T431': 19, 'T432': 19, 'T433': 19, 'T434': 19, 'T435': 19, 'T436': 19, 'T438': 19, 'T439': 19, 'T44': 19, 'T440': 19, 'T441': 19, 'T442': 19, 'T443': 19, 'T444': 19, 'T445': 19, 'T446': 19, 'T447': 19, 'T448': 19, 'T449': 19, 'T45': 19, 'T450': 19, 'T451': 19, 'T452': 19, 'T453': 19, 'T454': 19, 'T455': 19, 'T456': 19, 'T457': 19, 'T458': 19, 'T459': 19, 'T46': 19, 'T460': 19, 'T461': 19, 'T462': 19, 'T463': 19, 'T464': 19, 'T465': 19, 'T466': 19, 'T467': 19, 'T468': 19, 'T469': 19, 'T47': 19, 'T470': 19, 'T471': 19, 'T472': 19, 'T473': 19, 'T474': 19, 'T475': 19, 'T476': 19, 'T477': 19, 'T478': 19, 'T479': 19, 'T48': 19, 'T480': 19, 'T481': 19, 'T482': 19, 'T483': 19, 'T484': 19, 'T485': 19, 'T486': 19, 'T487': 19, 'T49': 19, 'T490': 19, 'T491': 19, 'T492': 19, 'T493': 19, 'T494': 19, 'T495': 19, 'T496': 19, 'T497': 19, 'T498': 19, 'T499': 19, 'T50': 19, 'T500': 19, 'T501': 19, 'T502': 19, 'T503': 19, 'T504': 19, 'T505': 19, 'T506': 19, 'T507': 19, 'T508': 19, 'T509': 19, 'T51': 19, 'T510': 19, 'T511': 19, 'T512': 19, 'T513': 19, 'T518': 19, 'T519': 19, 'T52': 19, 'T520': 19, 'T521': 19, 'T522': 19, 'T523': 19, 'T524': 19, 'T528': 19, 'T529': 19, 'T53': 19, 'T530': 19, 'T531': 19, 'T532': 19, 'T533': 19, 'T534': 19, 'T535': 19, 'T536': 19, 'T537': 19, 'T539': 19, 'T54': 19, 'T540': 19, 'T541': 19, 'T542': 19, 'T543': 19, 'T549': 19, 'T55': 19, 'T56': 19, 'T560': 19, 'T561': 19, 'T562': 19, 'T563': 19, 'T564': 19, 'T565': 19, 'T566': 19, 'T567': 19, 'T568': 19, 'T569': 19, 'T57': 19, 'T570': 19, 'T571': 19, 'T572': 19, 'T573': 19, 'T578': 19, 'T579': 19, 'T58': 19, 'T59': 19, 'T590': 19, 'T591': 19, 'T592': 19, 'T593': 19, 'T594': 19, 'T595': 19, 'T596': 19, 'T597': 19, 'T598': 19, 'T599': 19, 'T60': 19, 'T600': 19, 'T601': 19, 'T602': 19, 'T603': 19, 'T604': 19, 'T608': 19, 'T609': 19, 'T61': 19, 'T610': 19, 'T611': 19, 'T612': 19, 'T618': 19, 'T619': 19, 'T62': 19, 'T620': 19, 'T621': 19, 'T622': 19, 'T628': 19, 'T629': 19, 'T63': 19, 'T630': 19, 'T631': 19, 'T632': 19, 'T633': 19, 'T634': 19, 'T635': 19, 'T636': 19, 'T638': 19, 'T639': 19, 'T64': 19, 'T65': 19, 'T650': 19, 'T651': 19, 'T652': 19, 'T653': 19, 'T654': 19, 'T655': 19, 'T656': 19, 'T658': 19, 'T659': 19, 'T66': 19, 'T67': 19, 'T670': 19, 'T671': 19, 'T672': 19, 'T673': 19, 'T674': 19, 'T675': 19, 'T676': 19, 'T677': 19, 'T678': 19, 'T679': 19, 'T68': 19, 'T69': 19, 'T690': 19, 'T691': 19, 'T698': 19, 'T699': 19, 'T70': 19, 'T700': 19, 'T701': 19, 'T702': 19, 'T703': 19, 'T704': 19, 'T708': 19, 'T709': 19, 'T71': 19, 'T73': 19, 'T730': 19, 'T731': 19, 'T732': 19, 'T733': 19, 'T738': 19, 'T739': 19, 'T74': 19, 'T740': 19, 'T741': 19, 'T742': 19, 'T743': 19, 'T748': 19, 'T749': 19, 'T75': 19, 'T750': 19, 'T751': 19, 'T752': 19, 'T753': 19, 'T754': 19, 'T758': 19, 'T76': 19, 'T78': 19, 'T780': 19, 'T781': 19, 'T782': 19, 'T783': 19, 'T784': 19, 'T788': 19, 'T789': 19, 'T79': 19, 'T790': 19, 'T791': 19, 'T792': 19, 'T793': 19, 'T794': 19, 'T795': 19, 'T796': 19, 'T7960': 19, 'T7961': 19, 'T7962': 19, 'T7963': 19, 'T7968': 19, 'T7969': 19, 'T797': 19, 'T798': 19, 'T799': 19, 'T80': 19, 'T800': 19, 'T801': 19, 'T802': 19, 'T803': 19, 'T804': 19, 'T805': 19, 'T806': 19, 'T808': 19, 'T809': 19, 'T81': 19, 'T810': 19, 'T811': 19, 'T812': 19, 'T813': 19, 'T814': 19, 'T815': 19, 'T816': 19, 'T817': 19, 'T818': 19, 'T819': 19, 'T82': 19, 'T820': 19, 'T821': 19, 'T822': 19, 'T823': 19, 'T824': 19, 'T825': 19, 'T826': 19, 'T827': 19, 'T828': 19, 'T829': 19, 'T83': 19, 'T830': 19, 'T831': 19, 'T832': 19, 'T833': 19, 'T834': 19, 'T835': 19, 'T836': 19, 'T838': 19, 'T839': 19, 'T84': 19, 'T840': 19, 'T8400': 19, 'T8401': 19, 'T8402': 19, 'T8403': 19, 'T8404': 19, 'T8405': 19, 'T8406': 19, 'T8407': 19, 'T8408': 19, 'T841': 19, 'T8410': 19, 'T8411': 19, 'T8412': 19, 'T8413': 19, 'T8414': 19, 'T8415': 19, 'T8416': 19, 'T8418': 19, 'T842': 19, 'T8420': 19, 'T8428': 19, 'T843': 19, 'T844': 19, 'T845': 19, 'T846': 19, 'T847': 19, 'T848': 19, 'T849': 19, 'T85': 19, 'T850': 19, 'T851': 19, 'T852': 19, 'T853': 19, 'T854': 19, 'T855': 19, 'T8550': 19, 'T8551': 19, 'T8552': 19, 'T8553': 19, 'T8554': 19, 'T8559': 19, 'T856': 19, 'T857': 19, 'T8571': 19, 'T8572': 19, 'T8573': 19, 'T8574': 19, 'T8575': 19, 'T8576': 19, 'T8578': 19, 'T858': 19, 'T8581': 19, 'T8582': 19, 'T8583': 19, 'T8588': 19, 'T859': 19, 'T86': 19, 'T860': 19, 'T8600': 19, 'T8601': 19, 'T8602': 19, 'T8605': 19, 'T8606': 19, 'T8607': 19, 'T8609': 19, 'T861': 19, 'T8610': 19, 'T8611': 19, 'T8612': 19, 'T8619': 19, 'T862': 19, 'T863': 19, 'T864': 19, 'T8640': 19, 'T8641': 19, 'T8649': 19, 'T865': 19, 'T8650': 19, 'T8651': 19, 'T8652': 19, 'T8659': 19, 'T868': 19, 'T8681': 19, 'T8682': 19, 'T8683': 19, 'T8688': 19, 'T869': 19, 'T87': 19, 'T870': 19, 'T871': 19, 'T872': 19, 'T873': 19, 'T874': 19, 'T875': 19, 'T876': 19, 'T88': 19, 'T880': 19, 'T881': 19, 'T882': 19, 'T883': 19, 'T884': 19, 'T885': 19, 'T886': 19, 'T887': 19, 'T888': 19, 'T889': 19, 'T89': 19, 'T890': 19, 'T8900': 19, 'T8901': 19, 'T8902': 19, 'T8903': 19, 'T90': 19, 'T900': 19, 'T901': 19, 'T902': 19, 'T903': 19, 'T904': 19, 'T905': 19, 'T908': 19, 'T909': 19, 'T91': 19, 'T910': 19, 'T911': 19, 'T912': 19, 'T913': 19, 'T914': 19, 'T915': 19, 'T918': 19, 'T919': 19, 'T92': 19, 'T920': 19, 'T921': 19, 'T922': 19, 'T923': 19, 'T924': 19, 'T925': 19, 'T926': 19, 'T928': 19, 'T929': 19, 'T93': 19, 'T930': 19, 'T931': 19, 'T932': 19, 'T933': 19, 'T934': 19, 'T935': 19, 'T936': 19, 'T938': 19, 'T939': 19, 'T94': 19, 'T940': 19, 'T941': 19, 'T95': 19, 'T950': 19, 'T951': 19, 'T952': 19, 'T953': 19, 'T954': 19, 'T958': 19, 'T959': 19, 'T96': 19, 'T97': 19, 'T98': 19, 'T980': 19, 'T981': 19, 'T982': 19, 'T983': 19, 'V99': 20, 'W49': 20, 'W499': 20, 'W64': 20, 'W649': 20, 'W87': 20, 'W879': 20, 'W91': 20, 'W919': 20, 'W92': 20, 'W929': 20, 'W93': 20, 'W939': 20, 'W94': 20, 'W949': 20, 'X19': 20, 'X199': 20, 'X29': 20, 'X299': 20, 'X49': 20, 'X499': 20, 'X59': 20, 'X599': 20, 'X84': 20, 'X849': 20, 'Y09': 20, 'Y099': 20, 'Y34': 20, 'Y349': 20, 'Y35': 20, 'Y357': 20, 'Y36': 20, 'Y369': 20, 'Y57': 20, 'Y579': 20, 'Y59': 20, 'Y599': 20, 'Y69': 20, 'Y82': 20, 'Y828': 20, 'Y84': 20, 'Y849': 20, 'Z00': 21, 'Z000': 21, 'Z001': 21, 'Z002': 21, 'Z003': 21, 'Z004': 21, 'Z005': 21, 'Z006': 21, 'Z008': 21, 'Z01': 21, 'Z010': 21, 'Z011': 21, 'Z012': 21, 'Z013': 21, 'Z014': 21, 'Z015': 21, 'Z016': 21, 'Z017': 21, 'Z018': 21, 'Z0180': 21, 'Z0181': 21, 'Z0188': 21, 'Z019': 21, 'Z02': 21, 'Z03': 21, 'Z030': 21, 'Z031': 21, 'Z032': 21, 'Z033': 21, 'Z034': 21, 'Z035': 21, 'Z036': 21, 'Z038': 21, 'Z039': 21, 'Z04': 21, 'Z041': 21, 'Z042': 21, 'Z043': 21, 'Z045': 21, 'Z048': 21, 'Z049': 21, 'Z08': 21, 'Z080': 21, 'Z081': 21, 'Z082': 21, 'Z087': 21, 'Z088': 21, 'Z089': 21, 'Z09': 21, 'Z090': 21, 'Z091': 21, 'Z092': 21, 'Z093': 21, 'Z094': 21, 'Z097': 21, 'Z098': 21, 'Z0980': 21, 'Z0988': 21, 'Z099': 21, 'Z10': 21, 'Z11': 21, 'Z12': 21, 'Z120': 21, 'Z121': 21, 'Z122': 21, 'Z123': 21, 'Z124': 21, 'Z125': 21, 'Z126': 21, 'Z128': 21, 'Z129': 21, 'Z13': 21, 'Z130': 21, 'Z131': 21, 'Z132': 21, 'Z134': 21, 'Z135': 21, 'Z136': 21, 'Z137': 21, 'Z138': 21, 'Z139': 21, 'Z20': 21, 'Z200': 21, 'Z201': 21, 'Z202': 21, 'Z203': 21, 'Z204': 21, 'Z205': 21, 'Z206': 21, 'Z207': 21, 'Z208': 21, 'Z209': 21, 'Z21': 21, 'Z22': 21, 'Z220': 21, 'Z221': 21, 'Z222': 21, 'Z223': 21, 'Z224': 21, 'Z226': 21, 'Z227': 21, 'Z228': 21, 'Z229': 21, 'Z23': 21, 'Z230': 21, 'Z231': 21, 'Z232': 21, 'Z233': 21, 'Z234': 21, 'Z235': 21, 'Z236': 21, 'Z237': 21, 'Z238': 21, 'Z24': 21, 'Z240': 21, 'Z241': 21, 'Z242': 21, 'Z243': 21, 'Z244': 21, 'Z245': 21, 'Z246': 21, 'Z25': 21, 'Z250': 21, 'Z251': 21, 'Z258': 21, 'Z26': 21, 'Z260': 21, 'Z268': 21, 'Z269': 21, 'Z27': 21, 'Z270': 21, 'Z271': 21, 'Z272': 21, 'Z273': 21, 'Z274': 21, 'Z278': 21, 'Z279': 21, 'Z28': 21, 'Z29': 21, 'Z290': 21, 'Z291': 21, 'Z292': 21, 'Z2920': 21, 'Z2921': 21, 'Z2928': 21, 'Z298': 21, 'Z299': 21, 'Z30': 21, 'Z300': 21, 'Z301': 21, 'Z302': 21, 'Z303': 21, 'Z304': 21, 'Z305': 21, 'Z308': 21, 'Z309': 21, 'Z31': 21, 'Z310': 21, 'Z311': 21, 'Z312': 21, 'Z313': 21, 'Z314': 21, 'Z315': 21, 'Z316': 21, 'Z318': 21, 'Z319': 21, 'Z32': 21, 'Z33': 21, 'Z34': 21, 'Z35': 21, 'Z350': 21, 'Z351': 21, 'Z352': 21, 'Z353': 21, 'Z354': 21, 'Z355': 21, 'Z356': 21, 'Z358': 21, 'Z359': 21, 'Z36': 21, 'Z360': 21, 'Z361': 21, 'Z362': 21, 'Z363': 21, 'Z364': 21, 'Z365': 21, 'Z368': 21, 'Z369': 21, 'Z37': 21, 'Z370': 21, 'Z371': 21, 'Z372': 21, 'Z373': 21, 'Z374': 21, 'Z375': 21, 'Z376': 21, 'Z377': 21, 'Z379': 21, 'Z38': 21, 'Z380': 21, 'Z381': 21, 'Z382': 21, 'Z383': 21, 'Z384': 21, 'Z385': 21, 'Z386': 21, 'Z387': 21, 'Z388': 21, 'Z39': 21, 'Z390': 21, 'Z391': 21, 'Z392': 21, 'Z40': 21, 'Z400': 21, 'Z4000': 21, 'Z4001': 21, 'Z4008': 21, 'Z408': 21, 'Z409': 21, 'Z41': 21, 'Z411': 21, 'Z412': 21, 'Z418': 21, 'Z419': 21, 'Z42': 21, 'Z420': 21, 'Z421': 21, 'Z422': 21, 'Z423': 21, 'Z424': 21, 'Z428': 21, 'Z429': 21, 'Z43': 21, 'Z430': 21, 'Z431': 21, 'Z432': 21, 'Z433': 21, 'Z434': 21, 'Z435': 21, 'Z436': 21, 'Z437': 21, 'Z438': 21, 'Z4380': 21, 'Z4388': 21, 'Z439': 21, 'Z44': 21, 'Z440': 21, 'Z441': 21, 'Z442': 21, 'Z443': 21, 'Z448': 21, 'Z449': 21, 'Z45': 21, 'Z450': 21, 'Z4500': 21, 'Z4501': 21, 'Z4502': 21, 'Z4508': 21, 'Z451': 21, 'Z452': 21, 'Z4520': 21, 'Z4529': 21, 'Z453': 21, 'Z458': 21, 'Z4580': 21, 'Z4581': 21, 'Z4582': 21, 'Z4584': 21, 'Z4585': 21, 'Z4588': 21, 'Z459': 21, 'Z46': 21, 'Z460': 21, 'Z461': 21, 'Z462': 21, 'Z463': 21, 'Z464': 21, 'Z465': 21, 'Z466': 21, 'Z467': 21, 'Z468': 21, 'Z469': 21, 'Z47': 21, 'Z470': 21, 'Z478': 21, 'Z479': 21, 'Z48': 21, 'Z480': 21, 'Z488': 21, 'Z489': 21, 'Z49': 21, 'Z490': 21, 'Z491': 21, 'Z492': 21, 'Z50': 21, 'Z500': 21, 'Z501': 21, 'Z502': 21, 'Z503': 21, 'Z504': 21, 'Z505': 21, 'Z506': 21, 'Z507': 21, 'Z508': 21, 'Z509': 21, 'Z51': 21, 'Z510': 21, 'Z511': 21, 'Z512': 21, 'Z513': 21, 'Z514': 21, 'Z515': 21, 'Z516': 21, 'Z518': 21, 'Z5181': 21, 'Z5182': 21, 'Z5183': 21, 'Z5188': 21, 'Z519': 21, 'Z52': 21, 'Z520': 21, 'Z5200': 21, 'Z5201': 21, 'Z5208': 21, 'Z521': 21, 'Z522': 21, 'Z523': 21, 'Z524': 21, 'Z525': 21, 'Z526': 21, 'Z527': 21, 'Z528': 21, 'Z5280': 21, 'Z5288': 21, 'Z529': 21, 'Z53': 21, 'Z54': 21, 'Z540': 21, 'Z541': 21, 'Z542': 21, 'Z543': 21, 'Z544': 21, 'Z547': 21, 'Z548': 21, 'Z549': 21, 'Z55': 21, 'Z56': 21, 'Z57': 21, 'Z58': 21, 'Z59': 21, 'Z60': 21, 'Z61': 21, 'Z62': 21, 'Z63': 21, 'Z64': 21, 'Z640': 21, 'Z641': 21, 'Z648': 21, 'Z65': 21, 'Z70': 21, 'Z71': 21, 'Z72': 21, 'Z720': 21, 'Z728': 21, 'Z729': 21, 'Z73': 21, 'Z74': 21, 'Z740': 21, 'Z741': 21, 'Z742': 21, 'Z743': 21, 'Z748': 21, 'Z749': 21, 'Z75': 21, 'Z752': 21, 'Z756': 21, 'Z7560': 21, 'Z7564': 21, 'Z7565': 21, 'Z7566': 21, 'Z7567': 21, 'Z7568': 21, 'Z7569': 21, 'Z757': 21, 'Z7570': 21, 'Z7574': 21, 'Z7575': 21, 'Z7576': 21, 'Z7577': 21, 'Z7578': 21, 'Z7579': 21, 'Z758': 21, 'Z759': 21, 'Z76': 21, 'Z760': 21, 'Z761': 21, 'Z762': 21, 'Z763': 21, 'Z764': 21, 'Z768': 21, 'Z769': 21, 'Z80': 21, 'Z800': 21, 'Z801': 21, 'Z802': 21, 'Z803': 21, 'Z804': 21, 'Z805': 21, 'Z806': 21, 'Z807': 21, 'Z808': 21, 'Z809': 21, 'Z81': 21, 'Z82': 21, 'Z83': 21, 'Z831': 21, 'Z832': 21, 'Z833': 21, 'Z834': 21, 'Z835': 21, 'Z836': 21, 'Z837': 21, 'Z84': 21, 'Z840': 21, 'Z841': 21, 'Z842': 21, 'Z843': 21, 'Z848': 21, 'Z85': 21, 'Z850': 21, 'Z851': 21, 'Z852': 21, 'Z853': 21, 'Z854': 21, 'Z855': 21, 'Z856': 21, 'Z857': 21, 'Z858': 21, 'Z859': 21, 'Z86': 21, 'Z860': 21, 'Z861': 21, 'Z862': 21, 'Z863': 21, 'Z864': 21, 'Z865': 21, 'Z866': 21, 'Z867': 21, 'Z87': 21, 'Z870': 21, 'Z871': 21, 'Z872': 21, 'Z873': 21, 'Z874': 21, 'Z875': 21, 'Z876': 21, 'Z877': 21, 'Z878': 21, 'Z88': 21, 'Z880': 21, 'Z881': 21, 'Z882': 21, 'Z883': 21, 'Z884': 21, 'Z885': 21, 'Z886': 21, 'Z887': 21, 'Z888': 21, 'Z889': 21, 'Z89': 21, 'Z890': 21, 'Z891': 21, 'Z892': 21, 'Z893': 21, 'Z894': 21, 'Z895': 21, 'Z896': 21, 'Z897': 21, 'Z898': 21, 'Z899': 21, 'Z90': 21, 'Z900': 21, 'Z901': 21, 'Z902': 21, 'Z903': 21, 'Z904': 21, 'Z905': 21, 'Z906': 21, 'Z907': 21, 'Z908': 21, 'Z91': 21, 'Z910': 21, 'Z911': 21, 'Z917': 21, 'Z9170': 21, 'Z9171': 21, 'Z9172': 21, 'Z9173': 21, 'Z9174': 21, 'Z918': 21, 'Z92': 21, 'Z921': 21, 'Z922': 21, 'Z923': 21, 'Z924': 21, 'Z926': 21, 'Z928': 21, 'Z929': 21, 'Z93': 21, 'Z930': 21, 'Z931': 21, 'Z932': 21, 'Z933': 21, 'Z934': 21, 'Z935': 21, 'Z936': 21, 'Z938': 21, 'Z9380': 21, 'Z9388': 21, 'Z939': 21, 'Z94': 21, 'Z940': 21, 'Z941': 21, 'Z942': 21, 'Z943': 21, 'Z944': 21, 'Z945': 21, 'Z946': 21, 'Z947': 21, 'Z948': 21, 'Z9480': 21, 'Z9481': 21, 'Z9488': 21, 'Z949': 21, 'Z95': 21, 'Z950': 21, 'Z951': 21, 'Z952': 21, 'Z953': 21, 'Z954': 21, 'Z955': 21, 'Z958': 21, 'Z9580': 21, 'Z9581': 21, 'Z9588': 21, 'Z959': 21, 'Z96': 21, 'Z960': 21, 'Z961': 21, 'Z962': 21, 'Z963': 21, 'Z964': 21, 'Z965': 21, 'Z966': 21, 'Z9660': 21, 'Z9661': 21, 'Z9662': 21, 'Z9663': 21, 'Z9664': 21, 'Z9665': 21, 'Z9666': 21, 'Z9667': 21, 'Z9668': 21, 'Z967': 21, 'Z968': 21, 'Z9680': 21, 'Z9681': 21, 'Z9688': 21, 'Z969': 21, 'Z97': 21, 'Z971': 21, 'Z978': 21, 'Z98': 21, 'Z980': 21, 'Z981': 21, 'Z982': 21, 'Z988': 21, 'Z99': 21, 'Z990': 21, 'Z991': 21, 'Z992': 21, 'Z993': 21, 'Z994': 21, 'Z998': 21, 'Z999': 21, 'U04': 22, 'U049': 22, 'U07': 22, 'U070': 22, 'U071': 22, 'U072': 22, 'U073': 22, 'U074': 22, 'U075': 22, 'U076': 22, 'U077': 22, 'U078': 22, 'U079': 22, 'U50': 22, 'U500': 22, 'U5000': 22, 'U5001': 22, 'U501': 22, 'U5010': 22, 'U5011': 22, 'U502': 22, 'U5020': 22, 'U5021': 22, 'U503': 22, 'U5030': 22, 'U5031': 22, 'U504': 22, 'U5040': 22, 'U5041': 22, 'U505': 22, 'U5050': 22, 'U5051': 22, 'U51': 22, 'U510': 22, 'U5100': 22, 'U5101': 22, 'U5102': 22, 'U511': 22, 'U5110': 22, 'U5111': 22, 'U5112': 22, 'U512': 22, 'U5120': 22, 'U5121': 22, 'U5122': 22, 'U52': 22, 'U520': 22, 'U521': 22, 'U522': 22, 'U523': 22, 'U55': 22, 'U551': 22, 'U5510': 22, 'U5511': 22, 'U5512': 22, 'U552': 22, 'U5520': 22, 'U5521': 22, 'U5522': 22, 'U553': 22, 'U5530': 22, 'U5531': 22, 'U5532': 22, 'U60': 22, 'U601': 22, 'U602': 22, 'U603': 22, 'U609': 22, 'U61': 22, 'U611': 22, 'U612': 22, 'U613': 22, 'U619': 22, 'U69': 22, 'U690': 22, 'U6901': 22, 'U6902': 22, 'U6903': 22, 'U691': 22, 'U6910': 22, 'U6911': 22, 'U6912': 22, 'U6913': 22, 'U692': 22, 'U6920': 22, 'U6921': 22, 'U693': 22, 'U6930': 22, 'U6931': 22, 'U6932': 22, 'U6933': 22, 'U6934': 22, 'U6935': 22, 'U6936': 22, 'U694': 22, 'U6940': 22, 'U80': 22, 'U800': 22, 'U8000': 22, 'U8001': 22, 'U801': 22, 'U8010': 22, 'U8011': 22, 'U802': 22, 'U8020': 22, 'U8021': 22, 'U803': 22, 'U8030': 22, 'U8031': 22, 'U808': 22, 'U81': 22, 'U810': 22, 'U8100': 22, 'U8101': 22, 'U8102': 22, 'U8103': 22, 'U8104': 22, 'U8105': 22, 'U8106': 22, 'U8107': 22, 'U8108': 22, 'U811': 22, 'U8110': 22, 'U8111': 22, 'U812': 22, 'U8120': 22, 'U8121': 22, 'U8122': 22, 'U8123': 22, 'U8124': 22, 'U8125': 22, 'U8126': 22, 'U8127': 22, 'U8128': 22, 'U813': 22, 'U8130': 22, 'U8131': 22, 'U814': 22, 'U8140': 22, 'U8141': 22, 'U8142': 22, 'U8143': 22, 'U8144': 22, 'U8145': 22, 'U8146': 22, 'U8147': 22, 'U8148': 22, 'U815': 22, 'U8150': 22, 'U8151': 22, 'U816': 22, 'U818': 22, 'U82': 22, 'U820': 22, 'U821': 22, 'U822': 22, 'U83': 22, 'U84': 22, 'U85': 22, 'U99': 22, 'U990': 22, 'U991': 22, 'U992': 22, 'U993': 22, 'U994': 22, 'U995': 22, 'U996': 22, 'U997': 22, 'U998': 22, 'U999': 22}\n"
          ],
          "name": "stdout"
        }
      ]
    },
    {
      "cell_type": "code",
      "metadata": {
        "id": "7JkZg4FoBJyp",
        "colab_type": "code",
        "colab": {}
      },
      "source": [
        ""
      ],
      "execution_count": 0,
      "outputs": []
    }
  ]
}